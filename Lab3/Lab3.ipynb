{
  "cells": [
    {
      "cell_type": "markdown",
      "metadata": {
        "id": "XUZ1dFPHzAHl"
      },
      "source": [
        "<h1><center>Laboratorio 3: La desperación de Mr. Cheems 🐼</center></h1>\n",
        "\n",
        "<center><strong>MDS7202: Laboratorio de Programación Científica para Ciencia de Datos - Otoño 2025</strong></center>"
      ]
    },
    {
      "cell_type": "markdown",
      "metadata": {
        "id": "UD8X1uhGzAHq"
      },
      "source": [
        "### Cuerpo Docente:\n",
        "\n",
        "- Profesores: Stefano Schiappacasse, Sebastián Tinoco\n",
        "- Auxiliares: Melanie Peña, Valentina Rojas\n",
        "- Ayudantes: Angelo Muñoz, Valentina Zúñiga"
      ]
    },
    {
      "cell_type": "markdown",
      "metadata": {
        "id": "tXflExjqzAHr"
      },
      "source": [
        "### Equipo: SUPER IMPORTANTE - notebooks sin nombre no serán revisados\n",
        "\n",
        "- Nombre de alumno 1: Juan Vicente Onetto Romero\n",
        "- Nombre de alumno 2: Renzo Zanca\n"
      ]
    },
    {
      "cell_type": "markdown",
      "metadata": {
        "id": "AD-V0bbZzAHr"
      },
      "source": [
        "### **Link de repositorio de GitHub:** [Repositorio](https://github.com/RenzoZanca/MDS7202/)"
      ]
    },
    {
      "cell_type": "markdown",
      "metadata": {
        "id": "6uBLPj1PzAHs"
      },
      "source": [
        "## Temas a tratar\n",
        "- Aplicar Pandas para obtener características de un DataFrame.\n",
        "- Aplicar Pipelines y Column Transformers\n",
        "\n",
        "## Reglas:\n",
        "\n",
        "- **Grupos de 2 personas**\n",
        "- Fecha de entrega: 6 días de plazo con descuento de 1 punto por día. Entregas Martes a las 23:59.\n",
        "- Instrucciones del lab el viernes a las 16:15 en formato online. Asistencia no es obligatoria, pero se recomienda fuertemente asistir.\n",
        "- <u>Prohibidas las copias</u>. Cualquier intento de copia será debidamente penalizado con el reglamento de la escuela.\n",
        "- Tienen que subir el laboratorio a u-cursos y a su repositorio de github. Labs que no estén en u-cursos no serán revisados. Recuerden que el repositorio también tiene nota.\n",
        "- Cualquier duda fuera del horario de clases al foro. Mensajes al equipo docente serán respondidos por este medio.\n",
        "- Pueden usar cualquier material del curso que estimen conveniente.\n",
        "\n",
        "### Objetivos principales del laboratorio\n",
        "- Comprender cómo aplicar pipelines de Scikit-Learn para generar procesos más limpios en Feature Engineering.\n",
        "\n",
        "El laboratorio deberá ser desarrollado sin el uso indiscriminado de iteradores nativos de python (aka \"for\", \"while\"). La idea es que aprendan a exprimir al máximo las funciones optimizadas que nos entrega `numpy`, las cuales vale mencionar, son bastante más eficientes que los iteradores nativos sobre arreglos (*o tensores*)."
      ]
    },
    {
      "cell_type": "markdown",
      "metadata": {
        "id": "wrG4gYabzAHs"
      },
      "source": [
        "## Descripción del laboratorio."
      ]
    },
    {
      "cell_type": "markdown",
      "metadata": {
        "id": "MhISwri4zAHy"
      },
      "source": [
        "### Importamos librerias utiles 😸"
      ]
    },
    {
      "cell_type": "code",
      "execution_count": null,
      "metadata": {
        "colab": {
          "base_uri": "https://localhost:8080/"
        },
        "id": "uyc33dKdzAHy",
        "outputId": "64f875ce-1309-44f9-cc7e-a2e2779a9f65"
      },
      "outputs": [],
      "source": [
        "# Libreria Core del lab.\n",
        "import numpy as np\n",
        "import pandas as pd\n",
        "import datetime\n",
        "from IPython.display import HTML\n",
        "\n",
        "# Libreria para plotear (En colab esta desactualizado plotly)\n",
        "!pip install --upgrade plotly\n",
        "import plotly.express as px\n",
        "import plotly.graph_objects as go\n",
        "\n",
        "# Librerias utiles\n",
        "from sklearn.base import BaseEstimator, TransformerMixin\n",
        "from sklearn.pipeline import Pipeline\n",
        "from sklearn.compose import ColumnTransformer\n",
        "from sklearn.preprocessing import FunctionTransformer"
      ]
    },
    {
      "cell_type": "code",
      "execution_count": null,
      "metadata": {
        "colab": {
          "base_uri": "https://localhost:8080/"
        },
        "id": "gQ0-zPV4NNrq",
        "outputId": "78c623a3-9e58-40f5-ff51-e02621ae067c"
      },
      "outputs": [],
      "source": [
        "# Si usted está utilizando Colabolatory le puede ser útil este código para cargar los archivos.\n",
        "try:\n",
        "    from google.colab import drive\n",
        "    drive.mount(\"/content/drive\")\n",
        "except:\n",
        "    print('Ignorando conexión drive-colab')"
      ]
    },
    {
      "cell_type": "markdown",
      "metadata": {
        "id": "QDwIXTh7bK_A"
      },
      "source": [
        "# Feature engineering en datos de retail 🛍️"
      ]
    },
    {
      "cell_type": "markdown",
      "metadata": {
        "id": "_Eu4qBqnXMff"
      },
      "source": [
        "### 0. Cargar Dataset"
      ]
    },
    {
      "cell_type": "markdown",
      "metadata": {
        "id": "4shIzqqwXMfe"
      },
      "source": [
        "<p align=\"center\">\n",
        "  <img width=300 src=\"https://s1.eestatic.com/2018/04/14/social/la_jungla_-_social_299733421_73842361_854x640.jpg\">\n",
        "</p>"
      ]
    },
    {
      "cell_type": "markdown",
      "metadata": {
        "id": "cDpKjYRCXMfg"
      },
      "source": [
        "Mr. Cheems, gerente de una cotizada tienda de retail en Europa, les solicita si pueden analizar los datos de algunas de sus tiendas. En una reunión, Mr Cheems le comenta que la calidad de sus datos no es muy buena, por lo que le solicita a usted que limpie su base de datos y cree nuevos atributos relevantes para el negocio.\n",
        "\n",
        "Por ello, el área de ventas les entrega archivo llamado `online_retail_data.pickle` el cual usted decide cargar a continuación."
      ]
    },
    {
      "cell_type": "code",
      "execution_count": null,
      "metadata": {
        "colab": {
          "base_uri": "https://localhost:8080/",
          "height": 206
        },
        "id": "7FNOu-CvjV5m",
        "outputId": "3f2afda2-523f-4354-e1a8-6aa1797a564c"
      },
      "outputs": [],
      "source": [
        "# Inserte su código aquí\n",
        "path = 'drive/MyDrive/online_retail_data.pickle'\n",
        "df_retail = pd.read_pickle(path)\n",
        "df_retail.head()"
      ]
    },
    {
      "cell_type": "code",
      "execution_count": null,
      "metadata": {
        "colab": {
          "base_uri": "https://localhost:8080/"
        },
        "id": "zcGbnCzNkkKb",
        "outputId": "e7399ae2-c025-4c4d-a64c-97b8b7f9edb0"
      },
      "outputs": [],
      "source": [
        "from google.colab import drive\n",
        "drive.mount('/content/drive')"
      ]
    },
    {
      "cell_type": "markdown",
      "metadata": {
        "id": "Q6nm_0uWvrFv"
      },
      "source": [
        "### 1. Función para explorar características [0.5 puntos]"
      ]
    },
    {
      "cell_type": "markdown",
      "metadata": {
        "id": "KOZEZbbLoqfI"
      },
      "source": [
        "<p align=\"center\">\n",
        "  <img width=300 src=\"https://editor.analyticsvidhya.com/uploads/47389meme.png\">\n",
        "</p>\n"
      ]
    },
    {
      "cell_type": "markdown",
      "metadata": {
        "id": "J-7ZaNutk2GO"
      },
      "source": [
        "\n",
        "\n",
        "Tras inspeccionar brevemente los datos proporcionados, usted decide crear una función que realice lo siguiente:\n",
        "- Plotee un histograma para las variables precios y cantidad. [0.3 puntos]\n",
        "- Imprima un conteo de datos nulos por variable [0.2 puntos]\n",
        "\n",
        "**Nota**: Para generar los gráficos no es obligatorio el uso de `plotly`, pero si es altamente recomendado. Pueden encontrar más información de esta librería en este [enlace](https://plotly.com/python/)."
      ]
    },
    {
      "cell_type": "markdown",
      "metadata": {
        "id": "TM8FZ_4Yuiwi"
      },
      "source": [
        "**Respuesta:**"
      ]
    },
    {
      "cell_type": "code",
      "execution_count": null,
      "metadata": {
        "colab": {
          "base_uri": "https://localhost:8080/",
          "height": 721
        },
        "id": "uDqT1Ljpk7vp",
        "outputId": "4b79d192-e097-4504-ccd8-e1cc9330fe63"
      },
      "outputs": [],
      "source": [
        "def explore_data(dataframe_in):\n",
        "    # Plot histogramas para Price y Quantity\n",
        "    fig = px.histogram(dataframe_in, x=['Price', 'Quantity'],\n",
        "                       nbins=50, title='Distribución de Precio y Cantidad',\n",
        "                       labels={'value': 'Valor', 'variable': 'Variable'},\n",
        "                       marginal='box')\n",
        "    fig.show()\n",
        "\n",
        "    # Conteo de nulos por columna\n",
        "    null_counts = dataframe_in.isnull().sum()\n",
        "    print(\"Conteo de valores nulos por columna:\")\n",
        "    print(null_counts)\n",
        "\n",
        "\n",
        "explore_data(df_retail)\n"
      ]
    },
    {
      "cell_type": "markdown",
      "metadata": {
        "id": "F4ZY_N0Ad1GP"
      },
      "source": [
        "### 2. Eliminando outliers [1.0 puntos]"
      ]
    },
    {
      "cell_type": "markdown",
      "metadata": {
        "id": "yXTpIi1Bo2KG"
      },
      "source": [
        "<p align=\"center\">\n",
        "  <img width=300 src=\"https://media.licdn.com/dms/image/C5612AQGdXKCka7HumA/article-cover_image-shrink_600_2000/0/1520056407281?e=2147483647&v=beta&t=VZcfjjzjK4LxXdZkSu1KisWC0Ry8bk4tPCn3R8aYdNM\">\n",
        "</p>\n",
        "\n",
        "\n"
      ]
    },
    {
      "cell_type": "markdown",
      "metadata": {
        "id": "ECqH4t-Jvj05"
      },
      "source": [
        "#### 2.1 Creando la clase IQR [0.5 puntos]"
      ]
    },
    {
      "cell_type": "markdown",
      "metadata": {
        "id": "GtCQGHN_mzEp"
      },
      "source": [
        "Entre las falencias de los datos, Mr. Cheems le comenta que a veces los operadores no ingresan el precio correcto de los productos. Mr. Cheems le comenta que se dio cuenta de este fenómeno porque hay productos con precios exagerádamente altos o bajos. Por lo cual usted decide eliminar outliers del dataframe a traves del rango intercuartil el cual cuenta con los siguientes pasos:\n",
        "\n",
        "1. Calcular el primer cuartil $Q1$ y el tercer cuartil $Q3$. Hint: utilice el método `quantile()`\n",
        "\n",
        "2. Calcular el rango intercuartil (RIC): $RIC = Q3 - Q1$\n",
        "\n",
        "3. Calcular los límites para identificar outliers:\n",
        " - Límite inferior: $~~Q1 - \\lambda \\cdot RIC$\n",
        " - Límite superior: $~~Q3 + \\lambda \\cdot RIC$\n",
        "\n",
        "4. Eliminar outliers: Los outliers son los datos que están por debajo del límite inferior o por encima del límite superior.\n",
        "\n",
        "\n",
        "Para realizar dicha tarea, usted decide crear una clase llamada `IQR()` utilizando `BaseEstimator` y `TransformerMixin` para realizar una transformación de cada una de las columnas numéricas del DataFrame utilizando `ColumnTransformer()` más tarde. Considere que lambda debe ser $\\lambda$ un parámetro a definir por el usuario.\n",
        "\n",
        "**Hint:** tome como referencia el siguiente [enlace](https://sklearn-template.readthedocs.io/en/latest/user_guide.html#transformer).\n",
        "\n",
        "**Nota:** No modificar el método set_output de la clase IQR"
      ]
    },
    {
      "cell_type": "markdown",
      "metadata": {
        "id": "3uqK6AZnuhmL"
      },
      "source": [
        "**Respuesta:**"
      ]
    },
    {
      "cell_type": "code",
      "execution_count": null,
      "metadata": {
        "id": "70CGFkRScKKP"
      },
      "outputs": [],
      "source": [
        "class IQR(BaseEstimator, TransformerMixin):\n",
        "    def __init__(self, lambda_value=1.5):\n",
        "        self.lambda_value = lambda_value\n",
        "\n",
        "    def fit(self, X, y=None):\n",
        "        X = pd.DataFrame(X)\n",
        "        q1 = X.quantile(0.25)\n",
        "        q3 = X.quantile(0.75)\n",
        "        iqr = q3 - q1\n",
        "        # store the limits:\n",
        "        self.lower_limits_ = q1 - self.lambda_value * iqr\n",
        "        self.upper_limits_ = q3 + self.lambda_value * iqr\n",
        "        return self\n",
        "\n",
        "    def transform(self, X):\n",
        "        X = pd.DataFrame(X)\n",
        "        X_transformed = X.copy()\n",
        "        for col in X.columns:\n",
        "            if col in self.lower_limits_:\n",
        "                lower = self.lower_limits_[col]\n",
        "                upper = self.upper_limits_[col]\n",
        "                X_transformed[col] = X[col].clip(lower, upper)\n",
        "        return X_transformed\n",
        "\n",
        "    def set_output(self, transform=None):\n",
        "        return self\n"
      ]
    },
    {
      "cell_type": "markdown",
      "metadata": {
        "id": "Pse94ohOm1um"
      },
      "source": [
        "#### 2.2 Creación del Pipeline [0.5 puntos]"
      ]
    },
    {
      "cell_type": "markdown",
      "metadata": {
        "id": "JVWWiGA5m_Hj"
      },
      "source": [
        "Para comenzar introduciéndose en el uso de pipeline, usted decide definir un pipeline con el Transformer previamente definido. Además, usted decide visualizar cómo cambia la distribución de las variables Precio y Cantidad antes y despues de aplicar IQR. Para ello, usted aplica los siguientes pasos:\n",
        "\n",
        "- Definir un pipeline llamado `numeric_transformations` para las variables precio y cantidad con la transformación IQR. [0.1 puntos]\n",
        "- Defina un column transformer que aplique `numeric_transformations` para las variables numéricas y `passthrough` para las variables categóricas. Adicionalmente, fije el parámetro `verbose_feature_names_out` en `False`. Ver hint al final [0.1 puntos]\n",
        "- Defina el dataframe `df_iqr` aplicado el column transformer a los datos proporcionados por Mr. Cheems considerando un valor de $\\lambda$ que tenga un desempeño aceptable para ambas variables. [0.1 puntos]\n",
        "- Usar `explore_data` en `df_retail` y en `df_iqr`.  [0.1 puntos]\n",
        "- Reportar los cambios observados en la distribución de las variables. ¿Qué sucede al aumentar el valor de lambda? [0.1 puntos]\n",
        "\n",
        "\n",
        "**Hint:** El transformador `passthrough` está predefinido y es una opción que puedes usar para las columnas que no deseas transformar. Al especificar 'passthrough' para una parte de tu ColumnTransformer, las columnas correspondientes pasarán a través del ColumnTransformer sin ninguna modificación. El siguiente [enlace](https://scikit-learn.org/stable/modules/generated/sklearn.compose.ColumnTransformer.html) le puede ser útil.\n",
        "\n",
        "**Nota:** Mantenga el método set_output del column transformer con la transformación `pandas` para obtener un dataframe una vez aplicado el column transformer."
      ]
    },
    {
      "cell_type": "markdown",
      "metadata": {
        "id": "vkeizZcLuabD"
      },
      "source": [
        "**Respuesta:**"
      ]
    },
    {
      "cell_type": "markdown",
      "metadata": {
        "id": "LF24vWb4GwLo"
      },
      "source": [
        "Apóyese de la siguiente estructura para su respuesta:"
      ]
    },
    {
      "cell_type": "code",
      "execution_count": null,
      "metadata": {
        "colab": {
          "base_uri": "https://localhost:8080/",
          "height": 1000
        },
        "id": "ZaSuz2NSn7g6",
        "outputId": "183a8729-d382-4625-fafd-9a03ee23d9de"
      },
      "outputs": [],
      "source": [
        "# Definicion las variables que pasarán por cada pipeline\n",
        "numerical_columns = ['Price', 'Quantity']\n",
        "categorical_columns = ['Invoice', 'StockCode', 'Description', 'Customer ID', 'Country', 'InvoiceDate']\n",
        "\n",
        "# Definicion del pipeline\n",
        "numeric_transformations = Pipeline([\n",
        "    ('iqr', IQR(lambda_value=1.5))\n",
        "])\n",
        "\n",
        "# ColumnTransformer\n",
        "column_transformer = ColumnTransformer([\n",
        "    ('numerical', numeric_transformations, numerical_columns),\n",
        "    ('categorical', 'passthrough', categorical_columns)\n",
        "], verbose_feature_names_out=False)\n",
        "\n",
        "column_transformer.set_output(transform='pandas')\n",
        "\n",
        "# Aplicamos ColumnTransformer a los datos\n",
        "df_iqr = column_transformer.fit_transform(df_retail)\n",
        "\n",
        "# Gráficos\n",
        "print(\"Datos originales:\")\n",
        "explore_data(df_retail)\n",
        "\n",
        "print(\"\\nDatos después de IQR:\")\n",
        "explore_data(df_iqr)"
      ]
    },
    {
      "cell_type": "markdown",
      "metadata": {
        "id": "yPKnc6UcsDkm"
      },
      "source": [
        "Podemos observar que debido a los outliers, la data original se concentra casi toda en valores más pequeños, con solo algunos datos con valores superiores. Por el contrario, al aplicar IQR se eliminan los outliers y los datos se distribuyen de manera más uniforme sobre el eje x. Por otro lado tenemos que mientras mayor es el valor de lambda, elimina menor cantidad de outliers, pues por la fórmula, se obtiene un rango más grande para considerar valores como outliers."
      ]
    },
    {
      "cell_type": "markdown",
      "metadata": {
        "id": "MF5s4dqMYCbJ"
      },
      "source": [
        "### 3. Agregando un imputer al pipeline [1.0 puntos]\n",
        "\n"
      ]
    },
    {
      "cell_type": "markdown",
      "metadata": {
        "id": "2Bc9fFeXp-At"
      },
      "source": [
        "<p align=\"center\">\n",
        "  <img width=300 src=\"https://media.makeameme.org/created/hmm-there-is.jpg\">\n",
        "</p>"
      ]
    },
    {
      "cell_type": "markdown",
      "metadata": {
        "id": "uugEdc26vJ5N"
      },
      "source": [
        "Para continuar con la limpieza del dataframe usted decide imputar los datos nulos de las variables numéricas, para lo cual decide realizar las siguientes tareas:\n",
        "\n",
        "1. Crear un pipeline para variables categóricas llamado `categoric_transformations` con un paso llamado `mode_imputer`, en el cual se imputen los datos faltantes por la categoría más frecuente.\n",
        "2. Agregar al pipeline `numeric_transformations` un paso llamado `mean_imputer`, en el cual se imputen los datos por la media usando [SimpleImputer](https://scikit-learn.org/stable/modules/generated/sklearn.impute.SimpleImputer.html) [0.1 puntos]\n",
        "3. Crear y aplicar un `ColumnTransformer` actualizado con los pipelines `categoric_transformations` y `numeric_transformations` a `df_retail`, creando un dataframe llamado `df_mean_imputer`. [0.1 puntos]\n",
        "4. Comparar los resultados de `explore_data` en `df_mean_imputer` y `df_iqr`. ¿Qué diferencias observa en la distribución de los datos? [0.2 puntos]\n",
        "5. Cambiar el imputer de `numeric_transformations` por [KNNImputer](https://scikit-learn.org/stable/modules/generated/sklearn.impute.KNNImputer.html) y definir un nuevo dataframe llamado `df_knn_imputer`, aplicando el nuevo ColumnTransformer a `df_retail`. En caso de los tiempos de ejecución sean altos puede probar a reducir el parámetro `n_neighbors`. [0.1 puntos]\n",
        "6. Comparar los resultados de `explore_data` en `df_knn_imputer` y `df_iqr`. ¿Qué diferencias observa en la distribución de los datos? [0.2 puntos]\n",
        "7. Comparar los resultados de `explore_data` en `df_knn_imputer` y `df_mean_imputer`. ¿Cuál método de imputación es mejor? Deje el método escogido en el ColumnTransformer. [0.2 puntos]\n",
        "\n",
        "**Nota: Fije el parámetro verbose_feature_names_out en `False` y utilice el método set_output con transformación `pandas` en cada ColumnTransformer para obtener como salida un dataframe.**"
      ]
    },
    {
      "cell_type": "markdown",
      "metadata": {
        "id": "ACVUdZZxuo4o"
      },
      "source": [
        "**Respuesta:**"
      ]
    },
    {
      "cell_type": "code",
      "execution_count": null,
      "metadata": {
        "colab": {
          "base_uri": "https://localhost:8080/",
          "height": 1000
        },
        "id": "x8jgag-EYFai",
        "outputId": "dc50ba84-ac3c-408a-97b5-71cc44c6152d"
      },
      "outputs": [],
      "source": [
        "from sklearn.impute import SimpleImputer, KNNImputer\n",
        "\n",
        "# Pipeline para variables categóricas\n",
        "categoric_transformations = Pipeline([\n",
        "    ('mode_imputer', SimpleImputer(strategy='most_frequent'))\n",
        "])\n",
        "\n",
        "# Pipeline para variables numéricas con imputación por media\n",
        "numeric_transformations_mean = Pipeline([\n",
        "    ('mean_imputer', SimpleImputer(strategy='mean')),\n",
        "    ('iqr', IQR(lambda_value=1.5))\n",
        "])\n",
        "\n",
        "# ColumnTransformer con imputación por media\n",
        "column_transformer_mean = ColumnTransformer([\n",
        "    ('numerical', numeric_transformations_mean, numerical_columns),\n",
        "    ('categorical', categoric_transformations, categorical_columns)\n",
        "], verbose_feature_names_out=False)\n",
        "\n",
        "column_transformer_mean.set_output(transform='pandas')\n",
        "df_mean_imputer = column_transformer_mean.fit_transform(df_retail)\n",
        "\n",
        "# Comparaciones\n",
        "print(\"\\nDatos con imputación por media:\")\n",
        "explore_data(df_mean_imputer)\n",
        "\n",
        "print(\"\\nDatos con solo iqr\")\n",
        "explore_data(df_iqr)"
      ]
    },
    {
      "cell_type": "markdown",
      "metadata": {
        "id": "9PfBHpAsvSuD"
      },
      "source": [
        "4: Notamos que la distribución de los datos se mantiene más o menos similar, cambiando unicamente que con la imputación se agregan más valores en el promedio de las variables."
      ]
    },
    {
      "cell_type": "code",
      "execution_count": null,
      "metadata": {
        "colab": {
          "base_uri": "https://localhost:8080/",
          "height": 1000
        },
        "id": "E04tz07syQe2",
        "outputId": "46ce2b5e-52aa-4bd8-a9f2-81ccd45fbb93"
      },
      "outputs": [],
      "source": [
        "\n",
        "# Pipeline para variables numéricas con imputación KNN\n",
        "numeric_transformations_knn = Pipeline([\n",
        "    ('knn_imputer', KNNImputer(n_neighbors=5)),\n",
        "    ('iqr', IQR(lambda_value=1.5))\n",
        "])\n",
        "\n",
        "# ColumnTransformer con imputación KNN\n",
        "column_transformer_knn = ColumnTransformer([\n",
        "    ('numerical', numeric_transformations_knn, numerical_columns),\n",
        "    ('categorical', categoric_transformations, categorical_columns)\n",
        "], verbose_feature_names_out=False)\n",
        "\n",
        "column_transformer_knn.set_output(transform='pandas')\n",
        "df_knn_imputer = column_transformer_knn.fit_transform(df_retail)\n",
        "\n",
        "print(\"\\nDatos con imputación KNN:\")\n",
        "explore_data(df_knn_imputer)\n",
        "\n",
        "print(\"\\nDatos con solo iqr\")\n",
        "explore_data(df_iqr)"
      ]
    },
    {
      "cell_type": "markdown",
      "metadata": {
        "id": "gB8xtevMyuyF"
      },
      "source": [
        "6: Observamos que la distribución es más o menos similar entre ambos dataframes. Esto se debe al funcionamiento de KNN el cual reparte los nulos a 5 puntos del datasets según cual está más cercano, manteniendo más la distribución que asignarlo solo a un punto."
      ]
    },
    {
      "cell_type": "markdown",
      "metadata": {
        "id": "JwXmklD6y6zI"
      },
      "source": [
        "/: Notamos que para la imputación con KNN no se concentran muchos valores en un único lugar, haciendolo que los datos estén más distribuidos y no tan concentrados en la media. Con esto en mente, elegimos KNN ya que mantiene más la distribución de los datos, pero eliminando los valores nulos."
      ]
    },
    {
      "cell_type": "markdown",
      "metadata": {
        "id": "buuUiW-9YYZ3"
      },
      "source": [
        "### 4. Creación de nuevas features [2.0 puntos]"
      ]
    },
    {
      "cell_type": "markdown",
      "metadata": {
        "id": "RQSuoL5mubnA"
      },
      "source": [
        "<p align=\"center\">\n",
        "  <img width=250 src=\"https://miro.medium.com/max/1000/1*JtTWgAcfVTWV8OTjT47Atg.jpeg\">\n",
        "</p>\n"
      ]
    },
    {
      "cell_type": "markdown",
      "metadata": {
        "id": "4-yHP5oIvzFS"
      },
      "source": [
        "#### 4.1 Definicion de LRMFP [1.0 puntos]"
      ]
    },
    {
      "cell_type": "markdown",
      "metadata": {
        "id": "qe0V2CnZY8Bc"
      },
      "source": [
        "Dado que Mr. Lepin está interesado en obtener nuevos atributos relevantes para su negocio, su equipo de expertos sugiere la construcción de variables **LRMFP**, las que se construyen en base a las siguientes definiciones:\n",
        "\n",
        "- **Length (L)**: Intervalo de tiempo, en días, entre la primera y la última visita del cliente. Mientras mas grande sea el valor, mas fiel es el cliente.\n",
        "\n",
        "- **Recency (R)**: Indica hace cuanto tiempo el cliente realizo su ultima compra. Notar que para este caso, mientras mas grande es el valor, menos interes posee el usuario para repetir una compra en uno de los locales. **Considere \"hoy\" como la fecha mas reciente del dataset**.\n",
        "\n",
        "- **Monetary (M)**: El término \"monetario\" se refiere a la cantidad media de dinero gastada por cada visita del cliente durante el período de observación y refleja la contribución del cliente a los ingresos de la empresa.\n",
        "\n",
        "- **Frequency (F)**: Se refiere al número total de visitas del cliente durante el periodo de observación. Cuanto mayor sea la frecuencia, mayor será la fidelidad del cliente.\n",
        "\n",
        "- **Periodicity (P)**: Representa si los clientes visitan las tiendas con regularidad.\n",
        "\n",
        "$$Periodicity(n)=std(IVT_1, ..., IVT_n)$$\n",
        "\n",
        "Donde $IVT$ denota el tiempo entre visitas y n representa el número de valores de tiempo entre visitas de un cliente.\n",
        "\n",
        "\n",
        "$$IVT_i=date\\_diff(t_{i+1},t)$$\n",
        "\n",
        "En base a las definiciones señaladas, diseñe una función que permita obtener las características **LRMFP** recibiendo un DataFrame como entrada. Para esto, no estará permitido el uso de iteradores, utilice todas las herramientas que les ofrece `pandas` para realizar esto.\n",
        "\n",
        "Una referencia que le puede ser útil es el [documento original](https://www.researchgate.net/publication/315979555_LRFMP_model_for_customer_segmentation_in_the_grocery_retail_industry_a_case_study) en donde se propone este método."
      ]
    },
    {
      "cell_type": "markdown",
      "metadata": {
        "id": "L7ZwWJxhXMfk"
      },
      "source": [
        "**<u>Formato</u> del Resultado Esperado:**\n",
        "\n",
        "| Customer ID | Length | Recency | Frequency | Monetary | Periodicity |\n",
        "|------------:|-------:|--------:|----------:|---------:|------------:|\n",
        "|   12346.0   |    294 |      67 |        46 |   -64.68 |        37.0 |\n",
        "|   12347.0   |     37 |       3 |        71 |  1323.32 |         0.0 |\n",
        "|   12349.0   |    327 |      43 |       107 |  2646.99 |        78.0 |\n",
        "|   12352.0   |     16 |      11 |        18 |   343.80 |         0.0 |\n",
        "|   12356.0   |     44 |      16 |        84 |  3562.25 |        12.0 |"
      ]
    },
    {
      "cell_type": "markdown",
      "metadata": {
        "id": "6GaQZaMXXMfk"
      },
      "source": [
        "**Respuesta:**"
      ]
    },
    {
      "cell_type": "code",
      "execution_count": null,
      "metadata": {
        "id": "VsgqgqsjXMfl"
      },
      "outputs": [],
      "source": [
        "def custom_features(dataframe_in):\n",
        "    dataframe_in = dataframe_in.copy()\n",
        "    # calculamos el precio total\n",
        "    dataframe_in['TotalPrice'] = dataframe_in['Quantity'] * dataframe_in['Price']\n",
        "    today = dataframe_in['InvoiceDate'].max()\n",
        "\n",
        "    # agrupamos por cliente y fecha de compra\n",
        "    visits = dataframe_in.groupby(['Customer ID', 'InvoiceDate'], observed=True)['TotalPrice'].sum().reset_index()\n",
        "\n",
        "    # L: Length = max - min fechas\n",
        "    L = visits.groupby('Customer ID', observed=True)['InvoiceDate'].agg(lambda x: (x.max() - x.min()).days).rename('L')\n",
        "\n",
        "    # R: Recency = hoy - fecha de la última compra\n",
        "    R = visits.groupby('Customer ID', observed=True)['InvoiceDate'].agg(lambda x: (today - x.max()).days).rename('R')\n",
        "\n",
        "    # M: Monetary = promedio gasto por visita\n",
        "    M = visits.groupby('Customer ID', observed=True)['TotalPrice'].mean().rename('M')\n",
        "\n",
        "    # F: Frequency = número de visitas\n",
        "    F = visits.groupby('Customer ID', observed=True).size().rename('F')\n",
        "\n",
        "    # P: Periodicity = std(IVT_i)\n",
        "    ivt = visits.sort_values(['Customer ID', 'InvoiceDate']) # ordenamos por cliente y fecha\n",
        "    ivt['PrevDate'] = ivt.groupby('Customer ID', observed=True)['InvoiceDate'].shift(1) # obtenemos la fecha de la visita anterior\n",
        "    ivt['IVT'] = (ivt['InvoiceDate'] - ivt['PrevDate']).dt.days # calculamos el intervalo de tiempo entre visitas\n",
        "    ivt['IVT'] = ivt['IVT'].fillna(0) # rellenamos con 0 si no hay intervalo de tiempo\n",
        "    P = ivt.groupby('Customer ID', observed=True)['IVT'].std().fillna(0).rename('P') # calculamos la desviación estándar de los intervalos de tiempo entre visitas\n",
        "\n",
        "    # Unir todo\n",
        "    dataframe_out = pd.concat([L, R, M, F, P], axis=1).reset_index()\n",
        "\n",
        "    return dataframe_out"
      ]
    },
    {
      "cell_type": "markdown",
      "metadata": {
        "id": "1ddL8wThv36t"
      },
      "source": [
        "#### 4.2 Agregando las custom features [1.0 puntos]"
      ]
    },
    {
      "cell_type": "markdown",
      "metadata": {
        "id": "ehLWiQzjwDm-"
      },
      "source": [
        "Ahora, usted decide agregar al pipeline las nuevas variables creadas, para lo cual realiza las siguientes tareas:\n",
        "\n",
        "1. Cree un nuevo pipeline llamado `retail_pipeline` que encapsule el ColumnTransformer y calcule las LRMFP. El primer paso del pipeline llámelo  `col_tranformer` y el segundo paso llámelo `custom_features`, incorpora las nuevas variables al dataframe. Hint: les puede ser útil investigar [este](https://scikit-learn.org/stable/modules/generated/sklearn.preprocessing.FunctionTransformer.html) método. [0.1 puntos]\n",
        "2. Aplicar el pipeline actualizado a los datos proporcionados por Mr. Cheems, creando un nuevo dataframe llamado `df_custom`. [0.1 puntos]\n",
        "3. Explorar la distribución de las nuevas variables con `explore_data` y comentar brevemente (2-3 líneas) características de cada custom feature. [0.5 puntos]\n",
        "5. Entregar un insight para el negocio en base a las nuevas variables. [0.3 puntos]\n",
        "\n",
        "**Nota:** Recuerde fijar el parámetro `verbose_feature_names_out` en `False` e incorporar el método `set_output` para obtener una salida en formato dataframe del ColumnTransformer."
      ]
    },
    {
      "cell_type": "code",
      "execution_count": null,
      "metadata": {
        "colab": {
          "base_uri": "https://localhost:8080/"
        },
        "id": "ieQMftcT--2I",
        "outputId": "d8730e0c-9104-459f-d443-cf3e0618ed27"
      },
      "outputs": [],
      "source": [
        "print(df_retail.columns)\n"
      ]
    },
    {
      "cell_type": "markdown",
      "metadata": {
        "id": "HVCGxPgtwFsk"
      },
      "source": [
        "**Respuesta**"
      ]
    },
    {
      "cell_type": "code",
      "execution_count": null,
      "metadata": {
        "id": "JxILi3w0wE9Q"
      },
      "outputs": [],
      "source": [
        "from sklearn.pipeline import Pipeline\n",
        "from sklearn.preprocessing import FunctionTransformer\n",
        "\n",
        "#Creamos un custom_transformer que use FunctionTransfomer para aplicar la función custom_features\n",
        "custom_transformer = FunctionTransformer(custom_features)\n",
        "\n",
        "\n",
        "retail_pipeline = Pipeline([\n",
        "    ('col_transformer', column_transformer),  # Esto es el ColumnTransformer definido previamente\n",
        "    ('custom_features', custom_transformer)     # Aplica la función custom_features\n",
        "])\n",
        "\n",
        "df_custom = retail_pipeline.fit_transform(df_retail) #Se aplica el pipeline y se guarda en un nuevo DF\n",
        "\n",
        "\n"
      ]
    },
    {
      "cell_type": "code",
      "execution_count": null,
      "metadata": {
        "colab": {
          "base_uri": "https://localhost:8080/",
          "height": 721
        },
        "id": "KKbP-yvYAREZ",
        "outputId": "70184ab1-32c1-478c-bc00-ede7d52024c1"
      },
      "outputs": [],
      "source": [
        "def explore_data_custom(dataframe_in):\n",
        "    # Para todas las columnas excepto 'Customer ID', asumiendo que es un identificador\n",
        "    cols = [col for col in dataframe_in.columns if col != 'Customer ID']\n",
        "    fig = px.histogram(dataframe_in.melt(id_vars='Customer ID', value_vars=cols),\n",
        "                       x='value', color='variable',\n",
        "                       nbins=50,\n",
        "                       title='Distribución de custom features (LRMFP)',\n",
        "                       marginal='box')\n",
        "    fig.show()\n",
        "    print(\"Estadísticas descriptivas:\")\n",
        "    print(dataframe_in[cols].describe())\n",
        "\n",
        "explore_data_custom(df_custom)\n"
      ]
    },
    {
      "cell_type": "markdown",
      "metadata": {
        "id": "VUN5pxBTBL99"
      },
      "source": [
        "### 4.2.3\n",
        "\n",
        "\n",
        "L:\n",
        "*   Mediana: 105 días, Media: 134 días.\n",
        "* La mayoría de los clientes tienen relaciones de compra que duran entre 3 y 4 meses.\n",
        "* Algunos clientes muestran relaciones prolongadas (hasta 373 días).\n",
        "\n",
        "R:\n",
        "* Mediana: 52 días, Media: 90 días.\n",
        "* En promedio, los clientes realizaron su última compra hace aproximadamente 2 meses.\n",
        "* Existen clientes que llevan hasta 373 días sin comprar, señalando oportunidades de reactivación.\n",
        "\n",
        "M:\n",
        "* Mediana: ~228, Media: ~277.\n",
        "* Indica un gasto moderado por visita en promedio.\n",
        "* Algunos clientes alcanzan gastos muy elevados (cercanos a 3900), reflejando una gran dispersión y la presencia de clientes de alto valor.\n",
        "\n",
        "F:\n",
        "* Mediana: 2 visitas, Media: ~4.44 visitas.\n",
        "* La mayoría de los clientes realizan pocas compras.\n",
        "* Un grupo pequeño de clientes tiene una frecuencia muy alta (máximo de 202 visitas).\n",
        "\n",
        "P:\n",
        "* Mediana: ~22 días, Media: ~37 días.\n",
        "* La mayoría de los clientes presentan intervalos de compra relativamente regulares.\n",
        "* Existe una alta variabilidad en algunos casos (valores hasta 255 días), indicando patrones de compra irregulares.\n",
        "\n",
        "\n"
      ]
    },
    {
      "cell_type": "markdown",
      "metadata": {
        "id": "zVM6HpYvDTlN"
      },
      "source": [
        "### 4.2.4\n",
        "\n",
        "\n",
        "* Clientes de Alto Valor y Frecuencia:\n",
        "\n",
        "  Los que presentan altos valores en Frequency (F) y Monetary (M) son clientes leales y de alto valor.\n",
        "\n",
        "  Son buenos candidatos para programas VIP o recompensas exclusivas, ya que generan un ingreso considerable de forma recurrente.\n",
        "\n",
        "\n",
        "* Oportunidades de Reactivación:\n",
        "\n",
        "  Clientes con altos valores en Recency (R) indican inactividad desde hace meses. Podría ser conveniente realizar campañas para \"reactivarlos\".\n",
        "\n",
        "* Periodos de compra regulares:\n",
        "  \n",
        "  Podría ser interesante generar campañas de marketing preeviendo la periodicidad \"regular\" de los clientes."
      ]
    },
    {
      "cell_type": "markdown",
      "metadata": {
        "id": "qOV0y-e_lS39"
      },
      "source": [
        "### 5. MinMax Scaler [1.0 puntos]"
      ]
    },
    {
      "cell_type": "markdown",
      "metadata": {
        "id": "T55ZgReXvjGe"
      },
      "source": [
        "<p align=\"center\">\n",
        "  <img width=300 src=\"https://i.imgflip.com/1fsprn.jpg\">\n",
        "</p>\n"
      ]
    },
    {
      "cell_type": "markdown",
      "metadata": {
        "id": "4dk2R1kvuu-e"
      },
      "source": [
        "#### 5.1 Definición del Column Transformer [0.5 puntos]"
      ]
    },
    {
      "cell_type": "markdown",
      "metadata": {
        "id": "iWsfp1dKXMfo"
      },
      "source": [
        "Construya una clase llamada `MinMax()` para realizar una transformación de cada una de las columnas de un DataFrame utilizando `ColumnTransformer()`. Recuerde  usar `BaseEstimator` y `TransformerMixin`.\n",
        "\n",
        "\n",
        " Para esto considere que Min-Max escaler queda dada por la ecuación:\n",
        "\n",
        "$$MinMax = \\dfrac{x-min(x)}{max(x) - min(x)}$$\n",
        "\n",
        "\n",
        "Consulte el siguiente [link](https://sklearn-template.readthedocs.io/en/latest/user_guide.html#transformer) si tiene dudas sobre la creación de custom transformers."
      ]
    },
    {
      "cell_type": "markdown",
      "metadata": {
        "id": "MUOLTWPDXMfo"
      },
      "source": [
        "**Respuesta:**"
      ]
    },
    {
      "cell_type": "code",
      "execution_count": null,
      "metadata": {
        "id": "g15ZMCs-XMfo"
      },
      "outputs": [],
      "source": [
        "class MinMax(BaseEstimator, TransformerMixin):\n",
        "\n",
        "    def fit(self, X, y=None):\n",
        "        # Convertimos X a DataFrame para asegurarnos de tener los métodos de Pandas\n",
        "        X = pd.DataFrame(X)\n",
        "        # Calculamos el mínimo y máximo de cada columna\n",
        "        self.min_ = X.min()\n",
        "        self.max_ = X.max()\n",
        "        return self\n",
        "\n",
        "    def transform(self,X):\n",
        "        # Convertimos a DataFrame y hacemos un copy\n",
        "        X = pd.DataFrame(X).copy()\n",
        "        # Aplicamos la transformación MinMax\n",
        "        X_transformed = (X - self.min_) / (self.max_ - self.min_)\n",
        "        return X_transformed\n",
        "\n",
        "    def set_output(self,transform='default'):\n",
        "        #No modificar este método\n",
        "        return self\n",
        "\n"
      ]
    },
    {
      "cell_type": "markdown",
      "metadata": {
        "id": "RySqWq1Muzp8"
      },
      "source": [
        "#### 5.2 Incorporando MinMax al pipeline [0.5 puntos]"
      ]
    },
    {
      "cell_type": "markdown",
      "metadata": {
        "id": "zmIqjkgDwRsV"
      },
      "source": [
        "Ahora, usted decide agregar el escalamiento al pipeline, para lo que decide seguir los siguientes pasos:\n",
        "\n",
        "- Agregar el paso `minmax` al pipeline `numeric_transformations`, haciendo uso de la clase creada. [0.1 puntos]\n",
        "- Defina el dataframe `df_minmax` aplicando el ColumnTransformer actualizado a los datos proporcionados por Mr. Cheems. [0.1 puntos]\n",
        "- Usar `explore_data` en `df_retail` y en `df_minmax`. [0.1 puntos]\n",
        "- Reportar los cambios observados en la distribución de las variables.  [0.2 puntos]\n",
        "\n",
        "**Nota:** Recuerde fijar el parámetro `verbose_feature_names_out` en `False` e incorporar el método `set_output` para obtener una salida en formato dataframe del ColumnTransformer."
      ]
    },
    {
      "cell_type": "markdown",
      "metadata": {
        "id": "lL2_CyAGXMfp"
      },
      "source": [
        "**Respuesta:**"
      ]
    },
    {
      "cell_type": "code",
      "execution_count": null,
      "metadata": {
        "colab": {
          "base_uri": "https://localhost:8080/",
          "height": 1000
        },
        "id": "NmApXgB8XMfp",
        "outputId": "8fa58eb7-1f8e-466d-fd8c-5c6df1a4e4d3"
      },
      "outputs": [],
      "source": [
        "numerical_columns = ['Price', 'Quantity']\n",
        "categorical_columns = ['Invoice', 'StockCode', 'Description', 'Customer ID', 'Country', 'InvoiceDate']\n",
        "\n",
        "# Definicion del pipeline\n",
        "\n",
        "# Pipeline para variables categóricas\n",
        "categoric_transformations = Pipeline([\n",
        "    ('mode_imputer', SimpleImputer(strategy='most_frequent'))\n",
        "])\n",
        "\n",
        "\n",
        "numeric_transformations = Pipeline([\n",
        "    ('mean_imputer', SimpleImputer(strategy='mean')),\n",
        "    ('iqr', IQR(lambda_value=1.5)),\n",
        "    ('minmax', MinMax())\n",
        "])\n",
        "\n",
        "# ColumnTransformer\n",
        "\n",
        "column_transformer = ColumnTransformer([\n",
        "    ('numerical', numeric_transformations, numerical_columns),\n",
        "    ('categorical', categoric_transformations, categorical_columns)\n",
        "], verbose_feature_names_out=False)\n",
        "\n",
        "column_transformer.set_output(transform='pandas')\n",
        "\n",
        "# Nuevo df\n",
        "df_minmax= column_transformer.fit_transform(df_retail)\n",
        "\n",
        "# Gráficos\n",
        "print(\"Datos originales:\")\n",
        "explore_data(df_retail)\n",
        "\n",
        "print(\"\\nDatos después de MinMax:\")\n",
        "explore_data(df_minmax)\n",
        "\n",
        "\n"
      ]
    },
    {
      "cell_type": "markdown",
      "metadata": {
        "id": "wsPCeHd4JoBV"
      },
      "source": [
        "El pipeline combina imputación por la media y recorte de outliers para luego aplicar MinMax, lo que normaliza las variables \"Price\" y \"Quantity\" en el rango [0,1]. Esto reduce la influencia de valores extremos  y concentra la mayoría de los datos en rangos bajos. Esto consolida los datos en una escala uniforme."
      ]
    },
    {
      "cell_type": "markdown",
      "metadata": {
        "id": "iWXlAO8-wfNt"
      },
      "source": [
        "### 6. Pregunta teórica [0.5 puntos]"
      ]
    },
    {
      "cell_type": "markdown",
      "metadata": {
        "id": "JvsFRwpVtMh_"
      },
      "source": [
        "<p align=\"center\">\n",
        "  <img width=300 src=\"https://file.coinexstatic.com/2023-09-19/166BAC031F222E5910954E7D7D0BC844.png\">\n",
        "</p>"
      ]
    },
    {
      "cell_type": "markdown",
      "metadata": {
        "id": "Ou7lQIAHwiZv"
      },
      "source": [
        "**Finalmente**, explíquele a Mr. Cheems porqué es útil la creación de pipelines al momento de hacer Feature Engineering en Machine Learning."
      ]
    },
    {
      "cell_type": "markdown",
      "metadata": {
        "id": "29QJyzOCwjdD"
      },
      "source": [
        "**Respuesta:**"
      ]
    },
    {
      "cell_type": "markdown",
      "metadata": {
        "id": "YMDYYL1stUVO"
      },
      "source": [
        "Los pipelines aseguran que todas las transformaciones se determinen únicamente a partir de los datos de entrenamiento. No se extrae información del conjunto de prueba, lo que evita el data leakage. Además, los pipelines permiten encapsular todo el pre-procesamiento de los datos, lo que facilita la modificación, integración y testeo."
      ]
    },
    {
      "cell_type": "markdown",
      "metadata": {
        "id": "Rg4ZMq8ezAH6"
      },
      "source": [
        "# Conclusión\n",
        "Eso ha sido todo para el lab de hoy, recuerden que el laboratorio tiene un plazo de entrega de una semana. Cualquier duda del laboratorio, no duden en contactarnos por el foro de U-cursos o por correo.\n",
        "\n",
        "![Gracias Totales!](https://i.pinimg.com/originals/65/ae/27/65ae270df87c3c4adcea997e48f60852.gif \"bruno\")\n"
      ]
    },
    {
      "cell_type": "markdown",
      "metadata": {
        "id": "wCL1lACBzAH7"
      },
      "source": [
        "<br>\n",
        "<center>\n",
        "<img src=\"https://i.kym-cdn.com/photos/images/original/001/194/195/b18.png\" width=100 height=50 />\n",
        "</center>\n",
        "<br>"
      ]
    },
    {
      "cell_type": "markdown",
      "metadata": {
        "id": "ALHqwrAFXMgD"
      },
      "source": [
        "<a style='text-decoration:none;line-height:16px;display:flex;color:#5B5B62;padding:10px;justify-content:end;' href='https://deepnote.com?utm_source=created-in-deepnote-cell&projectId=87110296-876e-426f-b91d-aaf681223468' target=\"_blank\">\n",
        "<img alt='Created in deepnote.com' style='display:inline;max-height:16px;margin:0px;margin-right:7.5px;' src='data:image/svg+xml;base64,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' > </img>\n",
        "Created in <span style='font-weight:600;margin-left:4px;'>Deepnote</span></a>"
      ]
    }
  ],
  "metadata": {
    "colab": {
      "provenance": []
    },
    "deepnote_execution_queue": [],
    "deepnote_notebook_id": "33c253a4f84d40a091bd5023e95abb64",
    "kernelspec": {
      "display_name": "Lab_MDS_Primavera",
      "language": "python",
      "name": "python3"
    },
    "language_info": {
      "codemirror_mode": {
        "name": "ipython",
        "version": 3
      },
      "file_extension": ".py",
      "mimetype": "text/x-python",
      "name": "python",
      "nbconvert_exporter": "python",
      "pygments_lexer": "ipython3",
      "version": "3.12.0"
    }
  },
  "nbformat": 4,
  "nbformat_minor": 0
}
