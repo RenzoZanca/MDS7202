{
  "cells": [
    {
      "cell_type": "markdown",
      "metadata": {
        "cell_id": "ac9155b9f5e04400957a6f8bb3f6610c",
        "deepnote_cell_type": "markdown",
        "id": "2v2D1coL7I8i"
      },
      "source": [
        "<h1><center>Laboratorio 4: La solicitud de Sergio 🤗</center></h1>\n",
        "\n",
        "<center><strong>MDS7202: Laboratorio de Programación Científica para Ciencia de Datos - Otoño 2025</strong></center>"
      ]
    },
    {
      "cell_type": "code",
      "source": [
        "from google.colab import drive\n",
        "drive.mount('/content/drive')"
      ],
      "metadata": {
        "id": "Oz0bBOwGNnqQ"
      },
      "execution_count": null,
      "outputs": []
    },
    {
      "cell_type": "markdown",
      "metadata": {
        "cell_id": "d3d6f6d405c54dbe985a5f4b3e4f9120",
        "deepnote_cell_type": "markdown",
        "id": "YxdTmIPD7L_x"
      },
      "source": [
        "### Cuerpo Docente:\n",
        "\n",
        "- Profesores: Stefano Schiappacasse, Sebastián Tinoco\n",
        "- Auxiliares: Melanie Peña, Valentina Rojas\n",
        "- Ayudantes: Angelo Muñoz, Valentina Zúñiga"
      ]
    },
    {
      "cell_type": "markdown",
      "metadata": {
        "cell_id": "851a7788e8214942863cbd4099064ab2",
        "deepnote_cell_type": "markdown",
        "id": "Y2Gyrj-x7N2L"
      },
      "source": [
        "### Equipo: SUPER IMPORTANTE - notebooks sin nombre no serán revisados\n",
        "\n",
        "- Nombre de alumno 1: Renzo Zanca\n",
        "- Nombre de alumno 2: J. Vicente Onetto\n"
      ]
    },
    {
      "cell_type": "markdown",
      "metadata": {
        "cell_id": "f23a189afdec4e198683308db70e43b7",
        "deepnote_cell_type": "markdown",
        "id": "jQ9skYc57Pxi"
      },
      "source": [
        "### **Link de repositorio de GitHub:** [Insertar Repositorio](https://github.com/RenzoZanca/MDS7202/tree/lab4)"
      ]
    },
    {
      "cell_type": "markdown",
      "metadata": {
        "cell_id": "b5318f41cda64d4290a7a548956ed725",
        "deepnote_cell_type": "markdown",
        "id": "1M4PoEWm7S80"
      },
      "source": [
        "## Temas a tratar\n",
        "- Aplicar Pandas para obtener características de un DataFrame.\n",
        "- Aplicar Pipelines y Column Transformers.\n",
        "- Utilizar diferentes algoritmos de cluster y ver el desempeño.\n",
        "\n",
        "## Reglas:\n",
        "\n",
        "- **Grupos de 2 personas**\n",
        "- Fecha de entrega: 6 días de plazo con descuento de 1 punto por día. Entregas Martes a las 23:59.\n",
        "- Instrucciones del lab el viernes a las 16:15 en formato online. Asistencia no es obligatoria, pero se recomienda fuertemente asistir.\n",
        "- <u>Prohibidas las copias</u>. Cualquier intento de copia será debidamente penalizado con el reglamento de la escuela.\n",
        "- Tienen que subir el laboratorio a u-cursos y a su repositorio de github. Labs que no estén en u-cursos no serán revisados. Recuerden que el repositorio también tiene nota.\n",
        "- Cualquier duda fuera del horario de clases al foro. Mensajes al equipo docente serán respondidos por este medio.\n",
        "- Pueden usar cualquier material del curso que estimen conveniente.\n",
        "\n",
        "### Objetivos principales del laboratorio\n",
        "- Comprender cómo aplicar pipelines de Scikit-Learn para generar clusters.\n",
        "- Familiarizarse con plotly.\n",
        "\n",
        "El laboratorio deberá ser desarrollado sin el uso indiscriminado de iteradores nativos de python (aka \"for\", \"while\"). La idea es que aprendan a exprimir al máximo las funciones optimizadas que nos entrega `numpy`, las cuales vale mencionar, son bastante más eficientes que los iteradores nativos sobre arreglos (*o tensores*)."
      ]
    },
    {
      "cell_type": "markdown",
      "metadata": {
        "cell_id": "858df483d9e64780a21674afed1d34b8",
        "deepnote_cell_type": "markdown",
        "id": "SuMbiyQZG2Cc"
      },
      "source": [
        "## Descripción del laboratorio"
      ]
    },
    {
      "cell_type": "markdown",
      "metadata": {
        "cell_id": "403ffe48ec994afda4b91e670a08d0ef",
        "deepnote_cell_type": "markdown",
        "id": "QZsNO4rUrqCz"
      },
      "source": [
        "<center>\n",
        "<img src=\"https://i.pinimg.com/originals/5a/a6/af/5aa6afde8490da403a21601adf7a7240.gif\" width=400 />"
      ]
    },
    {
      "cell_type": "markdown",
      "metadata": {
        "cell_id": "0303baa17d4546feae8c9b88c58470bf",
        "deepnote_cell_type": "markdown",
        "id": "2o0MPuk8rqCz"
      },
      "source": [
        "En el corazón de las operaciones de Aerolínea Lucero, Sergio, el gerente de análisis de datos, reunió a un talentoso equipo de jóvenes científicos de datos para un desafío crucial: segmentar la base de datos de los clientes. “Nuestro objetivo es descubrir patrones en el comportamiento de los pasajeros que nos permitan personalizar servicios y optimizar nuestras campañas de marketing,” explicó Sergio, mientras desplegaba un amplio rango de datos que incluían desde hábitos de compra hasta opiniones sobre los vuelos.\n",
        "\n",
        "Sergio encargó a los científicos de datos la tarea de aplicar técnicas avanzadas de clustering para identificar distintos segmentos de clientes, como los viajeros frecuentes y aquellos que eligen la aerolínea para celebrar ocasiones especiales. La meta principal era entender profundamente cómo estos grupos perciben la calidad y satisfacción de los servicios ofrecidos por la aerolínea.\n",
        "\n",
        "A través de un enfoque meticuloso y colaborativo, los científicos de datos se abocaron a la tarea, buscando transformar los datos brutos en valiosos insights que permitirían a Aerolínea Lucero no solo mejorar su servicio, sino también fortalecer las relaciones con sus clientes mediante una oferta más personalizada y efectiva."
      ]
    },
    {
      "cell_type": "markdown",
      "metadata": {
        "cell_id": "e78cb41b144041af98928ab26dcfdaa9",
        "deepnote_cell_type": "markdown",
        "id": "hs4KKWF1Hdpo"
      },
      "source": [
        "## Importamos librerias utiles 😸"
      ]
    },
    {
      "cell_type": "code",
      "execution_count": null,
      "metadata": {
        "cell_id": "95a5533cfd6d49cfb9afc111c44d224f",
        "deepnote_cell_type": "code",
        "deepnote_to_be_reexecuted": false,
        "execution_millis": 15,
        "execution_start": 1714107106552,
        "id": "a4YpMafirqC0",
        "source_hash": null
      },
      "outputs": [],
      "source": [
        "import numpy as np\n",
        "import pandas as pd\n",
        "\n",
        "from sklearn import datasets\n",
        "\n",
        "import plotly.express as px\n",
        "import plotly.graph_objects as go\n",
        "from plotly.subplots import make_subplots\n",
        "\n",
        "import time\n",
        "from plotly.subplots import make_subplots\n",
        "\n",
        "# Clustering\n",
        "from sklearn.cluster import KMeans, AgglomerativeClustering, DBSCAN\n",
        "from sklearn.mixture import GaussianMixture\n",
        "from sklearn.metrics import silhouette_score\n",
        "from sklearn import datasets\n",
        "import time\n"
      ]
    },
    {
      "cell_type": "markdown",
      "metadata": {
        "cell_id": "acbeab32db6146678e75448dddf43da8",
        "deepnote_cell_type": "markdown",
        "id": "UQOXod4gHhSq"
      },
      "source": [
        "## 1. Estudio de Performance 📈 [10 Puntos]\n",
        "\n"
      ]
    },
    {
      "cell_type": "markdown",
      "metadata": {
        "cell_id": "704b56b978254ad3ae12cdbf58f4832d",
        "deepnote_cell_type": "markdown",
        "id": "Gn5u5ICkrqC2"
      },
      "source": [
        "<center>\n",
        "<img src=\"https://i.pinimg.com/originals/23/b7/6e/23b76e9e77e63c0eec1a7b28372369e3.gif\" width=300>"
      ]
    },
    {
      "cell_type": "markdown",
      "metadata": {
        "cell_id": "d35fbdcc5ef045d6a2822622f0714179",
        "deepnote_cell_type": "markdown",
        "id": "y4Z0jTjtrqC2"
      },
      "source": [
        "Don Sergio les ha encomendado su primera tarea: analizar diversas técnicas de clustering. Su objetivo es entender detalladamente cómo funcionan estos métodos en términos de segmentación y eficiencia en tiempo de ejecución.\n",
        "\n",
        "Analice y compare el desempeño, tiempo de ejecución y visualizaciones de cuatro algoritmos de clustering (k-means, DBSCAN, Ward y GMM) aplicados a tres conjuntos de datos, incrementando progresivamente su tamaño. Utilice Plotly para las gráficas y discuta los resultados tanto cualitativa como cuantitativamente.\n",
        "\n",
        "Uno de los requisitos establecidos por Sergio es que el análisis se lleve a cabo utilizando Plotly; de no ser así, se considerará incorrecto. Para facilitar este proceso, se ha proporcionado un código de Plotly que puede servir como base para realizar las gráficas. Apóyese en el código entregado para efectuar el análisis y tome como referencia la siguiente imagen para realizar los gráficos:\n",
        "\n",
        "<img src='https://gitlab.com/imezadelajara/datos_clase_7_mds7202/-/raw/main/misc_images/Screenshot_2024-04-26_at_9.10.44_AM.png' width=800 />\n",
        "\n",
        "En el gráfico se visualizan en dos dimensiones los diferentes tipos de datos proporcionados en `datasets`. Cada columna corresponde a un modelo de clustering diferente, mientras que cada fila representa un conjunto de datos distinto. Cada uno de los gráficos incluye el tiempo en segundos que tarda el análisis y la métrica Silhouette obtenida."
      ]
    },
    {
      "cell_type": "markdown",
      "metadata": {
        "cell_id": "37580aab6cef4238a8ce42c50a6d35de",
        "deepnote_cell_type": "markdown",
        "id": "maCUNAvZrqC2"
      },
      "source": [
        "Para ser más específicos, usted debe cumplir los siguientes objetivos:\n",
        "1. Generar una función que permita replicar el gráfico expuesto en la imagen (no importa que los colores calcen). [4 puntos]\n",
        "2. Ejecuta la función para un `n_samples` igual a 1000, 5000, 10000. [2 puntos]\n",
        "3. Analice y compare el desempeño, tiempo de ejecución y visualizaciones de cuatro algoritmos de clustering utilizando las 3 configuraciones dadas en `n_samples`. [4 puntos]\n",
        "\n",
        "\n",
        "> ❗ Tiene libertad absoluta de escoger los hiper parámetros de los cluster, sin embargo, se recomienda verificar el dominio de las variables para realizar la segmentación.\n",
        "\n",
        "> ❗ Recuerde que es obligatorio el uso de plotly.\n"
      ]
    },
    {
      "cell_type": "code",
      "execution_count": null,
      "metadata": {
        "cell_id": "7f7c25e366754595b13fc2e8116f65a0",
        "deepnote_cell_type": "code",
        "deepnote_to_be_reexecuted": false,
        "execution_millis": 78,
        "execution_start": 1714107108441,
        "id": "i0IZPGPOrqC3",
        "source_hash": null
      },
      "outputs": [],
      "source": [
        "\"\"\"\n",
        "En la siguiente celda se crean los datos ficticios a usar en la sección 1 del lab.\n",
        "❗No realice cambios a esta celda a excepción de n_samples❗\n",
        "\"\"\"\n",
        "\n",
        "# Datos a utilizar\n",
        "\n",
        "# Configuracion\n",
        "n_samples = 5000 #Este parámetro si lo pueden modificar\n",
        "\n",
        "def create_data(n_samples):\n",
        "\n",
        "    # Lunas\n",
        "    moons = datasets.make_moons(n_samples=n_samples, noise=0.05, random_state=30)\n",
        "    # Blobs\n",
        "    blobs = datasets.make_blobs(n_samples=n_samples, random_state=172)\n",
        "    # Datos desiguales\n",
        "    transformation = [[0.6, -0.6], [-0.4, 0.8]]\n",
        "    mutated = (np.dot(blobs[0], transformation), blobs[1])\n",
        "\n",
        "    # Generamos Dataset\n",
        "    dataset = {\n",
        "        'moons':{\n",
        "            'x': moons[0], 'classes': moons[1], 'n_cluster': 2\n",
        "        },\n",
        "        'blobs':{\n",
        "            'x': blobs[0], 'classes': blobs[1], 'n_cluster': 3\n",
        "        },\n",
        "        'mutated':{\n",
        "            'x': mutated[0], 'classes': mutated[1], 'n_cluster': 3\n",
        "        }\n",
        "    }\n",
        "    return dataset\n",
        "\n",
        "data_sets = create_data(n_samples)"
      ]
    },
    {
      "cell_type": "markdown",
      "metadata": {
        "id": "y51s6f_UtIkc"
      },
      "source": [
        "**Respuestas:**"
      ]
    },
    {
      "cell_type": "code",
      "execution_count": null,
      "metadata": {
        "cell_id": "643d6b35af5541358f481fda4d3fc51f",
        "deepnote_cell_type": "code",
        "deepnote_to_be_reexecuted": false,
        "execution_millis": 267,
        "execution_start": 1714108733824,
        "id": "CO3JFqezrqC3",
        "source_hash": null
      },
      "outputs": [],
      "source": [
        "def clustering_kmeans(X, n_clusters):\n",
        "    model = KMeans(n_clusters=n_clusters, random_state=42)\n",
        "    inicio = time.time()\n",
        "    labels = model.fit_predict(X)\n",
        "    tiempo = time.time() - inicio\n",
        "    return labels, tiempo\n",
        "\n",
        "def clustering_gmm(X, n_components):\n",
        "    model = GaussianMixture(n_components=n_components, random_state=42)\n",
        "    inicio = time.time()\n",
        "    model.fit(X)\n",
        "    labels = model.predict(X)\n",
        "    tiempo = time.time() - inicio\n",
        "    return labels, tiempo\n",
        "\n",
        "def clustering_ward(X, n_clusters):\n",
        "    model = AgglomerativeClustering(n_clusters=n_clusters, linkage='ward')\n",
        "    inicio = time.time()\n",
        "    labels = model.fit_predict(X)\n",
        "    tiempo = time.time() - inicio\n",
        "    return labels, tiempo\n",
        "\n",
        "\n",
        "def clustering_dbscan(X, eps=0.3, min_samples=5):\n",
        "    model = DBSCAN(eps=eps, min_samples=min_samples)\n",
        "    inicio = time.time()\n",
        "    labels = model.fit_predict(X)\n",
        "    tiempo = time.time() - inicio\n",
        "    return labels, tiempo\n",
        "\n",
        "\n",
        "\n",
        "# ---------------------------------------------------------------------\n",
        "# Función para generar el scatter plot usando Plotly\n",
        "# ---------------------------------------------------------------------\n",
        "def plot_scatter(x, labels, title_text):\n",
        "    trace = go.Scatter(\n",
        "        x = x[:, 0],\n",
        "        y = x[:, 1],\n",
        "        mode = 'markers',\n",
        "        marker = dict(\n",
        "            color = labels,\n",
        "            colorscale = 'Turbo',\n",
        "            showscale = False\n",
        "        ),\n",
        "        showlegend = False\n",
        "    )\n",
        "    return trace, title_text\n",
        "\n",
        "# ---------------------------------------------------------------------\n",
        "# Función principal que genera la figura completa\n",
        "# ---------------------------------------------------------------------\n",
        "def generar_grafico_modular(n_samples=5000):\n",
        "    \"\"\"\n",
        "    Genera una figura con 3 filas (un dataset por fila) y 4 columnas (un método de clustering por columna).\n",
        "    Cada subgráfico muestra el scatter plot de los datos, junto con el tiempo de ejecución y la métrica Silhouette.\n",
        "    \"\"\"\n",
        "    # Crear datasets\n",
        "    data_sets = create_data(n_samples)\n",
        "    dataset_names = list(data_sets.keys())  # Por ejemplo: ['moons', 'blobs', 'mutated']\n",
        "\n",
        "    # Configurar figura con 3 filas x 4 columnas\n",
        "    fig = make_subplots(rows=len(dataset_names), cols=4,\n",
        "                        subplot_titles=(\"KMeans\", \"GMM\", \"Ward\", \"DBSCAN\") * len(dataset_names),\n",
        "                        vertical_spacing=0.1, horizontal_spacing=0.03)\n",
        "\n",
        "    # Función auxiliar para calcular Silhouette\n",
        "    def calc_silhouette(X, labels):\n",
        "        if len(np.unique(labels)) <= 1:\n",
        "            return \"N/A\"\n",
        "        else:\n",
        "            return f\"{silhouette_score(X, labels):.2f}\"\n",
        "\n",
        "    # Iterar sobre cada dataset (fila)\n",
        "    for i, name in enumerate(dataset_names, start=1):\n",
        "        X = data_sets[name]['x']\n",
        "        n_cluster = data_sets[name]['n_cluster']\n",
        "\n",
        "        # Ejecutar cada algoritmo de clustering\n",
        "        labels_kmeans, t_kmeans = clustering_kmeans(X, n_cluster)\n",
        "        labels_gmm, t_gmm = clustering_gmm(X, n_cluster)\n",
        "        labels_ward, t_ward = clustering_ward(X, n_cluster)\n",
        "        labels_dbscan, t_dbscan = clustering_dbscan(X)  # Usando parámetros por defecto\n",
        "\n",
        "        # Calcular la métrica Silhouette\n",
        "        sil_kmeans = calc_silhouette(X, labels_kmeans)\n",
        "        sil_gmm = calc_silhouette(X, labels_gmm)\n",
        "        sil_ward = calc_silhouette(X, labels_ward)\n",
        "        sil_dbscan = calc_silhouette(X, labels_dbscan)\n",
        "\n",
        "        # Crear títulos con información de cada algoritmo\n",
        "        title_kmeans = f\"KMeans<br>Tiempo: {t_kmeans:.2f}s<br>Silhouette: {sil_kmeans}\"\n",
        "        title_gmm    = f\"GMM<br>Tiempo: {t_gmm:.2f}s<br>Silhouette: {sil_gmm}\"\n",
        "        title_ward   = f\"Ward<br>Tiempo: {t_ward:.2f}s<br>Silhouette: {sil_ward}\"\n",
        "        title_dbscan = f\"DBSCAN<br>Tiempo: {t_dbscan:.2f}s<br>Silhouette: {sil_dbscan}\"\n",
        "\n",
        "        # Lista de resultados para cada columna (en orden: KMeans, GMM, Ward, DBSCAN)\n",
        "        resultados = [\n",
        "            (labels_kmeans, title_kmeans),\n",
        "            (labels_gmm,    title_gmm),\n",
        "            (labels_ward,   title_ward),\n",
        "            (labels_dbscan, title_dbscan)\n",
        "        ]\n",
        "\n",
        "        # Añadir cada gráfico a la figura\n",
        "        for j, (labels, title) in enumerate(resultados, start=1):\n",
        "            trace, titulo = plot_scatter(X, labels, title)\n",
        "            fig.add_trace(trace, row=i, col=j)\n",
        "            # Actualizar el título del subplot\n",
        "            fig.layout.annotations[(i - 1)*4 + (j - 1)].text = titulo\n",
        "\n",
        "    fig.update_layout(\n",
        "        margin=dict(t=160),\n",
        "\n",
        "        height=900,\n",
        "        width=1200,\n",
        "        title_text=f\"Comparación con n samples = {n_samples}\"\n",
        "    )\n",
        "    return fig\n",
        "\n",
        "# ---------------------------------------------------------------------\n",
        "# Ejecución de la función para distintos valores de n_samples\n",
        "# ---------------------------------------------------------------------\n",
        "\n",
        "fig_1000 = generar_grafico_modular(n_samples=1000)\n",
        "fig_1000.show()\n",
        "\n",
        "fig_5000 = generar_grafico_modular(n_samples=5000)\n",
        "fig_5000.show()\n",
        "\n",
        "fig_10000 = generar_grafico_modular(n_samples=10000)\n",
        "fig_10000.show()\n"
      ]
    },
    {
      "cell_type": "markdown",
      "metadata": {
        "cell_id": "13c5cb8067d9415f83b3d497954a437a",
        "deepnote_cell_type": "markdown",
        "id": "3mCbZc86rqC6"
      },
      "source": [
        "## 2. Análisis de Satisfacción de Vuelos. [10 puntos]"
      ]
    },
    {
      "cell_type": "markdown",
      "metadata": {
        "cell_id": "fd6e991646b44f50a4b13f01d1542415",
        "deepnote_cell_type": "markdown",
        "id": "JI33m5jbrqC6"
      },
      "source": [
        "<center>\n",
        "<img src=\"https://i.gifer.com/2Hci.gif\" width=400 />"
      ]
    },
    {
      "cell_type": "markdown",
      "metadata": {
        "cell_id": "5742dfbd5a2e43778ff250436bab1005",
        "deepnote_cell_type": "markdown",
        "id": "h5k24znirqC7"
      },
      "source": [
        "Habiendo entendido cómo funcionan los modelos de aprendizaje no supervisado, *Don Sergio* le encomienda estudiar la satisfacción de pasajeros al haber tomado un vuelo en alguna de sus aerolineas. Para esto, el magnate le dispone del dataset `aerolineas_licer.parquet`, el cual contiene el grado de satisfacción de los clientes frente a diferentes aspectos del vuelo. Las características del vuelo se definen a continuación:\n",
        "\n",
        "- *Gender*: Género de los pasajeros (Femenino, Masculino)\n",
        "- *Customer Type*: Tipo de cliente (Cliente habitual, cliente no habitual)\n",
        "- *Age*: Edad actual de los pasajeros\n",
        "- *Type of Travel*: Propósito del vuelo de los pasajeros (Viaje personal, Viaje de negocios)\n",
        "- *Class*: Clase de viaje en el avión de los pasajeros (Business, Eco, Eco Plus)\n",
        "- *Flight distance*: Distancia del vuelo de este viaje\n",
        "- *Inflight wifi service*: Nivel de satisfacción del servicio de wifi durante el vuelo (0:No Aplicable; 1-5)\n",
        "- *Departure/Arrival time convenient*: Nivel de satisfacción con la conveniencia del horario de salida/llegada\n",
        "- *Ease of Online booking*: Nivel de satisfacción con la facilidad de reserva en línea\n",
        "- *Gate location*: Nivel de satisfacción con la ubicación de la puerta\n",
        "- *Food and drink*: Nivel de satisfacción con la comida y la bebida\n",
        "- *Online boarding*: Nivel de satisfacción con el embarque en línea\n",
        "- *Seat comfort*: Nivel de satisfacción con la comodidad del asiento\n",
        "- *Inflight entertainment*: Nivel de satisfacción con el entretenimiento durante el vuelo\n",
        "- *On-board service*: Nivel de satisfacción con el servicio a bordo\n",
        "- *Leg room service*: Nivel de satisfacción con el espacio para las piernas\n",
        "- *Baggage handling*: Nivel de satisfacción con el manejo del equipaje\n",
        "- *Check-in service*: Nivel de satisfacción con el servicio de check-in\n",
        "- *Inflight service*: Nivel de satisfacción con el servicio durante el vuelo\n",
        "- *Cleanliness*: Nivel de satisfacción con la limpieza\n",
        "- *Departure Delay in Minutes*: Minutos de retraso en la salida\n",
        "- *Arrival Delay in Minutes*: Minutos de retraso en la llegada"
      ]
    },
    {
      "cell_type": "markdown",
      "metadata": {
        "id": "sOoIFHpw5xCW"
      },
      "source": [
        "En consideración de lo anterior, realice las siguientes tareas:\n",
        "\n",
        "0. Ingeste el dataset a su ambiente de trabajo.\n",
        "\n",
        "1. Seleccione **sólo las variables numéricas del dataset**.  Explique qué éfectos podría causar el uso de variables categóricas en un algoritmo no supervisado. [2 punto]\n",
        "\n",
        "2. Realice una visualización de la distribución de cada variable y analice cada una de estas distribuciones. [2 punto]\n",
        "\n",
        "3. Basándose en los gráficos, evalúe la necesidad de escalar los datos y explique el motivo de su decisión. [2 puntos]\n",
        "\n",
        "4. Examine la correlación entre las variables mediante un correlograma. [2 puntos]\n",
        "\n",
        "5. De acuerdo con los resultados obtenidos en 5, reduzca la dimensionalidad del conjunto de datos a cuatro variables, justificando su elección respecto a las variables que decide eliminar. [2 puntos]"
      ]
    },
    {
      "cell_type": "markdown",
      "metadata": {
        "id": "tO6tcVBCtxxS"
      },
      "source": [
        "**Respuesta:**"
      ]
    },
    {
      "cell_type": "code",
      "execution_count": null,
      "metadata": {
        "id": "pzHTZ17xveU_"
      },
      "outputs": [],
      "source": [
        "# Carga de datos\n",
        "\n",
        "# 0. Ingesta del dataset\n",
        "df = pd.read_parquet(\"/content/drive/MyDrive/aerolineas_lucer.parquet\")\n",
        "\n",
        "\n",
        "# Veamos las primeras filas y la forma del DataFrame\n",
        "print(df.shape)\n",
        "print(df.columns)\n",
        "print(df.dtypes)\n",
        "df.head(1)\n"
      ]
    },
    {
      "cell_type": "code",
      "source": [
        "# 2.1. Seleccionar sólo las variables numericas (int64 o float64)\n",
        "numeric_cols = df.select_dtypes(include=['int64', 'float64']).columns.tolist()\n",
        "df_num = df[numeric_cols]\n",
        "\n",
        "print(\"Columnas numericas:\", numeric_cols)\n",
        "print(\"Total de columnas numericas: \", len(numeric_cols))\n",
        "df_num.head()"
      ],
      "metadata": {
        "id": "tJcZpj_vhdr3"
      },
      "execution_count": null,
      "outputs": []
    },
    {
      "cell_type": "markdown",
      "source": [
        "Al incluir variables categóricas “tal cual” (por ejemplo, género, clase de viaje, tipo de cliente) en un algoritmo de clustering no supervisado basado en distancias (como k‑means, DBSCAN, agrupamiento jerárquico o GMM), se pueden generar varios problemas como por ejemplo inflación de la dimensionalidad, distancias sin sentido (ya que en categorías no hay un orden real entre valores), sesgo en el clustering (ya que pueden haber inconsistencias en los pesos) etc...\n",
        "\n"
      ],
      "metadata": {
        "id": "PGNAUhxziZ7-"
      }
    },
    {
      "cell_type": "code",
      "source": [
        "#2.2. Realice una visualización de la distribución de cada variable y analice cada una de estas distribuciones.\n",
        "\n",
        "# Para cada variable, generamos un histograma\n",
        "for col in numeric_cols:\n",
        "    fig = px.histogram(\n",
        "        df,\n",
        "        x=col,\n",
        "        nbins=30,\n",
        "        title=f\"Distribución de '{col}'\",\n",
        "        labels={col: col}\n",
        "    )\n",
        "    fig.update_layout(height=400, width=600)\n",
        "    fig.show()"
      ],
      "metadata": {
        "id": "JWBc1WTAjrVV"
      },
      "execution_count": null,
      "outputs": []
    },
    {
      "cell_type": "markdown",
      "source": [
        "### Id\n",
        "se omite puesto que no brinda información relevante\n",
        "\n",
        "### Age\n",
        "- Distribución aproximadamente bimodal, con picos entre los 25-29 y 40-44\n",
        "- La mayoría de pasajeros son adultos jovenes y adultos (entre 20 y 59 años)\n",
        "- La mayoría de pasajeros son adultos jóvenes y de mediana edad; hay relativamente pocos adolescentes y muy pocos de más de 70 años.\n",
        "\n",
        "### Flight Distance\n",
        "- Fuerte asimetría positiva. Gran concentración en distancias cortas (<1000 km).\n",
        "- La mayoría de viajes son de corta/media distancia (vuelos domésticos o regionales)\n",
        "\n",
        "### Inflight Wifi Service\n",
        "- Valores concentrados en los centros 2 y 3.\n",
        "- Extremos poco frecuentes.\n",
        "- Pocos pasajeros valoraron el wifi como no aplicable o exelente.\n",
        "\n",
        "### Departure/Arrival time convenient\n",
        "- Concentrado en 3-5, con pico en 4. Pocos 0s y 1s\n",
        "- La mayoría está conforme/satisfecha con los horarios. Muy pocos encuentran horarios inconvenientes o no aplicables.\n",
        "\n",
        "### Ease of Online booking\n",
        "- Concentrada en 2–4, con pico en 3. Pocos ceros y extremos.\n",
        "- Generalmente los pasajeros encuentran moderadamente facil hacer reservas online.\n",
        "- Distribución similar al Inflight Wifi Service.\n",
        "\n",
        "### Gate Location\n",
        "- Distribución similar a las anteriores, valores concentrados en los centros 3 y 4.\n",
        "- La mayoría se encuentra medianamente satisfecho. Pocos se encuentran muy satisfechos o muy poco satisfechos.\n",
        "\n",
        "### Food and drink\n",
        "- Distribución más equitativa que las anteriores.\n",
        "- Pareciera ser que la comida es realmente algo subjetivo y poco valorable. La cantidad de gente que la encuentra 5 puntos es equiparable a la que la encuentra 2 o 3 puntos.\n",
        "\n",
        "### Online Boarding\n",
        "- Similar a las otras, predominio en 3–4, pocos extremos.\n",
        "- La mayoría evalúa bien el embarque online.\n",
        "\n",
        "### Seat Comfort\n",
        "- Pico en 4–5, leve cola hacia 2–3.\n",
        "- Los pasajeros suelen estar bastante cómodos con el asiento.\n",
        "\n",
        "---\n",
        "\n",
        "Todas las siguientes hasta Departure Delay in minutes presentan distribuciones sumamente similares. Se analizará esta distribución en general sin ahondar específicamente en cada una.\n",
        "\n",
        "\n",
        "Valores concentrados en los medios/altos. Pocos valores extremos altos y bajos.\n",
        "La mayoría valora la experiencia como bastante conveniente o bastante comodo.\n",
        "\n",
        "---\n",
        "\n",
        "### Departure Delay in Minutes\n",
        "- Distribución hipersesgada, >90% de los vuelos con demora 0-99 min.\n",
        "- Cola muy larga hasta los 1000 min.\n",
        "- La enorme mayoría de los vielos sale a tiempo o con demoras de hasta hora y media\n",
        "\n",
        "### Arrival Delay in Minutes\n",
        "- Misma forma que la salida. Pico en 0-99 min.\n",
        "- Cola larga hasta los 1000 min.\n",
        "- La enorme mayoría de los vielos llega a tiempo o con demoras de hasta hora y media\n"
      ],
      "metadata": {
        "id": "oKM59R0Lm42-"
      }
    },
    {
      "cell_type": "markdown",
      "source": [
        "### 2.3.\n",
        " Basándose en los gráficos, evalúe la necesidad de escalar los datos y explique el motivo de su decisión.\n",
        "\n",
        "Notemos que hay diferentes ordenes de magnitud.\n",
        "- Hay variables de rating (wifi, comfort, boarding, etc...) que van de 1 a 5.\n",
        "- Age que es un int entre 13 y ~90\n",
        "- Flight distance hasta los 5000 km\n",
        "- Delays hasta miles de minutos.\n",
        "\n",
        "Notemos que de no escalar, las variables de delays dominarían por completo cualquier métrica de distancia debido al orden de magnitud de sus valores.\n",
        "\n",
        "Además, existen variables con grandes asimetrías y/o outliers.\n",
        "- Distance y Delays tienen colas larguisimas con unos pocos valores muy extremos.\n",
        "- Se podría aplicar un StandardScaler para distribuciones más suaves como el Age y un RobustScaler para distribuciones con asimetrías mayores como Distance o delays.\n",
        "\n"
      ],
      "metadata": {
        "id": "OXhuvfrixMC2"
      }
    },
    {
      "cell_type": "code",
      "source": [
        "#2.4 Examine la correlación entre las variables mediante un correlograma.\n",
        "corr = df_num.corr()\n",
        "\n",
        "fig = px.imshow(\n",
        "    corr,\n",
        "    text_auto=True,\n",
        "    color_continuous_scale='RdBu',\n",
        "    zmin=-1, zmax=1,\n",
        "    title='Correlograma de Variables Numéricas'\n",
        ")\n",
        "fig.update_layout(width=800, height=800)\n",
        "fig.show()"
      ],
      "metadata": {
        "id": "7kZ2WQ7UAdh5"
      },
      "execution_count": null,
      "outputs": []
    },
    {
      "cell_type": "markdown",
      "source": [
        "Ahora, consideremos las principales correlaciones:\n",
        "\n",
        "- Ease of Online booking & Inflight wifi service (ρ ≈ 0.72): Los pasajeros que encuentran fácil la reserva online suelen ser los mismos que califican bien el wifi. Refleja un grupo que prioriza la fluidez digital, tanto antes como durante el vuelo.\n",
        "\n",
        "- Seat comfort & Food and Drink (ρ ≈ 0.57): Pasajeros que disfrutan la comodidad del asiento tienden a valorar también la comida/bebida. Indica que el confort físico y la oferta gastronómica suelen ir de la mano en la percepción global.\n",
        "\n",
        "- Inflight entertainment & Food and Drink (ρ ≈ 0.62)\n",
        "Quienes disfrutan del entretenimiento a bordo también suelen estar satisfechos con la comida. Sugiere un “segmento” de clientes que valora la calidad de los servicios complementarios.\n",
        "\n",
        "- Inflight entertainment & Seat comfort (ρ ≈ 0.61)\n",
        "Un asiento cómodo potencia la experiencia de entretenimiento (es más agradable ver una película si estás bien sentado).\n",
        "\n",
        "- Cleanliness & Food and Drink (ρ ≈ 0.66)\n",
        "La limpieza de la cabina influye directamente en la percepción de la comida; un espacio limpio hace más agradable comer.\n",
        "\n",
        "- Cleanliness & Seat comfort (ρ ≈ 0.68)\n",
        "Mantener el avión limpio mejora notablemente la sensación de confort en el asiento.\n",
        "\n",
        "- Cleanliness & Inflight entertainment (ρ ≈ 0.69)\n",
        "Un entorno limpio también hace más disfrutable el entretenimiento a bordo (pantallas, controles, etc.).\n",
        "\n",
        "\n",
        "- Arrival Delay & Departure Delay (ρ ≈ 0.97)\n",
        "Prácticamente colineales. Si un vuelo sale tarde, casi seguro llegará tarde. Refleja la relación directa entre ambos retrasos."
      ],
      "metadata": {
        "id": "RjgIIvmjGk6Y"
      }
    },
    {
      "cell_type": "markdown",
      "source": [
        "### 2.5\n",
        "De acuerdo con los resultados obtenidos en las preguntas anteriores (visualización de distribuciones, correlaciones, etc...) reduzca la dimensionalidad del conjunto de datos a cuatro variables, justificando su elección respecto a las variables que decide eliminar."
      ],
      "metadata": {
        "id": "RVuQSpNxJV8j"
      }
    },
    {
      "cell_type": "code",
      "source": [
        "selected = [\n",
        "    'Age',\n",
        "    'Flight Distance',\n",
        "    'Ease of Online booking',\n",
        "    'Cleanliness'\n",
        "]\n",
        "\n",
        "df_reduced = df[selected]\n",
        "df_reduced.head()"
      ],
      "metadata": {
        "id": "480hztYmJLVz"
      },
      "execution_count": null,
      "outputs": []
    },
    {
      "cell_type": "markdown",
      "source": [
        "Se eligieron las variables : Age, Flight Distance, Ease of Online booking y Cleanliness, por lo siguiente:\n",
        "\n",
        "- Age: Aporta información demógrafica util que no se refleja en ninguna otra variable. Presenta una baja correlación con todo lo demás.\n",
        "- Flight Distance: Aporta información de los comportamientos de los viajes (corto vs largo). No tiene gran correlación con otras variables de ratings ni de delays por lo que aporta una dimensionalidad independiente y util.\n",
        "- Ease of Online Booking: Aporta información sobre las \"variables digitales\". Tiene alta correlación con un bloque de variables relacionadas, por lo que permite evitar redundancias.\n",
        "- Cleanliness: Permite agregar la dimensionalidad de \"comodidad\" o confort del vuelo en sí. Tiene una alta correlación con las otras variables de esta misma categoría por lo que sirve de \"proxy\".\n"
      ],
      "metadata": {
        "id": "_kzk3edLJwfD"
      }
    },
    {
      "cell_type": "markdown",
      "metadata": {
        "cell_id": "4b6c047d994f40ea9e78a36a777042e0",
        "deepnote_cell_type": "markdown",
        "id": "PNGfTgtkrqC9"
      },
      "source": [
        "## 3. Preprocesamiento 🎭. [10 puntos]"
      ]
    },
    {
      "cell_type": "markdown",
      "metadata": {
        "cell_id": "713b3f0e61dd4841bb5b38c730d344d5",
        "deepnote_cell_type": "markdown",
        "id": "6RZD0fMNrqC-"
      },
      "source": [
        "<center>\n",
        "<img src=\"https://media4.giphy.com/media/vWst8QUOKAot6MHEZe/giphy.gif?cid=6c09b952gm5xylrj4k5caq2slgwivx9azbgb0ox297sk5zjx&ep=v1_internal_gif_by_id&rid=giphy.gif&ct=g\" width=400>"
      ]
    },
    {
      "cell_type": "markdown",
      "metadata": {
        "cell_id": "98400c7b5fec4af193eec3601f53891e",
        "deepnote_cell_type": "markdown",
        "id": "J6d4VEOTrqC-"
      },
      "source": [
        "Tras quedar satisfecho con los resultados presentados en el punto 2, el dueño de la empresa ha solicitado que se preprocesen los datos mediante un `pipeline`. Es crucial que este proceso tenga en cuenta las observaciones derivadas de los análisis anteriores. Adicionalmente, ha expresado su interés en visualizar el conjunto de datos en un gráfico de dos o tres dimensiones.\n",
        "\n",
        "Basándose en los análisis realizados anteriormente:\n",
        "1. Cree un `pipeline` que incluya PCA, utilizando las consideraciones mencionadas previamente para proyectar los datos a dos dimensiones. [4 puntos]\n",
        "2. Grafique los resultados obtenidos y comente lo visualizado. [6 puntos]"
      ]
    },
    {
      "cell_type": "markdown",
      "metadata": {
        "id": "paDSaGoq0OUp"
      },
      "source": [
        "**Respuestas:**"
      ]
    },
    {
      "cell_type": "code",
      "execution_count": null,
      "metadata": {
        "cell_id": "ad1e70818ad748638ca0927b07a76125",
        "deepnote_cell_type": "code",
        "id": "gBYG238wrqC-"
      },
      "outputs": [],
      "source": [
        "# Escriba su código aquí\n",
        "\n",
        "from sklearn.preprocessing import FunctionTransformer, StandardScaler, MinMaxScaler, RobustScaler\n",
        "from sklearn.pipeline import Pipeline\n",
        "from sklearn.compose import ColumnTransformer\n",
        "from sklearn.decomposition import PCA\n",
        "\n",
        "\n",
        "# Variables seleccionadas\n",
        "numeric_cols = ['Age', 'Flight Distance', 'Ease of Online booking', 'Cleanliness']\n",
        "df_reduced = df[numeric_cols].copy()\n",
        "\n",
        "#Preprocesador con transformaciones según la naturaleza de cada variable\n",
        "preprocessor = ColumnTransformer([\n",
        "    ('dist', Pipeline([\n",
        "        ('log', FunctionTransformer(np.log1p, validate=False)), # np.log1p para suavizar la cola de los vuelos muy largos.\n",
        "        ('robust', RobustScaler()) #RobustScaler (centrado en la mediana y escalado por IQR) para que los outliers extremos no distorsionen la escala.\n",
        "    ]), ['Flight Distance']),\n",
        "    ('age', StandardScaler(), ['Age']), #StandardScaler dada su distribución bastante simetrica.\n",
        "    ('ease', MinMaxScaler(), ['Ease of Online booking']),\n",
        "    ('clean', MinMaxScaler(), ['Cleanliness']) #MinMaxScaler para interpretar mejor ambas variables ordinales.\n",
        "])\n",
        "\n",
        "# Pipeline completo con PCA a 2 componentes\n",
        "pca_pipeline = Pipeline([\n",
        "    ('preprocess', preprocessor),\n",
        "    ('pca', PCA(n_components=2, random_state=42))\n",
        "])\n",
        "\n",
        "# Ajuste y transformación\n",
        "pca_result = pca_pipeline.fit_transform(df_reduced)\n",
        "df_pca = pd.DataFrame(pca_result, columns=['PC1', 'PC2'])\n",
        "\n",
        "# Gráfico 2D de la proyección PCA\n",
        "fig = px.scatter(\n",
        "    df_pca,\n",
        "    x='PC1', y='PC2',\n",
        "    title='Proyección PCA a 2 componentes',\n",
        "    width=700, height=600,\n",
        "    labels={'PC1': 'Componente Principal 1', 'PC2': 'Componente Principal 2'}\n",
        ")\n",
        "fig.show()\n"
      ]
    },
    {
      "cell_type": "code",
      "source": [
        "\n",
        "# Acceder al PCA entrenado en tu pipeline\n",
        "pca = pca_pipeline.named_steps['pca']\n",
        "\n",
        "# Cálculo de las cargas (loadings) de cada variable en PC1 y PC2\n",
        "loadings = pd.DataFrame(\n",
        "    pca.components_.T,\n",
        "    index=numeric_cols,\n",
        "    columns=['PC1', 'PC2']\n",
        ")\n",
        "print(\"Cargas (loadings) de cada variable:\")\n",
        "print(loadings)\n",
        "\n",
        "# Porcentaje de varianza explicada\n",
        "varianza = pd.Series(\n",
        "    pca.explained_variance_ratio_,\n",
        "    index=['PC1', 'PC2']\n",
        ")\n",
        "print(\"\\nVarianza explicada por componente:\")\n",
        "print(varianza)"
      ],
      "metadata": {
        "id": "qAfOYCvgP-jx"
      },
      "execution_count": null,
      "outputs": []
    },
    {
      "cell_type": "markdown",
      "source": [
        "PC1 está prácticamente liderada por Flight Distance, con una contribución secundaria de Age. Las dos ratings aportan casi nada a este eje.\n",
        "\n",
        "Interpretación: PC1 separa principalmente a los pasajeros por la “longitud” de su viaje (y en menor medida por la edad). A la derecha vemos los pasajeros de vuelos largos y/o mayores; a la izquierda, vuelos cortos y pasajeros jóvenes.\n",
        "\n",
        "PC2 está dominada por las dos valoraciones de servicio (Ease of booking y Cleanliness), casi sin aporte de distancia o edad.\n",
        "\n",
        "Interpretación: PC2 mide la “satisfacción de servicio digital y limpieza”. En la parte alta del gráfico están los pasajeros más satisfechos con la reserva online y la limpieza; en la baja, los menos satisfechos.\n",
        "\n"
      ],
      "metadata": {
        "id": "7kd--jtumvrE"
      }
    },
    {
      "cell_type": "markdown",
      "metadata": {
        "cell_id": "bd281470d3054764a63d857cfa7d52a6",
        "deepnote_cell_type": "text-cell-h2",
        "formattedRanges": [],
        "id": "7ENoOtIIrqC_"
      },
      "source": [
        "## 4. Outliers 🚫🙅‍♀️❌🙅‍♂️ [10 puntos]"
      ]
    },
    {
      "cell_type": "markdown",
      "metadata": {
        "cell_id": "db89e9c9f35c44abbd8991180226c0ea",
        "deepnote_cell_type": "markdown",
        "id": "fbGw6Sa-rqC_"
      },
      "source": [
        "<center>\n",
        "<img src=\"https://joachim-gassen.github.io/images/ani_sim_bad_leverage.gif\" width=250>"
      ]
    },
    {
      "cell_type": "markdown",
      "metadata": {
        "cell_id": "3e2f59fa12954641af7a854a4e203694",
        "deepnote_cell_type": "markdown",
        "id": "nl_ccu9brqDA"
      },
      "source": [
        "Con el objetivo de mantener la claridad en su análisis, Don Sergio le ha solicitado entrenar un modelo que identifique pasajeros con comportamientos altamente atípicos.\n",
        "\n",
        "1. Utilice `IsolationForest` para clasificar las anomalías del dataset (sin aplicar PCA), configurando el modelo para que sólo el 1% de los datos sean considerados anómalos. Asegúrese de integrar esta tarea dentro de un `pipeline`. [3 puntos]\n",
        "\n",
        "2. Visualice los resultados en el gráfico de dos dimensiones previamente creado. [3 puntos]\n",
        "\n",
        "3. ¿Cómo evaluaría el rendimiento de su modelo en la detección de anomalías? [4 puntos]"
      ]
    },
    {
      "cell_type": "markdown",
      "metadata": {
        "id": "b5cS1FR00NlF"
      },
      "source": [
        "**Respuestas:**"
      ]
    },
    {
      "cell_type": "markdown",
      "source": [
        "En primer lugar aplicamos la transformación de las columnas para el resto del análisis."
      ],
      "metadata": {
        "id": "sJ0pHpi6mNT6"
      }
    },
    {
      "cell_type": "code",
      "source": [
        "df_processed = pd.DataFrame(preprocessor.fit_transform(df_reduced), columns=['Age',\t'Flight Distance',\t'Ease of Online booking',\t'Cleanliness'])\n",
        "df_processed.head()\n"
      ],
      "metadata": {
        "id": "5JyXM5G3-kAY"
      },
      "execution_count": null,
      "outputs": []
    },
    {
      "cell_type": "markdown",
      "source": [
        "1. Pipeline con IsolationForest"
      ],
      "metadata": {
        "id": "ViWXfkkrOOQ0"
      }
    },
    {
      "cell_type": "code",
      "execution_count": null,
      "metadata": {
        "cell_id": "be86896911244aa89e3b5f3f00a286af",
        "deepnote_cell_type": "code",
        "id": "iaPZFmjyrqDA"
      },
      "outputs": [],
      "source": [
        "from sklearn.ensemble import IsolationForest\n",
        "\n",
        "iso_pipeline = Pipeline([\n",
        "    ('isolation_forest', IsolationForest(contamination=0.01, random_state=47))\n",
        "])\n",
        "\n",
        "iso_pipeline.fit(df_processed)\n",
        "\n",
        "# Predecir anomalías (-1 es anomalía, 1 es normal)\n",
        "anomaly_labels = iso_pipeline.predict(df_processed)\n"
      ]
    },
    {
      "cell_type": "markdown",
      "source": [
        "2. Visualizar resultados en espacio 2D del PCA"
      ],
      "metadata": {
        "id": "s4hkDBonORA9"
      }
    },
    {
      "cell_type": "code",
      "source": [
        "df_iso = df_pca.copy()\n",
        "df_iso['anomaly'] = anomaly_labels\n",
        "df_iso['anomaly'] = df_iso['anomaly'].map({1: 'Normal', -1: 'Anomalía'})\n",
        "\n",
        "\n",
        "iso_fig = px.scatter(df_iso,\n",
        "        x='PC1', y='PC2',\n",
        "        color='anomaly',\n",
        "        title='Detección de Anomalías con IsolationForest',\n",
        "        width=700, height=600,\n",
        "        labels={'PC1': 'Componente Principal 1', 'PC2': 'Componente Principal 2'}\n",
        ")\n",
        "iso_fig.show()"
      ],
      "metadata": {
        "id": "s_sakHZSOVYl"
      },
      "execution_count": null,
      "outputs": []
    },
    {
      "cell_type": "markdown",
      "source": [
        "3. Evaluación"
      ],
      "metadata": {
        "id": "6_eunSM1QjOA"
      }
    },
    {
      "cell_type": "code",
      "source": [
        "# verificamos si detectó un 1% de datos\n",
        "i = 0\n",
        "for item in anomaly_labels:\n",
        "  if item == -1:\n",
        "    i += 1\n",
        "print(f\"porcentaje detectado: {100 * (i / len(anomaly_labels))}%\")"
      ],
      "metadata": {
        "id": "vBnGclaXRKoo"
      },
      "execution_count": null,
      "outputs": []
    },
    {
      "cell_type": "markdown",
      "source": [
        "Notamos que el modelo efectivamente identificó un 1% de los datos como anómalos. Por otro lado, visualmente se identifica que el modelo indentifica puntos que estan en valores extremos dentro de los componentes principales como anómalos, en especial para valores bajos del componente 2. Siguiendo la interpretación de PCA, podemos identificar como anómalo las personas que evaluan negativamente la satisfacción de servicio digital y limpieza."
      ],
      "metadata": {
        "id": "QjGUITrDR2yu"
      }
    },
    {
      "cell_type": "markdown",
      "source": [
        "Para continuar con la evaluación, se podria evaluar de forma manual con expertos si hay ejemplos conocidos de outliers. Tambien se puede comparar con otras técnicas de detección de anomalías como DBSCAN."
      ],
      "metadata": {
        "id": "pjokUvTjS8Sg"
      }
    },
    {
      "cell_type": "markdown",
      "metadata": {
        "cell_id": "3871e2fe5bdd422dbdbfaebf75503ae3",
        "deepnote_cell_type": "markdown",
        "id": "zQFTklmVrqDB"
      },
      "source": [
        "## 5. Métricas de Desempeño 🚀 [10 puntos]"
      ]
    },
    {
      "cell_type": "markdown",
      "metadata": {
        "cell_id": "236333de6dd445c182aefcc507589325",
        "deepnote_cell_type": "markdown",
        "id": "YpNj4wbPrqDB"
      },
      "source": [
        "<center>\n",
        "<img src=\"https://giffiles.alphacoders.com/219/219081.gif\" width=300>"
      ]
    },
    {
      "cell_type": "markdown",
      "metadata": {
        "cell_id": "a7e1ceb91be94b1da2ab8be97dfac999",
        "deepnote_cell_type": "markdown",
        "id": "CR3hzRxrrqDB"
      },
      "source": [
        "Motivado por incrementar su fortuna, Don Sergio le solicita entrenar un modelo que le permita segmentar a los pasajeros en grupos distintos, con el objetivo de optimizar las diversas campañas de marketing diseñadas por su equipo. Para ello, le se pide realizar las siguientes tareas:\n",
        "\n",
        "1. Utilizar el modelo **Gaussian Mixture** y explore diferentes configuraciones de número de clústers, específicamente entre 3 y 8. Asegúrese de integrar esta operación dentro de un `pipeline`. [4 puntos]\n",
        "2. Explique cuál sería el criterio adecuado para seleccionar el número óptimo de clústers. **Justifique de forma estadistica y a traves de gráficos.** [6 puntos]\n",
        "\n",
        "> **HINT:** Se recomienda investigar sobre los criterios AIC y BIC para esta tarea."
      ]
    },
    {
      "cell_type": "markdown",
      "metadata": {
        "id": "Jt_T_zTg0MXB"
      },
      "source": [
        "**Respuestas:**"
      ]
    },
    {
      "cell_type": "code",
      "source": [
        "from sklearn.mixture import GaussianMixture\n",
        "\n",
        "n_components_range = range(3, 9)\n",
        "aic_vals = []\n",
        "bic_vals = []\n",
        "models = []\n",
        "\n",
        "# Calcular AIC y BIC para cada modelo\n",
        "for n in n_components_range:\n",
        "    pipeline = Pipeline([\n",
        "        ('gmm', GaussianMixture(n_components=n, random_state=47))\n",
        "    ])\n",
        "    pipeline.fit(df_processed)\n",
        "    gmm = pipeline.named_steps['gmm']\n",
        "    aic_vals.append(gmm.aic(df_processed))\n",
        "    bic_vals.append(gmm.bic(df_processed))\n",
        "    models.append(pipeline)\n",
        "\n",
        "# Graficar AIC y BIC con Plotly\n",
        "fig = go.Figure()\n",
        "fig.add_trace(go.Scatter(x=list(n_components_range), y=aic_vals, mode='lines+markers', name='AIC'))\n",
        "fig.add_trace(go.Scatter(x=list(n_components_range), y=bic_vals, mode='lines+markers', name='BIC'))\n",
        "\n",
        "fig.update_layout(\n",
        "    title='Selección del Número Óptimo de Clústers (AIC y BIC)',\n",
        "    xaxis_title='Número de Clústers',\n",
        "    yaxis_title='Puntaje',\n",
        "    template='plotly_white'\n",
        ")\n",
        "\n",
        "fig.show()"
      ],
      "metadata": {
        "id": "zL-9X6fggnE5"
      },
      "execution_count": null,
      "outputs": []
    },
    {
      "cell_type": "markdown",
      "source": [
        "Para elegir un buen número de cluster se puede usar AIC (Akaike Information Criterion) y BIC (Bayesian Information Criterion). Al no tener etiquetas verdaderas (aprendizaje no supervisado) medir la complejidad del modelo es una buena opción para escoger un modelo. Los criterios AIC y BIC penalizan modelos más complejos (más clusters) y que se sobreajustan al ruido de los datos (overfitting). Con esto en mente, el modelo con menor AIC y BIC representa un buen criterio para elegir un modelo. De forma gráfica notamos que para 6 clusters se obtiene un valor bajo de AIC y BIC con la menor cantidad de clusters posibles, elegiendolo como el mejor modelo."
      ],
      "metadata": {
        "id": "LQ3wABa1kwWj"
      }
    },
    {
      "cell_type": "markdown",
      "metadata": {
        "cell_id": "dd342e336254418ba766b29dce16b267",
        "deepnote_cell_type": "markdown",
        "id": "P9CERnaerqDC"
      },
      "source": [
        "## 6. Análisis de resultados 📊 [10 puntos]"
      ]
    },
    {
      "cell_type": "markdown",
      "metadata": {
        "cell_id": "953b5ad01a704b50b899db7176d1b7b2",
        "deepnote_cell_type": "markdown",
        "id": "I1yNa111rqDC"
      },
      "source": [
        "<center>\n",
        "<img src=\"https://www.icegif.com/wp-content/uploads/2021/12/icegif-1407.gif\" width=300>"
      ]
    },
    {
      "cell_type": "markdown",
      "metadata": {
        "cell_id": "fd90e2f135404353ac0b5ab844936ca7",
        "deepnote_cell_type": "markdown",
        "id": "dg0Qx4RZrqDC"
      },
      "source": [
        "Una vez identificado el número óptimo de clústers, se le pide realizar lo siguiente:\n",
        "\n",
        "1. Utilizar la proyección en dos dimensiones para visualizar cada clúster claramente. [2 puntos]\n",
        "\n",
        "2. ¿Es posible distinguir claramente entre los clústers generados? [2 puntos]\n",
        "\n",
        "3. Proporcionar una descripción breve de cada clúster utilizando estadísticas descriptivas básicas, como la media y la desviación estándar, para resumir las características de las variables utilizadas en estos algoritmos. [2 puntos]\n",
        "\n",
        "4. Proceda a visualizar los clústers en tres dimensiones para una perspectiva más detallada. [2 puntos]\n",
        "\n",
        "5. ¿Cómo afecta esto a sus conclusiones anteriores? [2 puntos]"
      ]
    },
    {
      "cell_type": "markdown",
      "metadata": {
        "id": "CRN0zZip0IMB"
      },
      "source": [
        "**Respuestas:**"
      ]
    },
    {
      "cell_type": "code",
      "execution_count": null,
      "metadata": {
        "cell_id": "9abf4dbc643e40cebe99fcb1ff3ff413",
        "deepnote_cell_type": "code",
        "id": "XmZrz15GrqDC"
      },
      "outputs": [],
      "source": [
        "# 1. proyectar a 2 dimensiones\n",
        "best_model = models[3]\n",
        "labels = best_model.predict(df_processed)\n",
        "df_best = df_pca.copy()\n",
        "df_best['cluster'] = labels\n",
        "\n",
        "fig = px.scatter(df_best,\n",
        "        x='PC1', y='PC2',\n",
        "        color='cluster',\n",
        "        title='GMM clustering',\n",
        "        width=700, height=600,\n",
        "        labels={'PC1': 'Componente Principal 1', 'PC2': 'Componente Principal 2'}\n",
        ")\n",
        "fig.show()\n"
      ]
    },
    {
      "cell_type": "markdown",
      "source": [
        "2. A pesar de estar muy cercanos entre si, podemos distinguir claramente cada cluster en la proyección"
      ],
      "metadata": {
        "id": "txhTkkjv67VB"
      }
    },
    {
      "cell_type": "code",
      "source": [
        "# 3 descripción de clusters:\n",
        "\n",
        "clusters_df = df_processed.copy()\n",
        "clusters_df['cluster'] = labels\n",
        "\n",
        "cluster_stats = clusters_df.groupby('cluster').agg(['mean', 'std'])\n",
        "\n",
        "cluster_stats\n"
      ],
      "metadata": {
        "id": "e41w5UdB7-kB"
      },
      "execution_count": null,
      "outputs": []
    },
    {
      "cell_type": "markdown",
      "source": [
        "Interpretación de cada cluster:\n",
        "\n",
        "**Cluster 0**\n",
        "\n",
        "- Mediana edad (Age en mediana de los clusters).\n",
        "- Vuelos de muy corta distancia (Flight distance muy bajo).\n",
        "- Dificultad para reservar vuelo (Ease booking bajo).\n",
        "- Limpieza aceptable (Cleanliness promedio).\n",
        "\n",
        "→ Adultos de mediana edad realizando vuelos locales y con dificultad para reservar.\n",
        "\n",
        "**Cluster 1**\n",
        "\n",
        "- Niños y jovenes (Age baja y con alta dispersión).\n",
        "- Vuelos muy largos (Flight distance muy alto).\n",
        "- Dificultad para reservar vuelo (Ease booking bajo).\n",
        "- Limpieza aceptable (Cleanliness promedio).\n",
        "\n",
        "→ Niños y jovenes haciendo vuelos largos. Dificultad para reservar vuelo (posiblemente por la baja edad).\n",
        "\n",
        "**Cluster 2**\n",
        "\n",
        "- Adultos mayores (Mayor valor de Age y con menor dispersión).\n",
        "- Vuelos de mediana distancia (Flight distance medio y con alta dispersión).\n",
        "- Facilidad para reservar vuelo (Ease booking alto).\n",
        "- Mala limpieza (Cleanliness baja).\n",
        "\n",
        "→ Adultos mayores que exigen mucha limpieza y con facilidad para reservar (posiblemente por alta experiencia).  \n",
        "\n",
        "**Cluster 3**\n",
        "\n",
        "- Niños (Age muy bajo y con dispersión normal).\n",
        "- Vuelos de media distancia (Flight distance medio y con baja dispersión).\n",
        "- Dificultad media para reservar (Ease booking medio).\n",
        "- Alta limpieza (Cleanliness Alto).\n",
        "\n",
        "→ Niños que probablemente no reservan su vuelo, no exigen mucha limpieza y realizan vuelos de distancia media.\n",
        "\n",
        "\n",
        "**Cluster 4**\n",
        "\n",
        "- Adultos en transición a la tercera edad (Age alto).\n",
        "- Vuelos de larga distancia (Flight distance alto).\n",
        "- Alta facilidad para reservar vuelo (Ease booking muy alto).\n",
        "- Limpieza muy alta (Cleanliness muy alto y con baja dispersión).\n",
        "\n",
        "→ Adultos de mediana edad realizando vuelos locales y con dificultad para reservar.\n",
        "\n",
        "**Cluster 5**\n",
        "\n",
        "- Mediana edad (Age en mediana de los clusters).\n",
        "- Vuelos de muy corta distancia (Flight distance muy bajo).\n",
        "- Dificultad aceptable para reservar vuelo (Ease booking medio).\n",
        "- Limpieza baja (Cleanliness bajo).\n",
        "\n",
        "→ Similar al cluster 0, pero con baja limpieza y menor dificultad al reservar.\n",
        "\n",
        "\n"
      ],
      "metadata": {
        "id": "jyfyOyrjBDHq"
      }
    },
    {
      "cell_type": "code",
      "source": [
        "# 4. proyectar a 3 dimensiones:\n",
        "\n",
        "pca_pipeline_3D = Pipeline([\n",
        "    ('pca', PCA(n_components=3, random_state=42))\n",
        "])\n",
        "\n",
        "# Ajuste y transformación\n",
        "pca_result_3D = pca_pipeline_3D.fit_transform(df_processed)\n",
        "df_pca_3D = pd.DataFrame(pca_result_3D, columns=['PC1', 'PC2', 'PC3'])\n",
        "\n",
        "df_pca_3D['cluster'] = labels\n",
        "\n",
        "# Gráfico 3D de la proyección PCA\n",
        "fig = px.scatter_3d(\n",
        "    df_pca_3D,\n",
        "    x='PC1', y='PC2', z='PC3',\n",
        "    color='cluster',\n",
        "    title='Proyección PCA a 3 componentes',\n",
        "    width=800, height=700,\n",
        "    labels={'PC1': 'Componente Principal 1', 'PC2': 'Componente Principal 2', 'PC3': 'Componente Principal 3'}\n",
        ")\n",
        "fig.show()\n",
        "\n"
      ],
      "metadata": {
        "id": "tA3G3T1DBcSR"
      },
      "execution_count": null,
      "outputs": []
    },
    {
      "cell_type": "markdown",
      "source": [
        "5. ¿Cómo afecta la nueva visualización a las conclusiones anteriores?\n",
        "\n",
        "\n",
        "Del gráfico podemos notar que el componente 3 no aporta información relevante para distinguir entre los grupos formados, ya que no genera separación clara entre ellos. Con esto en mente, el análisis de clusters se puede mantener y la interpretación que tenga el tercer componente no tendrá mucho peso. Por otro lado, el análisis de clusters se hace sobre las 4 dimensiones, por lo que en definitiva proyectar una dimensión más no afecta al análisis de los clusters."
      ],
      "metadata": {
        "id": "-khKU35AjjIj"
      }
    },
    {
      "cell_type": "markdown",
      "metadata": {
        "id": "sSaM_lpdNbJ6"
      },
      "source": [
        "Mucho éxito!\n",
        "\n",
        "<center>\n",
        "<img src=\"https://i.pinimg.com/originals/55/3d/42/553d42bea9b10e0662a05aa8726fc7f4.gif\" width=300>"
      ]
    }
  ],
  "metadata": {
    "colab": {
      "provenance": []
    },
    "deepnote_execution_queue": [],
    "deepnote_notebook_id": "7cb425aec99b4079954fd707109c42c3",
    "deepnote_persisted_session": {
      "createdAt": "2024-04-26T06:15:51.197Z"
    },
    "language_info": {
      "name": "python"
    },
    "kernelspec": {
      "name": "python3",
      "display_name": "Python 3"
    }
  },
  "nbformat": 4,
  "nbformat_minor": 0
}