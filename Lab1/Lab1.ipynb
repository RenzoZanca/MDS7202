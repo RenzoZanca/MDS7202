{
 "cells": [
  {
   "cell_type": "markdown",
   "metadata": {
    "cell_id": "097fce6dce21405c911254a775ae3d26",
    "deepnote_cell_type": "markdown",
    "id": "J4_IcuuKZj9Y"
   },
   "source": [
    "<h1><center>Laboratorio 1: Git 👾</center></h1>\n",
    "\n",
    "<center><strong>MDS7202: Laboratorio de Programación Científica para Ciencia de Datos - Otoño 2025</strong></center>"
   ]
  },
  {
   "cell_type": "markdown",
   "metadata": {
    "cell_id": "9e8e8f2ae34e461da4f44508a96d2cf4",
    "deepnote_cell_type": "markdown",
    "id": "AEXIACc7aADv"
   },
   "source": [
    "### Cuerpo Docente:\n",
    "\n",
    "- Profesores: Stefano Schiappacasse,Sebastián Tinoco\n",
    "- Auxiliares: Melanie Peña, Valentina Rojas\n",
    "- Ayudantes: Angelo Muñoz, Valentina Zúñiga"
   ]
  },
  {
   "cell_type": "markdown",
   "metadata": {
    "cell_id": "3e5b48c23e1b48f6a64de41899166179",
    "deepnote_cell_type": "markdown",
    "id": "0HgMMyoCaG8X"
   },
   "source": [
    "### Equipo: **SUPER IMPORTANTE - notebooks sin nombre no serán revisados**\n",
    "\n",
    "- Nombre de alumno 1: Vicente Onetto\n",
    "- Nombre de alumno 2: Renzo Zanca"
   ]
  },
  {
   "cell_type": "markdown",
   "metadata": {
    "cell_id": "1db7c82b68614d19b112ba3b0d0abe4d",
    "deepnote_cell_type": "markdown",
    "id": "fz77X6glaK6y"
   },
   "source": [
    "### **Link de repositorio de GitHub:** [Insertar Enlace](https://github.com/RenzoZanca/MDS7202)"
   ]
  },
  {
   "cell_type": "markdown",
   "metadata": {
    "cell_id": "bc3dac65089d4ae6a43c079547dee179",
    "deepnote_cell_type": "markdown",
    "id": "rRwqaxIZaNx3"
   },
   "source": [
    "## Reglas:\n",
    "\n",
    "- **Grupos de 2 personas**\n",
    "- Fecha de entrega: 6 días de plazo con descuento de 1 punto por día. Entregas Martes a las 23:59.\n",
    "- Instrucciones del lab el viernes a las 16:15 en formato online. Asistencia no es obligatoria, pero se recomienda fuertemente asistir.\n",
    "- <u>Prohibidas las copias</u>. Cualquier intento de copia será debidamente penalizado con el reglamento de la escuela.\n",
    "- Tienen que subir el laboratorio a u-cursos y a su repositorio de github. Labs que no estén en u-cursos no serán revisados. Recuerden que el repositorio también tiene nota.\n",
    "- Cualquier duda fuera del horario de clases al foro. Mensajes al equipo docente serán respondidos por este medio.\n",
    "- Pueden usar cualquier material del curso que estimen conveniente."
   ]
  },
  {
   "cell_type": "markdown",
   "metadata": {
    "cell_id": "05e4729411a24153837fd13b7f198bd9",
    "deepnote_cell_type": "markdown",
    "id": "bmToL27JaSrf"
   },
   "source": [
    "## Objetivos del lab:\n",
    "\n",
    "\n",
    "- Conocer los elementos básicos que conformar `Git`\n",
    "- Clonar repositorios\n",
    "- Identificar ramas de un repositorio\n",
    "- Reconocer y solucionar problemas entre ramas\n",
    "- Subir cambios a un repositorio"
   ]
  },
  {
   "cell_type": "markdown",
   "metadata": {
    "cell_id": "5ebae9d601bd4d508349ab55297e9f82",
    "deepnote_cell_type": "markdown",
    "id": "bvnPCvrVbJLK"
   },
   "source": [
    "## Parte 1: Conocimiento Teórico (2.5 pts)\n",
    "\n",
    "<p align=\"center\">\n",
    "  <img src=\"https://cdn.thedesigninspiration.com/wp-content/uploads/sites/3/2019/04/macintosh-hdusersbrittanyloefflerdownloadsanig-1.gif\" width=\"350\">\n",
    "</p>"
   ]
  },
  {
   "cell_type": "markdown",
   "metadata": {
    "cell_id": "627494dba4f84520b3ee8b9cbf58ee79",
    "deepnote_cell_type": "markdown",
    "id": "JHl-24XnbNLF"
   },
   "source": [
    "Responda las siguientes preguntas (0.2 pts c/u):\n",
    "\n",
    "1. ¿Qué es `Git` y cómo se relaciona con el control de versiones?\n",
    "\n",
    "2. Nombre y explique 3 diferencias entre `Git` y `Github`.\n",
    "\n",
    "3. ¿Qué es un `hash` y cómo se representa en un `commit`? De un ejemplo.\n",
    "\n",
    "4. ¿Que elementos componen a la estructura de datos de `Git`?\n",
    "\n",
    "5. ¿Que comandos de `Git` sirven para crear un repositorio y hacer seguimiento a cambios en los archivos?"
   ]
  },
  {
   "cell_type": "markdown",
   "metadata": {
    "cell_id": "6d06c40f429044a298b27c666f51f46f",
    "deepnote_cell_type": "markdown",
    "id": "2tXCSkf0caG8"
   },
   "source": [
    "<code>Escriba sus respuestas acá:</code>\n",
    "1. Git es un sistema de control de versiones distribuido (DVCS) que permite gestionar y registrar los cambios realizados en un conjunto de archivos a lo largo del tiempo.\n",
    "\n",
    "2. Git es un software de control de versiones, mientras que GitHub es un servicio de alojamiento basado en la web que permite gestionar repositorios remotos de Git. Con respecto a su interfaz, Git se usa principalmente desde la línea de comandos, mientras que GitHub proporciona una interfaz gráfica y herramientas adicionales para facilitar la colaboración. En terminos de almacenamiento, Git gestiona un repositorio local en la máquina del usuario, mientras que GitHub permite almacenar una copia remota del repositorio para compartirlo y colaborar con otros usuarios.\n",
    "\n",
    "3. Un hash es una función o algoritmo matemático que transforma un objeto de entrada a un código alfa-numérico, buscando asociar un identificador a un cierto elemento. En el caso de Git, el identificador único representa un commit, un blob o un árbol. Se genera mediante la función de hash SHA-1 y tiene 40 caracteres. Ejemplo: realicé un cambio en mi archivo prueba.txt. A este commit, se le asignará el hash generado por el algoritmo SHA1, para reconocerlo únicamente y evitar que el nombre o id se repita.\n",
    "\n",
    "\n",
    "4.\n",
    "- Blob: Representa el contenido de un archivo. Cada vez que se modifica un archivo, se genera un nuevo blob.\n",
    "- Tree: Representa un directorio que contiene blobs y otros trees.\n",
    "- Commit: Representa un snapshot del proyecto y contiene referencias a trees, blobs y metadatos como el autor y la fecha.\n",
    "- Hash: Identificador único de cada commit, blob o tree.\n",
    "\n",
    "5.\n",
    "\n",
    "- Crear un repositorio: git init nombre-del-repo\n",
    "- Clonar un repositorio: git clone /ruta/al/repo.git\n",
    "- Ver el estado del repositorio: git status\n",
    "- Agregar archivos al área de preparación (staging area): git add archivo.txt\n",
    "- Confirmar los cambios (commit): git commit -m \"Mensaje descriptivo del cambio\"\n",
    "- Subir los cambios al repositorio: git push\n",
    "- Traer los cambios del repositorio a local: git pull \n",
    "- Traer nuevas ramas del repositorio a mi local: git fetch  \n",
    "- Cambiarme y crear una nueva rama: git checkout -b origin/rama\n",
    "- Revisar los cambios existentes entre el local y el repo: git diff\n",
    "- Revertir los cambios hasta un commit en especifico: git checkout commit-hash "
   ]
  },
  {
   "cell_type": "markdown",
   "metadata": {
    "cell_id": "ec9855406e324cc98b59e33500faea84",
    "deepnote_cell_type": "markdown",
    "id": "MACccbP4gU43"
   },
   "source": [
    "Responda si las siguientes afirmaciones son Verdaderas (V) o Falsas (F). Justifique en **cualquiera** de los casos (0.2 pts c/u):\n",
    "\n",
    "\n",
    "6. `Git` siempre resuelve automáticamente los problemas de lineas al hacer merge entre diferentes ramas.\n",
    "7. Ejecutar `git pull` sobre un repositorio es equivalente a ejecutar `git clone`.\n",
    "8. `git status` genera los mismos resultados que `git log`.\n",
    "9. En `Git` es posible deshacer cambios y volver a versiones anteriores del código.\n",
    "10. El comando `git commit` se utiliza para enviar cambios al repositorio remoto."
   ]
  },
  {
   "cell_type": "markdown",
   "metadata": {
    "cell_id": "7e6a5a6e15b045cc9d104cf017825f1a",
    "deepnote_cell_type": "markdown",
    "id": "DFnmCToOgeM3"
   },
   "source": [
    "<code>Escriba sus respuestas acá:</code>\n",
    "\n",
    "6. Falso (F)\n",
    "Git no siempre resuelve automáticamente los problemas al hacer merge. Si dos ramas modifican las mismas líneas en un archivo, Git genera un conflicto y requiere que el usuario lo resuelva manualmente antes de completar el merge.\n",
    "\n",
    "7. Falso (F)\n",
    "Git pull actualiza un repositorio local con los cambios más recientes de un repositorio remoto, mientras que git clone crea una copia completamente nueva del repositorio en la máquina local.\n",
    "\n",
    "8. Falso (F)\n",
    "Git status muestra el estado estado de los archivos en el directorio local (Staged, Unstaged, Modified, Untracked, etc…), mientras que git log muestra el historial de commits de una rama, con sus mensajes, autores y hashes.\n",
    "\n",
    "9. Verdadero (V)\n",
    "Esto se puede hacer con git checkout commit-hash o bien con git\n",
    "stash (en caso de que no estén commiteados).\n",
    "\n",
    "10. Falso (F)\n",
    "Git commit solo guarda los cambios en el historial local del repositorio. Para enviar cambios a un repositorio remoto, se debe usar git push."
   ]
  },
  {
   "cell_type": "markdown",
   "metadata": {
    "cell_id": "54317cad024744ebaf4938df55ba3b95",
    "deepnote_cell_type": "markdown",
    "id": "LYq55sI2Rjf0"
   },
   "source": [
    "Por último, investigue y comente con sus palabras para qué sirven los siguientes comandos:\n",
    "\n",
    "11. `git stash` (0.25 puntos)\n",
    "\n",
    "Este comando se usa para guardar temporalmente cambios en el área de trabajo sin hacer un commit. Es útil cuando se necesita cambiar de rama o actualizar el código sin perder modificaciones no confirmadas.\n",
    "\n",
    "12. `git reset`. ¿Cuál es la diferencia de este comando con `git revert`?. (0.25 puntos)\n",
    "\n",
    "Este comando permite deshacer commits moviendo la rama actual a un estado anterior. Puede afectar el historial y eliminar cambios de manera irreversible si se usa con --hard.\n",
    "\n",
    "git revert, en cambio, crea un nuevo commit que revierte los cambios de un commit anterior, manteniendo el historial intacto."
   ]
  },
  {
   "cell_type": "markdown",
   "metadata": {
    "cell_id": "3e4d8b9974e4426ca38fd20f4b835a55",
    "deepnote_cell_type": "markdown",
    "id": "i7Em9JkbbRLo"
   },
   "source": [
    "## Parte 2: Creando una presentación personal (1.5 pts)\n",
    "\n",
    "<p align=\"center\">\n",
    "  <img src=\"https://media.tenor.com/arqlNu8gyJYAAAAC/cat-cat-jumping.gif\" width=\"150\">\n",
    "</p>\n",
    "\n"
   ]
  },
  {
   "cell_type": "markdown",
   "metadata": {
    "cell_id": "988648005dba4b9782c6625dfe6ae4ef",
    "deepnote_cell_type": "markdown",
    "id": "XWIHfyrlbYOJ"
   },
   "source": [
    "Para empezar a \"*soltar las manos*\" con `Git`, se les encomienda crear un repositorio con una presentación personal. El repositorio debe contener un breve resumen de quienes son ustedes, sus gustos, experiencias, y cualquier otro detalle interesante que ustedes consideren relevante.\n",
    "\n",
    "Para realizar esto, deben seguir los siguientes pasos:\n",
    "\n",
    "1. Contar con una cuenta de github (1 por persona)\n",
    "2. Crear un repositorio con su nombre de usuario\n",
    "3. Vincular el repositorio a su ambiente local ¿Qué comando(s) me permiten hacer esto?\n",
    "4. Crear un archivo `readme.md` con la información que ustedes deseen compartir.\n",
    "5. Realizar `push` con los cambios generados\n",
    "\n",
    "A modo de ejemplo, pueden guiarse por esta *suculenta* [presentación](https://github.com/Mezosky)\n",
    "\n",
    "**Nota: Deben trabajar todos estos puntos desde su ambiente local**\n",
    "\n",
    "*Hint: Una buena opción es usar templates de presentación personal que encuentren en Google, como los que ofrece este [sitio](https://durgeshsamariya.github.io/awesome-github-profile-readme-templates/#/)*.\n",
    "\n",
    "**Entregable:**\n",
    "\n",
    "Enlace al repositorio con la presentación personal.\n",
    "\n",
    "IMPORTANTE: DEBEN ADJUNTAR UN ENLACE POR PERSONA"
   ]
  },
  {
   "cell_type": "markdown",
   "metadata": {
    "cell_id": "081b38d55dc54282bc8e3cd300ce9d3e",
    "deepnote_cell_type": "markdown",
    "id": "IIkWyl9tf0Sg"
   },
   "source": [
    "<code>Link Presentacion 1: https://github.com/Vonetto</code>\n",
    "\n",
    "<code>Link Presentacion 2: https://github.com/RenzoZanca</code>"
   ]
  },
  {
   "cell_type": "markdown",
   "metadata": {
    "cell_id": "0481a05d2d1a46928f6cfb7762720980",
    "deepnote_cell_type": "markdown",
    "id": "CAzXOwvDY-IG"
   },
   "source": [
    "## Parte 3: Trabajando sobre un repositorio externo (2 pts)\n",
    "\n",
    "<p align=\"center\">\n",
    "  <img src=\"https://media.tenor.com/YXL-0SK15j4AAAAC/dance-animals.gif\" width=\"300\">\n",
    "</p>\n",
    "\n",
    "Tras muchos dolores de cabeza, un grupo de entusiastas académicos decidieron aprender sobre `Git` y así trabajar colaborativamente de forma más ordenada y eficiente. Después de una infinidad de intentos y aprender de sus errores \"*a la mala*\", los académicos lograron levantar un [repositorio](https://github.com/MDS7202/lab1) en `Github`. Usando el repositorio de los académicos, responda las siguientes preguntas (**incluya también los comandos en `Git` ocupados**):\n"
   ]
  },
  {
   "cell_type": "markdown",
   "metadata": {
    "cell_id": "bcef73b2e8604579bde90ed6622abfe9",
    "deepnote_cell_type": "markdown",
    "id": "BFRnAw0rfguR"
   },
   "source": [
    "1. Clone el repositorio a su ambiente local. (0.25 pts)"
   ]
  },
  {
   "cell_type": "markdown",
   "metadata": {
    "cell_id": "5d126ac3819c44479af94d3895bc4c97",
    "deepnote_cell_type": "markdown",
    "id": "KXro32yBeilN"
   },
   "source": [
    "<code>Escriba sus respuestas acá:</code>\n",
    "git clone https://github.com/MDS7202/lab1.git"
   ]
  },
  {
   "cell_type": "markdown",
   "metadata": {
    "cell_id": "e215e4e25b2440f09ac273ba63603986",
    "deepnote_cell_type": "markdown",
    "id": "8QB-GKmQRjf1"
   },
   "source": [
    "2. Descomprima los archivos subidos con la tarea en U-cursos en la carpeta recién clonada de github. Una vez realizado esto, cree un archivo `.gitignore` con el cual omita la carpeta `videos` y los archivos con la extensión `.txt` exceptuando el archivo `171.txt` de la carpeta `texts`. (0.25 pts)"
   ]
  },
  {
   "cell_type": "markdown",
   "metadata": {
    "cell_id": "186233b44d004e3bbd86262d010188b5",
    "deepnote_cell_type": "markdown",
    "id": "7VJ8IIYpRjf1"
   },
   "source": [
    "<code>Para esta pregunta usted deberá adjuntar el .gitignore creado en su repo.</code>\n",
    "\n",
    "Comandos:\n",
    "- cd lab1\n",
    "- touch .gitignore\n",
    "\n",
    ".gitignore:"
   ]
  },
  {
   "cell_type": "markdown",
   "metadata": {},
   "source": [
    "videos/  \n",
    "*.txt  \n",
    "!texts/171.txt"
   ]
  },
  {
   "cell_type": "markdown",
   "metadata": {
    "cell_id": "1de150590a41484a988b8e46616a2324",
    "deepnote_cell_type": "markdown",
    "id": "q2qmiDyjt2M_"
   },
   "source": [
    "3. Inspeccione brevemente el repositorio: ¿Cual es el objetivo del proyecto? Explique brevemente la estructura del proyecto, asi como también cada elemento que lo conforma. (0.25 pts)"
   ]
  },
  {
   "cell_type": "markdown",
   "metadata": {
    "cell_id": "082ca01c865e48e28352b280400c47b6",
    "deepnote_cell_type": "markdown",
    "id": "aBHpR8VTftkT"
   },
   "source": [
    "<code>Escriba sus respuestas acá:</code>\n",
    "\n",
    "El proyecto busca emular el sonido de los animales en base a un input de\n",
    "un usuario. El archivo main espera el input del usuario y llama a la función\n",
    "animales del archivo animales. Dicha función animales clasifica el input\n",
    "del usuario y devuelve el sonido del animal correspondiente. Hay 3 casos\n",
    "clasificados directamente gato, perro y fox, para todo el resto se levanta\n",
    "un error y se devuelve animal no reconocido. Las carpetas texts y videos\n",
    "contienen también una serie de fragmentos de texto y un video de una\n",
    "recreación de Akira en 31 minutos."
   ]
  },
  {
   "cell_type": "markdown",
   "metadata": {
    "cell_id": "3aab4a3ee0c246e1be955680ad653fb8",
    "deepnote_cell_type": "markdown",
    "id": "XFwqcpLZfylf"
   },
   "source": [
    "4. Identifique los últimos cambios al repositorio, reconociendo las principales ramas de trabajo. ¿Son informativos los `commit` realizados? (0.25 pts)\n",
    "*Hint: Se recomienda usar los argumentos `all`, `graph` y `decorate`*"
   ]
  },
  {
   "cell_type": "markdown",
   "metadata": {
    "cell_id": "0fab79a360ac4c6a9ca0ab884f85c7e1",
    "deepnote_cell_type": "markdown",
    "id": "cmWfXBkOhog0"
   },
   "source": [
    "<code>Escriba sus respuestas acá:</code>\n",
    "\n",
    " Comandos:\n",
    "git log --all --graph --decorate\n",
    "* commit 25543a3baf77292baf849726784ca005473acab1 (origin/fix-ifs, fix-ifs)   \n",
    "| Author: Pablo Badilla <pbadilla.torrealba@gmail.com>   \n",
    "| Date: Thu Mar 23 22:50:49 2023 -0300   \n",
    "|  \n",
    "| fix ifs  \n",
    "|  \n",
    "| * commit 362fe21ee44f53ee944cee4ba484600308f83d78 (HEAD ->  \n",
    "new_features, origin/new_features, origin/main, origin/HEAD, main)  \n",
    "|/ Author: mezosky <ignacio.meza@ug.uchile.cl>  \n",
    "| Date: Thu Mar 23 21:47:34 2023 -0300  \n",
    "|  \n",
    "| Se separa el proyecto en modulos\n",
    "|     \n",
    "* commit c8b1a62d7299552b0654f930d695b33109214111   \n",
    "| Author: seba <stinoco@fen.uchile.cl>  \n",
    "| Date: Wed Mar 22 17:28:19 2023 -0300  \n",
    "|  \n",
    "| se agrega funcion  \n",
    "|  \n",
    "* commit b262d86411a6b017e99bf0731e33a6787739247c  \n",
    " Author: seba <stinoco@fen.uchile.cl>  \n",
    " Date: Wed Mar 22 17:25:30 2023 -0300  \n",
    "   \n",
    " primer commit  \n",
    "      \n",
    "Vemos que en el repo actualmente hay 3 ramas de trabajo main , new_features y\n",
    "fix-ifs. La rama new_features se merge correctamente a main, pero la rama fix-ifs\n",
    "está un commit por detrás y un commit por delante de main.\n",
    "Los commits no son lo suficientemente adecuados. “Fix ifs” si bien permite saber\n",
    "lo que se hizo, no hace mucha explicación. “Se agrega función” no explicita cual\n",
    "fue la función que se agregó. El nombre de las ramas tampoco es el óptimo y no\n",
    "sigue una sola convención (se usan _ y - para el nombre)."
   ]
  },
  {
   "cell_type": "markdown",
   "metadata": {
    "cell_id": "d07b24d21f2343fb9a7e6a5db74e98c3",
    "deepnote_cell_type": "markdown",
    "id": "Vqbj9HdXrUnN"
   },
   "source": [
    "5. Uno de los académicos se da cuenta que la rama principal de trabajo no se ejecuta correctamente para todos los argumentos. Señale y explique el error en el código e identifique a la persona que lo cometió usando `git blame` (0.25 pts)\n",
    "\n",
    "*Hint: Le puede ser útil esta [documentación](https://www.atlassian.com/es/git/tutorials/inspecting-a-repository/git-blame).*"
   ]
  },
  {
   "cell_type": "markdown",
   "metadata": {
    "cell_id": "bc5b0f9c639643108f8e66687b721732",
    "deepnote_cell_type": "markdown",
    "id": "5ajhV2Iar3tV"
   },
   "source": [
    "<code>Escriba sus respuestas acá:</code>\n",
    "\n",
    "El error ocurre porque en python debemos ocupar if , elif y luego else. En\n",
    "este caso, el else se está asociando solo al último if (el del zorro)\n",
    "entonces siempre se levantará el error para los argumentos perro y gato.\n",
    "Habría que cambiar los ifs después del primer if por elif.\n",
    "\n",
    "Usando el comando git blame animales.py, se identificó que todas las líneas\n",
    "relevantes fueron escritas por mezosky en el commit\n",
    "362fe21ee44f53ee944cee4ba484600308f83d78, el día 23 de marzo de 2023."
   ]
  },
  {
   "cell_type": "markdown",
   "metadata": {
    "cell_id": "f3f4e78e6d9145ebbb120c0a2e4aade6",
    "deepnote_cell_type": "markdown",
    "id": "m8J3uE7MhqTA"
   },
   "source": [
    "6. Busque los siguientes `commit`:\n",
    "\n",
    "- `c8b1a62d7299552b0654f930d695b33109214111`\n",
    "- `362fe21ee44f53ee944cee4ba484600308f83d78`\n",
    "- `25543a3baf77292baf849726784ca005473acab1`\n",
    "\n",
    "¿Qué diferencias existen entre cada uno? (0.25 pts)"
   ]
  },
  {
   "cell_type": "markdown",
   "metadata": {
    "cell_id": "696ed361ac0c41c8a214cfad9dcb39e6",
    "deepnote_cell_type": "markdown",
    "id": "sNHnZsgIitGh"
   },
   "source": [
    "<code>Escriba sus respuestas acá:</code>\n",
    "\n",
    "-El primer commit se encarga de agregar la función animales en el archivo\n",
    "main.py y ajusta esto en el if __name__ == ‘__main__’:  \n",
    " -El segundo commit crea un archivo animales.py y agrega esa función ahí,\n",
    "extrayendola del main  \n",
    " -El tercer commit arregla el error con los if, cambiándolos por elif .  "
   ]
  },
  {
   "cell_type": "markdown",
   "metadata": {
    "cell_id": "b4e18f8ce94c430f85915c4e2732d05b",
    "deepnote_cell_type": "markdown",
    "id": "WQIPbfNCgpxC"
   },
   "source": [
    "7. Realice una `merge` de la rama `fix-ifs` con la rama `main` y describa lo que ocurre. ¿Qué parte del código podría estar ocasionando esto? (0.25 pts)"
   ]
  },
  {
   "cell_type": "markdown",
   "metadata": {
    "cell_id": "36da6a0d4f4a427bbccac09e2ae965fd",
    "deepnote_cell_type": "markdown",
    "id": "ypH_6lL5ioZz"
   },
   "source": [
    "<code>Escriba sus respuestas acá:</code>\n",
    "\n",
    "Ocurre un conflicto en el archivo main. El código intenta corregir los if a\n",
    "elif pero con el siguiente inconveniente:  \n",
    " En main, el código está modularizado y hace from animales import animales   \n",
    "En fix-ifs, el código define directamente la función animales() dentro del\n",
    "mismo archivo"
   ]
  },
  {
   "cell_type": "markdown",
   "metadata": {
    "cell_id": "09787ab449c543479e5cc54c2a3b6c19",
    "deepnote_cell_type": "markdown",
    "id": "GYfODCjeivkU"
   },
   "source": [
    "8. Cree una rama nueva y proponga una solución al problema anterior, adjuntando el código corregido y señalando las líneas modificadas. (0.25 pts)"
   ]
  },
  {
   "cell_type": "markdown",
   "metadata": {
    "cell_id": "6d963fba3f2d4c17a4b281c7d3f4fb8b",
    "deepnote_cell_type": "markdown",
    "id": "8heBxDU9iziT"
   },
   "source": [
    "<code>Escriba sus respuestas acá:</code>\n",
    "\n",
    "git checkout main  \n",
    "git checkout -b fix-ifs-v2  \n",
    "Codigo Corregido:  "
   ]
  },
  {
   "cell_type": "code",
   "execution_count": null,
   "metadata": {},
   "outputs": [],
   "source": [
    "def animales(input):\n",
    "    '''\n",
    "    Como hace el animalito?\n",
    "    '''\n",
    "    if input.lower() == 'gato':\n",
    "        print('miau')\n",
    "    elif input.lower() == 'perro':\n",
    "        print('guau')\n",
    "    elif input.lower() == 'fox':\n",
    "        print('https://www.youtube.com/watch?v=jofNR_WkoCE')\n",
    "    else:\n",
    "        raise ValueError('animal no reconocido :(')"
   ]
  },
  {
   "cell_type": "markdown",
   "metadata": {},
   "source": [
    "Las lineas modificadas fueron\n",
    "numero 7 y 9 (if por elif)"
   ]
  },
  {
   "cell_type": "markdown",
   "metadata": {
    "cell_id": "8a47d4bf8b3045d68e4f29bb449c87f1",
    "deepnote_cell_type": "markdown",
    "id": "Av8ebB9jkALO"
   },
   "source": [
    "## Fin"
   ]
  },
  {
   "cell_type": "markdown",
   "metadata": {
    "cell_id": "cec4b53942ed489f8f8b63d0e9d4f3e5",
    "deepnote_cell_type": "markdown",
    "id": "aQqZT9fSkBK8"
   },
   "source": [
    "Eso ha sido todo por ahora!! Esperamos que este laboratorio les haya gustado y servido para trabajar con `Git`. Recuerden los dias de plazo que tienen disponibles y que ante cualquier duda no duden en contactar al equipo docente.\n",
    "\n",
    "Nos vemos!!\n",
    "\n",
    "<p align=\"center\">\n",
    "  <img src=\"https://media.tenor.com/OYLdav9k9LkAAAAd/kitty-cat.gif\" width=\"350\">\n",
    "</p>\n"
   ]
  }
 ],
 "metadata": {
  "colab": {
   "provenance": []
  },
  "deepnote_execution_queue": [],
  "deepnote_notebook_id": "62cd20d52b9a4810ada15644630456dc",
  "kernelspec": {
   "display_name": "Python 3",
   "language": "python",
   "name": "python3"
  },
  "language_info": {
   "codemirror_mode": {
    "name": "ipython",
    "version": 3
   },
   "file_extension": ".py",
   "mimetype": "text/x-python",
   "name": "python",
   "nbconvert_exporter": "python",
   "pygments_lexer": "ipython3",
   "version": "3.12.3"
  }
 },
 "nbformat": 4,
 "nbformat_minor": 0
}
