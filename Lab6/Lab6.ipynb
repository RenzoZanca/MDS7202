{
  "cells": [
    {
      "cell_type": "markdown",
      "metadata": {
        "cell_id": "b5c0d2440b3e4995a794ded565213150",
        "deepnote_cell_type": "markdown",
        "id": "_Mql1uRoI5v5"
      },
      "source": [
        "<h1><center>Laboratorio 6: Optimización de modelos 🧪</center></h1>\n",
        "\n",
        "<center><strong>MDS7202: Laboratorio de Programación Científica para Ciencia de Datos - Otoño 2025</strong></center>"
      ]
    },
    {
      "cell_type": "markdown",
      "metadata": {
        "cell_id": "bfb94b9656f145ad83e81b75d218cb70",
        "deepnote_cell_type": "markdown",
        "id": "FAPGIlEAI5v8"
      },
      "source": [
        "### Cuerpo Docente:\n",
        "\n",
        "- Profesores: Stefano Schiappacasse, Sebastián Tinoco\n",
        "- Auxiliares: Melanie Peña, Valentina Rojas\n",
        "- Ayudantes: Angelo Muñoz, Valentina Zúñiga"
      ]
    },
    {
      "cell_type": "markdown",
      "metadata": {
        "cell_id": "b1b537fdd27c43909a49d3476ce64d91",
        "deepnote_cell_type": "markdown",
        "id": "8NozgbkZI5v9"
      },
      "source": [
        "### Equipo: SUPER IMPORTANTE - notebooks sin nombre no serán revisados\n",
        "\n",
        "- Nombre de alumno 1: J. Vicente Onetto\n",
        "- Nombre de alumno 2: Renzo Zanca\n"
      ]
    },
    {
      "cell_type": "markdown",
      "metadata": {
        "id": "e8qWRbJkcwP9"
      },
      "source": [
        "### **Link de repositorio de GitHub:** [Insertar Repositorio](https://github.com/...../)"
      ]
    },
    {
      "cell_type": "markdown",
      "metadata": {
        "cell_id": "b7dbdd30ab544cb8a8afe00648a586ae",
        "deepnote_cell_type": "markdown",
        "id": "vHU9DI6wI5v9"
      },
      "source": [
        "### Temas a tratar\n",
        "\n",
        "- Predicción de demanda usando `xgboost`\n",
        "- Búsqueda del modelo óptimo de clasificación usando `optuna`\n",
        "- Uso de pipelines.\n",
        "\n",
        "\n",
        "### Reglas:\n",
        "\n",
        "- **Grupos de 2 personas**\n",
        "- Fecha de entrega: 6 días de plazo con descuento de 1 punto por día. Entregas Martes a las 23:59.\n",
        "- Instrucciones del lab el viernes a las 16:15 en formato online. Asistencia no es obligatoria, pero se recomienda fuertemente asistir.\n",
        "- <u>Prohibidas las copias</u>. Cualquier intento de copia será debidamente penalizado con el reglamento de la escuela.\n",
        "- Tienen que subir el laboratorio a u-cursos y a su repositorio de github. Labs que no estén en u-cursos no serán revisados. Recuerden que el repositorio también tiene nota.\n",
        "- Cualquier duda fuera del horario de clases al foro. Mensajes al equipo docente serán respondidos por este medio.\n",
        "- Pueden usar cualquier material del curso que estimen conveniente.\n",
        "\n",
        "El laboratorio deberá ser desarrollado sin el uso indiscriminado de iteradores nativos de python (aka \"for\", \"while\"). La idea es que aprendan a exprimir al máximo las funciones optimizadas que nos entrega `pandas`, las cuales vale mencionar, son bastante más eficientes que los iteradores nativos sobre DataFrames."
      ]
    },
    {
      "cell_type": "markdown",
      "metadata": {
        "cell_id": "f1c73babb7f74af588a4fa6ae14829e0",
        "deepnote_cell_type": "markdown",
        "id": "U_-sNOuOI5v9"
      },
      "source": [
        "# Importamos librerias útiles"
      ]
    },
    {
      "cell_type": "code",
      "execution_count": 1,
      "metadata": {},
      "outputs": [
        {
          "name": "stdout",
          "output_type": "stream",
          "text": [
            "Note: you may need to restart the kernel to use updated packages.\n",
            "Requirement already satisfied: matplotlib in ./.venv/lib/python3.12/site-packages (3.10.1)\n",
            "Requirement already satisfied: contourpy>=1.0.1 in ./.venv/lib/python3.12/site-packages (from matplotlib) (1.3.2)\n",
            "Requirement already satisfied: cycler>=0.10 in ./.venv/lib/python3.12/site-packages (from matplotlib) (0.12.1)\n",
            "Requirement already satisfied: fonttools>=4.22.0 in ./.venv/lib/python3.12/site-packages (from matplotlib) (4.57.0)\n",
            "Requirement already satisfied: kiwisolver>=1.3.1 in ./.venv/lib/python3.12/site-packages (from matplotlib) (1.4.8)\n",
            "Requirement already satisfied: numpy>=1.23 in ./.venv/lib/python3.12/site-packages (from matplotlib) (2.2.5)\n",
            "Requirement already satisfied: packaging>=20.0 in ./.venv/lib/python3.12/site-packages (from matplotlib) (25.0)\n",
            "Requirement already satisfied: pillow>=8 in ./.venv/lib/python3.12/site-packages (from matplotlib) (11.2.1)\n",
            "Requirement already satisfied: pyparsing>=2.3.1 in ./.venv/lib/python3.12/site-packages (from matplotlib) (3.2.3)\n",
            "Requirement already satisfied: python-dateutil>=2.7 in ./.venv/lib/python3.12/site-packages (from matplotlib) (2.9.0.post0)\n",
            "Requirement already satisfied: six>=1.5 in ./.venv/lib/python3.12/site-packages (from python-dateutil>=2.7->matplotlib) (1.17.0)\n",
            "Note: you may need to restart the kernel to use updated packages.\n",
            "Note: you may need to restart the kernel to use updated packages.\n",
            "Requirement already satisfied: nbformat in ./.venv/lib/python3.12/site-packages (5.10.4)\n",
            "Requirement already satisfied: fastjsonschema>=2.15 in ./.venv/lib/python3.12/site-packages (from nbformat) (2.21.1)\n",
            "Requirement already satisfied: jsonschema>=2.6 in ./.venv/lib/python3.12/site-packages (from nbformat) (4.23.0)\n",
            "Requirement already satisfied: jupyter-core!=5.0.*,>=4.12 in ./.venv/lib/python3.12/site-packages (from nbformat) (5.7.2)\n",
            "Requirement already satisfied: traitlets>=5.1 in ./.venv/lib/python3.12/site-packages (from nbformat) (5.14.3)\n",
            "Requirement already satisfied: attrs>=22.2.0 in ./.venv/lib/python3.12/site-packages (from jsonschema>=2.6->nbformat) (25.3.0)\n",
            "Requirement already satisfied: jsonschema-specifications>=2023.03.6 in ./.venv/lib/python3.12/site-packages (from jsonschema>=2.6->nbformat) (2025.4.1)\n",
            "Requirement already satisfied: referencing>=0.28.4 in ./.venv/lib/python3.12/site-packages (from jsonschema>=2.6->nbformat) (0.36.2)\n",
            "Requirement already satisfied: rpds-py>=0.7.1 in ./.venv/lib/python3.12/site-packages (from jsonschema>=2.6->nbformat) (0.24.0)\n",
            "Requirement already satisfied: platformdirs>=2.5 in ./.venv/lib/python3.12/site-packages (from jupyter-core!=5.0.*,>=4.12->nbformat) (4.3.7)\n",
            "Requirement already satisfied: typing-extensions>=4.4.0 in ./.venv/lib/python3.12/site-packages (from referencing>=0.28.4->jsonschema>=2.6->nbformat) (4.13.2)\n",
            "Note: you may need to restart the kernel to use updated packages.\n"
          ]
        }
      ],
      "source": [
        "%pip install -qq xgboost optuna\n",
        "%pip install matplotlib\n",
        "%pip install -q plotly\n",
        "%pip install nbformat\n"
      ]
    },
    {
      "cell_type": "markdown",
      "metadata": {
        "id": "y6hJXpLCSspz"
      },
      "source": [
        "# El emprendimiento de Fiu"
      ]
    },
    {
      "cell_type": "markdown",
      "metadata": {
        "cell_id": "44d227389a734ac59189c5e0005bc68a",
        "deepnote_cell_type": "markdown",
        "id": "b0bDalAOI5v-"
      },
      "source": [
        "Tras liderar de manera exitosa la implementación de un proyecto de ciencia de datos para caracterizar los datos generados en Santiago 2023, el misterioso corpóreo **Fiu** se anima y decide levantar su propio negocio de consultoría en machine learning. Tras varias e intensas negociaciones, Fiu logra encontrar su *primera chamba*: predecir la demanda (cantidad de venta) de una famosa productora de bebidas de calibre mundial. Al ver el gran potencial y talento que usted ha demostrado en el campo de la ciencia de datos, Fiu lo contrata como data scientist para que forme parte de su nuevo emprendimiento.\n",
        "\n",
        "Para este laboratorio deben trabajar con los datos `sales.csv` subidos a u-cursos, el cual contiene una muestra de ventas de la empresa para diferentes productos en un determinado tiempo.\n",
        "\n",
        "Para comenzar, cargue el dataset señalado y visualice a través de un `.head` los atributos que posee el dataset.\n",
        "\n",
        "<i><p align=\"center\">Fiu siendo felicitado por su excelente desempeño en el proyecto de caracterización de datos</p></i>\n",
        "<p align=\"center\">\n",
        "  <img src=\"https://media-front.elmostrador.cl/2023/09/A_UNO_1506411_2440e.jpg\">\n",
        "</p>"
      ]
    },
    {
      "cell_type": "code",
      "execution_count": 2,
      "metadata": {
        "colab": {
          "base_uri": "https://localhost:8080/"
        },
        "id": "xKuD0C932YxV",
        "outputId": "6b4cff6d-82c0-4c92-8462-9286930d3a13"
      },
      "outputs": [
        {
          "name": "stdout",
          "output_type": "stream",
          "text": [
            "Ignorando conexión drive-colab\n"
          ]
        }
      ],
      "source": [
        "try:\n",
        "    from google.colab import drive\n",
        "    drive.mount(\"/content/drive\", force_remount= True)\n",
        "    path = 'Dirección donde tiene los archivos en el Drive'\n",
        "except:\n",
        "    print('Ignorando conexión drive-colab')"
      ]
    },
    {
      "cell_type": "code",
      "execution_count": 3,
      "metadata": {
        "cell_id": "2f9c82d204b14515ad27ae07e0b77702",
        "colab": {
          "base_uri": "https://localhost:8080/",
          "height": 206
        },
        "deepnote_cell_type": "code",
        "deepnote_to_be_reexecuted": false,
        "execution_millis": 92,
        "execution_start": 1699544359006,
        "id": "QvMPOqHuI5v-",
        "outputId": "4248761b-8957-4189-c18d-4746f34e8209",
        "source_hash": null
      },
      "outputs": [
        {
          "data": {
            "text/html": [
              "<div>\n",
              "<style scoped>\n",
              "    .dataframe tbody tr th:only-of-type {\n",
              "        vertical-align: middle;\n",
              "    }\n",
              "\n",
              "    .dataframe tbody tr th {\n",
              "        vertical-align: top;\n",
              "    }\n",
              "\n",
              "    .dataframe thead th {\n",
              "        text-align: right;\n",
              "    }\n",
              "</style>\n",
              "<table border=\"1\" class=\"dataframe\">\n",
              "  <thead>\n",
              "    <tr style=\"text-align: right;\">\n",
              "      <th></th>\n",
              "      <th>id</th>\n",
              "      <th>date</th>\n",
              "      <th>city</th>\n",
              "      <th>lat</th>\n",
              "      <th>long</th>\n",
              "      <th>pop</th>\n",
              "      <th>shop</th>\n",
              "      <th>brand</th>\n",
              "      <th>container</th>\n",
              "      <th>capacity</th>\n",
              "      <th>price</th>\n",
              "      <th>quantity</th>\n",
              "    </tr>\n",
              "  </thead>\n",
              "  <tbody>\n",
              "    <tr>\n",
              "      <th>0</th>\n",
              "      <td>0</td>\n",
              "      <td>31/01/12</td>\n",
              "      <td>Athens</td>\n",
              "      <td>37.97945</td>\n",
              "      <td>23.71622</td>\n",
              "      <td>672130</td>\n",
              "      <td>shop_1</td>\n",
              "      <td>kinder-cola</td>\n",
              "      <td>glass</td>\n",
              "      <td>500ml</td>\n",
              "      <td>0.96</td>\n",
              "      <td>13280</td>\n",
              "    </tr>\n",
              "    <tr>\n",
              "      <th>1</th>\n",
              "      <td>1</td>\n",
              "      <td>31/01/12</td>\n",
              "      <td>Athens</td>\n",
              "      <td>37.97945</td>\n",
              "      <td>23.71622</td>\n",
              "      <td>672130</td>\n",
              "      <td>shop_1</td>\n",
              "      <td>kinder-cola</td>\n",
              "      <td>plastic</td>\n",
              "      <td>1.5lt</td>\n",
              "      <td>2.86</td>\n",
              "      <td>6727</td>\n",
              "    </tr>\n",
              "    <tr>\n",
              "      <th>2</th>\n",
              "      <td>2</td>\n",
              "      <td>31/01/12</td>\n",
              "      <td>Athens</td>\n",
              "      <td>37.97945</td>\n",
              "      <td>23.71622</td>\n",
              "      <td>672130</td>\n",
              "      <td>shop_1</td>\n",
              "      <td>kinder-cola</td>\n",
              "      <td>can</td>\n",
              "      <td>330ml</td>\n",
              "      <td>0.87</td>\n",
              "      <td>9848</td>\n",
              "    </tr>\n",
              "    <tr>\n",
              "      <th>3</th>\n",
              "      <td>3</td>\n",
              "      <td>31/01/12</td>\n",
              "      <td>Athens</td>\n",
              "      <td>37.97945</td>\n",
              "      <td>23.71622</td>\n",
              "      <td>672130</td>\n",
              "      <td>shop_1</td>\n",
              "      <td>adult-cola</td>\n",
              "      <td>glass</td>\n",
              "      <td>500ml</td>\n",
              "      <td>1.00</td>\n",
              "      <td>20050</td>\n",
              "    </tr>\n",
              "    <tr>\n",
              "      <th>4</th>\n",
              "      <td>4</td>\n",
              "      <td>31/01/12</td>\n",
              "      <td>Athens</td>\n",
              "      <td>37.97945</td>\n",
              "      <td>23.71622</td>\n",
              "      <td>672130</td>\n",
              "      <td>shop_1</td>\n",
              "      <td>adult-cola</td>\n",
              "      <td>can</td>\n",
              "      <td>330ml</td>\n",
              "      <td>0.39</td>\n",
              "      <td>25696</td>\n",
              "    </tr>\n",
              "  </tbody>\n",
              "</table>\n",
              "</div>"
            ],
            "text/plain": [
              "   id      date    city       lat      long     pop    shop        brand  \\\n",
              "0   0  31/01/12  Athens  37.97945  23.71622  672130  shop_1  kinder-cola   \n",
              "1   1  31/01/12  Athens  37.97945  23.71622  672130  shop_1  kinder-cola   \n",
              "2   2  31/01/12  Athens  37.97945  23.71622  672130  shop_1  kinder-cola   \n",
              "3   3  31/01/12  Athens  37.97945  23.71622  672130  shop_1   adult-cola   \n",
              "4   4  31/01/12  Athens  37.97945  23.71622  672130  shop_1   adult-cola   \n",
              "\n",
              "  container capacity  price  quantity  \n",
              "0     glass    500ml   0.96     13280  \n",
              "1   plastic    1.5lt   2.86      6727  \n",
              "2       can    330ml   0.87      9848  \n",
              "3     glass    500ml   1.00     20050  \n",
              "4       can    330ml   0.39     25696  "
            ]
          },
          "execution_count": 3,
          "metadata": {},
          "output_type": "execute_result"
        }
      ],
      "source": [
        "import pandas as pd\n",
        "import numpy as np\n",
        "from datetime import datetime\n",
        "\n",
        "path = 'sales.csv'\n",
        "df = pd.read_csv(path)\n",
        "\n",
        "df.head()"
      ]
    },
    {
      "cell_type": "markdown",
      "metadata": {
        "cell_id": "b50db6f2cb804932ae3f9e5748a6ea61",
        "deepnote_cell_type": "markdown",
        "id": "pk4ru76pI5v_"
      },
      "source": [
        "## 1 Generando un Baseline (5 puntos)\n",
        "\n",
        "<p align=\"center\">\n",
        "  <img src=\"https://media.tenor.com/O-lan6TkadUAAAAC/what-i-wnna-do-after-a-baseline.gif\">\n",
        "</p>\n",
        "\n",
        "Antes de entrenar un algoritmo, usted recuerda los apuntes de su magíster en ciencia de datos y recuerda que debe seguir una serie de *buenas prácticas* para entrenar correcta y debidamente su modelo. Después de un par de vueltas, llega a las siguientes tareas:\n",
        "\n",
        "1. Separe los datos en conjuntos de train (70%), validation (20%) y test (10%). Fije una semilla para controlar la aleatoriedad. [0.5 puntos]\n",
        "2. Implemente un `FunctionTransformer` para extraer el día, mes y año de la variable `date`. Guarde estas variables en el formato categorical de pandas. [1 punto]\n",
        "3. Implemente un `ColumnTransformer` para procesar de manera adecuada los datos numéricos y categóricos. Use `OneHotEncoder` para las variables categóricas. `Nota:` Utilice el método `.set_output(transform='pandas')` para obtener un DataFrame como salida del `ColumnTransformer` [1 punto]\n",
        "4. Guarde los pasos anteriores en un `Pipeline`, dejando como último paso el regresor `DummyRegressor` para generar predicciones en base a promedios. [0.5 punto]\n",
        "5. Entrene el pipeline anterior y reporte la métrica `mean_absolute_error` sobre los datos de validación. ¿Cómo se interpreta esta métrica para el contexto del negocio? [0.5 puntos]\n",
        "6. Finalmente, vuelva a entrenar el `Pipeline` pero esta vez usando `XGBRegressor` como modelo **utilizando los parámetros por default**. ¿Cómo cambia el MAE al implementar este algoritmo? ¿Es mejor o peor que el `DummyRegressor`? [1 punto]\n",
        "7. Guarde ambos modelos en un archivo .pkl (uno cada uno) [0.5 puntos]"
      ]
    },
    {
      "cell_type": "code",
      "execution_count": 4,
      "metadata": {
        "id": "9Z1mPl6nI5hc"
      },
      "outputs": [],
      "source": [
        "from sklearn import set_config\n",
        "from sklearn.model_selection import train_test_split\n",
        "from sklearn.preprocessing import FunctionTransformer, OneHotEncoder\n",
        "from sklearn.compose import ColumnTransformer\n",
        "from sklearn.pipeline import Pipeline\n",
        "from sklearn.dummy import DummyRegressor\n",
        "from sklearn.metrics import mean_absolute_error\n",
        "from xgboost import XGBRegressor\n",
        "import joblib\n",
        "import plotly \n",
        "# Configuración\n",
        "set_config(transform_output=\"pandas\")\n",
        "rs = 42 # random state"
      ]
    },
    {
      "cell_type": "code",
      "execution_count": 5,
      "metadata": {
        "id": "lNs-uJEqJiH_"
      },
      "outputs": [],
      "source": [
        "# 1. split:\n",
        "train_val, test = train_test_split(df, test_size=0.1, random_state=rs)\n",
        "train, val = train_test_split(train_val, test_size=2/9, random_state=rs)\n",
        "\n",
        "X_train, y_train = train.drop(columns=['quantity', 'id']), train['quantity']\n",
        "X_val, y_val = val.drop(columns=['quantity', 'id']), val['quantity']\n",
        "X_test, y_test = test.drop(columns=['quantity', 'id']), test['quantity']"
      ]
    },
    {
      "cell_type": "code",
      "execution_count": 6,
      "metadata": {
        "colab": {
          "base_uri": "https://localhost:8080/",
          "height": 92
        },
        "id": "JSUvnjV2K1Yi",
        "outputId": "afa089bc-5d24-448b-b86f-f5370fbb61dd"
      },
      "outputs": [
        {
          "data": {
            "text/html": [
              "<style>#sk-container-id-1 {\n",
              "  /* Definition of color scheme common for light and dark mode */\n",
              "  --sklearn-color-text: #000;\n",
              "  --sklearn-color-text-muted: #666;\n",
              "  --sklearn-color-line: gray;\n",
              "  /* Definition of color scheme for unfitted estimators */\n",
              "  --sklearn-color-unfitted-level-0: #fff5e6;\n",
              "  --sklearn-color-unfitted-level-1: #f6e4d2;\n",
              "  --sklearn-color-unfitted-level-2: #ffe0b3;\n",
              "  --sklearn-color-unfitted-level-3: chocolate;\n",
              "  /* Definition of color scheme for fitted estimators */\n",
              "  --sklearn-color-fitted-level-0: #f0f8ff;\n",
              "  --sklearn-color-fitted-level-1: #d4ebff;\n",
              "  --sklearn-color-fitted-level-2: #b3dbfd;\n",
              "  --sklearn-color-fitted-level-3: cornflowerblue;\n",
              "\n",
              "  /* Specific color for light theme */\n",
              "  --sklearn-color-text-on-default-background: var(--sg-text-color, var(--theme-code-foreground, var(--jp-content-font-color1, black)));\n",
              "  --sklearn-color-background: var(--sg-background-color, var(--theme-background, var(--jp-layout-color0, white)));\n",
              "  --sklearn-color-border-box: var(--sg-text-color, var(--theme-code-foreground, var(--jp-content-font-color1, black)));\n",
              "  --sklearn-color-icon: #696969;\n",
              "\n",
              "  @media (prefers-color-scheme: dark) {\n",
              "    /* Redefinition of color scheme for dark theme */\n",
              "    --sklearn-color-text-on-default-background: var(--sg-text-color, var(--theme-code-foreground, var(--jp-content-font-color1, white)));\n",
              "    --sklearn-color-background: var(--sg-background-color, var(--theme-background, var(--jp-layout-color0, #111)));\n",
              "    --sklearn-color-border-box: var(--sg-text-color, var(--theme-code-foreground, var(--jp-content-font-color1, white)));\n",
              "    --sklearn-color-icon: #878787;\n",
              "  }\n",
              "}\n",
              "\n",
              "#sk-container-id-1 {\n",
              "  color: var(--sklearn-color-text);\n",
              "}\n",
              "\n",
              "#sk-container-id-1 pre {\n",
              "  padding: 0;\n",
              "}\n",
              "\n",
              "#sk-container-id-1 input.sk-hidden--visually {\n",
              "  border: 0;\n",
              "  clip: rect(1px 1px 1px 1px);\n",
              "  clip: rect(1px, 1px, 1px, 1px);\n",
              "  height: 1px;\n",
              "  margin: -1px;\n",
              "  overflow: hidden;\n",
              "  padding: 0;\n",
              "  position: absolute;\n",
              "  width: 1px;\n",
              "}\n",
              "\n",
              "#sk-container-id-1 div.sk-dashed-wrapped {\n",
              "  border: 1px dashed var(--sklearn-color-line);\n",
              "  margin: 0 0.4em 0.5em 0.4em;\n",
              "  box-sizing: border-box;\n",
              "  padding-bottom: 0.4em;\n",
              "  background-color: var(--sklearn-color-background);\n",
              "}\n",
              "\n",
              "#sk-container-id-1 div.sk-container {\n",
              "  /* jupyter's `normalize.less` sets `[hidden] { display: none; }`\n",
              "     but bootstrap.min.css set `[hidden] { display: none !important; }`\n",
              "     so we also need the `!important` here to be able to override the\n",
              "     default hidden behavior on the sphinx rendered scikit-learn.org.\n",
              "     See: https://github.com/scikit-learn/scikit-learn/issues/21755 */\n",
              "  display: inline-block !important;\n",
              "  position: relative;\n",
              "}\n",
              "\n",
              "#sk-container-id-1 div.sk-text-repr-fallback {\n",
              "  display: none;\n",
              "}\n",
              "\n",
              "div.sk-parallel-item,\n",
              "div.sk-serial,\n",
              "div.sk-item {\n",
              "  /* draw centered vertical line to link estimators */\n",
              "  background-image: linear-gradient(var(--sklearn-color-text-on-default-background), var(--sklearn-color-text-on-default-background));\n",
              "  background-size: 2px 100%;\n",
              "  background-repeat: no-repeat;\n",
              "  background-position: center center;\n",
              "}\n",
              "\n",
              "/* Parallel-specific style estimator block */\n",
              "\n",
              "#sk-container-id-1 div.sk-parallel-item::after {\n",
              "  content: \"\";\n",
              "  width: 100%;\n",
              "  border-bottom: 2px solid var(--sklearn-color-text-on-default-background);\n",
              "  flex-grow: 1;\n",
              "}\n",
              "\n",
              "#sk-container-id-1 div.sk-parallel {\n",
              "  display: flex;\n",
              "  align-items: stretch;\n",
              "  justify-content: center;\n",
              "  background-color: var(--sklearn-color-background);\n",
              "  position: relative;\n",
              "}\n",
              "\n",
              "#sk-container-id-1 div.sk-parallel-item {\n",
              "  display: flex;\n",
              "  flex-direction: column;\n",
              "}\n",
              "\n",
              "#sk-container-id-1 div.sk-parallel-item:first-child::after {\n",
              "  align-self: flex-end;\n",
              "  width: 50%;\n",
              "}\n",
              "\n",
              "#sk-container-id-1 div.sk-parallel-item:last-child::after {\n",
              "  align-self: flex-start;\n",
              "  width: 50%;\n",
              "}\n",
              "\n",
              "#sk-container-id-1 div.sk-parallel-item:only-child::after {\n",
              "  width: 0;\n",
              "}\n",
              "\n",
              "/* Serial-specific style estimator block */\n",
              "\n",
              "#sk-container-id-1 div.sk-serial {\n",
              "  display: flex;\n",
              "  flex-direction: column;\n",
              "  align-items: center;\n",
              "  background-color: var(--sklearn-color-background);\n",
              "  padding-right: 1em;\n",
              "  padding-left: 1em;\n",
              "}\n",
              "\n",
              "\n",
              "/* Toggleable style: style used for estimator/Pipeline/ColumnTransformer box that is\n",
              "clickable and can be expanded/collapsed.\n",
              "- Pipeline and ColumnTransformer use this feature and define the default style\n",
              "- Estimators will overwrite some part of the style using the `sk-estimator` class\n",
              "*/\n",
              "\n",
              "/* Pipeline and ColumnTransformer style (default) */\n",
              "\n",
              "#sk-container-id-1 div.sk-toggleable {\n",
              "  /* Default theme specific background. It is overwritten whether we have a\n",
              "  specific estimator or a Pipeline/ColumnTransformer */\n",
              "  background-color: var(--sklearn-color-background);\n",
              "}\n",
              "\n",
              "/* Toggleable label */\n",
              "#sk-container-id-1 label.sk-toggleable__label {\n",
              "  cursor: pointer;\n",
              "  display: flex;\n",
              "  width: 100%;\n",
              "  margin-bottom: 0;\n",
              "  padding: 0.5em;\n",
              "  box-sizing: border-box;\n",
              "  text-align: center;\n",
              "  align-items: start;\n",
              "  justify-content: space-between;\n",
              "  gap: 0.5em;\n",
              "}\n",
              "\n",
              "#sk-container-id-1 label.sk-toggleable__label .caption {\n",
              "  font-size: 0.6rem;\n",
              "  font-weight: lighter;\n",
              "  color: var(--sklearn-color-text-muted);\n",
              "}\n",
              "\n",
              "#sk-container-id-1 label.sk-toggleable__label-arrow:before {\n",
              "  /* Arrow on the left of the label */\n",
              "  content: \"▸\";\n",
              "  float: left;\n",
              "  margin-right: 0.25em;\n",
              "  color: var(--sklearn-color-icon);\n",
              "}\n",
              "\n",
              "#sk-container-id-1 label.sk-toggleable__label-arrow:hover:before {\n",
              "  color: var(--sklearn-color-text);\n",
              "}\n",
              "\n",
              "/* Toggleable content - dropdown */\n",
              "\n",
              "#sk-container-id-1 div.sk-toggleable__content {\n",
              "  max-height: 0;\n",
              "  max-width: 0;\n",
              "  overflow: hidden;\n",
              "  text-align: left;\n",
              "  /* unfitted */\n",
              "  background-color: var(--sklearn-color-unfitted-level-0);\n",
              "}\n",
              "\n",
              "#sk-container-id-1 div.sk-toggleable__content.fitted {\n",
              "  /* fitted */\n",
              "  background-color: var(--sklearn-color-fitted-level-0);\n",
              "}\n",
              "\n",
              "#sk-container-id-1 div.sk-toggleable__content pre {\n",
              "  margin: 0.2em;\n",
              "  border-radius: 0.25em;\n",
              "  color: var(--sklearn-color-text);\n",
              "  /* unfitted */\n",
              "  background-color: var(--sklearn-color-unfitted-level-0);\n",
              "}\n",
              "\n",
              "#sk-container-id-1 div.sk-toggleable__content.fitted pre {\n",
              "  /* unfitted */\n",
              "  background-color: var(--sklearn-color-fitted-level-0);\n",
              "}\n",
              "\n",
              "#sk-container-id-1 input.sk-toggleable__control:checked~div.sk-toggleable__content {\n",
              "  /* Expand drop-down */\n",
              "  max-height: 200px;\n",
              "  max-width: 100%;\n",
              "  overflow: auto;\n",
              "}\n",
              "\n",
              "#sk-container-id-1 input.sk-toggleable__control:checked~label.sk-toggleable__label-arrow:before {\n",
              "  content: \"▾\";\n",
              "}\n",
              "\n",
              "/* Pipeline/ColumnTransformer-specific style */\n",
              "\n",
              "#sk-container-id-1 div.sk-label input.sk-toggleable__control:checked~label.sk-toggleable__label {\n",
              "  color: var(--sklearn-color-text);\n",
              "  background-color: var(--sklearn-color-unfitted-level-2);\n",
              "}\n",
              "\n",
              "#sk-container-id-1 div.sk-label.fitted input.sk-toggleable__control:checked~label.sk-toggleable__label {\n",
              "  background-color: var(--sklearn-color-fitted-level-2);\n",
              "}\n",
              "\n",
              "/* Estimator-specific style */\n",
              "\n",
              "/* Colorize estimator box */\n",
              "#sk-container-id-1 div.sk-estimator input.sk-toggleable__control:checked~label.sk-toggleable__label {\n",
              "  /* unfitted */\n",
              "  background-color: var(--sklearn-color-unfitted-level-2);\n",
              "}\n",
              "\n",
              "#sk-container-id-1 div.sk-estimator.fitted input.sk-toggleable__control:checked~label.sk-toggleable__label {\n",
              "  /* fitted */\n",
              "  background-color: var(--sklearn-color-fitted-level-2);\n",
              "}\n",
              "\n",
              "#sk-container-id-1 div.sk-label label.sk-toggleable__label,\n",
              "#sk-container-id-1 div.sk-label label {\n",
              "  /* The background is the default theme color */\n",
              "  color: var(--sklearn-color-text-on-default-background);\n",
              "}\n",
              "\n",
              "/* On hover, darken the color of the background */\n",
              "#sk-container-id-1 div.sk-label:hover label.sk-toggleable__label {\n",
              "  color: var(--sklearn-color-text);\n",
              "  background-color: var(--sklearn-color-unfitted-level-2);\n",
              "}\n",
              "\n",
              "/* Label box, darken color on hover, fitted */\n",
              "#sk-container-id-1 div.sk-label.fitted:hover label.sk-toggleable__label.fitted {\n",
              "  color: var(--sklearn-color-text);\n",
              "  background-color: var(--sklearn-color-fitted-level-2);\n",
              "}\n",
              "\n",
              "/* Estimator label */\n",
              "\n",
              "#sk-container-id-1 div.sk-label label {\n",
              "  font-family: monospace;\n",
              "  font-weight: bold;\n",
              "  display: inline-block;\n",
              "  line-height: 1.2em;\n",
              "}\n",
              "\n",
              "#sk-container-id-1 div.sk-label-container {\n",
              "  text-align: center;\n",
              "}\n",
              "\n",
              "/* Estimator-specific */\n",
              "#sk-container-id-1 div.sk-estimator {\n",
              "  font-family: monospace;\n",
              "  border: 1px dotted var(--sklearn-color-border-box);\n",
              "  border-radius: 0.25em;\n",
              "  box-sizing: border-box;\n",
              "  margin-bottom: 0.5em;\n",
              "  /* unfitted */\n",
              "  background-color: var(--sklearn-color-unfitted-level-0);\n",
              "}\n",
              "\n",
              "#sk-container-id-1 div.sk-estimator.fitted {\n",
              "  /* fitted */\n",
              "  background-color: var(--sklearn-color-fitted-level-0);\n",
              "}\n",
              "\n",
              "/* on hover */\n",
              "#sk-container-id-1 div.sk-estimator:hover {\n",
              "  /* unfitted */\n",
              "  background-color: var(--sklearn-color-unfitted-level-2);\n",
              "}\n",
              "\n",
              "#sk-container-id-1 div.sk-estimator.fitted:hover {\n",
              "  /* fitted */\n",
              "  background-color: var(--sklearn-color-fitted-level-2);\n",
              "}\n",
              "\n",
              "/* Specification for estimator info (e.g. \"i\" and \"?\") */\n",
              "\n",
              "/* Common style for \"i\" and \"?\" */\n",
              "\n",
              ".sk-estimator-doc-link,\n",
              "a:link.sk-estimator-doc-link,\n",
              "a:visited.sk-estimator-doc-link {\n",
              "  float: right;\n",
              "  font-size: smaller;\n",
              "  line-height: 1em;\n",
              "  font-family: monospace;\n",
              "  background-color: var(--sklearn-color-background);\n",
              "  border-radius: 1em;\n",
              "  height: 1em;\n",
              "  width: 1em;\n",
              "  text-decoration: none !important;\n",
              "  margin-left: 0.5em;\n",
              "  text-align: center;\n",
              "  /* unfitted */\n",
              "  border: var(--sklearn-color-unfitted-level-1) 1pt solid;\n",
              "  color: var(--sklearn-color-unfitted-level-1);\n",
              "}\n",
              "\n",
              ".sk-estimator-doc-link.fitted,\n",
              "a:link.sk-estimator-doc-link.fitted,\n",
              "a:visited.sk-estimator-doc-link.fitted {\n",
              "  /* fitted */\n",
              "  border: var(--sklearn-color-fitted-level-1) 1pt solid;\n",
              "  color: var(--sklearn-color-fitted-level-1);\n",
              "}\n",
              "\n",
              "/* On hover */\n",
              "div.sk-estimator:hover .sk-estimator-doc-link:hover,\n",
              ".sk-estimator-doc-link:hover,\n",
              "div.sk-label-container:hover .sk-estimator-doc-link:hover,\n",
              ".sk-estimator-doc-link:hover {\n",
              "  /* unfitted */\n",
              "  background-color: var(--sklearn-color-unfitted-level-3);\n",
              "  color: var(--sklearn-color-background);\n",
              "  text-decoration: none;\n",
              "}\n",
              "\n",
              "div.sk-estimator.fitted:hover .sk-estimator-doc-link.fitted:hover,\n",
              ".sk-estimator-doc-link.fitted:hover,\n",
              "div.sk-label-container:hover .sk-estimator-doc-link.fitted:hover,\n",
              ".sk-estimator-doc-link.fitted:hover {\n",
              "  /* fitted */\n",
              "  background-color: var(--sklearn-color-fitted-level-3);\n",
              "  color: var(--sklearn-color-background);\n",
              "  text-decoration: none;\n",
              "}\n",
              "\n",
              "/* Span, style for the box shown on hovering the info icon */\n",
              ".sk-estimator-doc-link span {\n",
              "  display: none;\n",
              "  z-index: 9999;\n",
              "  position: relative;\n",
              "  font-weight: normal;\n",
              "  right: .2ex;\n",
              "  padding: .5ex;\n",
              "  margin: .5ex;\n",
              "  width: min-content;\n",
              "  min-width: 20ex;\n",
              "  max-width: 50ex;\n",
              "  color: var(--sklearn-color-text);\n",
              "  box-shadow: 2pt 2pt 4pt #999;\n",
              "  /* unfitted */\n",
              "  background: var(--sklearn-color-unfitted-level-0);\n",
              "  border: .5pt solid var(--sklearn-color-unfitted-level-3);\n",
              "}\n",
              "\n",
              ".sk-estimator-doc-link.fitted span {\n",
              "  /* fitted */\n",
              "  background: var(--sklearn-color-fitted-level-0);\n",
              "  border: var(--sklearn-color-fitted-level-3);\n",
              "}\n",
              "\n",
              ".sk-estimator-doc-link:hover span {\n",
              "  display: block;\n",
              "}\n",
              "\n",
              "/* \"?\"-specific style due to the `<a>` HTML tag */\n",
              "\n",
              "#sk-container-id-1 a.estimator_doc_link {\n",
              "  float: right;\n",
              "  font-size: 1rem;\n",
              "  line-height: 1em;\n",
              "  font-family: monospace;\n",
              "  background-color: var(--sklearn-color-background);\n",
              "  border-radius: 1rem;\n",
              "  height: 1rem;\n",
              "  width: 1rem;\n",
              "  text-decoration: none;\n",
              "  /* unfitted */\n",
              "  color: var(--sklearn-color-unfitted-level-1);\n",
              "  border: var(--sklearn-color-unfitted-level-1) 1pt solid;\n",
              "}\n",
              "\n",
              "#sk-container-id-1 a.estimator_doc_link.fitted {\n",
              "  /* fitted */\n",
              "  border: var(--sklearn-color-fitted-level-1) 1pt solid;\n",
              "  color: var(--sklearn-color-fitted-level-1);\n",
              "}\n",
              "\n",
              "/* On hover */\n",
              "#sk-container-id-1 a.estimator_doc_link:hover {\n",
              "  /* unfitted */\n",
              "  background-color: var(--sklearn-color-unfitted-level-3);\n",
              "  color: var(--sklearn-color-background);\n",
              "  text-decoration: none;\n",
              "}\n",
              "\n",
              "#sk-container-id-1 a.estimator_doc_link.fitted:hover {\n",
              "  /* fitted */\n",
              "  background-color: var(--sklearn-color-fitted-level-3);\n",
              "}\n",
              "</style><div id=\"sk-container-id-1\" class=\"sk-top-container\"><div class=\"sk-text-repr-fallback\"><pre>FunctionTransformer(func=&lt;function extract_date_features at 0x122766f20&gt;)</pre><b>In a Jupyter environment, please rerun this cell to show the HTML representation or trust the notebook. <br />On GitHub, the HTML representation is unable to render, please try loading this page with nbviewer.org.</b></div><div class=\"sk-container\" hidden><div class=\"sk-item\"><div class=\"sk-estimator fitted sk-toggleable\"><input class=\"sk-toggleable__control sk-hidden--visually\" id=\"sk-estimator-id-1\" type=\"checkbox\" checked><label for=\"sk-estimator-id-1\" class=\"sk-toggleable__label fitted sk-toggleable__label-arrow\"><div><div>extract_date_features</div><div class=\"caption\">FunctionTransformer</div></div><div><a class=\"sk-estimator-doc-link fitted\" rel=\"noreferrer\" target=\"_blank\" href=\"https://scikit-learn.org/1.6/modules/generated/sklearn.preprocessing.FunctionTransformer.html\">?<span>Documentation for FunctionTransformer</span></a><span class=\"sk-estimator-doc-link fitted\">i<span>Fitted</span></span></div></label><div class=\"sk-toggleable__content fitted\"><pre>FunctionTransformer(func=&lt;function extract_date_features at 0x122766f20&gt;)</pre></div> </div></div></div></div>"
            ],
            "text/plain": [
              "FunctionTransformer(func=<function extract_date_features at 0x122766f20>)"
            ]
          },
          "execution_count": 6,
          "metadata": {},
          "output_type": "execute_result"
        }
      ],
      "source": [
        "# 2. Extraer día, mes, año\n",
        "def extract_date_features(X):\n",
        "    X = X.copy()\n",
        "    X[\"year\"] = pd.to_datetime(X[\"date\"], format=\"%d/%m/%y\").dt.year.astype(\"category\")\n",
        "    X[\"month\"] = pd.to_datetime(X[\"date\"], format=\"%d/%m/%y\").dt.month.astype(\"category\")\n",
        "    X[\"day\"] = pd.to_datetime(X[\"date\"], format=\"%d/%m/%y\").dt.day.astype(\"category\")\n",
        "    return X.drop(columns=\"date\")\n",
        "\n",
        "date_transformer = FunctionTransformer(extract_date_features)\n",
        "date_transformer.set_output(transform=\"pandas\")"
      ]
    },
    {
      "cell_type": "markdown",
      "metadata": {
        "id": "1ens9woAdV55"
      },
      "source": [
        "### NOTA IMPORTANTE"
      ]
    },
    {
      "cell_type": "markdown",
      "metadata": {
        "id": "xeEJc92YcJiG"
      },
      "source": [
        "Para los datos númericos se decide no hacer transformaciones. Los datos no requieren ser escalados debido a usar modelos basados en árboles. Por otro lado, se explora la opción de eliminar los outliers (que están presentes en la variable price principalmente), lo cual resulta en un peor desempeño. A continuación el código para llegar a esas conclusiones:"
      ]
    },
    {
      "cell_type": "code",
      "execution_count": 7,
      "metadata": {
        "id": "DJBK34P6dHDO"
      },
      "outputs": [],
      "source": [
        "# import matplotlib.pyplot as plt\n",
        "\n",
        "# n = len(numerical_cols)\n",
        "# fig, axes = plt.subplots(n, 1, figsize=(6, 4 * n))\n",
        "\n",
        "# for i, col in enumerate(numerical_cols):\n",
        "#     axes[i].boxplot(df[col].dropna())\n",
        "#     axes[i].set_title(col)\n",
        "\n",
        "# plt.tight_layout()\n",
        "# plt.show()"
      ]
    },
    {
      "cell_type": "code",
      "execution_count": 8,
      "metadata": {
        "id": "U88Yf-ZHakkb"
      },
      "outputs": [],
      "source": [
        "# from sklearn.base import BaseEstimator, TransformerMixin\n",
        "# from sklearn.preprocessing import MinMaxScaler\n",
        "\n",
        "# class IQR(BaseEstimator, TransformerMixin):\n",
        "#     def __init__(self, factor=1.5):\n",
        "#         self.factor = factor\n",
        "\n",
        "#     def fit(self, X, y=None):\n",
        "#         Q1 = X.quantile(0.25)\n",
        "#         Q3 = X.quantile(0.75)\n",
        "#         self.lower_bound = Q1 - self.factor * (Q3 - Q1)\n",
        "#         self.upper_bound = Q3 + self.factor * (Q3 - Q1)\n",
        "#         return self\n",
        "\n",
        "#     def transform(self, X):\n",
        "#         return X.apply(lambda col: col.where((col >= self.lower_bound[col.name]) & (col <= self.upper_bound[col.name])))\n",
        "\n",
        "#     def set_output(self, transform=None):\n",
        "#         return self\n",
        "\n",
        "#     def get_feature_names_out(self, input_features=None):\n",
        "#         return input_features if input_features is not None else self.feature_names_in_\n",
        "\n",
        "\n",
        "# numerical_pipeline = Pipeline([\n",
        "#     (\"iqr\", IQR()),\n",
        "#     (\"scaler\", MinMaxScaler())\n",
        "# ])"
      ]
    },
    {
      "cell_type": "markdown",
      "metadata": {
        "id": "H0Y49K9Cdd8z"
      },
      "source": [
        "### Preguntas 3 a 7"
      ]
    },
    {
      "cell_type": "code",
      "execution_count": 9,
      "metadata": {
        "colab": {
          "base_uri": "https://localhost:8080/",
          "height": 149
        },
        "id": "99AcjXHrLhAO",
        "outputId": "b361bf76-c03c-4ee2-c1c0-38450de219f3"
      },
      "outputs": [
        {
          "data": {
            "text/html": [
              "<style>#sk-container-id-2 {\n",
              "  /* Definition of color scheme common for light and dark mode */\n",
              "  --sklearn-color-text: #000;\n",
              "  --sklearn-color-text-muted: #666;\n",
              "  --sklearn-color-line: gray;\n",
              "  /* Definition of color scheme for unfitted estimators */\n",
              "  --sklearn-color-unfitted-level-0: #fff5e6;\n",
              "  --sklearn-color-unfitted-level-1: #f6e4d2;\n",
              "  --sklearn-color-unfitted-level-2: #ffe0b3;\n",
              "  --sklearn-color-unfitted-level-3: chocolate;\n",
              "  /* Definition of color scheme for fitted estimators */\n",
              "  --sklearn-color-fitted-level-0: #f0f8ff;\n",
              "  --sklearn-color-fitted-level-1: #d4ebff;\n",
              "  --sklearn-color-fitted-level-2: #b3dbfd;\n",
              "  --sklearn-color-fitted-level-3: cornflowerblue;\n",
              "\n",
              "  /* Specific color for light theme */\n",
              "  --sklearn-color-text-on-default-background: var(--sg-text-color, var(--theme-code-foreground, var(--jp-content-font-color1, black)));\n",
              "  --sklearn-color-background: var(--sg-background-color, var(--theme-background, var(--jp-layout-color0, white)));\n",
              "  --sklearn-color-border-box: var(--sg-text-color, var(--theme-code-foreground, var(--jp-content-font-color1, black)));\n",
              "  --sklearn-color-icon: #696969;\n",
              "\n",
              "  @media (prefers-color-scheme: dark) {\n",
              "    /* Redefinition of color scheme for dark theme */\n",
              "    --sklearn-color-text-on-default-background: var(--sg-text-color, var(--theme-code-foreground, var(--jp-content-font-color1, white)));\n",
              "    --sklearn-color-background: var(--sg-background-color, var(--theme-background, var(--jp-layout-color0, #111)));\n",
              "    --sklearn-color-border-box: var(--sg-text-color, var(--theme-code-foreground, var(--jp-content-font-color1, white)));\n",
              "    --sklearn-color-icon: #878787;\n",
              "  }\n",
              "}\n",
              "\n",
              "#sk-container-id-2 {\n",
              "  color: var(--sklearn-color-text);\n",
              "}\n",
              "\n",
              "#sk-container-id-2 pre {\n",
              "  padding: 0;\n",
              "}\n",
              "\n",
              "#sk-container-id-2 input.sk-hidden--visually {\n",
              "  border: 0;\n",
              "  clip: rect(1px 1px 1px 1px);\n",
              "  clip: rect(1px, 1px, 1px, 1px);\n",
              "  height: 1px;\n",
              "  margin: -1px;\n",
              "  overflow: hidden;\n",
              "  padding: 0;\n",
              "  position: absolute;\n",
              "  width: 1px;\n",
              "}\n",
              "\n",
              "#sk-container-id-2 div.sk-dashed-wrapped {\n",
              "  border: 1px dashed var(--sklearn-color-line);\n",
              "  margin: 0 0.4em 0.5em 0.4em;\n",
              "  box-sizing: border-box;\n",
              "  padding-bottom: 0.4em;\n",
              "  background-color: var(--sklearn-color-background);\n",
              "}\n",
              "\n",
              "#sk-container-id-2 div.sk-container {\n",
              "  /* jupyter's `normalize.less` sets `[hidden] { display: none; }`\n",
              "     but bootstrap.min.css set `[hidden] { display: none !important; }`\n",
              "     so we also need the `!important` here to be able to override the\n",
              "     default hidden behavior on the sphinx rendered scikit-learn.org.\n",
              "     See: https://github.com/scikit-learn/scikit-learn/issues/21755 */\n",
              "  display: inline-block !important;\n",
              "  position: relative;\n",
              "}\n",
              "\n",
              "#sk-container-id-2 div.sk-text-repr-fallback {\n",
              "  display: none;\n",
              "}\n",
              "\n",
              "div.sk-parallel-item,\n",
              "div.sk-serial,\n",
              "div.sk-item {\n",
              "  /* draw centered vertical line to link estimators */\n",
              "  background-image: linear-gradient(var(--sklearn-color-text-on-default-background), var(--sklearn-color-text-on-default-background));\n",
              "  background-size: 2px 100%;\n",
              "  background-repeat: no-repeat;\n",
              "  background-position: center center;\n",
              "}\n",
              "\n",
              "/* Parallel-specific style estimator block */\n",
              "\n",
              "#sk-container-id-2 div.sk-parallel-item::after {\n",
              "  content: \"\";\n",
              "  width: 100%;\n",
              "  border-bottom: 2px solid var(--sklearn-color-text-on-default-background);\n",
              "  flex-grow: 1;\n",
              "}\n",
              "\n",
              "#sk-container-id-2 div.sk-parallel {\n",
              "  display: flex;\n",
              "  align-items: stretch;\n",
              "  justify-content: center;\n",
              "  background-color: var(--sklearn-color-background);\n",
              "  position: relative;\n",
              "}\n",
              "\n",
              "#sk-container-id-2 div.sk-parallel-item {\n",
              "  display: flex;\n",
              "  flex-direction: column;\n",
              "}\n",
              "\n",
              "#sk-container-id-2 div.sk-parallel-item:first-child::after {\n",
              "  align-self: flex-end;\n",
              "  width: 50%;\n",
              "}\n",
              "\n",
              "#sk-container-id-2 div.sk-parallel-item:last-child::after {\n",
              "  align-self: flex-start;\n",
              "  width: 50%;\n",
              "}\n",
              "\n",
              "#sk-container-id-2 div.sk-parallel-item:only-child::after {\n",
              "  width: 0;\n",
              "}\n",
              "\n",
              "/* Serial-specific style estimator block */\n",
              "\n",
              "#sk-container-id-2 div.sk-serial {\n",
              "  display: flex;\n",
              "  flex-direction: column;\n",
              "  align-items: center;\n",
              "  background-color: var(--sklearn-color-background);\n",
              "  padding-right: 1em;\n",
              "  padding-left: 1em;\n",
              "}\n",
              "\n",
              "\n",
              "/* Toggleable style: style used for estimator/Pipeline/ColumnTransformer box that is\n",
              "clickable and can be expanded/collapsed.\n",
              "- Pipeline and ColumnTransformer use this feature and define the default style\n",
              "- Estimators will overwrite some part of the style using the `sk-estimator` class\n",
              "*/\n",
              "\n",
              "/* Pipeline and ColumnTransformer style (default) */\n",
              "\n",
              "#sk-container-id-2 div.sk-toggleable {\n",
              "  /* Default theme specific background. It is overwritten whether we have a\n",
              "  specific estimator or a Pipeline/ColumnTransformer */\n",
              "  background-color: var(--sklearn-color-background);\n",
              "}\n",
              "\n",
              "/* Toggleable label */\n",
              "#sk-container-id-2 label.sk-toggleable__label {\n",
              "  cursor: pointer;\n",
              "  display: flex;\n",
              "  width: 100%;\n",
              "  margin-bottom: 0;\n",
              "  padding: 0.5em;\n",
              "  box-sizing: border-box;\n",
              "  text-align: center;\n",
              "  align-items: start;\n",
              "  justify-content: space-between;\n",
              "  gap: 0.5em;\n",
              "}\n",
              "\n",
              "#sk-container-id-2 label.sk-toggleable__label .caption {\n",
              "  font-size: 0.6rem;\n",
              "  font-weight: lighter;\n",
              "  color: var(--sklearn-color-text-muted);\n",
              "}\n",
              "\n",
              "#sk-container-id-2 label.sk-toggleable__label-arrow:before {\n",
              "  /* Arrow on the left of the label */\n",
              "  content: \"▸\";\n",
              "  float: left;\n",
              "  margin-right: 0.25em;\n",
              "  color: var(--sklearn-color-icon);\n",
              "}\n",
              "\n",
              "#sk-container-id-2 label.sk-toggleable__label-arrow:hover:before {\n",
              "  color: var(--sklearn-color-text);\n",
              "}\n",
              "\n",
              "/* Toggleable content - dropdown */\n",
              "\n",
              "#sk-container-id-2 div.sk-toggleable__content {\n",
              "  max-height: 0;\n",
              "  max-width: 0;\n",
              "  overflow: hidden;\n",
              "  text-align: left;\n",
              "  /* unfitted */\n",
              "  background-color: var(--sklearn-color-unfitted-level-0);\n",
              "}\n",
              "\n",
              "#sk-container-id-2 div.sk-toggleable__content.fitted {\n",
              "  /* fitted */\n",
              "  background-color: var(--sklearn-color-fitted-level-0);\n",
              "}\n",
              "\n",
              "#sk-container-id-2 div.sk-toggleable__content pre {\n",
              "  margin: 0.2em;\n",
              "  border-radius: 0.25em;\n",
              "  color: var(--sklearn-color-text);\n",
              "  /* unfitted */\n",
              "  background-color: var(--sklearn-color-unfitted-level-0);\n",
              "}\n",
              "\n",
              "#sk-container-id-2 div.sk-toggleable__content.fitted pre {\n",
              "  /* unfitted */\n",
              "  background-color: var(--sklearn-color-fitted-level-0);\n",
              "}\n",
              "\n",
              "#sk-container-id-2 input.sk-toggleable__control:checked~div.sk-toggleable__content {\n",
              "  /* Expand drop-down */\n",
              "  max-height: 200px;\n",
              "  max-width: 100%;\n",
              "  overflow: auto;\n",
              "}\n",
              "\n",
              "#sk-container-id-2 input.sk-toggleable__control:checked~label.sk-toggleable__label-arrow:before {\n",
              "  content: \"▾\";\n",
              "}\n",
              "\n",
              "/* Pipeline/ColumnTransformer-specific style */\n",
              "\n",
              "#sk-container-id-2 div.sk-label input.sk-toggleable__control:checked~label.sk-toggleable__label {\n",
              "  color: var(--sklearn-color-text);\n",
              "  background-color: var(--sklearn-color-unfitted-level-2);\n",
              "}\n",
              "\n",
              "#sk-container-id-2 div.sk-label.fitted input.sk-toggleable__control:checked~label.sk-toggleable__label {\n",
              "  background-color: var(--sklearn-color-fitted-level-2);\n",
              "}\n",
              "\n",
              "/* Estimator-specific style */\n",
              "\n",
              "/* Colorize estimator box */\n",
              "#sk-container-id-2 div.sk-estimator input.sk-toggleable__control:checked~label.sk-toggleable__label {\n",
              "  /* unfitted */\n",
              "  background-color: var(--sklearn-color-unfitted-level-2);\n",
              "}\n",
              "\n",
              "#sk-container-id-2 div.sk-estimator.fitted input.sk-toggleable__control:checked~label.sk-toggleable__label {\n",
              "  /* fitted */\n",
              "  background-color: var(--sklearn-color-fitted-level-2);\n",
              "}\n",
              "\n",
              "#sk-container-id-2 div.sk-label label.sk-toggleable__label,\n",
              "#sk-container-id-2 div.sk-label label {\n",
              "  /* The background is the default theme color */\n",
              "  color: var(--sklearn-color-text-on-default-background);\n",
              "}\n",
              "\n",
              "/* On hover, darken the color of the background */\n",
              "#sk-container-id-2 div.sk-label:hover label.sk-toggleable__label {\n",
              "  color: var(--sklearn-color-text);\n",
              "  background-color: var(--sklearn-color-unfitted-level-2);\n",
              "}\n",
              "\n",
              "/* Label box, darken color on hover, fitted */\n",
              "#sk-container-id-2 div.sk-label.fitted:hover label.sk-toggleable__label.fitted {\n",
              "  color: var(--sklearn-color-text);\n",
              "  background-color: var(--sklearn-color-fitted-level-2);\n",
              "}\n",
              "\n",
              "/* Estimator label */\n",
              "\n",
              "#sk-container-id-2 div.sk-label label {\n",
              "  font-family: monospace;\n",
              "  font-weight: bold;\n",
              "  display: inline-block;\n",
              "  line-height: 1.2em;\n",
              "}\n",
              "\n",
              "#sk-container-id-2 div.sk-label-container {\n",
              "  text-align: center;\n",
              "}\n",
              "\n",
              "/* Estimator-specific */\n",
              "#sk-container-id-2 div.sk-estimator {\n",
              "  font-family: monospace;\n",
              "  border: 1px dotted var(--sklearn-color-border-box);\n",
              "  border-radius: 0.25em;\n",
              "  box-sizing: border-box;\n",
              "  margin-bottom: 0.5em;\n",
              "  /* unfitted */\n",
              "  background-color: var(--sklearn-color-unfitted-level-0);\n",
              "}\n",
              "\n",
              "#sk-container-id-2 div.sk-estimator.fitted {\n",
              "  /* fitted */\n",
              "  background-color: var(--sklearn-color-fitted-level-0);\n",
              "}\n",
              "\n",
              "/* on hover */\n",
              "#sk-container-id-2 div.sk-estimator:hover {\n",
              "  /* unfitted */\n",
              "  background-color: var(--sklearn-color-unfitted-level-2);\n",
              "}\n",
              "\n",
              "#sk-container-id-2 div.sk-estimator.fitted:hover {\n",
              "  /* fitted */\n",
              "  background-color: var(--sklearn-color-fitted-level-2);\n",
              "}\n",
              "\n",
              "/* Specification for estimator info (e.g. \"i\" and \"?\") */\n",
              "\n",
              "/* Common style for \"i\" and \"?\" */\n",
              "\n",
              ".sk-estimator-doc-link,\n",
              "a:link.sk-estimator-doc-link,\n",
              "a:visited.sk-estimator-doc-link {\n",
              "  float: right;\n",
              "  font-size: smaller;\n",
              "  line-height: 1em;\n",
              "  font-family: monospace;\n",
              "  background-color: var(--sklearn-color-background);\n",
              "  border-radius: 1em;\n",
              "  height: 1em;\n",
              "  width: 1em;\n",
              "  text-decoration: none !important;\n",
              "  margin-left: 0.5em;\n",
              "  text-align: center;\n",
              "  /* unfitted */\n",
              "  border: var(--sklearn-color-unfitted-level-1) 1pt solid;\n",
              "  color: var(--sklearn-color-unfitted-level-1);\n",
              "}\n",
              "\n",
              ".sk-estimator-doc-link.fitted,\n",
              "a:link.sk-estimator-doc-link.fitted,\n",
              "a:visited.sk-estimator-doc-link.fitted {\n",
              "  /* fitted */\n",
              "  border: var(--sklearn-color-fitted-level-1) 1pt solid;\n",
              "  color: var(--sklearn-color-fitted-level-1);\n",
              "}\n",
              "\n",
              "/* On hover */\n",
              "div.sk-estimator:hover .sk-estimator-doc-link:hover,\n",
              ".sk-estimator-doc-link:hover,\n",
              "div.sk-label-container:hover .sk-estimator-doc-link:hover,\n",
              ".sk-estimator-doc-link:hover {\n",
              "  /* unfitted */\n",
              "  background-color: var(--sklearn-color-unfitted-level-3);\n",
              "  color: var(--sklearn-color-background);\n",
              "  text-decoration: none;\n",
              "}\n",
              "\n",
              "div.sk-estimator.fitted:hover .sk-estimator-doc-link.fitted:hover,\n",
              ".sk-estimator-doc-link.fitted:hover,\n",
              "div.sk-label-container:hover .sk-estimator-doc-link.fitted:hover,\n",
              ".sk-estimator-doc-link.fitted:hover {\n",
              "  /* fitted */\n",
              "  background-color: var(--sklearn-color-fitted-level-3);\n",
              "  color: var(--sklearn-color-background);\n",
              "  text-decoration: none;\n",
              "}\n",
              "\n",
              "/* Span, style for the box shown on hovering the info icon */\n",
              ".sk-estimator-doc-link span {\n",
              "  display: none;\n",
              "  z-index: 9999;\n",
              "  position: relative;\n",
              "  font-weight: normal;\n",
              "  right: .2ex;\n",
              "  padding: .5ex;\n",
              "  margin: .5ex;\n",
              "  width: min-content;\n",
              "  min-width: 20ex;\n",
              "  max-width: 50ex;\n",
              "  color: var(--sklearn-color-text);\n",
              "  box-shadow: 2pt 2pt 4pt #999;\n",
              "  /* unfitted */\n",
              "  background: var(--sklearn-color-unfitted-level-0);\n",
              "  border: .5pt solid var(--sklearn-color-unfitted-level-3);\n",
              "}\n",
              "\n",
              ".sk-estimator-doc-link.fitted span {\n",
              "  /* fitted */\n",
              "  background: var(--sklearn-color-fitted-level-0);\n",
              "  border: var(--sklearn-color-fitted-level-3);\n",
              "}\n",
              "\n",
              ".sk-estimator-doc-link:hover span {\n",
              "  display: block;\n",
              "}\n",
              "\n",
              "/* \"?\"-specific style due to the `<a>` HTML tag */\n",
              "\n",
              "#sk-container-id-2 a.estimator_doc_link {\n",
              "  float: right;\n",
              "  font-size: 1rem;\n",
              "  line-height: 1em;\n",
              "  font-family: monospace;\n",
              "  background-color: var(--sklearn-color-background);\n",
              "  border-radius: 1rem;\n",
              "  height: 1rem;\n",
              "  width: 1rem;\n",
              "  text-decoration: none;\n",
              "  /* unfitted */\n",
              "  color: var(--sklearn-color-unfitted-level-1);\n",
              "  border: var(--sklearn-color-unfitted-level-1) 1pt solid;\n",
              "}\n",
              "\n",
              "#sk-container-id-2 a.estimator_doc_link.fitted {\n",
              "  /* fitted */\n",
              "  border: var(--sklearn-color-fitted-level-1) 1pt solid;\n",
              "  color: var(--sklearn-color-fitted-level-1);\n",
              "}\n",
              "\n",
              "/* On hover */\n",
              "#sk-container-id-2 a.estimator_doc_link:hover {\n",
              "  /* unfitted */\n",
              "  background-color: var(--sklearn-color-unfitted-level-3);\n",
              "  color: var(--sklearn-color-background);\n",
              "  text-decoration: none;\n",
              "}\n",
              "\n",
              "#sk-container-id-2 a.estimator_doc_link.fitted:hover {\n",
              "  /* fitted */\n",
              "  background-color: var(--sklearn-color-fitted-level-3);\n",
              "}\n",
              "</style><div id=\"sk-container-id-2\" class=\"sk-top-container\"><div class=\"sk-text-repr-fallback\"><pre>ColumnTransformer(transformers=[(&#x27;cat&#x27;,\n",
              "                                 OneHotEncoder(handle_unknown=&#x27;ignore&#x27;,\n",
              "                                               sparse_output=False),\n",
              "                                 [&#x27;city&#x27;, &#x27;shop&#x27;, &#x27;brand&#x27;, &#x27;container&#x27;,\n",
              "                                  &#x27;capacity&#x27;, &#x27;day&#x27;, &#x27;month&#x27;, &#x27;year&#x27;]),\n",
              "                                (&#x27;num&#x27;, &#x27;passthrough&#x27;,\n",
              "                                 [&#x27;lat&#x27;, &#x27;long&#x27;, &#x27;pop&#x27;, &#x27;price&#x27;])])</pre><b>In a Jupyter environment, please rerun this cell to show the HTML representation or trust the notebook. <br />On GitHub, the HTML representation is unable to render, please try loading this page with nbviewer.org.</b></div><div class=\"sk-container\" hidden><div class=\"sk-item sk-dashed-wrapped\"><div class=\"sk-label-container\"><div class=\"sk-label  sk-toggleable\"><input class=\"sk-toggleable__control sk-hidden--visually\" id=\"sk-estimator-id-2\" type=\"checkbox\" ><label for=\"sk-estimator-id-2\" class=\"sk-toggleable__label  sk-toggleable__label-arrow\"><div><div>ColumnTransformer</div></div><div><a class=\"sk-estimator-doc-link \" rel=\"noreferrer\" target=\"_blank\" href=\"https://scikit-learn.org/1.6/modules/generated/sklearn.compose.ColumnTransformer.html\">?<span>Documentation for ColumnTransformer</span></a><span class=\"sk-estimator-doc-link \">i<span>Not fitted</span></span></div></label><div class=\"sk-toggleable__content \"><pre>ColumnTransformer(transformers=[(&#x27;cat&#x27;,\n",
              "                                 OneHotEncoder(handle_unknown=&#x27;ignore&#x27;,\n",
              "                                               sparse_output=False),\n",
              "                                 [&#x27;city&#x27;, &#x27;shop&#x27;, &#x27;brand&#x27;, &#x27;container&#x27;,\n",
              "                                  &#x27;capacity&#x27;, &#x27;day&#x27;, &#x27;month&#x27;, &#x27;year&#x27;]),\n",
              "                                (&#x27;num&#x27;, &#x27;passthrough&#x27;,\n",
              "                                 [&#x27;lat&#x27;, &#x27;long&#x27;, &#x27;pop&#x27;, &#x27;price&#x27;])])</pre></div> </div></div><div class=\"sk-parallel\"><div class=\"sk-parallel-item\"><div class=\"sk-item\"><div class=\"sk-label-container\"><div class=\"sk-label  sk-toggleable\"><input class=\"sk-toggleable__control sk-hidden--visually\" id=\"sk-estimator-id-3\" type=\"checkbox\" ><label for=\"sk-estimator-id-3\" class=\"sk-toggleable__label  sk-toggleable__label-arrow\"><div><div>cat</div></div></label><div class=\"sk-toggleable__content \"><pre>[&#x27;city&#x27;, &#x27;shop&#x27;, &#x27;brand&#x27;, &#x27;container&#x27;, &#x27;capacity&#x27;, &#x27;day&#x27;, &#x27;month&#x27;, &#x27;year&#x27;]</pre></div> </div></div><div class=\"sk-serial\"><div class=\"sk-item\"><div class=\"sk-estimator  sk-toggleable\"><input class=\"sk-toggleable__control sk-hidden--visually\" id=\"sk-estimator-id-4\" type=\"checkbox\" ><label for=\"sk-estimator-id-4\" class=\"sk-toggleable__label  sk-toggleable__label-arrow\"><div><div>OneHotEncoder</div></div><div><a class=\"sk-estimator-doc-link \" rel=\"noreferrer\" target=\"_blank\" href=\"https://scikit-learn.org/1.6/modules/generated/sklearn.preprocessing.OneHotEncoder.html\">?<span>Documentation for OneHotEncoder</span></a></div></label><div class=\"sk-toggleable__content \"><pre>OneHotEncoder(handle_unknown=&#x27;ignore&#x27;, sparse_output=False)</pre></div> </div></div></div></div></div><div class=\"sk-parallel-item\"><div class=\"sk-item\"><div class=\"sk-label-container\"><div class=\"sk-label  sk-toggleable\"><input class=\"sk-toggleable__control sk-hidden--visually\" id=\"sk-estimator-id-5\" type=\"checkbox\" ><label for=\"sk-estimator-id-5\" class=\"sk-toggleable__label  sk-toggleable__label-arrow\"><div><div>num</div></div></label><div class=\"sk-toggleable__content \"><pre>[&#x27;lat&#x27;, &#x27;long&#x27;, &#x27;pop&#x27;, &#x27;price&#x27;]</pre></div> </div></div><div class=\"sk-serial\"><div class=\"sk-item\"><div class=\"sk-estimator  sk-toggleable\"><input class=\"sk-toggleable__control sk-hidden--visually\" id=\"sk-estimator-id-6\" type=\"checkbox\" ><label for=\"sk-estimator-id-6\" class=\"sk-toggleable__label  sk-toggleable__label-arrow\"><div><div>passthrough</div></div></label><div class=\"sk-toggleable__content \"><pre>passthrough</pre></div> </div></div></div></div></div></div></div></div></div>"
            ],
            "text/plain": [
              "ColumnTransformer(transformers=[('cat',\n",
              "                                 OneHotEncoder(handle_unknown='ignore',\n",
              "                                               sparse_output=False),\n",
              "                                 ['city', 'shop', 'brand', 'container',\n",
              "                                  'capacity', 'day', 'month', 'year']),\n",
              "                                ('num', 'passthrough',\n",
              "                                 ['lat', 'long', 'pop', 'price'])])"
            ]
          },
          "execution_count": 9,
          "metadata": {},
          "output_type": "execute_result"
        }
      ],
      "source": [
        "# 3. ColumnTransformer:\n",
        "base_cols = [col for col in X_train.columns if col != \"date\"]\n",
        "categorical_cols = [col for col in base_cols if X_train[col].dtype == \"object\"] + ['day', 'month', 'year']\n",
        "numerical_cols = [col for col in base_cols if col not in categorical_cols]\n",
        "\n",
        "\n",
        "preprocessor = ColumnTransformer([\n",
        "    (\"cat\", OneHotEncoder(handle_unknown=\"ignore\", sparse_output=False), categorical_cols),\n",
        "    (\"num\", \"passthrough\", numerical_cols)\n",
        "])\n",
        "preprocessor.set_output(transform=\"pandas\")"
      ]
    },
    {
      "cell_type": "code",
      "execution_count": 10,
      "metadata": {
        "id": "28gKshonUSxk"
      },
      "outputs": [],
      "source": [
        "# 4. Pipeline:\n",
        "dummy_pipeline = Pipeline([\n",
        "    (\"date_features\", date_transformer),\n",
        "    (\"preprocessor\", preprocessor),\n",
        "    (\"regressor\", DummyRegressor(strategy=\"mean\"))\n",
        "])"
      ]
    },
    {
      "cell_type": "code",
      "execution_count": 11,
      "metadata": {
        "colab": {
          "base_uri": "https://localhost:8080/"
        },
        "id": "jdElDMfdWxZd",
        "outputId": "2fd9acfc-02cf-4ffe-d5d2-8b664b176d30"
      },
      "outputs": [
        {
          "name": "stdout",
          "output_type": "stream",
          "text": [
            "MAE DummyRegressor: 13543.961387782238\n"
          ]
        }
      ],
      "source": [
        "# 5.\n",
        "dummy_pipeline.fit(X_train, y_train)\n",
        "y_pred_dummy = dummy_pipeline.predict(X_val)\n",
        "mae_dummy = mean_absolute_error(y_val, y_pred_dummy)\n",
        "print(\"MAE DummyRegressor:\", mae_dummy)"
      ]
    },
    {
      "cell_type": "markdown",
      "metadata": {
        "id": "C0ionNcGavWi"
      },
      "source": [
        "Este valor de MAE se interpreta como que en promedio el modelo se equivoca en predecir la cantidad de productos de la orden en un valor de 13544 aproximadamente."
      ]
    },
    {
      "cell_type": "code",
      "execution_count": 12,
      "metadata": {
        "colab": {
          "base_uri": "https://localhost:8080/"
        },
        "id": "K1bawchFbJKB",
        "outputId": "4b540d9d-98ed-40f3-ca20-f787714211e5"
      },
      "outputs": [
        {
          "name": "stdout",
          "output_type": "stream",
          "text": [
            "MAE XGBRegressor: 2399.620361328125\n"
          ]
        }
      ],
      "source": [
        "# 6. Pipeline con XGBRegressor\n",
        "xgb_pipeline = Pipeline([\n",
        "    (\"date_features\", date_transformer),\n",
        "    (\"preprocessor\", preprocessor),\n",
        "    (\"regressor\", XGBRegressor(random_state=rs))\n",
        "])\n",
        "\n",
        "xgb_pipeline.fit(X_train, y_train)\n",
        "y_pred_xgb = xgb_pipeline.predict(X_val)\n",
        "mae_xgb = mean_absolute_error(y_val, y_pred_xgb)\n",
        "print(\"MAE XGBRegressor:\", mae_xgb)"
      ]
    },
    {
      "cell_type": "markdown",
      "metadata": {
        "id": "R6hblDyNbl89"
      },
      "source": [
        "Obtenemos un MAE de 2400 aproximadamente, obteniendo un mejor rendimiento que el modelo dummy"
      ]
    },
    {
      "cell_type": "code",
      "execution_count": 13,
      "metadata": {
        "colab": {
          "base_uri": "https://localhost:8080/"
        },
        "id": "CEeYkFsScYgg",
        "outputId": "fa290daa-b621-4de2-9471-c4e9826ddb51"
      },
      "outputs": [
        {
          "data": {
            "text/plain": [
              "['xgb_model.pkl']"
            ]
          },
          "execution_count": 13,
          "metadata": {},
          "output_type": "execute_result"
        }
      ],
      "source": [
        "# 7. Guardar modelos\n",
        "joblib.dump(dummy_pipeline, \"dummy_model.pkl\")\n",
        "joblib.dump(xgb_pipeline, \"xgb_model.pkl\")"
      ]
    },
    {
      "cell_type": "markdown",
      "metadata": {
        "cell_id": "7e17e46063774ec28226fe300d42ffe0",
        "deepnote_cell_type": "markdown",
        "id": "wnyMINdKI5v_"
      },
      "source": [
        "## 2. Forzando relaciones entre parámetros con XGBoost (10 puntos)\n",
        "\n",
        "<p align=\"center\">\n",
        "  <img src=\"https://64.media.tumblr.com/14cc45f9610a6ee341a45fd0d68f4dde/20d11b36022bca7b-bf/s640x960/67ab1db12ff73a530f649ac455c000945d99c0d6.gif\">\n",
        "</p>\n",
        "\n",
        "Un colega aficionado a la economía le *sopla* que la demanda guarda una relación inversa con el precio del producto. Motivado para impresionar al querido corpóreo, se propone hacer uso de esta información para mejorar su modelo realizando las siguientes tareas:\n",
        "\n",
        "1. Vuelva a entrenar el `Pipeline` con `XGBRegressor`, pero esta vez forzando una relación monótona negativa entre el precio y la cantidad. Para aplicar esta restricción apóyese en la siguiente <a href = https://xgboost.readthedocs.io/en/stable/tutorials/monotonic.html>documentación</a>. [6 puntos]\n",
        "\n",
        ">Hint 1: Para implementar el constraint se le sugiere hacerlo especificando el nombre de la variable. De ser así, probablemente le sea útil **mantener el formato de pandas** antes del step de entrenamiento.\n",
        "\n",
        ">Hint 2: Puede obtener el nombre de las columnas en el paso anterior al modelo regresor mediante el método `.get_feature_names_out()`\n",
        "\n",
        "2. Luego, vuelva a reportar el `MAE` sobre el conjunto de validación. [1 puntos]\n",
        "\n",
        "3. ¿Cómo cambia el error al incluir esta relación? ¿Tenía razón su amigo? [2 puntos]\n",
        "\n",
        "4. Guarde su modelo en un archivo .pkl [1 punto]"
      ]
    },
    {
      "cell_type": "code",
      "execution_count": 14,
      "metadata": {
        "colab": {
          "base_uri": "https://localhost:8080/",
          "height": 411
        },
        "id": "ag1aPnoGrsmM",
        "outputId": "843f8880-a9f0-477d-8fd0-fec5d8416b44"
      },
      "outputs": [
        {
          "data": {
            "image/png": "[encoded data removed]",
            "text/plain": [
              "<Figure size 600x400 with 1 Axes>"
            ]
          },
          "metadata": {},
          "output_type": "display_data"
        }
      ],
      "source": [
        "# 0. Graficar relación:\n",
        "\n",
        "import matplotlib.pyplot as plt\n",
        "\n",
        "plt.figure(figsize=(6, 4))\n",
        "plt.scatter(df[\"price\"], df[\"quantity\"], color=\"blue\", alpha=0.6)\n",
        "plt.title(\"Relación entre Precio y Cantidad\")\n",
        "plt.xlabel(\"Precio\")\n",
        "plt.ylabel(\"Cantidad\")\n",
        "plt.grid(True)\n",
        "plt.show()"
      ]
    },
    {
      "cell_type": "code",
      "execution_count": 15,
      "metadata": {
        "colab": {
          "base_uri": "https://localhost:8080/",
          "height": 301
        },
        "id": "zhxFkgl6pXYu",
        "outputId": "0ee62190-f157-4dab-d51c-7c00d28bc723"
      },
      "outputs": [
        {
          "data": {
            "text/html": [
              "<style>#sk-container-id-3 {\n",
              "  /* Definition of color scheme common for light and dark mode */\n",
              "  --sklearn-color-text: #000;\n",
              "  --sklearn-color-text-muted: #666;\n",
              "  --sklearn-color-line: gray;\n",
              "  /* Definition of color scheme for unfitted estimators */\n",
              "  --sklearn-color-unfitted-level-0: #fff5e6;\n",
              "  --sklearn-color-unfitted-level-1: #f6e4d2;\n",
              "  --sklearn-color-unfitted-level-2: #ffe0b3;\n",
              "  --sklearn-color-unfitted-level-3: chocolate;\n",
              "  /* Definition of color scheme for fitted estimators */\n",
              "  --sklearn-color-fitted-level-0: #f0f8ff;\n",
              "  --sklearn-color-fitted-level-1: #d4ebff;\n",
              "  --sklearn-color-fitted-level-2: #b3dbfd;\n",
              "  --sklearn-color-fitted-level-3: cornflowerblue;\n",
              "\n",
              "  /* Specific color for light theme */\n",
              "  --sklearn-color-text-on-default-background: var(--sg-text-color, var(--theme-code-foreground, var(--jp-content-font-color1, black)));\n",
              "  --sklearn-color-background: var(--sg-background-color, var(--theme-background, var(--jp-layout-color0, white)));\n",
              "  --sklearn-color-border-box: var(--sg-text-color, var(--theme-code-foreground, var(--jp-content-font-color1, black)));\n",
              "  --sklearn-color-icon: #696969;\n",
              "\n",
              "  @media (prefers-color-scheme: dark) {\n",
              "    /* Redefinition of color scheme for dark theme */\n",
              "    --sklearn-color-text-on-default-background: var(--sg-text-color, var(--theme-code-foreground, var(--jp-content-font-color1, white)));\n",
              "    --sklearn-color-background: var(--sg-background-color, var(--theme-background, var(--jp-layout-color0, #111)));\n",
              "    --sklearn-color-border-box: var(--sg-text-color, var(--theme-code-foreground, var(--jp-content-font-color1, white)));\n",
              "    --sklearn-color-icon: #878787;\n",
              "  }\n",
              "}\n",
              "\n",
              "#sk-container-id-3 {\n",
              "  color: var(--sklearn-color-text);\n",
              "}\n",
              "\n",
              "#sk-container-id-3 pre {\n",
              "  padding: 0;\n",
              "}\n",
              "\n",
              "#sk-container-id-3 input.sk-hidden--visually {\n",
              "  border: 0;\n",
              "  clip: rect(1px 1px 1px 1px);\n",
              "  clip: rect(1px, 1px, 1px, 1px);\n",
              "  height: 1px;\n",
              "  margin: -1px;\n",
              "  overflow: hidden;\n",
              "  padding: 0;\n",
              "  position: absolute;\n",
              "  width: 1px;\n",
              "}\n",
              "\n",
              "#sk-container-id-3 div.sk-dashed-wrapped {\n",
              "  border: 1px dashed var(--sklearn-color-line);\n",
              "  margin: 0 0.4em 0.5em 0.4em;\n",
              "  box-sizing: border-box;\n",
              "  padding-bottom: 0.4em;\n",
              "  background-color: var(--sklearn-color-background);\n",
              "}\n",
              "\n",
              "#sk-container-id-3 div.sk-container {\n",
              "  /* jupyter's `normalize.less` sets `[hidden] { display: none; }`\n",
              "     but bootstrap.min.css set `[hidden] { display: none !important; }`\n",
              "     so we also need the `!important` here to be able to override the\n",
              "     default hidden behavior on the sphinx rendered scikit-learn.org.\n",
              "     See: https://github.com/scikit-learn/scikit-learn/issues/21755 */\n",
              "  display: inline-block !important;\n",
              "  position: relative;\n",
              "}\n",
              "\n",
              "#sk-container-id-3 div.sk-text-repr-fallback {\n",
              "  display: none;\n",
              "}\n",
              "\n",
              "div.sk-parallel-item,\n",
              "div.sk-serial,\n",
              "div.sk-item {\n",
              "  /* draw centered vertical line to link estimators */\n",
              "  background-image: linear-gradient(var(--sklearn-color-text-on-default-background), var(--sklearn-color-text-on-default-background));\n",
              "  background-size: 2px 100%;\n",
              "  background-repeat: no-repeat;\n",
              "  background-position: center center;\n",
              "}\n",
              "\n",
              "/* Parallel-specific style estimator block */\n",
              "\n",
              "#sk-container-id-3 div.sk-parallel-item::after {\n",
              "  content: \"\";\n",
              "  width: 100%;\n",
              "  border-bottom: 2px solid var(--sklearn-color-text-on-default-background);\n",
              "  flex-grow: 1;\n",
              "}\n",
              "\n",
              "#sk-container-id-3 div.sk-parallel {\n",
              "  display: flex;\n",
              "  align-items: stretch;\n",
              "  justify-content: center;\n",
              "  background-color: var(--sklearn-color-background);\n",
              "  position: relative;\n",
              "}\n",
              "\n",
              "#sk-container-id-3 div.sk-parallel-item {\n",
              "  display: flex;\n",
              "  flex-direction: column;\n",
              "}\n",
              "\n",
              "#sk-container-id-3 div.sk-parallel-item:first-child::after {\n",
              "  align-self: flex-end;\n",
              "  width: 50%;\n",
              "}\n",
              "\n",
              "#sk-container-id-3 div.sk-parallel-item:last-child::after {\n",
              "  align-self: flex-start;\n",
              "  width: 50%;\n",
              "}\n",
              "\n",
              "#sk-container-id-3 div.sk-parallel-item:only-child::after {\n",
              "  width: 0;\n",
              "}\n",
              "\n",
              "/* Serial-specific style estimator block */\n",
              "\n",
              "#sk-container-id-3 div.sk-serial {\n",
              "  display: flex;\n",
              "  flex-direction: column;\n",
              "  align-items: center;\n",
              "  background-color: var(--sklearn-color-background);\n",
              "  padding-right: 1em;\n",
              "  padding-left: 1em;\n",
              "}\n",
              "\n",
              "\n",
              "/* Toggleable style: style used for estimator/Pipeline/ColumnTransformer box that is\n",
              "clickable and can be expanded/collapsed.\n",
              "- Pipeline and ColumnTransformer use this feature and define the default style\n",
              "- Estimators will overwrite some part of the style using the `sk-estimator` class\n",
              "*/\n",
              "\n",
              "/* Pipeline and ColumnTransformer style (default) */\n",
              "\n",
              "#sk-container-id-3 div.sk-toggleable {\n",
              "  /* Default theme specific background. It is overwritten whether we have a\n",
              "  specific estimator or a Pipeline/ColumnTransformer */\n",
              "  background-color: var(--sklearn-color-background);\n",
              "}\n",
              "\n",
              "/* Toggleable label */\n",
              "#sk-container-id-3 label.sk-toggleable__label {\n",
              "  cursor: pointer;\n",
              "  display: flex;\n",
              "  width: 100%;\n",
              "  margin-bottom: 0;\n",
              "  padding: 0.5em;\n",
              "  box-sizing: border-box;\n",
              "  text-align: center;\n",
              "  align-items: start;\n",
              "  justify-content: space-between;\n",
              "  gap: 0.5em;\n",
              "}\n",
              "\n",
              "#sk-container-id-3 label.sk-toggleable__label .caption {\n",
              "  font-size: 0.6rem;\n",
              "  font-weight: lighter;\n",
              "  color: var(--sklearn-color-text-muted);\n",
              "}\n",
              "\n",
              "#sk-container-id-3 label.sk-toggleable__label-arrow:before {\n",
              "  /* Arrow on the left of the label */\n",
              "  content: \"▸\";\n",
              "  float: left;\n",
              "  margin-right: 0.25em;\n",
              "  color: var(--sklearn-color-icon);\n",
              "}\n",
              "\n",
              "#sk-container-id-3 label.sk-toggleable__label-arrow:hover:before {\n",
              "  color: var(--sklearn-color-text);\n",
              "}\n",
              "\n",
              "/* Toggleable content - dropdown */\n",
              "\n",
              "#sk-container-id-3 div.sk-toggleable__content {\n",
              "  max-height: 0;\n",
              "  max-width: 0;\n",
              "  overflow: hidden;\n",
              "  text-align: left;\n",
              "  /* unfitted */\n",
              "  background-color: var(--sklearn-color-unfitted-level-0);\n",
              "}\n",
              "\n",
              "#sk-container-id-3 div.sk-toggleable__content.fitted {\n",
              "  /* fitted */\n",
              "  background-color: var(--sklearn-color-fitted-level-0);\n",
              "}\n",
              "\n",
              "#sk-container-id-3 div.sk-toggleable__content pre {\n",
              "  margin: 0.2em;\n",
              "  border-radius: 0.25em;\n",
              "  color: var(--sklearn-color-text);\n",
              "  /* unfitted */\n",
              "  background-color: var(--sklearn-color-unfitted-level-0);\n",
              "}\n",
              "\n",
              "#sk-container-id-3 div.sk-toggleable__content.fitted pre {\n",
              "  /* unfitted */\n",
              "  background-color: var(--sklearn-color-fitted-level-0);\n",
              "}\n",
              "\n",
              "#sk-container-id-3 input.sk-toggleable__control:checked~div.sk-toggleable__content {\n",
              "  /* Expand drop-down */\n",
              "  max-height: 200px;\n",
              "  max-width: 100%;\n",
              "  overflow: auto;\n",
              "}\n",
              "\n",
              "#sk-container-id-3 input.sk-toggleable__control:checked~label.sk-toggleable__label-arrow:before {\n",
              "  content: \"▾\";\n",
              "}\n",
              "\n",
              "/* Pipeline/ColumnTransformer-specific style */\n",
              "\n",
              "#sk-container-id-3 div.sk-label input.sk-toggleable__control:checked~label.sk-toggleable__label {\n",
              "  color: var(--sklearn-color-text);\n",
              "  background-color: var(--sklearn-color-unfitted-level-2);\n",
              "}\n",
              "\n",
              "#sk-container-id-3 div.sk-label.fitted input.sk-toggleable__control:checked~label.sk-toggleable__label {\n",
              "  background-color: var(--sklearn-color-fitted-level-2);\n",
              "}\n",
              "\n",
              "/* Estimator-specific style */\n",
              "\n",
              "/* Colorize estimator box */\n",
              "#sk-container-id-3 div.sk-estimator input.sk-toggleable__control:checked~label.sk-toggleable__label {\n",
              "  /* unfitted */\n",
              "  background-color: var(--sklearn-color-unfitted-level-2);\n",
              "}\n",
              "\n",
              "#sk-container-id-3 div.sk-estimator.fitted input.sk-toggleable__control:checked~label.sk-toggleable__label {\n",
              "  /* fitted */\n",
              "  background-color: var(--sklearn-color-fitted-level-2);\n",
              "}\n",
              "\n",
              "#sk-container-id-3 div.sk-label label.sk-toggleable__label,\n",
              "#sk-container-id-3 div.sk-label label {\n",
              "  /* The background is the default theme color */\n",
              "  color: var(--sklearn-color-text-on-default-background);\n",
              "}\n",
              "\n",
              "/* On hover, darken the color of the background */\n",
              "#sk-container-id-3 div.sk-label:hover label.sk-toggleable__label {\n",
              "  color: var(--sklearn-color-text);\n",
              "  background-color: var(--sklearn-color-unfitted-level-2);\n",
              "}\n",
              "\n",
              "/* Label box, darken color on hover, fitted */\n",
              "#sk-container-id-3 div.sk-label.fitted:hover label.sk-toggleable__label.fitted {\n",
              "  color: var(--sklearn-color-text);\n",
              "  background-color: var(--sklearn-color-fitted-level-2);\n",
              "}\n",
              "\n",
              "/* Estimator label */\n",
              "\n",
              "#sk-container-id-3 div.sk-label label {\n",
              "  font-family: monospace;\n",
              "  font-weight: bold;\n",
              "  display: inline-block;\n",
              "  line-height: 1.2em;\n",
              "}\n",
              "\n",
              "#sk-container-id-3 div.sk-label-container {\n",
              "  text-align: center;\n",
              "}\n",
              "\n",
              "/* Estimator-specific */\n",
              "#sk-container-id-3 div.sk-estimator {\n",
              "  font-family: monospace;\n",
              "  border: 1px dotted var(--sklearn-color-border-box);\n",
              "  border-radius: 0.25em;\n",
              "  box-sizing: border-box;\n",
              "  margin-bottom: 0.5em;\n",
              "  /* unfitted */\n",
              "  background-color: var(--sklearn-color-unfitted-level-0);\n",
              "}\n",
              "\n",
              "#sk-container-id-3 div.sk-estimator.fitted {\n",
              "  /* fitted */\n",
              "  background-color: var(--sklearn-color-fitted-level-0);\n",
              "}\n",
              "\n",
              "/* on hover */\n",
              "#sk-container-id-3 div.sk-estimator:hover {\n",
              "  /* unfitted */\n",
              "  background-color: var(--sklearn-color-unfitted-level-2);\n",
              "}\n",
              "\n",
              "#sk-container-id-3 div.sk-estimator.fitted:hover {\n",
              "  /* fitted */\n",
              "  background-color: var(--sklearn-color-fitted-level-2);\n",
              "}\n",
              "\n",
              "/* Specification for estimator info (e.g. \"i\" and \"?\") */\n",
              "\n",
              "/* Common style for \"i\" and \"?\" */\n",
              "\n",
              ".sk-estimator-doc-link,\n",
              "a:link.sk-estimator-doc-link,\n",
              "a:visited.sk-estimator-doc-link {\n",
              "  float: right;\n",
              "  font-size: smaller;\n",
              "  line-height: 1em;\n",
              "  font-family: monospace;\n",
              "  background-color: var(--sklearn-color-background);\n",
              "  border-radius: 1em;\n",
              "  height: 1em;\n",
              "  width: 1em;\n",
              "  text-decoration: none !important;\n",
              "  margin-left: 0.5em;\n",
              "  text-align: center;\n",
              "  /* unfitted */\n",
              "  border: var(--sklearn-color-unfitted-level-1) 1pt solid;\n",
              "  color: var(--sklearn-color-unfitted-level-1);\n",
              "}\n",
              "\n",
              ".sk-estimator-doc-link.fitted,\n",
              "a:link.sk-estimator-doc-link.fitted,\n",
              "a:visited.sk-estimator-doc-link.fitted {\n",
              "  /* fitted */\n",
              "  border: var(--sklearn-color-fitted-level-1) 1pt solid;\n",
              "  color: var(--sklearn-color-fitted-level-1);\n",
              "}\n",
              "\n",
              "/* On hover */\n",
              "div.sk-estimator:hover .sk-estimator-doc-link:hover,\n",
              ".sk-estimator-doc-link:hover,\n",
              "div.sk-label-container:hover .sk-estimator-doc-link:hover,\n",
              ".sk-estimator-doc-link:hover {\n",
              "  /* unfitted */\n",
              "  background-color: var(--sklearn-color-unfitted-level-3);\n",
              "  color: var(--sklearn-color-background);\n",
              "  text-decoration: none;\n",
              "}\n",
              "\n",
              "div.sk-estimator.fitted:hover .sk-estimator-doc-link.fitted:hover,\n",
              ".sk-estimator-doc-link.fitted:hover,\n",
              "div.sk-label-container:hover .sk-estimator-doc-link.fitted:hover,\n",
              ".sk-estimator-doc-link.fitted:hover {\n",
              "  /* fitted */\n",
              "  background-color: var(--sklearn-color-fitted-level-3);\n",
              "  color: var(--sklearn-color-background);\n",
              "  text-decoration: none;\n",
              "}\n",
              "\n",
              "/* Span, style for the box shown on hovering the info icon */\n",
              ".sk-estimator-doc-link span {\n",
              "  display: none;\n",
              "  z-index: 9999;\n",
              "  position: relative;\n",
              "  font-weight: normal;\n",
              "  right: .2ex;\n",
              "  padding: .5ex;\n",
              "  margin: .5ex;\n",
              "  width: min-content;\n",
              "  min-width: 20ex;\n",
              "  max-width: 50ex;\n",
              "  color: var(--sklearn-color-text);\n",
              "  box-shadow: 2pt 2pt 4pt #999;\n",
              "  /* unfitted */\n",
              "  background: var(--sklearn-color-unfitted-level-0);\n",
              "  border: .5pt solid var(--sklearn-color-unfitted-level-3);\n",
              "}\n",
              "\n",
              ".sk-estimator-doc-link.fitted span {\n",
              "  /* fitted */\n",
              "  background: var(--sklearn-color-fitted-level-0);\n",
              "  border: var(--sklearn-color-fitted-level-3);\n",
              "}\n",
              "\n",
              ".sk-estimator-doc-link:hover span {\n",
              "  display: block;\n",
              "}\n",
              "\n",
              "/* \"?\"-specific style due to the `<a>` HTML tag */\n",
              "\n",
              "#sk-container-id-3 a.estimator_doc_link {\n",
              "  float: right;\n",
              "  font-size: 1rem;\n",
              "  line-height: 1em;\n",
              "  font-family: monospace;\n",
              "  background-color: var(--sklearn-color-background);\n",
              "  border-radius: 1rem;\n",
              "  height: 1rem;\n",
              "  width: 1rem;\n",
              "  text-decoration: none;\n",
              "  /* unfitted */\n",
              "  color: var(--sklearn-color-unfitted-level-1);\n",
              "  border: var(--sklearn-color-unfitted-level-1) 1pt solid;\n",
              "}\n",
              "\n",
              "#sk-container-id-3 a.estimator_doc_link.fitted {\n",
              "  /* fitted */\n",
              "  border: var(--sklearn-color-fitted-level-1) 1pt solid;\n",
              "  color: var(--sklearn-color-fitted-level-1);\n",
              "}\n",
              "\n",
              "/* On hover */\n",
              "#sk-container-id-3 a.estimator_doc_link:hover {\n",
              "  /* unfitted */\n",
              "  background-color: var(--sklearn-color-unfitted-level-3);\n",
              "  color: var(--sklearn-color-background);\n",
              "  text-decoration: none;\n",
              "}\n",
              "\n",
              "#sk-container-id-3 a.estimator_doc_link.fitted:hover {\n",
              "  /* fitted */\n",
              "  background-color: var(--sklearn-color-fitted-level-3);\n",
              "}\n",
              "</style><div id=\"sk-container-id-3\" class=\"sk-top-container\"><div class=\"sk-text-repr-fallback\"><pre>Pipeline(steps=[(&#x27;date_features&#x27;,\n",
              "                 FunctionTransformer(func=&lt;function extract_date_features at 0x122766f20&gt;)),\n",
              "                (&#x27;preprocessor&#x27;,\n",
              "                 ColumnTransformer(transformers=[(&#x27;cat&#x27;,\n",
              "                                                  OneHotEncoder(handle_unknown=&#x27;ignore&#x27;,\n",
              "                                                                sparse_output=False),\n",
              "                                                  [&#x27;city&#x27;, &#x27;shop&#x27;, &#x27;brand&#x27;,\n",
              "                                                   &#x27;container&#x27;, &#x27;capacity&#x27;,\n",
              "                                                   &#x27;day&#x27;, &#x27;month&#x27;, &#x27;year&#x27;]),\n",
              "                                                 (&#x27;num&#x27;, &#x27;passthrough&#x27;,\n",
              "                                                  [&#x27;lat&#x27;, &#x27;long&#x27;, &#x27;pop&#x27;,\n",
              "                                                   &#x27;price&#x27;])])),\n",
              "                (&#x27;regres...\n",
              "                              interaction_constraints=None, learning_rate=None,\n",
              "                              max_bin=None, max_cat_threshold=None,\n",
              "                              max_cat_to_onehot=None, max_delta_step=None,\n",
              "                              max_depth=None, max_leaves=None,\n",
              "                              min_child_weight=None, missing=nan,\n",
              "                              monotone_constraints=(0, 0, 0, 0, 0, 0, 0, 0, 0,\n",
              "                                                    0, 0, 0, 0, 0, 0, 0, 0, 0,\n",
              "                                                    0, 0, 0, 0, 0, 0, 0, 0, 0,\n",
              "                                                    0, 0, 0, ...),\n",
              "                              multi_strategy=None, n_estimators=None,\n",
              "                              n_jobs=None, num_parallel_tree=None, ...))])</pre><b>In a Jupyter environment, please rerun this cell to show the HTML representation or trust the notebook. <br />On GitHub, the HTML representation is unable to render, please try loading this page with nbviewer.org.</b></div><div class=\"sk-container\" hidden><div class=\"sk-item sk-dashed-wrapped\"><div class=\"sk-label-container\"><div class=\"sk-label fitted sk-toggleable\"><input class=\"sk-toggleable__control sk-hidden--visually\" id=\"sk-estimator-id-7\" type=\"checkbox\" ><label for=\"sk-estimator-id-7\" class=\"sk-toggleable__label fitted sk-toggleable__label-arrow\"><div><div>Pipeline</div></div><div><a class=\"sk-estimator-doc-link fitted\" rel=\"noreferrer\" target=\"_blank\" href=\"https://scikit-learn.org/1.6/modules/generated/sklearn.pipeline.Pipeline.html\">?<span>Documentation for Pipeline</span></a><span class=\"sk-estimator-doc-link fitted\">i<span>Fitted</span></span></div></label><div class=\"sk-toggleable__content fitted\"><pre>Pipeline(steps=[(&#x27;date_features&#x27;,\n",
              "                 FunctionTransformer(func=&lt;function extract_date_features at 0x122766f20&gt;)),\n",
              "                (&#x27;preprocessor&#x27;,\n",
              "                 ColumnTransformer(transformers=[(&#x27;cat&#x27;,\n",
              "                                                  OneHotEncoder(handle_unknown=&#x27;ignore&#x27;,\n",
              "                                                                sparse_output=False),\n",
              "                                                  [&#x27;city&#x27;, &#x27;shop&#x27;, &#x27;brand&#x27;,\n",
              "                                                   &#x27;container&#x27;, &#x27;capacity&#x27;,\n",
              "                                                   &#x27;day&#x27;, &#x27;month&#x27;, &#x27;year&#x27;]),\n",
              "                                                 (&#x27;num&#x27;, &#x27;passthrough&#x27;,\n",
              "                                                  [&#x27;lat&#x27;, &#x27;long&#x27;, &#x27;pop&#x27;,\n",
              "                                                   &#x27;price&#x27;])])),\n",
              "                (&#x27;regres...\n",
              "                              interaction_constraints=None, learning_rate=None,\n",
              "                              max_bin=None, max_cat_threshold=None,\n",
              "                              max_cat_to_onehot=None, max_delta_step=None,\n",
              "                              max_depth=None, max_leaves=None,\n",
              "                              min_child_weight=None, missing=nan,\n",
              "                              monotone_constraints=(0, 0, 0, 0, 0, 0, 0, 0, 0,\n",
              "                                                    0, 0, 0, 0, 0, 0, 0, 0, 0,\n",
              "                                                    0, 0, 0, 0, 0, 0, 0, 0, 0,\n",
              "                                                    0, 0, 0, ...),\n",
              "                              multi_strategy=None, n_estimators=None,\n",
              "                              n_jobs=None, num_parallel_tree=None, ...))])</pre></div> </div></div><div class=\"sk-serial\"><div class=\"sk-item\"><div class=\"sk-estimator fitted sk-toggleable\"><input class=\"sk-toggleable__control sk-hidden--visually\" id=\"sk-estimator-id-8\" type=\"checkbox\" ><label for=\"sk-estimator-id-8\" class=\"sk-toggleable__label fitted sk-toggleable__label-arrow\"><div><div>extract_date_features</div><div class=\"caption\">FunctionTransformer</div></div><div><a class=\"sk-estimator-doc-link fitted\" rel=\"noreferrer\" target=\"_blank\" href=\"https://scikit-learn.org/1.6/modules/generated/sklearn.preprocessing.FunctionTransformer.html\">?<span>Documentation for FunctionTransformer</span></a></div></label><div class=\"sk-toggleable__content fitted\"><pre>FunctionTransformer(func=&lt;function extract_date_features at 0x122766f20&gt;)</pre></div> </div></div><div class=\"sk-item sk-dashed-wrapped\"><div class=\"sk-label-container\"><div class=\"sk-label fitted sk-toggleable\"><input class=\"sk-toggleable__control sk-hidden--visually\" id=\"sk-estimator-id-9\" type=\"checkbox\" ><label for=\"sk-estimator-id-9\" class=\"sk-toggleable__label fitted sk-toggleable__label-arrow\"><div><div>preprocessor: ColumnTransformer</div></div><div><a class=\"sk-estimator-doc-link fitted\" rel=\"noreferrer\" target=\"_blank\" href=\"https://scikit-learn.org/1.6/modules/generated/sklearn.compose.ColumnTransformer.html\">?<span>Documentation for preprocessor: ColumnTransformer</span></a></div></label><div class=\"sk-toggleable__content fitted\"><pre>ColumnTransformer(transformers=[(&#x27;cat&#x27;,\n",
              "                                 OneHotEncoder(handle_unknown=&#x27;ignore&#x27;,\n",
              "                                               sparse_output=False),\n",
              "                                 [&#x27;city&#x27;, &#x27;shop&#x27;, &#x27;brand&#x27;, &#x27;container&#x27;,\n",
              "                                  &#x27;capacity&#x27;, &#x27;day&#x27;, &#x27;month&#x27;, &#x27;year&#x27;]),\n",
              "                                (&#x27;num&#x27;, &#x27;passthrough&#x27;,\n",
              "                                 [&#x27;lat&#x27;, &#x27;long&#x27;, &#x27;pop&#x27;, &#x27;price&#x27;])])</pre></div> </div></div><div class=\"sk-parallel\"><div class=\"sk-parallel-item\"><div class=\"sk-item\"><div class=\"sk-label-container\"><div class=\"sk-label fitted sk-toggleable\"><input class=\"sk-toggleable__control sk-hidden--visually\" id=\"sk-estimator-id-10\" type=\"checkbox\" ><label for=\"sk-estimator-id-10\" class=\"sk-toggleable__label fitted sk-toggleable__label-arrow\"><div><div>cat</div></div></label><div class=\"sk-toggleable__content fitted\"><pre>[&#x27;city&#x27;, &#x27;shop&#x27;, &#x27;brand&#x27;, &#x27;container&#x27;, &#x27;capacity&#x27;, &#x27;day&#x27;, &#x27;month&#x27;, &#x27;year&#x27;]</pre></div> </div></div><div class=\"sk-serial\"><div class=\"sk-item\"><div class=\"sk-estimator fitted sk-toggleable\"><input class=\"sk-toggleable__control sk-hidden--visually\" id=\"sk-estimator-id-11\" type=\"checkbox\" ><label for=\"sk-estimator-id-11\" class=\"sk-toggleable__label fitted sk-toggleable__label-arrow\"><div><div>OneHotEncoder</div></div><div><a class=\"sk-estimator-doc-link fitted\" rel=\"noreferrer\" target=\"_blank\" href=\"https://scikit-learn.org/1.6/modules/generated/sklearn.preprocessing.OneHotEncoder.html\">?<span>Documentation for OneHotEncoder</span></a></div></label><div class=\"sk-toggleable__content fitted\"><pre>OneHotEncoder(handle_unknown=&#x27;ignore&#x27;, sparse_output=False)</pre></div> </div></div></div></div></div><div class=\"sk-parallel-item\"><div class=\"sk-item\"><div class=\"sk-label-container\"><div class=\"sk-label fitted sk-toggleable\"><input class=\"sk-toggleable__control sk-hidden--visually\" id=\"sk-estimator-id-12\" type=\"checkbox\" ><label for=\"sk-estimator-id-12\" class=\"sk-toggleable__label fitted sk-toggleable__label-arrow\"><div><div>num</div></div></label><div class=\"sk-toggleable__content fitted\"><pre>[&#x27;lat&#x27;, &#x27;long&#x27;, &#x27;pop&#x27;, &#x27;price&#x27;]</pre></div> </div></div><div class=\"sk-serial\"><div class=\"sk-item\"><div class=\"sk-estimator fitted sk-toggleable\"><input class=\"sk-toggleable__control sk-hidden--visually\" id=\"sk-estimator-id-13\" type=\"checkbox\" ><label for=\"sk-estimator-id-13\" class=\"sk-toggleable__label fitted sk-toggleable__label-arrow\"><div><div>passthrough</div></div></label><div class=\"sk-toggleable__content fitted\"><pre>passthrough</pre></div> </div></div></div></div></div></div></div><div class=\"sk-item\"><div class=\"sk-estimator fitted sk-toggleable\"><input class=\"sk-toggleable__control sk-hidden--visually\" id=\"sk-estimator-id-14\" type=\"checkbox\" ><label for=\"sk-estimator-id-14\" class=\"sk-toggleable__label fitted sk-toggleable__label-arrow\"><div><div>XGBRegressor</div></div><div><a class=\"sk-estimator-doc-link fitted\" rel=\"noreferrer\" target=\"_blank\" href=\"https://xgboost.readthedocs.io/en/release_3.0.0/python/python_api.html#xgboost.XGBRegressor\">?<span>Documentation for XGBRegressor</span></a></div></label><div class=\"sk-toggleable__content fitted\"><pre>XGBRegressor(base_score=None, booster=None, callbacks=None,\n",
              "             colsample_bylevel=None, colsample_bynode=None,\n",
              "             colsample_bytree=None, device=None, early_stopping_rounds=None,\n",
              "             enable_categorical=False, eval_metric=None, feature_types=None,\n",
              "             feature_weights=None, gamma=None, grow_policy=None,\n",
              "             importance_type=None, interaction_constraints=None,\n",
              "             learning_rate=None, max_bin=None, max_cat_threshold=None,\n",
              "             max_cat_to_onehot=None, max_delta_step=None, max_depth=None,\n",
              "             max_leaves=None, min_child_weight=None, missing=nan,\n",
              "             monotone_constraints=(0, 0, 0, 0, 0, 0, 0, 0, 0, 0, 0, 0, 0, 0, 0,\n",
              "                                   0, 0, 0, 0, 0, 0, 0, 0, 0, 0, 0, 0, 0, 0, 0, ...),\n",
              "             multi_strategy=None, n_estimators=None, n_jobs=None,\n",
              "             num_parallel_tree=None, ...)</pre></div> </div></div></div></div></div></div>"
            ],
            "text/plain": [
              "Pipeline(steps=[('date_features',\n",
              "                 FunctionTransformer(func=<function extract_date_features at 0x122766f20>)),\n",
              "                ('preprocessor',\n",
              "                 ColumnTransformer(transformers=[('cat',\n",
              "                                                  OneHotEncoder(handle_unknown='ignore',\n",
              "                                                                sparse_output=False),\n",
              "                                                  ['city', 'shop', 'brand',\n",
              "                                                   'container', 'capacity',\n",
              "                                                   'day', 'month', 'year']),\n",
              "                                                 ('num', 'passthrough',\n",
              "                                                  ['lat', 'long', 'pop',\n",
              "                                                   'price'])])),\n",
              "                ('regres...\n",
              "                              interaction_constraints=None, learning_rate=None,\n",
              "                              max_bin=None, max_cat_threshold=None,\n",
              "                              max_cat_to_onehot=None, max_delta_step=None,\n",
              "                              max_depth=None, max_leaves=None,\n",
              "                              min_child_weight=None, missing=nan,\n",
              "                              monotone_constraints=(0, 0, 0, 0, 0, 0, 0, 0, 0,\n",
              "                                                    0, 0, 0, 0, 0, 0, 0, 0, 0,\n",
              "                                                    0, 0, 0, 0, 0, 0, 0, 0, 0,\n",
              "                                                    0, 0, 0, ...),\n",
              "                              multi_strategy=None, n_estimators=None,\n",
              "                              n_jobs=None, num_parallel_tree=None, ...))])"
            ]
          },
          "execution_count": 15,
          "metadata": {},
          "output_type": "execute_result"
        }
      ],
      "source": [
        "# 1. Entrenamiento con relación monótona\n",
        "\n",
        "feature_names = preprocessor.get_feature_names_out()\n",
        "\n",
        "# crear relaciones:\n",
        "monotonic_constraints = []\n",
        "for name in feature_names:\n",
        "    if \"price\" in name:\n",
        "        monotonic_constraints.append(-1)\n",
        "    else:\n",
        "        monotonic_constraints.append(0)\n",
        "\n",
        "monotonic_constraints = tuple(monotonic_constraints)\n",
        "\n",
        "# definición de pipeline:\n",
        "constrained_pipeline = Pipeline([\n",
        "    (\"date_features\", date_transformer),\n",
        "    (\"preprocessor\", preprocessor),\n",
        "    (\"regressor\", XGBRegressor(monotone_constraints=monotonic_constraints, random_state=rs))\n",
        "])\n",
        "\n",
        "constrained_pipeline.fit(X_train, y_train)"
      ]
    },
    {
      "cell_type": "code",
      "execution_count": 16,
      "metadata": {
        "colab": {
          "base_uri": "https://localhost:8080/"
        },
        "id": "1GeP7uderMAm",
        "outputId": "da1a29f8-adc9-4fd7-aa7c-26e8c58c9e3d"
      },
      "outputs": [
        {
          "name": "stdout",
          "output_type": "stream",
          "text": [
            "MAE con restricción monótona: 2528.49\n"
          ]
        }
      ],
      "source": [
        "# 2. medir mae en conjunto validación\n",
        "y_pred2 = constrained_pipeline.predict(X_val)\n",
        "mae_constrained = mean_absolute_error(y_val, y_pred2)\n",
        "print(f\"MAE con restricción monótona: {mae_constrained:.2f}\")"
      ]
    },
    {
      "cell_type": "code",
      "execution_count": 17,
      "metadata": {
        "colab": {
          "base_uri": "https://localhost:8080/"
        },
        "id": "bga1EenYuybS",
        "outputId": "ca696cfa-77bb-4542-b464-4ed5671b3314"
      },
      "outputs": [
        {
          "name": "stdout",
          "output_type": "stream",
          "text": [
            "Mae sin restricción:2399.620361328125\n",
            "Mae con restricción: 2528.4853515625\n",
            "Diferencia: 128.864990234375\n"
          ]
        }
      ],
      "source": [
        "# 3. Comparar con modelo anterior:\n",
        "print(f\"Mae sin restricción:{mae_xgb}\")\n",
        "print(f\"Mae con restricción: {mae_constrained}\")\n",
        "print(f\"Diferencia: {mae_constrained - mae_xgb}\")"
      ]
    },
    {
      "cell_type": "markdown",
      "metadata": {
        "id": "mWY1fPuSyEAn"
      },
      "source": [
        "Notamos que el error aumenta levemente al aplicar la relación. El amigo claramente tiene razón al decir que la demanda disminuye al aumentar el precio (gráfico parte 0), sin embargo, al forzarlo en el modelo este parece no aprender más. Esto se puede deber a que la restricción limita al modelo a aprender patrones más complejos o bien que el precio no tiene mucha influencia."
      ]
    },
    {
      "cell_type": "code",
      "execution_count": 18,
      "metadata": {
        "colab": {
          "base_uri": "https://localhost:8080/"
        },
        "id": "vc2t3-qXyDrM",
        "outputId": "5fd2580f-c9ce-4ddb-9925-ec069d544241"
      },
      "outputs": [
        {
          "data": {
            "text/plain": [
              "['constrained_model.pkl']"
            ]
          },
          "execution_count": 18,
          "metadata": {},
          "output_type": "execute_result"
        }
      ],
      "source": [
        "# 4. guardar modelo\n",
        "joblib.dump(constrained_pipeline, \"constrained_model.pkl\")"
      ]
    },
    {
      "cell_type": "markdown",
      "metadata": {
        "cell_id": "e59ef80ed20b4de8921f24da74e87374",
        "deepnote_cell_type": "markdown",
        "id": "5D5-tX4dI5v_"
      },
      "source": [
        "## 3 Optimización de Hiperparámetros con Optuna (20 puntos)\n",
        "\n",
        "<p align=\"center\">\n",
        "  <img src=\"https://media.tenor.com/fmNdyGN4z5kAAAAi/hacking-lucy.gif\">\n",
        "</p>\n",
        "\n",
        "Luego de presentarle sus resultados, Fiu le pregunta si es posible mejorar *aun más* su modelo. En particular, le comenta de la optimización de hiperparámetros con metodologías bayesianas a través del paquete `optuna`. Como usted es un aficionado al entrenamiento de modelos de ML, se propone implementar la descabellada idea de su jefe.\n",
        "\n",
        "A partir de la mejor configuración obtenida en la sección anterior, utilice `optuna` para optimizar sus hiperparámetros. En particular, se pide que su optimización considere lo siguiente:\n",
        "\n",
        "- Fijar una semilla en las instancias necesarias para garantizar la reproducibilidad de resultados\n",
        "- Utilice `TPESampler` como método de muestreo\n",
        "- De `XGBRegressor`, optimice los siguientes hiperparámetros:\n",
        "    - `learning_rate` buscando valores flotantes en el rango (0.001, 0.1)\n",
        "    - `n_estimators` buscando valores enteros en el rango (50, 1000)\n",
        "    - `max_depth` buscando valores enteros en el rango (3, 10)\n",
        "    - `max_leaves` buscando valores enteros en el rango (0, 100)\n",
        "    - `min_child_weight` buscando valores enteros en el rango (1, 5)\n",
        "    - `reg_alpha` buscando valores flotantes en el rango (0, 1)\n",
        "    - `reg_lambda` buscando valores flotantes en el rango (0, 1)\n",
        "- De `OneHotEncoder`, optimice el hiperparámetro `min_frequency` buscando el mejor valor flotante en el rango (0.0, 1.0)\n",
        "\n",
        "Para ello se pide los siguientes pasos:\n",
        "1. Implemente una función `objective()` que permita minimizar el `MAE` en el conjunto de validación. Use el método `.set_user_attr()` para almacenar el mejor pipeline entrenado. [10 puntos]\n",
        "2. Fije el tiempo de entrenamiento a 5 minutos. [1 punto]\n",
        "3. Optimizar el modelo y reportar el número de *trials*, el `MAE` y los mejores hiperparámetros encontrados. ¿Cómo cambian sus resultados con respecto a la sección anterior? ¿A qué se puede deber esto? [3 puntos]\n",
        "4. Explique cada hiperparámetro y su rol en el modelo. ¿Hacen sentido los rangos de optimización indicados? [5 puntos]\n",
        "5. Guardar su modelo en un archivo .pkl [1 punto]"
      ]
    },
    {
      "cell_type": "code",
      "execution_count": 19,
      "metadata": {
        "cell_id": "de5914621cc64cb0b1bacb9ff565a97e",
        "deepnote_cell_type": "code",
        "id": "kMXXi1ckI5v_"
      },
      "outputs": [
        {
          "name": "stderr",
          "output_type": "stream",
          "text": [
            "/Users/vicenteonetto/Desktop/FCFM/11o semestre/Programación Científica para Ciencias de Datos/Lab 6 - Optimizacion/.venv/lib/python3.12/site-packages/tqdm/auto.py:21: TqdmWarning: IProgress not found. Please update jupyter and ipywidgets. See https://ipywidgets.readthedocs.io/en/stable/user_install.html\n",
            "  from .autonotebook import tqdm as notebook_tqdm\n"
          ]
        }
      ],
      "source": [
        "import optuna\n",
        "from optuna.samplers import TPESampler\n",
        "optuna.logging.set_verbosity(optuna.logging.WARNING)\n",
        "\n",
        "# 1. Implementar función objective\n",
        "def objective(trial):\n",
        "    # Hiperparámetros:\n",
        "    learning_rate = trial.suggest_float(\"learning_rate\", 0.001, 0.1)\n",
        "    n_estimators = trial.suggest_int(\"n_estimators\", 50, 1000)\n",
        "    max_depth = trial.suggest_int(\"max_depth\", 3, 10)\n",
        "    max_leaves = trial.suggest_int(\"max_leaves\", 0, 100)\n",
        "    min_child_weight = trial.suggest_int(\"min_child_weight\", 1, 5)\n",
        "    reg_alpha = trial.suggest_float(\"reg_alpha\", 0.0, 1.0)\n",
        "    reg_lambda = trial.suggest_float(\"reg_lambda\", 0.0, 1.0)\n",
        "    min_frequency = trial.suggest_float(\"min_frequency\", 0.0, 1.0)\n",
        "\n",
        "    # Preprocesamiento\n",
        "    onehot_encoder = OneHotEncoder(min_frequency=min_frequency, sparse_output=False, handle_unknown='ignore')\n",
        "\n",
        "    updated_preprocessor = ColumnTransformer([\n",
        "        (\"cat\", onehot_encoder, categorical_cols),\n",
        "        (\"num\", \"passthrough\", numerical_cols)\n",
        "    ])\n",
        "\n",
        "    model = XGBRegressor(\n",
        "        learning_rate=learning_rate,\n",
        "        n_estimators=n_estimators,\n",
        "        max_depth=max_depth,\n",
        "        max_leaves=max_leaves,\n",
        "        min_child_weight=min_child_weight,\n",
        "        reg_alpha=reg_alpha,\n",
        "        reg_lambda=reg_lambda,\n",
        "        random_state=rs,\n",
        "        n_jobs=-1\n",
        "    )\n",
        "\n",
        "    pipe = Pipeline([\n",
        "        (\"date_features\", date_transformer),\n",
        "        (\"preprocessor\", updated_preprocessor),\n",
        "        (\"regressor\", model)\n",
        "    ])\n",
        "\n",
        "    pipe.fit(X_train, y_train)\n",
        "    y_pred = pipe.predict(X_val)\n",
        "    mae = mean_absolute_error(y_val, y_pred)\n",
        "\n",
        "    trial.set_user_attr(\"model\", pipe)\n",
        "    return mae"
      ]
    },
    {
      "cell_type": "code",
      "execution_count": 20,
      "metadata": {
        "colab": {
          "base_uri": "https://localhost:8080/"
        },
        "id": "f_BIeepUCcfd",
        "outputId": "2e728ca5-270d-4f36-9e6c-dde3900f5518"
      },
      "outputs": [
        {
          "name": "stdout",
          "output_type": "stream",
          "text": [
            "Trials: 152\n",
            "Mejor MAE: 1952.5050\n",
            "Mejores hiperparámetros:\n",
            "  learning_rate: 0.07355634007023468\n",
            "  n_estimators: 874\n",
            "  max_depth: 10\n",
            "  max_leaves: 67\n",
            "  min_child_weight: 4\n",
            "  reg_alpha: 0.8471610539145066\n",
            "  reg_lambda: 0.007226064052913079\n",
            "  min_frequency: 0.00612515932188773\n"
          ]
        }
      ],
      "source": [
        "# 2-3. Fijar tiempo de entrenamiento y optimizar\n",
        "study = optuna.create_study(direction=\"minimize\", sampler=TPESampler(seed=rs))\n",
        "study.optimize(objective, timeout=300)\n",
        "\n",
        "best_trial = study.best_trial\n",
        "print(f\"Trials: {len(study.trials)}\")\n",
        "print(f\"Mejor MAE: {best_trial.value:.4f}\")\n",
        "print(\"Mejores hiperparámetros:\")\n",
        "for k, v in best_trial.params.items():\n",
        "    print(f\"  {k}: {v}\")"
      ]
    },
    {
      "cell_type": "markdown",
      "metadata": {
        "id": "i-WBGDn_DBGE"
      },
      "source": [
        "3. Tras optimizar, se obtiene un modelo con un menor valor de MAE de 1953.5 (447 menos que el baseline). La razón detrás es que Optuna permite elegir los mejores hiperparámetros para minimizar el MAE, naturalmente haciendolo un mejor modelo."
      ]
    },
    {
      "cell_type": "markdown",
      "metadata": {
        "id": "zLGn0mitDo0Z"
      },
      "source": [
        "4. Explicación de hiperparámetros:\n",
        "\n",
        "- **learning_rate (0.001, 0.1)**: Controla la velocidad de aprendizaje del modelo. Cuanto menor, más lento pero preciso el ajuste. Se utiliza un rango conservador típico para evitar sobreajuste.\n",
        "\n",
        "- **n_estimators (50, 1000)**: Número de árboles (boosting rounds) que utiliza el modelo. Más árboles pueden capturar mejor patrones, pero también tardan más. Tiene un rango razonable que cubre modelos rápidos y modelos más complejos.\n",
        "\n",
        "- **max_depth (3, 10)**: Indica la profundidad máxima de cada árbol. Más profundidad implica más complejidad. El rango de 3 a 10 entrega un buen compromiso entre underfitting y overfitting, pero se podria explorar un modelo más complejo.\n",
        "\n",
        "- **max_leaves (0, 100)**: Se refiere al número máximo de hojas en los árboles del modelo. El rango es curioso, pues un numero máximo de 0 hojas haria un modelo vacio, sin embargo, tiene sentido que lo limite hasta 100 para no hacer un modelo demasiado complejo.\n",
        "\n",
        "- **min_child_weight (1, 5)**: Este parámetro indica la mínima suma de pesos de observaciones necesarias para dividir un nodo. Un valor más alto indica un modelo más conservador. El rango de 1 a 5 permite evitar splits por ruido, pero se podrian probar para valores más alto dado que optuna sugiere el valor más alto.\n",
        "\n",
        "- **reg_alpha (0, 1)**: Este parámetro penaliza por L1 (sparse weights). Tiene un rango que ayuda a regularización y a reducir overfitting en el modelo.\n",
        "\n",
        "- **reg_lambda (0, 1)**: Similar al anterior, pero penaliza por L2. Ayuda a controlar la magnitud de los coeficientes. El rango tiene sentido, pero se podrian explorar valores mayores.\n",
        "\n",
        "- **min_frequency (0, 1)**: Usado para el one hot encoder, computa la minima frecuencia en el dataset que debe tener una categoria para ser considerada. El rango cubre todas las posibilidades por lo que tiene sentido."
      ]
    },
    {
      "cell_type": "code",
      "execution_count": 21,
      "metadata": {
        "id": "VIngi0hpChUs"
      },
      "outputs": [],
      "source": [
        "# 5. Guardar el modelo\n",
        "\n",
        "import pickle\n",
        "with open(\"modelo_optuna.pkl\", \"wb\") as f:\n",
        "    pickle.dump(best_trial.user_attrs[\"model\"], f)"
      ]
    },
    {
      "cell_type": "markdown",
      "metadata": {
        "cell_id": "5195ccfc37e044ad9453f6eb2754f631",
        "deepnote_cell_type": "markdown",
        "id": "ZglyD_QWI5wA"
      },
      "source": [
        "## 4. Optimización de Hiperparámetros con Optuna y Prunners (17 puntos)\n",
        "\n",
        "<p align=\"center\">\n",
        "  <img src=\"https://i.pinimg.com/originals/90/16/f9/9016f919c2259f3d0e8fe465049638a7.gif\">\n",
        "</p>\n",
        "\n",
        "Después de optimizar el rendimiento de su modelo varias veces, Fiu le pregunta si no es posible optimizar el entrenamiento del modelo en sí mismo. Después de leer un par de post de personas de dudosa reputación en la *deepweb*, usted llega a la conclusión que puede cumplir este objetivo mediante la implementación de **Prunning**.\n",
        "\n",
        "Vuelva a optimizar los mismos hiperparámetros que la sección pasada, pero esta vez utilizando **Prunning** en la optimización. En particular, usted debe:\n",
        "\n",
        "- Responder: ¿Qué es prunning? ¿De qué forma debería impactar en el entrenamiento? [2 puntos]\n",
        "- Redefinir la función `objective()` utilizando `optuna.integration.XGBoostPruningCallback` como método de **Prunning** [10 puntos]\n",
        "- Fijar nuevamente el tiempo de entrenamiento a 5 minutos [1 punto]\n",
        "- Reportar el número de *trials*, el `MAE` y los mejores hiperparámetros encontrados. ¿Cómo cambian sus resultados con respecto a la sección anterior? ¿A qué se puede deber esto? [3 puntos]\n",
        "- Guardar su modelo en un archivo .pkl [1 punto]\n",
        "\n",
        "Nota: Si quieren silenciar los prints obtenidos en el prunning, pueden hacerlo mediante el siguiente comando:\n",
        "\n",
        "```\n",
        "optuna.logging.set_verbosity(optuna.logging.WARNING)\n",
        "```\n",
        "\n",
        "De implementar la opción anterior, pueden especificar `show_progress_bar = True` en el método `optimize` para *más sabor*.\n",
        "\n",
        "Hint: Si quieren especificar parámetros del método .fit() del modelo a través del pipeline, pueden hacerlo por medio de la siguiente sintaxis: `pipeline.fit(stepmodelo__parametro = valor)`\n",
        "\n",
        "Hint2: Este <a href = https://stackoverflow.com/questions/40329576/sklearn-pass-fit-parameters-to-xgboost-in-pipeline>enlace</a> les puede ser de ayuda en su implementación"
      ]
    },
    {
      "cell_type": "markdown",
      "metadata": {
        "id": "mJdmtZwipopS"
      },
      "source": [
        "### Respuesta ¿Qué es prunning? ¿De qué forma debería impactar en el entrenamiento?\n",
        "\n",
        "Prunning en el contexto de la optmizicación de hiperparámetros es un mecanismo para interrumpir tempranamente las búsquedas de hiperparámetros que muestran un desempeño mucho menos \"prometedor\" que el resto. El objetivo es ahorrar tiempo y recursos computacionales. Esto debiese impactar drásticamente en el tiempo total de la optimización, al concentrar los cómputos en las búsquedas más prometedoras. En Optuna, para XGBoost se suele usar XGBoostPruningCallback\n"
      ]
    },
    {
      "cell_type": "code",
      "execution_count": 22,
      "metadata": {
        "colab": {
          "base_uri": "https://localhost:8080/"
        },
        "id": "5IEEZnb-cwP_",
        "outputId": "c22dc490-6c1f-45ce-cf8f-b9b5e057fb4f"
      },
      "outputs": [
        {
          "name": "stdout",
          "output_type": "stream",
          "text": [
            "Requirement already satisfied: xgboost in ./.venv/lib/python3.12/site-packages (3.0.0)\n",
            "Requirement already satisfied: optuna in ./.venv/lib/python3.12/site-packages (4.3.0)\n",
            "Requirement already satisfied: numpy in ./.venv/lib/python3.12/site-packages (from xgboost) (2.2.5)\n",
            "Requirement already satisfied: scipy in ./.venv/lib/python3.12/site-packages (from xgboost) (1.15.2)\n",
            "Requirement already satisfied: alembic>=1.5.0 in ./.venv/lib/python3.12/site-packages (from optuna) (1.15.2)\n",
            "Requirement already satisfied: colorlog in ./.venv/lib/python3.12/site-packages (from optuna) (6.9.0)\n",
            "Requirement already satisfied: packaging>=20.0 in ./.venv/lib/python3.12/site-packages (from optuna) (25.0)\n",
            "Requirement already satisfied: sqlalchemy>=1.4.2 in ./.venv/lib/python3.12/site-packages (from optuna) (2.0.40)\n",
            "Requirement already satisfied: tqdm in ./.venv/lib/python3.12/site-packages (from optuna) (4.67.1)\n",
            "Requirement already satisfied: PyYAML in ./.venv/lib/python3.12/site-packages (from optuna) (6.0.2)\n",
            "Requirement already satisfied: Mako in ./.venv/lib/python3.12/site-packages (from alembic>=1.5.0->optuna) (1.3.10)\n",
            "Requirement already satisfied: typing-extensions>=4.12 in ./.venv/lib/python3.12/site-packages (from alembic>=1.5.0->optuna) (4.13.2)\n",
            "Requirement already satisfied: MarkupSafe>=0.9.2 in ./.venv/lib/python3.12/site-packages (from Mako->alembic>=1.5.0->optuna) (3.0.2)\n",
            "Note: you may need to restart the kernel to use updated packages.\n",
            "Requirement already satisfied: optuna-integration[xgboost] in ./.venv/lib/python3.12/site-packages (4.3.0)\n",
            "Requirement already satisfied: optuna in ./.venv/lib/python3.12/site-packages (from optuna-integration[xgboost]) (4.3.0)\n",
            "Requirement already satisfied: xgboost in ./.venv/lib/python3.12/site-packages (from optuna-integration[xgboost]) (3.0.0)\n",
            "Requirement already satisfied: alembic>=1.5.0 in ./.venv/lib/python3.12/site-packages (from optuna->optuna-integration[xgboost]) (1.15.2)\n",
            "Requirement already satisfied: colorlog in ./.venv/lib/python3.12/site-packages (from optuna->optuna-integration[xgboost]) (6.9.0)\n",
            "Requirement already satisfied: numpy in ./.venv/lib/python3.12/site-packages (from optuna->optuna-integration[xgboost]) (2.2.5)\n",
            "Requirement already satisfied: packaging>=20.0 in ./.venv/lib/python3.12/site-packages (from optuna->optuna-integration[xgboost]) (25.0)\n",
            "Requirement already satisfied: sqlalchemy>=1.4.2 in ./.venv/lib/python3.12/site-packages (from optuna->optuna-integration[xgboost]) (2.0.40)\n",
            "Requirement already satisfied: tqdm in ./.venv/lib/python3.12/site-packages (from optuna->optuna-integration[xgboost]) (4.67.1)\n",
            "Requirement already satisfied: PyYAML in ./.venv/lib/python3.12/site-packages (from optuna->optuna-integration[xgboost]) (6.0.2)\n",
            "Requirement already satisfied: Mako in ./.venv/lib/python3.12/site-packages (from alembic>=1.5.0->optuna->optuna-integration[xgboost]) (1.3.10)\n",
            "Requirement already satisfied: typing-extensions>=4.12 in ./.venv/lib/python3.12/site-packages (from alembic>=1.5.0->optuna->optuna-integration[xgboost]) (4.13.2)\n",
            "Requirement already satisfied: MarkupSafe>=0.9.2 in ./.venv/lib/python3.12/site-packages (from Mako->alembic>=1.5.0->optuna->optuna-integration[xgboost]) (3.0.2)\n",
            "Requirement already satisfied: scipy in ./.venv/lib/python3.12/site-packages (from xgboost->optuna-integration[xgboost]) (1.15.2)\n",
            "Note: you may need to restart the kernel to use updated packages.\n"
          ]
        }
      ],
      "source": [
        "%pip install --upgrade xgboost optuna\n",
        "%pip install \"optuna-integration[xgboost]\"\n",
        "\n"
      ]
    },
    {
      "cell_type": "code",
      "execution_count": 23,
      "metadata": {
        "cell_id": "eeaa967cd8f6426d8c54f276c17dce79",
        "colab": {
          "base_uri": "https://localhost:8080/",
          "height": 211
        },
        "deepnote_cell_type": "code",
        "id": "sST6Wtj5I5wA",
        "outputId": "92686557-60e6-4c11-8115-8de75fc72f09"
      },
      "outputs": [
        {
          "name": "stdout",
          "output_type": "stream",
          "text": [
            "Columnas de X_train: ['date', 'city', 'lat', 'long', 'pop', 'shop', 'brand', 'container', 'capacity', 'price']\n",
            "Categorical cols: ['city', 'shop', 'brand', 'container', 'capacity', 'day', 'month', 'year']\n",
            "Numerical cols: ['lat', 'long', 'pop', 'price']\n"
          ]
        },
        {
          "name": "stderr",
          "output_type": "stream",
          "text": [
            "Best trial: 92. Best value: 1900.94:  100%|██████████| 05:00/05:00\n"
          ]
        },
        {
          "name": "stdout",
          "output_type": "stream",
          "text": [
            "\n",
            "→ Trials completados: 932\n",
            "→ Mejor MAE con pruning: 1900.94\n",
            "→ Hiperparámetros óptimos:\n",
            "   • learning_rate: 0.09805582238908601\n",
            "   • max_depth: 10\n",
            "   • max_leaves: 100\n",
            "   • min_child_weight: 3\n",
            "   • reg_alpha: 0.6575768332950425\n",
            "   • reg_lambda: 0.9864590628250672\n",
            "   • n_estimators: 658\n",
            "   • min_frequency: 0.03033638055122641\n"
          ]
        },
        {
          "data": {
            "text/plain": [
              "['pruned_model.pkl']"
            ]
          },
          "execution_count": 23,
          "metadata": {},
          "output_type": "execute_result"
        }
      ],
      "source": [
        "import optuna\n",
        "from optuna.samplers import TPESampler\n",
        "from optuna.integration import XGBoostPruningCallback\n",
        "import xgboost as xgb\n",
        "from sklearn.compose import ColumnTransformer\n",
        "from sklearn.preprocessing import OneHotEncoder\n",
        "from sklearn.metrics import mean_absolute_error\n",
        "\n",
        "# comprobamos que nuestras listas estén bien\n",
        "print(\"Columnas de X_train:\", X_train.columns.tolist())\n",
        "print(\"Categorical cols:\", categorical_cols)\n",
        "print(\"Numerical cols:\", numerical_cols)\n",
        "\n",
        "# 1) Creamos el Study con pruner\n",
        "study_prune = optuna.create_study(\n",
        "    direction=\"minimize\",\n",
        "    sampler=TPESampler(seed=rs),\n",
        "    pruner=optuna.pruners.MedianPruner(n_warmup_steps=10)\n",
        ")\n",
        "\n",
        "# 2) Definimos la función objective \n",
        "def objective_prune(trial):\n",
        "    \n",
        "    params = {\n",
        "        \"objective\": \"reg:squarederror\",\n",
        "        \"eval_metric\": \"mae\",\n",
        "        \"learning_rate\": trial.suggest_float(\"learning_rate\", 0.001, 0.1),\n",
        "        \"max_depth\": trial.suggest_int(\"max_depth\", 3, 10),\n",
        "        \"max_leaves\": trial.suggest_int(\"max_leaves\", 0, 100),\n",
        "        \"min_child_weight\": trial.suggest_int(\"min_child_weight\", 1, 5),\n",
        "        \"reg_alpha\": trial.suggest_float(\"reg_alpha\", 0.0, 1.0),\n",
        "        \"reg_lambda\": trial.suggest_float(\"reg_lambda\", 0.0, 1.0),\n",
        "        \"seed\": rs,\n",
        "        \"verbosity\": 0,\n",
        "    }\n",
        "    n_rounds = trial.suggest_int(\"n_estimators\", 50, 1000)\n",
        "\n",
        "    # 2) Reconstruimos el preprocesador con el OneHotEncoder \n",
        "    min_freq = trial.suggest_float(\"min_frequency\", 0.0, 1.0)\n",
        "    ohe = OneHotEncoder(\n",
        "        handle_unknown=\"ignore\",\n",
        "        sparse_output=False,\n",
        "        min_frequency=min_freq\n",
        "    )\n",
        "    preproc = ColumnTransformer([\n",
        "        (\"cat\", ohe, categorical_cols),\n",
        "        (\"num\", \"passthrough\", numerical_cols)\n",
        "    ]).set_output(transform=\"pandas\")\n",
        "\n",
        "    \n",
        "    # Primero aplico el transformer de fecha\n",
        "    Xdt_tr = date_transformer.transform(X_train)\n",
        "    Xdt_vl = date_transformer.transform(X_val)\n",
        "\n",
        "    # Luego ajusto y transformo con el preprocesador\n",
        "    Xtr = preproc.fit_transform(Xdt_tr)\n",
        "    Xvl = preproc.transform(Xdt_vl)\n",
        "\n",
        "   \n",
        "    dtrain = xgb.DMatrix(Xtr, label=y_train)\n",
        "    dvalid = xgb.DMatrix(Xvl, label=y_val)\n",
        "\n",
        "    # 5) Callback de pruning\n",
        "    pruning_cb = XGBoostPruningCallback(trial, \"validation-mae\")\n",
        "\n",
        "    # 6) Entreno con xgb.train\n",
        "    booster = xgb.train(\n",
        "        params=params,\n",
        "        dtrain=dtrain,\n",
        "        num_boost_round=n_rounds,\n",
        "        evals=[(dvalid, \"validation\")],\n",
        "        callbacks=[pruning_cb],\n",
        "        verbose_eval=False\n",
        "    )\n",
        "\n",
        "    # 7) Predicción y cálculo de MAE\n",
        "    preds = booster.predict(dvalid)\n",
        "    mae = mean_absolute_error(y_val, preds)\n",
        "\n",
        "    # 8) Guardamos el preprocesador y el booster\n",
        "    trial.set_user_attr(\"model\", (preproc, booster))\n",
        "    return mae\n",
        "\n",
        "\n",
        "# 3) Ejecutamos la optimización (5 minutos)\n",
        "optuna.logging.set_verbosity(optuna.logging.WARNING)\n",
        "study_prune.optimize(objective_prune, timeout=300, show_progress_bar=True)\n",
        "\n",
        "# 4) Reportamos resultados\n",
        "best = study_prune.best_trial\n",
        "print(f\"\\n→ Trials completados: {len(study_prune.trials)}\")\n",
        "print(f\"→ Mejor MAE con pruning: {best.value:.2f}\")\n",
        "print(\"→ Hiperparámetros óptimos:\")\n",
        "for k, v in best.params.items():\n",
        "    print(f\"   • {k}: {v}\")\n",
        "\n",
        "# 5) Guardamos el mejor modelo\n",
        "import joblib\n",
        "# para recuperar usamos preproc, booster = best.user_attrs[\"model\"]\n",
        "joblib.dump(best.user_attrs[\"model\"], \"pruned_model.pkl\")\n",
        "\n"
      ]
    },
    {
      "cell_type": "markdown",
      "metadata": {},
      "source": [
        "Notemos que para el número de trials:\n",
        "\n",
        "- Sin pruning (sección 3): 152 trials en 5 min.\n",
        "\n",
        "- Con pruning (sección 4.2): 957 trials en 5 min.\n",
        "\n",
        "Explicación: el pruning aborta muy pronto los ensayos que no prometen (descarte temprano), por lo que en el mismo tiempo permitimos evaluar muchas más combinaciones.\n",
        "\n",
        "Mejor MAE obtenido:\n",
        " \n",
        "- Sin pruning: MAE ≈ 1952.51\n",
        "- Con pruning: MAE ≈ 1900.94\n",
        "\n",
        "Logramos reducir el error en validación en unos 51 puntos gracias a explorar más configuraciones útiles.\n",
        "\n",
        "Hiperparámetros:\n",
        "\n",
        "| Parámetro            | Sin pruning | Con pruning |\n",
        "| -------------------- | ----------- | ----------- |\n",
        "| learning\\_rate       | 0.0736      | 0.0981      |\n",
        "| n\\_estimators        | 874         | 658         |\n",
        "| max\\_depth           | 10          | 10          |\n",
        "| max\\_leaves          | 67          | 100         |\n",
        "| min\\_child\\_weight   | 4           | 3           |\n",
        "| reg\\_alpha           | 0.8472      | 0.6576      |\n",
        "| reg\\_lambda          | 0.0072      | 0.9865      |\n",
        "| min\\_frequency (OHE) | 0.0061      | 0.0303      |\n",
        "\n",
        "\n",
        "\n",
        "El pruning no solo acelera la búsqueda de buenas configuraciones, sino que, en el mismo tiempo, también mejora el rendimiento final del modelo.\n"
      ]
    },
    {
      "cell_type": "markdown",
      "metadata": {
        "cell_id": "8a081778cc704fc6bed05393a5419327",
        "deepnote_cell_type": "markdown",
        "id": "ZMiiVaCUI5wA"
      },
      "source": [
        "## 5. Visualizaciones (5 puntos)\n",
        "\n",
        "<p align=\"center\">\n",
        "  <img src=\"https://media.tenor.com/F-LgB1xTebEAAAAd/look-at-this-graph-nickelback.gif\">\n",
        "</p>\n",
        "\n",
        "\n",
        "Satisfecho con su trabajo, Fiu le pregunta si es posible generar visualizaciones que permitan entender el entrenamiento de su modelo.\n",
        "\n",
        "A partir del siguiente <a href = https://optuna.readthedocs.io/en/stable/tutorial/10_key_features/005_visualization.html#visualization>enlace</a>, genere las siguientes visualizaciones:\n",
        "\n",
        "1. Gráfico de historial de optimización [1 punto]\n",
        "2. Gráfico de coordenadas paralelas [1 punto]\n",
        "3. Gráfico de importancia de hiperparámetros [1 punto]\n",
        "\n",
        "Comente sus resultados:\n",
        "\n",
        "4. ¿Desde qué *trial* se empiezan a observar mejoras notables en sus resultados? [0.5 puntos]\n",
        "5. ¿Qué tendencias puede observar a partir del gráfico de coordenadas paralelas? [1 punto]\n",
        "6. ¿Cuáles son los hiperparámetros con mayor importancia para la optimización de su modelo? [0.5 puntos]"
      ]
    },
    {
      "cell_type": "code",
      "execution_count": 26,
      "metadata": {
        "cell_id": "0e706dc9a8d946eda7a9eb1f0463c6d7",
        "deepnote_cell_type": "code",
        "id": "xjxAEENAI5wA"
      },
      "outputs": [
        {
          "data": {
            "application/vnd.plotly.v1+json": {
              "config": {
                "plotlyServerURL": "https://plot.ly"
              },
              "data": [
                {
                  "mode": "markers",
                  "name": "Objective Value",
                  "type": "scatter",
                  "x": [
                    0,
                    1,
                    2,
                    3,
                    4,
                    5,
                    6,
                    7,
                    8,
                    9,
                    10,
                    11,
                    12,
                    13,
                    14,
                    15,
                    16,
                    17,
                    18,
                    19,
                    20,
                    21,
                    22,
                    23,
                    24,
                    25,
                    26,
                    27,
                    28,
                    29,
                    30,
                    31,
                    32,
                    33,
                    34,
                    35,
                    36,
                    37,
                    38,
                    39,
                    40,
                    41,
                    42,
                    43,
                    44,
                    45,
                    46,
                    47,
                    48,
                    49,
                    50,
                    51,
                    52,
                    53,
                    54,
                    55,
                    56,
                    57,
                    58,
                    59,
                    60,
                    61,
                    62,
                    63,
                    64,
                    65,
                    66,
                    67,
                    68,
                    69,
                    70,
                    71,
                    72,
                    73,
                    74,
                    75,
                    76,
                    77,
                    78,
                    79,
                    80,
                    81,
                    82,
                    83,
                    84,
                    85,
                    86,
                    87,
                    88,
                    89,
                    90,
                    91,
                    92,
                    93,
                    94,
                    95,
                    96,
                    97,
                    98,
                    99,
                    100,
                    101,
                    102,
                    103,
                    104,
                    105,
                    106,
                    107,
                    108,
                    109,
                    110,
                    111,
                    112,
                    113,
                    114,
                    115,
                    116,
                    117,
                    118,
                    119,
                    120,
                    121,
                    122,
                    123,
                    124,
                    125,
                    126,
                    127,
                    128,
                    129,
                    130,
                    131,
                    132,
                    133,
                    134,
                    135,
                    136,
                    137,
                    138,
                    139,
                    140,
                    141,
                    142,
                    143,
                    144,
                    145,
                    146,
                    147,
                    148,
                    149,
                    150,
                    151
                  ],
                  "y": [
                    9629.3876953125,
                    5771.697265625,
                    8962.9228515625,
                    5772.22802734375,
                    9030.3017578125,
                    8709.3828125,
                    9164.0712890625,
                    9167.8349609375,
                    5706.3076171875,
                    7475.91552734375,
                    13543.962890625,
                    2274.196533203125,
                    2293.499755859375,
                    2225.06640625,
                    2189.54736328125,
                    2120.468505859375,
                    7076.00537109375,
                    9345.96875,
                    8958.2490234375,
                    6687.638671875,
                    5785.67822265625,
                    2185.187744140625,
                    2067.325927734375,
                    6877.59130859375,
                    6260.30419921875,
                    2687.05419921875,
                    5836.181640625,
                    7128.9814453125,
                    2055.86962890625,
                    7071.59375,
                    8864.9365234375,
                    2072.91162109375,
                    2105.031494140625,
                    5998.560546875,
                    2188.123779296875,
                    9863.0478515625,
                    7334.08837890625,
                    6080.5380859375,
                    5825.140625,
                    8852.9306640625,
                    2216.650634765625,
                    2063.49609375,
                    6280.51220703125,
                    6290.98046875,
                    2299.308349609375,
                    9468.4287109375,
                    2077.619384765625,
                    2057.67333984375,
                    9552.107421875,
                    9264.8603515625,
                    2066.111572265625,
                    1980.1387939453125,
                    1952.5050048828125,
                    1992.5244140625,
                    2058.951171875,
                    6541.6240234375,
                    6491.9697265625,
                    1977.7060546875,
                    7558.47998046875,
                    6457.7412109375,
                    1995.56298828125,
                    2001.2041015625,
                    6597.12744140625,
                    1997.618408203125,
                    1987.343505859375,
                    2001.6708984375,
                    6623.45703125,
                    4727.27880859375,
                    2010.2626953125,
                    6536.8779296875,
                    10052.6162109375,
                    2000.6361083984375,
                    2032.26708984375,
                    6685.1943359375,
                    2036.3187255859375,
                    6420.96533203125,
                    1997.06201171875,
                    1997.2747802734375,
                    1966.9315185546875,
                    2718.416259765625,
                    10294.642578125,
                    2026.00048828125,
                    2003.0322265625,
                    6726.9814453125,
                    6619.6669921875,
                    1997.5936279296875,
                    2005.6488037109375,
                    2071.307861328125,
                    6721.59033203125,
                    10313.5419921875,
                    2756.835205078125,
                    2018.887451171875,
                    2004.9122314453125,
                    2077.643798828125,
                    6575.71337890625,
                    2061.392822265625,
                    1990.4638671875,
                    2012.3775634765625,
                    6630.7099609375,
                    7571.16748046875,
                    10333.2998046875,
                    2061.227294921875,
                    2032.0120849609375,
                    2214.12109375,
                    6563.39404296875,
                    2060.388916015625,
                    2004.400634765625,
                    2030.05859375,
                    6573.1708984375,
                    2033.385009765625,
                    2033.40966796875,
                    2019.5716552734375,
                    2026.791259765625,
                    3767.6591796875,
                    1999.75732421875,
                    6598.97998046875,
                    2053.255126953125,
                    5761.8935546875,
                    2043.2000732421875,
                    2039.90771484375,
                    6094.564453125,
                    2020.413818359375,
                    1991.7703857421875,
                    2001.2379150390625,
                    2354.157958984375,
                    1980.913818359375,
                    2041.9879150390625,
                    6572.54345703125,
                    6095.072265625,
                    2017.5526123046875,
                    6642.52392578125,
                    1970.513916015625,
                    2008.606201171875,
                    1999.978515625,
                    6658.8701171875,
                    2001.9608154296875,
                    2021.730224609375,
                    1993.928955078125,
                    2008.740234375,
                    2030.24365234375,
                    2132.23583984375,
                    2002.35791015625,
                    2029.02880859375,
                    2006.287841796875,
                    1978.6209716796875,
                    2050.766357421875,
                    2028.2103271484375,
                    2014.362548828125,
                    6690.5498046875,
                    1962.93359375,
                    2026.37353515625,
                    2026.1820068359375
                  ]
                },
                {
                  "mode": "lines",
                  "name": "Best Value",
                  "type": "scatter",
                  "x": [
                    0,
                    1,
                    2,
                    3,
                    4,
                    5,
                    6,
                    7,
                    8,
                    9,
                    10,
                    11,
                    12,
                    13,
                    14,
                    15,
                    16,
                    17,
                    18,
                    19,
                    20,
                    21,
                    22,
                    23,
                    24,
                    25,
                    26,
                    27,
                    28,
                    29,
                    30,
                    31,
                    32,
                    33,
                    34,
                    35,
                    36,
                    37,
                    38,
                    39,
                    40,
                    41,
                    42,
                    43,
                    44,
                    45,
                    46,
                    47,
                    48,
                    49,
                    50,
                    51,
                    52,
                    53,
                    54,
                    55,
                    56,
                    57,
                    58,
                    59,
                    60,
                    61,
                    62,
                    63,
                    64,
                    65,
                    66,
                    67,
                    68,
                    69,
                    70,
                    71,
                    72,
                    73,
                    74,
                    75,
                    76,
                    77,
                    78,
                    79,
                    80,
                    81,
                    82,
                    83,
                    84,
                    85,
                    86,
                    87,
                    88,
                    89,
                    90,
                    91,
                    92,
                    93,
                    94,
                    95,
                    96,
                    97,
                    98,
                    99,
                    100,
                    101,
                    102,
                    103,
                    104,
                    105,
                    106,
                    107,
                    108,
                    109,
                    110,
                    111,
                    112,
                    113,
                    114,
                    115,
                    116,
                    117,
                    118,
                    119,
                    120,
                    121,
                    122,
                    123,
                    124,
                    125,
                    126,
                    127,
                    128,
                    129,
                    130,
                    131,
                    132,
                    133,
                    134,
                    135,
                    136,
                    137,
                    138,
                    139,
                    140,
                    141,
                    142,
                    143,
                    144,
                    145,
                    146,
                    147,
                    148,
                    149,
                    150,
                    151
                  ],
                  "y": [
                    9629.3876953125,
                    5771.697265625,
                    5771.697265625,
                    5771.697265625,
                    5771.697265625,
                    5771.697265625,
                    5771.697265625,
                    5771.697265625,
                    5706.3076171875,
                    5706.3076171875,
                    5706.3076171875,
                    2274.196533203125,
                    2274.196533203125,
                    2225.06640625,
                    2189.54736328125,
                    2120.468505859375,
                    2120.468505859375,
                    2120.468505859375,
                    2120.468505859375,
                    2120.468505859375,
                    2120.468505859375,
                    2120.468505859375,
                    2067.325927734375,
                    2067.325927734375,
                    2067.325927734375,
                    2067.325927734375,
                    2067.325927734375,
                    2067.325927734375,
                    2055.86962890625,
                    2055.86962890625,
                    2055.86962890625,
                    2055.86962890625,
                    2055.86962890625,
                    2055.86962890625,
                    2055.86962890625,
                    2055.86962890625,
                    2055.86962890625,
                    2055.86962890625,
                    2055.86962890625,
                    2055.86962890625,
                    2055.86962890625,
                    2055.86962890625,
                    2055.86962890625,
                    2055.86962890625,
                    2055.86962890625,
                    2055.86962890625,
                    2055.86962890625,
                    2055.86962890625,
                    2055.86962890625,
                    2055.86962890625,
                    2055.86962890625,
                    1980.1387939453125,
                    1952.5050048828125,
                    1952.5050048828125,
                    1952.5050048828125,
                    1952.5050048828125,
                    1952.5050048828125,
                    1952.5050048828125,
                    1952.5050048828125,
                    1952.5050048828125,
                    1952.5050048828125,
                    1952.5050048828125,
                    1952.5050048828125,
                    1952.5050048828125,
                    1952.5050048828125,
                    1952.5050048828125,
                    1952.5050048828125,
                    1952.5050048828125,
                    1952.5050048828125,
                    1952.5050048828125,
                    1952.5050048828125,
                    1952.5050048828125,
                    1952.5050048828125,
                    1952.5050048828125,
                    1952.5050048828125,
                    1952.5050048828125,
                    1952.5050048828125,
                    1952.5050048828125,
                    1952.5050048828125,
                    1952.5050048828125,
                    1952.5050048828125,
                    1952.5050048828125,
                    1952.5050048828125,
                    1952.5050048828125,
                    1952.5050048828125,
                    1952.5050048828125,
                    1952.5050048828125,
                    1952.5050048828125,
                    1952.5050048828125,
                    1952.5050048828125,
                    1952.5050048828125,
                    1952.5050048828125,
                    1952.5050048828125,
                    1952.5050048828125,
                    1952.5050048828125,
                    1952.5050048828125,
                    1952.5050048828125,
                    1952.5050048828125,
                    1952.5050048828125,
                    1952.5050048828125,
                    1952.5050048828125,
                    1952.5050048828125,
                    1952.5050048828125,
                    1952.5050048828125,
                    1952.5050048828125,
                    1952.5050048828125,
                    1952.5050048828125,
                    1952.5050048828125,
                    1952.5050048828125,
                    1952.5050048828125,
                    1952.5050048828125,
                    1952.5050048828125,
                    1952.5050048828125,
                    1952.5050048828125,
                    1952.5050048828125,
                    1952.5050048828125,
                    1952.5050048828125,
                    1952.5050048828125,
                    1952.5050048828125,
                    1952.5050048828125,
                    1952.5050048828125,
                    1952.5050048828125,
                    1952.5050048828125,
                    1952.5050048828125,
                    1952.5050048828125,
                    1952.5050048828125,
                    1952.5050048828125,
                    1952.5050048828125,
                    1952.5050048828125,
                    1952.5050048828125,
                    1952.5050048828125,
                    1952.5050048828125,
                    1952.5050048828125,
                    1952.5050048828125,
                    1952.5050048828125,
                    1952.5050048828125,
                    1952.5050048828125,
                    1952.5050048828125,
                    1952.5050048828125,
                    1952.5050048828125,
                    1952.5050048828125,
                    1952.5050048828125,
                    1952.5050048828125,
                    1952.5050048828125,
                    1952.5050048828125,
                    1952.5050048828125,
                    1952.5050048828125,
                    1952.5050048828125,
                    1952.5050048828125,
                    1952.5050048828125,
                    1952.5050048828125,
                    1952.5050048828125
                  ]
                },
                {
                  "marker": {
                    "color": "#cccccc"
                  },
                  "mode": "markers",
                  "name": "Infeasible Trial",
                  "showlegend": false,
                  "type": "scatter",
                  "x": [],
                  "y": []
                }
              ],
              "layout": {
                "template": {
                  "data": {
                    "bar": [
                      {
                        "error_x": {
                          "color": "#2a3f5f"
                        },
                        "error_y": {
                          "color": "#2a3f5f"
                        },
                        "marker": {
                          "line": {
                            "color": "#E5ECF6",
                            "width": 0.5
                          },
                          "pattern": {
                            "fillmode": "overlay",
                            "size": 10,
                            "solidity": 0.2
                          }
                        },
                        "type": "bar"
                      }
                    ],
                    "barpolar": [
                      {
                        "marker": {
                          "line": {
                            "color": "#E5ECF6",
                            "width": 0.5
                          },
                          "pattern": {
                            "fillmode": "overlay",
                            "size": 10,
                            "solidity": 0.2
                          }
                        },
                        "type": "barpolar"
                      }
                    ],
                    "carpet": [
                      {
                        "aaxis": {
                          "endlinecolor": "#2a3f5f",
                          "gridcolor": "white",
                          "linecolor": "white",
                          "minorgridcolor": "white",
                          "startlinecolor": "#2a3f5f"
                        },
                        "baxis": {
                          "endlinecolor": "#2a3f5f",
                          "gridcolor": "white",
                          "linecolor": "white",
                          "minorgridcolor": "white",
                          "startlinecolor": "#2a3f5f"
                        },
                        "type": "carpet"
                      }
                    ],
                    "choropleth": [
                      {
                        "colorbar": {
                          "outlinewidth": 0,
                          "ticks": ""
                        },
                        "type": "choropleth"
                      }
                    ],
                    "contour": [
                      {
                        "colorbar": {
                          "outlinewidth": 0,
                          "ticks": ""
                        },
                        "colorscale": [
                          [
                            0,
                            "#0d0887"
                          ],
                          [
                            0.1111111111111111,
                            "#46039f"
                          ],
                          [
                            0.2222222222222222,
                            "#7201a8"
                          ],
                          [
                            0.3333333333333333,
                            "#9c179e"
                          ],
                          [
                            0.4444444444444444,
                            "#bd3786"
                          ],
                          [
                            0.5555555555555556,
                            "#d8576b"
                          ],
                          [
                            0.6666666666666666,
                            "#ed7953"
                          ],
                          [
                            0.7777777777777778,
                            "#fb9f3a"
                          ],
                          [
                            0.8888888888888888,
                            "#fdca26"
                          ],
                          [
                            1,
                            "#f0f921"
                          ]
                        ],
                        "type": "contour"
                      }
                    ],
                    "contourcarpet": [
                      {
                        "colorbar": {
                          "outlinewidth": 0,
                          "ticks": ""
                        },
                        "type": "contourcarpet"
                      }
                    ],
                    "heatmap": [
                      {
                        "colorbar": {
                          "outlinewidth": 0,
                          "ticks": ""
                        },
                        "colorscale": [
                          [
                            0,
                            "#0d0887"
                          ],
                          [
                            0.1111111111111111,
                            "#46039f"
                          ],
                          [
                            0.2222222222222222,
                            "#7201a8"
                          ],
                          [
                            0.3333333333333333,
                            "#9c179e"
                          ],
                          [
                            0.4444444444444444,
                            "#bd3786"
                          ],
                          [
                            0.5555555555555556,
                            "#d8576b"
                          ],
                          [
                            0.6666666666666666,
                            "#ed7953"
                          ],
                          [
                            0.7777777777777778,
                            "#fb9f3a"
                          ],
                          [
                            0.8888888888888888,
                            "#fdca26"
                          ],
                          [
                            1,
                            "#f0f921"
                          ]
                        ],
                        "type": "heatmap"
                      }
                    ],
                    "histogram": [
                      {
                        "marker": {
                          "pattern": {
                            "fillmode": "overlay",
                            "size": 10,
                            "solidity": 0.2
                          }
                        },
                        "type": "histogram"
                      }
                    ],
                    "histogram2d": [
                      {
                        "colorbar": {
                          "outlinewidth": 0,
                          "ticks": ""
                        },
                        "colorscale": [
                          [
                            0,
                            "#0d0887"
                          ],
                          [
                            0.1111111111111111,
                            "#46039f"
                          ],
                          [
                            0.2222222222222222,
                            "#7201a8"
                          ],
                          [
                            0.3333333333333333,
                            "#9c179e"
                          ],
                          [
                            0.4444444444444444,
                            "#bd3786"
                          ],
                          [
                            0.5555555555555556,
                            "#d8576b"
                          ],
                          [
                            0.6666666666666666,
                            "#ed7953"
                          ],
                          [
                            0.7777777777777778,
                            "#fb9f3a"
                          ],
                          [
                            0.8888888888888888,
                            "#fdca26"
                          ],
                          [
                            1,
                            "#f0f921"
                          ]
                        ],
                        "type": "histogram2d"
                      }
                    ],
                    "histogram2dcontour": [
                      {
                        "colorbar": {
                          "outlinewidth": 0,
                          "ticks": ""
                        },
                        "colorscale": [
                          [
                            0,
                            "#0d0887"
                          ],
                          [
                            0.1111111111111111,
                            "#46039f"
                          ],
                          [
                            0.2222222222222222,
                            "#7201a8"
                          ],
                          [
                            0.3333333333333333,
                            "#9c179e"
                          ],
                          [
                            0.4444444444444444,
                            "#bd3786"
                          ],
                          [
                            0.5555555555555556,
                            "#d8576b"
                          ],
                          [
                            0.6666666666666666,
                            "#ed7953"
                          ],
                          [
                            0.7777777777777778,
                            "#fb9f3a"
                          ],
                          [
                            0.8888888888888888,
                            "#fdca26"
                          ],
                          [
                            1,
                            "#f0f921"
                          ]
                        ],
                        "type": "histogram2dcontour"
                      }
                    ],
                    "mesh3d": [
                      {
                        "colorbar": {
                          "outlinewidth": 0,
                          "ticks": ""
                        },
                        "type": "mesh3d"
                      }
                    ],
                    "parcoords": [
                      {
                        "line": {
                          "colorbar": {
                            "outlinewidth": 0,
                            "ticks": ""
                          }
                        },
                        "type": "parcoords"
                      }
                    ],
                    "pie": [
                      {
                        "automargin": true,
                        "type": "pie"
                      }
                    ],
                    "scatter": [
                      {
                        "fillpattern": {
                          "fillmode": "overlay",
                          "size": 10,
                          "solidity": 0.2
                        },
                        "type": "scatter"
                      }
                    ],
                    "scatter3d": [
                      {
                        "line": {
                          "colorbar": {
                            "outlinewidth": 0,
                            "ticks": ""
                          }
                        },
                        "marker": {
                          "colorbar": {
                            "outlinewidth": 0,
                            "ticks": ""
                          }
                        },
                        "type": "scatter3d"
                      }
                    ],
                    "scattercarpet": [
                      {
                        "marker": {
                          "colorbar": {
                            "outlinewidth": 0,
                            "ticks": ""
                          }
                        },
                        "type": "scattercarpet"
                      }
                    ],
                    "scattergeo": [
                      {
                        "marker": {
                          "colorbar": {
                            "outlinewidth": 0,
                            "ticks": ""
                          }
                        },
                        "type": "scattergeo"
                      }
                    ],
                    "scattergl": [
                      {
                        "marker": {
                          "colorbar": {
                            "outlinewidth": 0,
                            "ticks": ""
                          }
                        },
                        "type": "scattergl"
                      }
                    ],
                    "scattermap": [
                      {
                        "marker": {
                          "colorbar": {
                            "outlinewidth": 0,
                            "ticks": ""
                          }
                        },
                        "type": "scattermap"
                      }
                    ],
                    "scattermapbox": [
                      {
                        "marker": {
                          "colorbar": {
                            "outlinewidth": 0,
                            "ticks": ""
                          }
                        },
                        "type": "scattermapbox"
                      }
                    ],
                    "scatterpolar": [
                      {
                        "marker": {
                          "colorbar": {
                            "outlinewidth": 0,
                            "ticks": ""
                          }
                        },
                        "type": "scatterpolar"
                      }
                    ],
                    "scatterpolargl": [
                      {
                        "marker": {
                          "colorbar": {
                            "outlinewidth": 0,
                            "ticks": ""
                          }
                        },
                        "type": "scatterpolargl"
                      }
                    ],
                    "scatterternary": [
                      {
                        "marker": {
                          "colorbar": {
                            "outlinewidth": 0,
                            "ticks": ""
                          }
                        },
                        "type": "scatterternary"
                      }
                    ],
                    "surface": [
                      {
                        "colorbar": {
                          "outlinewidth": 0,
                          "ticks": ""
                        },
                        "colorscale": [
                          [
                            0,
                            "#0d0887"
                          ],
                          [
                            0.1111111111111111,
                            "#46039f"
                          ],
                          [
                            0.2222222222222222,
                            "#7201a8"
                          ],
                          [
                            0.3333333333333333,
                            "#9c179e"
                          ],
                          [
                            0.4444444444444444,
                            "#bd3786"
                          ],
                          [
                            0.5555555555555556,
                            "#d8576b"
                          ],
                          [
                            0.6666666666666666,
                            "#ed7953"
                          ],
                          [
                            0.7777777777777778,
                            "#fb9f3a"
                          ],
                          [
                            0.8888888888888888,
                            "#fdca26"
                          ],
                          [
                            1,
                            "#f0f921"
                          ]
                        ],
                        "type": "surface"
                      }
                    ],
                    "table": [
                      {
                        "cells": {
                          "fill": {
                            "color": "#EBF0F8"
                          },
                          "line": {
                            "color": "white"
                          }
                        },
                        "header": {
                          "fill": {
                            "color": "#C8D4E3"
                          },
                          "line": {
                            "color": "white"
                          }
                        },
                        "type": "table"
                      }
                    ]
                  },
                  "layout": {
                    "annotationdefaults": {
                      "arrowcolor": "#2a3f5f",
                      "arrowhead": 0,
                      "arrowwidth": 1
                    },
                    "autotypenumbers": "strict",
                    "coloraxis": {
                      "colorbar": {
                        "outlinewidth": 0,
                        "ticks": ""
                      }
                    },
                    "colorscale": {
                      "diverging": [
                        [
                          0,
                          "#8e0152"
                        ],
                        [
                          0.1,
                          "#c51b7d"
                        ],
                        [
                          0.2,
                          "#de77ae"
                        ],
                        [
                          0.3,
                          "#f1b6da"
                        ],
                        [
                          0.4,
                          "#fde0ef"
                        ],
                        [
                          0.5,
                          "#f7f7f7"
                        ],
                        [
                          0.6,
                          "#e6f5d0"
                        ],
                        [
                          0.7,
                          "#b8e186"
                        ],
                        [
                          0.8,
                          "#7fbc41"
                        ],
                        [
                          0.9,
                          "#4d9221"
                        ],
                        [
                          1,
                          "#276419"
                        ]
                      ],
                      "sequential": [
                        [
                          0,
                          "#0d0887"
                        ],
                        [
                          0.1111111111111111,
                          "#46039f"
                        ],
                        [
                          0.2222222222222222,
                          "#7201a8"
                        ],
                        [
                          0.3333333333333333,
                          "#9c179e"
                        ],
                        [
                          0.4444444444444444,
                          "#bd3786"
                        ],
                        [
                          0.5555555555555556,
                          "#d8576b"
                        ],
                        [
                          0.6666666666666666,
                          "#ed7953"
                        ],
                        [
                          0.7777777777777778,
                          "#fb9f3a"
                        ],
                        [
                          0.8888888888888888,
                          "#fdca26"
                        ],
                        [
                          1,
                          "#f0f921"
                        ]
                      ],
                      "sequentialminus": [
                        [
                          0,
                          "#0d0887"
                        ],
                        [
                          0.1111111111111111,
                          "#46039f"
                        ],
                        [
                          0.2222222222222222,
                          "#7201a8"
                        ],
                        [
                          0.3333333333333333,
                          "#9c179e"
                        ],
                        [
                          0.4444444444444444,
                          "#bd3786"
                        ],
                        [
                          0.5555555555555556,
                          "#d8576b"
                        ],
                        [
                          0.6666666666666666,
                          "#ed7953"
                        ],
                        [
                          0.7777777777777778,
                          "#fb9f3a"
                        ],
                        [
                          0.8888888888888888,
                          "#fdca26"
                        ],
                        [
                          1,
                          "#f0f921"
                        ]
                      ]
                    },
                    "colorway": [
                      "#636efa",
                      "#EF553B",
                      "#00cc96",
                      "#ab63fa",
                      "#FFA15A",
                      "#19d3f3",
                      "#FF6692",
                      "#B6E880",
                      "#FF97FF",
                      "#FECB52"
                    ],
                    "font": {
                      "color": "#2a3f5f"
                    },
                    "geo": {
                      "bgcolor": "white",
                      "lakecolor": "white",
                      "landcolor": "#E5ECF6",
                      "showlakes": true,
                      "showland": true,
                      "subunitcolor": "white"
                    },
                    "hoverlabel": {
                      "align": "left"
                    },
                    "hovermode": "closest",
                    "mapbox": {
                      "style": "light"
                    },
                    "paper_bgcolor": "white",
                    "plot_bgcolor": "#E5ECF6",
                    "polar": {
                      "angularaxis": {
                        "gridcolor": "white",
                        "linecolor": "white",
                        "ticks": ""
                      },
                      "bgcolor": "#E5ECF6",
                      "radialaxis": {
                        "gridcolor": "white",
                        "linecolor": "white",
                        "ticks": ""
                      }
                    },
                    "scene": {
                      "xaxis": {
                        "backgroundcolor": "#E5ECF6",
                        "gridcolor": "white",
                        "gridwidth": 2,
                        "linecolor": "white",
                        "showbackground": true,
                        "ticks": "",
                        "zerolinecolor": "white"
                      },
                      "yaxis": {
                        "backgroundcolor": "#E5ECF6",
                        "gridcolor": "white",
                        "gridwidth": 2,
                        "linecolor": "white",
                        "showbackground": true,
                        "ticks": "",
                        "zerolinecolor": "white"
                      },
                      "zaxis": {
                        "backgroundcolor": "#E5ECF6",
                        "gridcolor": "white",
                        "gridwidth": 2,
                        "linecolor": "white",
                        "showbackground": true,
                        "ticks": "",
                        "zerolinecolor": "white"
                      }
                    },
                    "shapedefaults": {
                      "line": {
                        "color": "#2a3f5f"
                      }
                    },
                    "ternary": {
                      "aaxis": {
                        "gridcolor": "white",
                        "linecolor": "white",
                        "ticks": ""
                      },
                      "baxis": {
                        "gridcolor": "white",
                        "linecolor": "white",
                        "ticks": ""
                      },
                      "bgcolor": "#E5ECF6",
                      "caxis": {
                        "gridcolor": "white",
                        "linecolor": "white",
                        "ticks": ""
                      }
                    },
                    "title": {
                      "x": 0.05
                    },
                    "xaxis": {
                      "automargin": true,
                      "gridcolor": "white",
                      "linecolor": "white",
                      "ticks": "",
                      "title": {
                        "standoff": 15
                      },
                      "zerolinecolor": "white",
                      "zerolinewidth": 2
                    },
                    "yaxis": {
                      "automargin": true,
                      "gridcolor": "white",
                      "linecolor": "white",
                      "ticks": "",
                      "title": {
                        "standoff": 15
                      },
                      "zerolinecolor": "white",
                      "zerolinewidth": 2
                    }
                  }
                },
                "title": {
                  "text": "Optimization History (sin pruning)"
                },
                "xaxis": {
                  "title": {
                    "text": "Trial"
                  }
                },
                "yaxis": {
                  "title": {
                    "text": "Objective Value"
                  }
                }
              }
            }
          },
          "metadata": {},
          "output_type": "display_data"
        },
        {
          "data": {
            "application/vnd.plotly.v1+json": {
              "config": {
                "plotlyServerURL": "https://plot.ly"
              },
              "data": [
                {
                  "dimensions": [
                    {
                      "label": "Objective Value",
                      "range": [
                        1952.5050048828125,
                        13543.962890625
                      ],
                      "values": [
                        9629.3876953125,
                        5771.697265625,
                        8962.9228515625,
                        5772.22802734375,
                        9030.3017578125,
                        8709.3828125,
                        9164.0712890625,
                        9167.8349609375,
                        5706.3076171875,
                        7475.91552734375,
                        13543.962890625,
                        2274.196533203125,
                        2293.499755859375,
                        2225.06640625,
                        2189.54736328125,
                        2120.468505859375,
                        7076.00537109375,
                        9345.96875,
                        8958.2490234375,
                        6687.638671875,
                        5785.67822265625,
                        2185.187744140625,
                        2067.325927734375,
                        6877.59130859375,
                        6260.30419921875,
                        2687.05419921875,
                        5836.181640625,
                        7128.9814453125,
                        2055.86962890625,
                        7071.59375,
                        8864.9365234375,
                        2072.91162109375,
                        2105.031494140625,
                        5998.560546875,
                        2188.123779296875,
                        9863.0478515625,
                        7334.08837890625,
                        6080.5380859375,
                        5825.140625,
                        8852.9306640625,
                        2216.650634765625,
                        2063.49609375,
                        6280.51220703125,
                        6290.98046875,
                        2299.308349609375,
                        9468.4287109375,
                        2077.619384765625,
                        2057.67333984375,
                        9552.107421875,
                        9264.8603515625,
                        2066.111572265625,
                        1980.1387939453125,
                        1952.5050048828125,
                        1992.5244140625,
                        2058.951171875,
                        6541.6240234375,
                        6491.9697265625,
                        1977.7060546875,
                        7558.47998046875,
                        6457.7412109375,
                        1995.56298828125,
                        2001.2041015625,
                        6597.12744140625,
                        1997.618408203125,
                        1987.343505859375,
                        2001.6708984375,
                        6623.45703125,
                        4727.27880859375,
                        2010.2626953125,
                        6536.8779296875,
                        10052.6162109375,
                        2000.6361083984375,
                        2032.26708984375,
                        6685.1943359375,
                        2036.3187255859375,
                        6420.96533203125,
                        1997.06201171875,
                        1997.2747802734375,
                        1966.9315185546875,
                        2718.416259765625,
                        10294.642578125,
                        2026.00048828125,
                        2003.0322265625,
                        6726.9814453125,
                        6619.6669921875,
                        1997.5936279296875,
                        2005.6488037109375,
                        2071.307861328125,
                        6721.59033203125,
                        10313.5419921875,
                        2756.835205078125,
                        2018.887451171875,
                        2004.9122314453125,
                        2077.643798828125,
                        6575.71337890625,
                        2061.392822265625,
                        1990.4638671875,
                        2012.3775634765625,
                        6630.7099609375,
                        7571.16748046875,
                        10333.2998046875,
                        2061.227294921875,
                        2032.0120849609375,
                        2214.12109375,
                        6563.39404296875,
                        2060.388916015625,
                        2004.400634765625,
                        2030.05859375,
                        6573.1708984375,
                        2033.385009765625,
                        2033.40966796875,
                        2019.5716552734375,
                        2026.791259765625,
                        3767.6591796875,
                        1999.75732421875,
                        6598.97998046875,
                        2053.255126953125,
                        5761.8935546875,
                        2043.2000732421875,
                        2039.90771484375,
                        6094.564453125,
                        2020.413818359375,
                        1991.7703857421875,
                        2001.2379150390625,
                        2354.157958984375,
                        1980.913818359375,
                        2041.9879150390625,
                        6572.54345703125,
                        6095.072265625,
                        2017.5526123046875,
                        6642.52392578125,
                        1970.513916015625,
                        2008.606201171875,
                        1999.978515625,
                        6658.8701171875,
                        2001.9608154296875,
                        2021.730224609375,
                        1993.928955078125,
                        2008.740234375,
                        2030.24365234375,
                        2132.23583984375,
                        2002.35791015625,
                        2029.02880859375,
                        2006.287841796875,
                        1978.6209716796875,
                        2050.766357421875,
                        2028.2103271484375,
                        2014.362548828125,
                        6690.5498046875,
                        1962.93359375,
                        2026.37353515625,
                        2026.1820068359375
                      ]
                    },
                    {
                      "label": "learning_rate",
                      "range": [
                        0.0015466895952366375,
                        0.09993005423129352
                      ],
                      "values": [
                        0.03807947176588889,
                        0.06051038616257767,
                        0.031119982052994235,
                        0.04615092843748656,
                        0.0074401077055426725,
                        0.013081785249633104,
                        0.05512431765498469,
                        0.00976075770314003,
                        0.028812516459050697,
                        0.0015466895952366375,
                        0.0945685178788083,
                        0.07472142904562283,
                        0.07559807824175671,
                        0.07742047722562709,
                        0.08035491474348244,
                        0.09988982647647864,
                        0.09435971569797882,
                        0.09919664151649428,
                        0.08473634752379773,
                        0.06463257467524575,
                        0.08542947114190687,
                        0.07384080008787706,
                        0.08674197536127441,
                        0.06663598211615246,
                        0.08929060825180839,
                        0.09993005423129352,
                        0.07087500104394714,
                        0.09021256801707879,
                        0.08309938988598257,
                        0.08246992351371726,
                        0.04548746276413227,
                        0.09134956171372385,
                        0.09236604994325417,
                        0.09010875219257788,
                        0.06022682694133115,
                        0.09325736905642484,
                        0.08509071348834644,
                        0.06858466054910131,
                        0.08023918918149575,
                        0.029023637853652057,
                        0.06067821248003673,
                        0.09988179848498936,
                        0.09440291474434614,
                        0.0878251210519315,
                        0.02167295234709339,
                        0.09418961468463206,
                        0.07986940354011299,
                        0.07647385310904492,
                        0.049810956889591695,
                        0.038165137044581354,
                        0.0722495824292035,
                        0.0720541046442693,
                        0.07355634007023468,
                        0.0717818055390586,
                        0.05999844887709993,
                        0.06082809027479284,
                        0.05596547602593206,
                        0.07722636804781441,
                        0.07691604487926107,
                        0.06450956707569026,
                        0.07056606898996944,
                        0.07078567809318892,
                        0.0693449876271485,
                        0.07352664768489398,
                        0.07357129431936775,
                        0.06679333307653715,
                        0.07313765037775767,
                        0.07878540287590137,
                        0.06442464310014544,
                        0.05597352618915358,
                        0.07468343748833657,
                        0.07050884211332095,
                        0.08220107002056994,
                        0.06782180224679754,
                        0.07246837304352283,
                        0.06305650052653947,
                        0.07556698867171001,
                        0.07608910504913842,
                        0.0775955972574815,
                        0.08145131400662861,
                        0.0783478776614791,
                        0.07539536621616628,
                        0.07738351364590246,
                        0.08252019131359552,
                        0.08574437787695963,
                        0.06710895496497751,
                        0.0712074849968169,
                        0.07609548916833211,
                        0.08430759308542068,
                        0.07991048722195226,
                        0.06852782365836303,
                        0.06639133436682552,
                        0.0747237025107871,
                        0.05812600549406922,
                        0.06982995940195842,
                        0.07833156049078147,
                        0.08816148386220644,
                        0.08741932777521469,
                        0.08819013294946879,
                        0.0841360122732511,
                        0.0732238874531193,
                        0.051612389869650346,
                        0.06511263436227387,
                        0.08067331670092555,
                        0.06324908472416825,
                        0.0977151940594246,
                        0.07653041619489342,
                        0.07237755923074765,
                        0.06990687158138921,
                        0.07436057007560158,
                        0.06806857900826171,
                        0.0718842435030454,
                        0.07805338322177799,
                        0.0034830329099451787,
                        0.07378408356385577,
                        0.0666422821448415,
                        0.0622883863025056,
                        0.07945771917063384,
                        0.07595639884225795,
                        0.0423332790422111,
                        0.0818890530972373,
                        0.07372197886495599,
                        0.07118825350092821,
                        0.06946052047040335,
                        0.07132641838467177,
                        0.0655842757044265,
                        0.06537299149915807,
                        0.06747261253109983,
                        0.023497465212617114,
                        0.07764634081916333,
                        0.0756788378442984,
                        0.07210569399319061,
                        0.06937402359216964,
                        0.07191221881151721,
                        0.07533777753128967,
                        0.07084149471415,
                        0.06779013091127636,
                        0.07994499307295296,
                        0.07958242208015225,
                        0.08143623686101663,
                        0.08566375593658472,
                        0.07346131720601579,
                        0.07706497349861577,
                        0.08361053042347058,
                        0.0965962618040412,
                        0.09674581624837478,
                        0.09201587971229248,
                        0.08899411150474376,
                        0.09110683430444139,
                        0.07498516440545851,
                        0.07899328979342674,
                        0.07398411095107262
                      ]
                    },
                    {
                      "label": "max_depth",
                      "range": [
                        3,
                        10
                      ],
                      "values": [
                        8,
                        3,
                        6,
                        4,
                        10,
                        3,
                        10,
                        3,
                        4,
                        8,
                        5,
                        5,
                        5,
                        6,
                        7,
                        7,
                        8,
                        7,
                        7,
                        9,
                        9,
                        6,
                        7,
                        6,
                        7,
                        6,
                        8,
                        9,
                        7,
                        7,
                        8,
                        6,
                        7,
                        5,
                        6,
                        7,
                        8,
                        6,
                        7,
                        4,
                        9,
                        7,
                        6,
                        8,
                        7,
                        5,
                        8,
                        8,
                        8,
                        6,
                        10,
                        10,
                        10,
                        10,
                        10,
                        10,
                        10,
                        9,
                        9,
                        9,
                        10,
                        10,
                        10,
                        10,
                        10,
                        10,
                        10,
                        9,
                        10,
                        9,
                        10,
                        10,
                        10,
                        10,
                        9,
                        10,
                        9,
                        9,
                        9,
                        9,
                        9,
                        9,
                        9,
                        9,
                        9,
                        10,
                        9,
                        10,
                        10,
                        9,
                        3,
                        10,
                        10,
                        10,
                        10,
                        9,
                        10,
                        10,
                        8,
                        9,
                        10,
                        10,
                        10,
                        10,
                        10,
                        9,
                        10,
                        10,
                        9,
                        10,
                        9,
                        10,
                        10,
                        10,
                        10,
                        10,
                        9,
                        10,
                        9,
                        10,
                        10,
                        10,
                        10,
                        10,
                        4,
                        10,
                        10,
                        9,
                        8,
                        10,
                        10,
                        10,
                        10,
                        10,
                        9,
                        10,
                        10,
                        9,
                        9,
                        9,
                        8,
                        10,
                        9,
                        10,
                        10,
                        9,
                        10,
                        9,
                        10,
                        10,
                        10,
                        10
                      ]
                    },
                    {
                      "label": "max_leaves",
                      "range": [
                        0,
                        100
                      ],
                      "values": [
                        60,
                        97,
                        29,
                        51,
                        81,
                        91,
                        78,
                        32,
                        81,
                        73,
                        1,
                        95,
                        97,
                        100,
                        65,
                        63,
                        63,
                        40,
                        63,
                        48,
                        20,
                        72,
                        70,
                        53,
                        72,
                        85,
                        71,
                        56,
                        43,
                        42,
                        13,
                        59,
                        43,
                        44,
                        34,
                        57,
                        48,
                        26,
                        35,
                        52,
                        38,
                        66,
                        68,
                        57,
                        84,
                        46,
                        75,
                        77,
                        90,
                        76,
                        67,
                        67,
                        67,
                        80,
                        80,
                        82,
                        88,
                        79,
                        94,
                        77,
                        87,
                        86,
                        87,
                        99,
                        100,
                        97,
                        100,
                        93,
                        91,
                        100,
                        82,
                        87,
                        96,
                        89,
                        79,
                        74,
                        92,
                        91,
                        93,
                        93,
                        84,
                        92,
                        96,
                        83,
                        70,
                        61,
                        91,
                        80,
                        95,
                        89,
                        98,
                        65,
                        73,
                        55,
                        71,
                        61,
                        85,
                        86,
                        84,
                        79,
                        89,
                        60,
                        69,
                        0,
                        94,
                        63,
                        81,
                        77,
                        91,
                        50,
                        98,
                        100,
                        98,
                        93,
                        85,
                        88,
                        96,
                        5,
                        91,
                        75,
                        94,
                        85,
                        82,
                        82,
                        66,
                        78,
                        73,
                        78,
                        87,
                        68,
                        81,
                        83,
                        76,
                        83,
                        80,
                        87,
                        64,
                        84,
                        89,
                        84,
                        78,
                        86,
                        81,
                        83,
                        91,
                        90,
                        92,
                        88,
                        95,
                        79,
                        79,
                        86
                      ]
                    },
                    {
                      "label": "min_child_weight",
                      "range": [
                        1,
                        5
                      ],
                      "values": [
                        1,
                        5,
                        4,
                        3,
                        2,
                        2,
                        5,
                        2,
                        1,
                        4,
                        1,
                        5,
                        4,
                        4,
                        5,
                        4,
                        3,
                        5,
                        4,
                        5,
                        3,
                        4,
                        4,
                        4,
                        3,
                        4,
                        3,
                        4,
                        3,
                        3,
                        2,
                        3,
                        3,
                        3,
                        3,
                        2,
                        3,
                        2,
                        3,
                        2,
                        3,
                        4,
                        3,
                        4,
                        3,
                        2,
                        4,
                        4,
                        5,
                        4,
                        4,
                        4,
                        4,
                        4,
                        5,
                        5,
                        5,
                        5,
                        5,
                        4,
                        5,
                        5,
                        5,
                        5,
                        5,
                        5,
                        5,
                        5,
                        5,
                        5,
                        5,
                        5,
                        5,
                        5,
                        5,
                        5,
                        5,
                        4,
                        4,
                        4,
                        4,
                        4,
                        4,
                        4,
                        4,
                        4,
                        4,
                        1,
                        4,
                        4,
                        5,
                        4,
                        4,
                        4,
                        4,
                        4,
                        4,
                        5,
                        5,
                        4,
                        4,
                        4,
                        4,
                        4,
                        4,
                        5,
                        5,
                        4,
                        4,
                        5,
                        5,
                        5,
                        5,
                        5,
                        5,
                        4,
                        5,
                        4,
                        5,
                        3,
                        4,
                        5,
                        5,
                        5,
                        5,
                        5,
                        5,
                        4,
                        5,
                        4,
                        5,
                        5,
                        5,
                        5,
                        5,
                        4,
                        5,
                        5,
                        5,
                        5,
                        5,
                        5,
                        4,
                        5,
                        5,
                        5,
                        5,
                        5,
                        5,
                        5,
                        5,
                        5
                      ]
                    },
                    {
                      "label": "min_frequency",
                      "range": [
                        0.00003931370291677559,
                        0.9716452764893938
                      ],
                      "values": [
                        0.8661761457749352,
                        0.18340450985343382,
                        0.3663618432936917,
                        0.17052412368729153,
                        0.4401524937396013,
                        0.5200680211778108,
                        0.9218742350231168,
                        0.3567533266935893,
                        0.1987156815341724,
                        0.11586905952512971,
                        0.6764178475687505,
                        0.022779612782324016,
                        0.05035180753379226,
                        0.004520026322683009,
                        0.0016622958476193717,
                        0.002413956854837202,
                        0.28158973720599045,
                        0.5996408444196241,
                        0.7911751314331829,
                        0.3027316230161766,
                        0.0993702392066407,
                        0.05060382715532569,
                        0.00023877203060278024,
                        0.24638229726125518,
                        0.11373117096299855,
                        0.08264108415292193,
                        0.13907073447869947,
                        0.2578529503216241,
                        0.06317340375630724,
                        0.20568603172070044,
                        0.46444362346082496,
                        0.06622688673923065,
                        0.0646921308657038,
                        0.1660850979647855,
                        0.07962996556057537,
                        0.3723710049440074,
                        0.20731776571948973,
                        0.14743466848357667,
                        0.0892475740188409,
                        0.34670527027130504,
                        0.06011121506188379,
                        0.014107496537601166,
                        0.15968554554141806,
                        0.11637977514342165,
                        0.06193415239292687,
                        0.9716452764893938,
                        0.029724722431429415,
                        0.03560983991381119,
                        0.7608742277359258,
                        0.5616787381338312,
                        0.009144576392927666,
                        0.007709364826236522,
                        0.00612515932188773,
                        0.037650147403408524,
                        0.04257295326093967,
                        0.13515660887260772,
                        0.18593863198624458,
                        0.04215252790012134,
                        0.22404511772285182,
                        0.10862680326476845,
                        0.03708347148078688,
                        0.03477226052836381,
                        0.1070855456576203,
                        0.0374730596901616,
                        0.0011730164152539413,
                        0.0004653491645122895,
                        0.1334090107008683,
                        0.08352929584419039,
                        0.037869373701794246,
                        0.0889904508845435,
                        0.6572245496536082,
                        0.0388207005738778,
                        0.04851811853670084,
                        0.1769359847015027,
                        0.0241811143050725,
                        0.12342389904594889,
                        0.07953858991902943,
                        0.0007148961018239013,
                        0.075905811649264,
                        0.08250981230810596,
                        0.4093681503190789,
                        0.007613098801650668,
                        0.07025451068575234,
                        0.1463114752385146,
                        0.09828713445723947,
                        0.061101710155104336,
                        0.018111327974996733,
                        0.0014431078697634755,
                        0.103168501617616,
                        0.8418360164851946,
                        0.058352529964176995,
                        0.06576063952128887,
                        0.023131303268859028,
                        0.053251902708993604,
                        0.1571665648488089,
                        0.08030801934623444,
                        0.018789768975383425,
                        0.02242526070935967,
                        0.12082000883387695,
                        0.2980086114447958,
                        0.4935597092936961,
                        0.0016973359522785168,
                        0.057450647360484455,
                        0.03865778616207224,
                        0.09597961040865743,
                        0.023912313258629338,
                        0.07456253326681649,
                        0.04810606901697821,
                        0.13017803046009974,
                        0.000058043951009082275,
                        0.020447395010421462,
                        0.04182288228214863,
                        0.07559677283312942,
                        0.03281037550733186,
                        0.05277613509710033,
                        0.09798778953468515,
                        0.03057563891191238,
                        0.11054506122359092,
                        0.06733129986158264,
                        0.021210718686021052,
                        0.08822854845583358,
                        0.05162616139582325,
                        0.05211488594036216,
                        0.01186678930278064,
                        0.04223831914593385,
                        0.06860412035659777,
                        0.06679774804449906,
                        0.13633651098703012,
                        0.08869937850877638,
                        0.0003724182427730545,
                        0.1846323139708083,
                        0.029251484155417007,
                        0.01662587225863338,
                        0.06686056081533548,
                        0.11524380427564504,
                        0.04851552367661437,
                        0.03434416183602061,
                        0.00015170937712005728,
                        0.00003931370291677559,
                        0.020366818221712123,
                        0.08189194845491013,
                        0.05355355396078384,
                        0.026648950112548295,
                        0.0611527301383185,
                        0.033099964518396016,
                        0.020488420502767567,
                        0.04445923407838364,
                        0.001066136751996516,
                        0.10087942599335913,
                        0.032402629516657844,
                        0.0798892965288247,
                        0.029981315641325293
                      ]
                    },
                    {
                      "label": "n_estimators",
                      "range": [
                        55,
                        1000
                      ],
                      "values": [
                        954,
                        723,
                        549,
                        796,
                        952,
                        520,
                        225,
                        236,
                        566,
                        825,
                        55,
                        574,
                        533,
                        387,
                        364,
                        360,
                        350,
                        388,
                        72,
                        239,
                        310,
                        416,
                        467,
                        447,
                        443,
                        676,
                        171,
                        467,
                        643,
                        620,
                        629,
                        483,
                        481,
                        496,
                        732,
                        621,
                        779,
                        902,
                        306,
                        684,
                        474,
                        570,
                        565,
                        523,
                        612,
                        681,
                        514,
                        581,
                        588,
                        750,
                        652,
                        831,
                        874,
                        1000,
                        987,
                        996,
                        872,
                        956,
                        918,
                        838,
                        959,
                        952,
                        948,
                        866,
                        867,
                        847,
                        802,
                        888,
                        926,
                        970,
                        863,
                        945,
                        813,
                        923,
                        890,
                        772,
                        957,
                        975,
                        976,
                        998,
                        910,
                        938,
                        971,
                        970,
                        969,
                        906,
                        829,
                        886,
                        998,
                        935,
                        852,
                        911,
                        966,
                        881,
                        899,
                        950,
                        930,
                        977,
                        936,
                        786,
                        958,
                        911,
                        984,
                        815,
                        861,
                        926,
                        903,
                        843,
                        954,
                        986,
                        877,
                        868,
                        929,
                        898,
                        1000,
                        947,
                        831,
                        920,
                        759,
                        859,
                        719,
                        987,
                        961,
                        938,
                        912,
                        953,
                        963,
                        978,
                        103,
                        955,
                        887,
                        929,
                        935,
                        966,
                        999,
                        919,
                        951,
                        902,
                        981,
                        891,
                        935,
                        908,
                        970,
                        948,
                        876,
                        843,
                        877,
                        933,
                        808,
                        895,
                        894,
                        961
                      ]
                    },
                    {
                      "label": "reg_alpha",
                      "range": [
                        0.0026679612772813055,
                        0.9986423786090665
                      ],
                      "values": [
                        0.15599452033620265,
                        0.21233911067827616,
                        0.13949386065204183,
                        0.046450412719997725,
                        0.09767211400638387,
                        0.662522284353982,
                        0.8948273504276488,
                        0.2713490317738959,
                        0.9868869366005173,
                        0.07404465173409036,
                        0.9076647952825179,
                        0.4343562717564112,
                        0.4473531654099191,
                        0.44784472747300386,
                        0.5130813557872375,
                        0.6081918067904137,
                        0.6451355055833556,
                        0.6542331493816542,
                        0.558683374370887,
                        0.34870785753602707,
                        0.7747595362160549,
                        0.5442575918226323,
                        0.5459596563918288,
                        0.7518438319193063,
                        0.5775914665386953,
                        0.32084002256690647,
                        0.7492614954747179,
                        0.5862426198872929,
                        0.3834638654813102,
                        0.37215530456929585,
                        0.24082868568052418,
                        0.49880620277043897,
                        0.41412303686296037,
                        0.4022587944006615,
                        0.18906658946859733,
                        0.2931847216401675,
                        0.48676085427047144,
                        0.4926897453723215,
                        0.0026679612772813055,
                        0.3881500206055893,
                        0.1396870546856146,
                        0.5896462276910436,
                        0.7143014373023028,
                        0.5132498844485942,
                        0.41205998265490884,
                        0.4659556534953674,
                        0.6161388909374421,
                        0.6944963600009947,
                        0.6930117653499775,
                        0.8000920381375524,
                        0.8501151062256489,
                        0.8777538934597018,
                        0.8471610539145066,
                        0.8552400064553441,
                        0.9874680623815941,
                        0.96386901232355,
                        0.9195949281480419,
                        0.8461138219278046,
                        0.8456460761380709,
                        0.8599499946087252,
                        0.9346913371300829,
                        0.9322442402410744,
                        0.9419471063719811,
                        0.9035375831629173,
                        0.8882490603721379,
                        0.8902888599265596,
                        0.8170020786902534,
                        0.8923600184848111,
                        0.8239907990202462,
                        0.8746416672475426,
                        0.9654726334707255,
                        0.921899863961309,
                        0.7661204050291015,
                        0.9094549342177701,
                        0.7910546760565209,
                        0.9525428913794963,
                        0.8369752109860665,
                        0.8242418119519299,
                        0.8278018596065105,
                        0.7382990302291457,
                        0.8703508152061126,
                        0.8144330979160681,
                        0.8354995943959606,
                        0.7760974879166026,
                        0.9939860442874058,
                        0.876438003072884,
                        0.7249627273774005,
                        0.7945711857709292,
                        0.8424675865306088,
                        0.8873700700165632,
                        0.7680153282283427,
                        0.8469231323498585,
                        0.8789315352057,
                        0.8173608291894037,
                        0.9724573478323559,
                        0.8709236497812483,
                        0.9417097523961053,
                        0.928807962684406,
                        0.9411310971533234,
                        0.9158270404662348,
                        0.8573964084483322,
                        0.9004290672777856,
                        0.8290437102977832,
                        0.7975123844501643,
                        0.8673172371441086,
                        0.9506032337884532,
                        0.9754578288595975,
                        0.9006360567482735,
                        0.811643236846656,
                        0.7551856599265819,
                        0.9986423786090665,
                        0.9145181854512305,
                        0.8864745028278298,
                        0.8374870852209538,
                        0.860555340684293,
                        0.782497943658458,
                        0.9426044762079899,
                        0.8927868104554622,
                        0.9047000679673587,
                        0.9306044214965986,
                        0.9609088150420518,
                        0.8581415870120459,
                        0.8332596021461437,
                        0.8054682539133469,
                        0.8309972621087357,
                        0.876399654288326,
                        0.8493537224508495,
                        0.8702680547380611,
                        0.8261731766402486,
                        0.7819315653486862,
                        0.8760771662873524,
                        0.9111082273293296,
                        0.9288199401706322,
                        0.8819611387576659,
                        0.9125017854103422,
                        0.8434494618776047,
                        0.8127065664649904,
                        0.09189064789199175,
                        0.22327402359357673,
                        0.33010403545657496,
                        0.05382726016750445,
                        0.10077340534467463,
                        0.8927272470720635,
                        0.6388227519917092,
                        0.8595084766042933,
                        0.8345300027666563,
                        0.8501190530733603,
                        0.7980897900472899,
                        0.74505045144745,
                        0.9572461354379568,
                        0.9728998075169109,
                        0.9458250865046416
                      ]
                    },
                    {
                      "label": "reg_lambda",
                      "range": [
                        0.00017706763079215065,
                        0.9763949662060079
                      ],
                      "values": [
                        0.05808361216819946,
                        0.18182496720710062,
                        0.29214464853521815,
                        0.6075448519014384,
                        0.6842330265121569,
                        0.31171107608941095,
                        0.5978999788110851,
                        0.8287375091519293,
                        0.7722447692966574,
                        0.3584657285442726,
                        0.9657999152312999,
                        0.06782026776262096,
                        0.7856239838024551,
                        0.4381301674911344,
                        0.4621147584011281,
                        0.48011047785603345,
                        0.46361027315685355,
                        0.5409495149359591,
                        0.17163146637436183,
                        0.4069095432478356,
                        0.2523130069952786,
                        0.47309386330307196,
                        0.5125198379364242,
                        0.5387680325826494,
                        0.6405301333656301,
                        0.3819996117906489,
                        0.7068329287099645,
                        0.5305193476199079,
                        0.5306556833646568,
                        0.5808548020714746,
                        0.6807429559091098,
                        0.47962212978009844,
                        0.5038416284458922,
                        0.3230131846689769,
                        0.2017462173262996,
                        0.4058743548476178,
                        0.5696950128259269,
                        0.6189266199444527,
                        0.5172908782276938,
                        0.6664285571003356,
                        0.7445112445710897,
                        0.4982046915030351,
                        0.4281538776494104,
                        0.3556735119986384,
                        0.5058970407931721,
                        0.6028782398892536,
                        0.2826073929135331,
                        0.06423907049624322,
                        0.04782999293820378,
                        0.8958681653806377,
                        0.010279375331658014,
                        0.011666182194897403,
                        0.007226064052913079,
                        0.005139706570922954,
                        0.11309193260023248,
                        0.10016543855614819,
                        0.12387154228546217,
                        0.00741901493106277,
                        0.0028879646590216877,
                        0.050858710857457995,
                        0.16092689795778808,
                        0.153528608846008,
                        0.1617130306578254,
                        0.02369071759199038,
                        0.019516283196221118,
                        0.027602547850842547,
                        0.08198924878626244,
                        0.21723677953843512,
                        0.032446601562710696,
                        0.13541814884195646,
                        0.08817245531959919,
                        0.1449794893425846,
                        0.0033183009860203137,
                        0.06932083252571705,
                        0.03403288164545065,
                        0.095524001787509,
                        0.2337627164956399,
                        0.18986249939111666,
                        0.23781336048301796,
                        0.3208570885057311,
                        0.21934387394933252,
                        0.18768764457481127,
                        0.2488531519748663,
                        0.25700967212549103,
                        0.17558069437291357,
                        0.06864601662112035,
                        0.11531429062175746,
                        0.22762638965513599,
                        0.29039467286182186,
                        0.05156036236370027,
                        0.20031792527889966,
                        0.06389821932476675,
                        0.07743462156699114,
                        0.0034703898706030523,
                        0.03788735763356786,
                        0.1116793077235888,
                        0.025798692026589194,
                        0.018401861704860342,
                        0.3465867996927483,
                        0.14727627229214785,
                        0.049157552768117244,
                        0.08224560233044732,
                        0.00033477534129715443,
                        0.13224530037738702,
                        0.023156844159457263,
                        0.0981457720329852,
                        0.0660904570989392,
                        0.03437971259184362,
                        0.25897448655116934,
                        0.17081601978117986,
                        0.053301725189399865,
                        0.02065753284999486,
                        0.02399009832414354,
                        0.044033286792113525,
                        0.10186390744205984,
                        0.06866593480112143,
                        0.02178277663559316,
                        0.002404991452809868,
                        0.1259221322790201,
                        0.08453287219966271,
                        0.2772053146866759,
                        0.19565266166887108,
                        0.10341546494853299,
                        0.2357882849485986,
                        0.15718995087686938,
                        0.0570825828129221,
                        0.05345032864719414,
                        0.1061928737631285,
                        0.07746745403282723,
                        0.13987427815584896,
                        0.12224550402177636,
                        0.02668089176349625,
                        0.03948658263641011,
                        0.06357744340871373,
                        0.017779822326077336,
                        0.002143946288350659,
                        0.03665633100919898,
                        0.08662269366841313,
                        0.0931284769616708,
                        0.2110678005743854,
                        0.16976660683030598,
                        0.05641883365988683,
                        0.08110585590298039,
                        0.044458812019395534,
                        0.00017706763079215065,
                        0.0002319894981237247,
                        0.01799156579474123,
                        0.03460420106674314,
                        0.8465375451103219,
                        0.18937356761269766,
                        0.9763949662060079,
                        0.17861414824980892
                      ]
                    }
                  ],
                  "labelangle": 30,
                  "labelside": "bottom",
                  "line": {
                    "color": [
                      9629.3876953125,
                      5771.697265625,
                      8962.9228515625,
                      5772.22802734375,
                      9030.3017578125,
                      8709.3828125,
                      9164.0712890625,
                      9167.8349609375,
                      5706.3076171875,
                      7475.91552734375,
                      13543.962890625,
                      2274.196533203125,
                      2293.499755859375,
                      2225.06640625,
                      2189.54736328125,
                      2120.468505859375,
                      7076.00537109375,
                      9345.96875,
                      8958.2490234375,
                      6687.638671875,
                      5785.67822265625,
                      2185.187744140625,
                      2067.325927734375,
                      6877.59130859375,
                      6260.30419921875,
                      2687.05419921875,
                      5836.181640625,
                      7128.9814453125,
                      2055.86962890625,
                      7071.59375,
                      8864.9365234375,
                      2072.91162109375,
                      2105.031494140625,
                      5998.560546875,
                      2188.123779296875,
                      9863.0478515625,
                      7334.08837890625,
                      6080.5380859375,
                      5825.140625,
                      8852.9306640625,
                      2216.650634765625,
                      2063.49609375,
                      6280.51220703125,
                      6290.98046875,
                      2299.308349609375,
                      9468.4287109375,
                      2077.619384765625,
                      2057.67333984375,
                      9552.107421875,
                      9264.8603515625,
                      2066.111572265625,
                      1980.1387939453125,
                      1952.5050048828125,
                      1992.5244140625,
                      2058.951171875,
                      6541.6240234375,
                      6491.9697265625,
                      1977.7060546875,
                      7558.47998046875,
                      6457.7412109375,
                      1995.56298828125,
                      2001.2041015625,
                      6597.12744140625,
                      1997.618408203125,
                      1987.343505859375,
                      2001.6708984375,
                      6623.45703125,
                      4727.27880859375,
                      2010.2626953125,
                      6536.8779296875,
                      10052.6162109375,
                      2000.6361083984375,
                      2032.26708984375,
                      6685.1943359375,
                      2036.3187255859375,
                      6420.96533203125,
                      1997.06201171875,
                      1997.2747802734375,
                      1966.9315185546875,
                      2718.416259765625,
                      10294.642578125,
                      2026.00048828125,
                      2003.0322265625,
                      6726.9814453125,
                      6619.6669921875,
                      1997.5936279296875,
                      2005.6488037109375,
                      2071.307861328125,
                      6721.59033203125,
                      10313.5419921875,
                      2756.835205078125,
                      2018.887451171875,
                      2004.9122314453125,
                      2077.643798828125,
                      6575.71337890625,
                      2061.392822265625,
                      1990.4638671875,
                      2012.3775634765625,
                      6630.7099609375,
                      7571.16748046875,
                      10333.2998046875,
                      2061.227294921875,
                      2032.0120849609375,
                      2214.12109375,
                      6563.39404296875,
                      2060.388916015625,
                      2004.400634765625,
                      2030.05859375,
                      6573.1708984375,
                      2033.385009765625,
                      2033.40966796875,
                      2019.5716552734375,
                      2026.791259765625,
                      3767.6591796875,
                      1999.75732421875,
                      6598.97998046875,
                      2053.255126953125,
                      5761.8935546875,
                      2043.2000732421875,
                      2039.90771484375,
                      6094.564453125,
                      2020.413818359375,
                      1991.7703857421875,
                      2001.2379150390625,
                      2354.157958984375,
                      1980.913818359375,
                      2041.9879150390625,
                      6572.54345703125,
                      6095.072265625,
                      2017.5526123046875,
                      6642.52392578125,
                      1970.513916015625,
                      2008.606201171875,
                      1999.978515625,
                      6658.8701171875,
                      2001.9608154296875,
                      2021.730224609375,
                      1993.928955078125,
                      2008.740234375,
                      2030.24365234375,
                      2132.23583984375,
                      2002.35791015625,
                      2029.02880859375,
                      2006.287841796875,
                      1978.6209716796875,
                      2050.766357421875,
                      2028.2103271484375,
                      2014.362548828125,
                      6690.5498046875,
                      1962.93359375,
                      2026.37353515625,
                      2026.1820068359375
                    ],
                    "colorbar": {
                      "title": {
                        "text": "Objective Value"
                      }
                    },
                    "colorscale": [
                      [
                        0,
                        "rgb(247,251,255)"
                      ],
                      [
                        0.125,
                        "rgb(222,235,247)"
                      ],
                      [
                        0.25,
                        "rgb(198,219,239)"
                      ],
                      [
                        0.375,
                        "rgb(158,202,225)"
                      ],
                      [
                        0.5,
                        "rgb(107,174,214)"
                      ],
                      [
                        0.625,
                        "rgb(66,146,198)"
                      ],
                      [
                        0.75,
                        "rgb(33,113,181)"
                      ],
                      [
                        0.875,
                        "rgb(8,81,156)"
                      ],
                      [
                        1,
                        "rgb(8,48,107)"
                      ]
                    ],
                    "reversescale": true,
                    "showscale": true
                  },
                  "type": "parcoords"
                }
              ],
              "layout": {
                "template": {
                  "data": {
                    "bar": [
                      {
                        "error_x": {
                          "color": "#2a3f5f"
                        },
                        "error_y": {
                          "color": "#2a3f5f"
                        },
                        "marker": {
                          "line": {
                            "color": "#E5ECF6",
                            "width": 0.5
                          },
                          "pattern": {
                            "fillmode": "overlay",
                            "size": 10,
                            "solidity": 0.2
                          }
                        },
                        "type": "bar"
                      }
                    ],
                    "barpolar": [
                      {
                        "marker": {
                          "line": {
                            "color": "#E5ECF6",
                            "width": 0.5
                          },
                          "pattern": {
                            "fillmode": "overlay",
                            "size": 10,
                            "solidity": 0.2
                          }
                        },
                        "type": "barpolar"
                      }
                    ],
                    "carpet": [
                      {
                        "aaxis": {
                          "endlinecolor": "#2a3f5f",
                          "gridcolor": "white",
                          "linecolor": "white",
                          "minorgridcolor": "white",
                          "startlinecolor": "#2a3f5f"
                        },
                        "baxis": {
                          "endlinecolor": "#2a3f5f",
                          "gridcolor": "white",
                          "linecolor": "white",
                          "minorgridcolor": "white",
                          "startlinecolor": "#2a3f5f"
                        },
                        "type": "carpet"
                      }
                    ],
                    "choropleth": [
                      {
                        "colorbar": {
                          "outlinewidth": 0,
                          "ticks": ""
                        },
                        "type": "choropleth"
                      }
                    ],
                    "contour": [
                      {
                        "colorbar": {
                          "outlinewidth": 0,
                          "ticks": ""
                        },
                        "colorscale": [
                          [
                            0,
                            "#0d0887"
                          ],
                          [
                            0.1111111111111111,
                            "#46039f"
                          ],
                          [
                            0.2222222222222222,
                            "#7201a8"
                          ],
                          [
                            0.3333333333333333,
                            "#9c179e"
                          ],
                          [
                            0.4444444444444444,
                            "#bd3786"
                          ],
                          [
                            0.5555555555555556,
                            "#d8576b"
                          ],
                          [
                            0.6666666666666666,
                            "#ed7953"
                          ],
                          [
                            0.7777777777777778,
                            "#fb9f3a"
                          ],
                          [
                            0.8888888888888888,
                            "#fdca26"
                          ],
                          [
                            1,
                            "#f0f921"
                          ]
                        ],
                        "type": "contour"
                      }
                    ],
                    "contourcarpet": [
                      {
                        "colorbar": {
                          "outlinewidth": 0,
                          "ticks": ""
                        },
                        "type": "contourcarpet"
                      }
                    ],
                    "heatmap": [
                      {
                        "colorbar": {
                          "outlinewidth": 0,
                          "ticks": ""
                        },
                        "colorscale": [
                          [
                            0,
                            "#0d0887"
                          ],
                          [
                            0.1111111111111111,
                            "#46039f"
                          ],
                          [
                            0.2222222222222222,
                            "#7201a8"
                          ],
                          [
                            0.3333333333333333,
                            "#9c179e"
                          ],
                          [
                            0.4444444444444444,
                            "#bd3786"
                          ],
                          [
                            0.5555555555555556,
                            "#d8576b"
                          ],
                          [
                            0.6666666666666666,
                            "#ed7953"
                          ],
                          [
                            0.7777777777777778,
                            "#fb9f3a"
                          ],
                          [
                            0.8888888888888888,
                            "#fdca26"
                          ],
                          [
                            1,
                            "#f0f921"
                          ]
                        ],
                        "type": "heatmap"
                      }
                    ],
                    "histogram": [
                      {
                        "marker": {
                          "pattern": {
                            "fillmode": "overlay",
                            "size": 10,
                            "solidity": 0.2
                          }
                        },
                        "type": "histogram"
                      }
                    ],
                    "histogram2d": [
                      {
                        "colorbar": {
                          "outlinewidth": 0,
                          "ticks": ""
                        },
                        "colorscale": [
                          [
                            0,
                            "#0d0887"
                          ],
                          [
                            0.1111111111111111,
                            "#46039f"
                          ],
                          [
                            0.2222222222222222,
                            "#7201a8"
                          ],
                          [
                            0.3333333333333333,
                            "#9c179e"
                          ],
                          [
                            0.4444444444444444,
                            "#bd3786"
                          ],
                          [
                            0.5555555555555556,
                            "#d8576b"
                          ],
                          [
                            0.6666666666666666,
                            "#ed7953"
                          ],
                          [
                            0.7777777777777778,
                            "#fb9f3a"
                          ],
                          [
                            0.8888888888888888,
                            "#fdca26"
                          ],
                          [
                            1,
                            "#f0f921"
                          ]
                        ],
                        "type": "histogram2d"
                      }
                    ],
                    "histogram2dcontour": [
                      {
                        "colorbar": {
                          "outlinewidth": 0,
                          "ticks": ""
                        },
                        "colorscale": [
                          [
                            0,
                            "#0d0887"
                          ],
                          [
                            0.1111111111111111,
                            "#46039f"
                          ],
                          [
                            0.2222222222222222,
                            "#7201a8"
                          ],
                          [
                            0.3333333333333333,
                            "#9c179e"
                          ],
                          [
                            0.4444444444444444,
                            "#bd3786"
                          ],
                          [
                            0.5555555555555556,
                            "#d8576b"
                          ],
                          [
                            0.6666666666666666,
                            "#ed7953"
                          ],
                          [
                            0.7777777777777778,
                            "#fb9f3a"
                          ],
                          [
                            0.8888888888888888,
                            "#fdca26"
                          ],
                          [
                            1,
                            "#f0f921"
                          ]
                        ],
                        "type": "histogram2dcontour"
                      }
                    ],
                    "mesh3d": [
                      {
                        "colorbar": {
                          "outlinewidth": 0,
                          "ticks": ""
                        },
                        "type": "mesh3d"
                      }
                    ],
                    "parcoords": [
                      {
                        "line": {
                          "colorbar": {
                            "outlinewidth": 0,
                            "ticks": ""
                          }
                        },
                        "type": "parcoords"
                      }
                    ],
                    "pie": [
                      {
                        "automargin": true,
                        "type": "pie"
                      }
                    ],
                    "scatter": [
                      {
                        "fillpattern": {
                          "fillmode": "overlay",
                          "size": 10,
                          "solidity": 0.2
                        },
                        "type": "scatter"
                      }
                    ],
                    "scatter3d": [
                      {
                        "line": {
                          "colorbar": {
                            "outlinewidth": 0,
                            "ticks": ""
                          }
                        },
                        "marker": {
                          "colorbar": {
                            "outlinewidth": 0,
                            "ticks": ""
                          }
                        },
                        "type": "scatter3d"
                      }
                    ],
                    "scattercarpet": [
                      {
                        "marker": {
                          "colorbar": {
                            "outlinewidth": 0,
                            "ticks": ""
                          }
                        },
                        "type": "scattercarpet"
                      }
                    ],
                    "scattergeo": [
                      {
                        "marker": {
                          "colorbar": {
                            "outlinewidth": 0,
                            "ticks": ""
                          }
                        },
                        "type": "scattergeo"
                      }
                    ],
                    "scattergl": [
                      {
                        "marker": {
                          "colorbar": {
                            "outlinewidth": 0,
                            "ticks": ""
                          }
                        },
                        "type": "scattergl"
                      }
                    ],
                    "scattermap": [
                      {
                        "marker": {
                          "colorbar": {
                            "outlinewidth": 0,
                            "ticks": ""
                          }
                        },
                        "type": "scattermap"
                      }
                    ],
                    "scattermapbox": [
                      {
                        "marker": {
                          "colorbar": {
                            "outlinewidth": 0,
                            "ticks": ""
                          }
                        },
                        "type": "scattermapbox"
                      }
                    ],
                    "scatterpolar": [
                      {
                        "marker": {
                          "colorbar": {
                            "outlinewidth": 0,
                            "ticks": ""
                          }
                        },
                        "type": "scatterpolar"
                      }
                    ],
                    "scatterpolargl": [
                      {
                        "marker": {
                          "colorbar": {
                            "outlinewidth": 0,
                            "ticks": ""
                          }
                        },
                        "type": "scatterpolargl"
                      }
                    ],
                    "scatterternary": [
                      {
                        "marker": {
                          "colorbar": {
                            "outlinewidth": 0,
                            "ticks": ""
                          }
                        },
                        "type": "scatterternary"
                      }
                    ],
                    "surface": [
                      {
                        "colorbar": {
                          "outlinewidth": 0,
                          "ticks": ""
                        },
                        "colorscale": [
                          [
                            0,
                            "#0d0887"
                          ],
                          [
                            0.1111111111111111,
                            "#46039f"
                          ],
                          [
                            0.2222222222222222,
                            "#7201a8"
                          ],
                          [
                            0.3333333333333333,
                            "#9c179e"
                          ],
                          [
                            0.4444444444444444,
                            "#bd3786"
                          ],
                          [
                            0.5555555555555556,
                            "#d8576b"
                          ],
                          [
                            0.6666666666666666,
                            "#ed7953"
                          ],
                          [
                            0.7777777777777778,
                            "#fb9f3a"
                          ],
                          [
                            0.8888888888888888,
                            "#fdca26"
                          ],
                          [
                            1,
                            "#f0f921"
                          ]
                        ],
                        "type": "surface"
                      }
                    ],
                    "table": [
                      {
                        "cells": {
                          "fill": {
                            "color": "#EBF0F8"
                          },
                          "line": {
                            "color": "white"
                          }
                        },
                        "header": {
                          "fill": {
                            "color": "#C8D4E3"
                          },
                          "line": {
                            "color": "white"
                          }
                        },
                        "type": "table"
                      }
                    ]
                  },
                  "layout": {
                    "annotationdefaults": {
                      "arrowcolor": "#2a3f5f",
                      "arrowhead": 0,
                      "arrowwidth": 1
                    },
                    "autotypenumbers": "strict",
                    "coloraxis": {
                      "colorbar": {
                        "outlinewidth": 0,
                        "ticks": ""
                      }
                    },
                    "colorscale": {
                      "diverging": [
                        [
                          0,
                          "#8e0152"
                        ],
                        [
                          0.1,
                          "#c51b7d"
                        ],
                        [
                          0.2,
                          "#de77ae"
                        ],
                        [
                          0.3,
                          "#f1b6da"
                        ],
                        [
                          0.4,
                          "#fde0ef"
                        ],
                        [
                          0.5,
                          "#f7f7f7"
                        ],
                        [
                          0.6,
                          "#e6f5d0"
                        ],
                        [
                          0.7,
                          "#b8e186"
                        ],
                        [
                          0.8,
                          "#7fbc41"
                        ],
                        [
                          0.9,
                          "#4d9221"
                        ],
                        [
                          1,
                          "#276419"
                        ]
                      ],
                      "sequential": [
                        [
                          0,
                          "#0d0887"
                        ],
                        [
                          0.1111111111111111,
                          "#46039f"
                        ],
                        [
                          0.2222222222222222,
                          "#7201a8"
                        ],
                        [
                          0.3333333333333333,
                          "#9c179e"
                        ],
                        [
                          0.4444444444444444,
                          "#bd3786"
                        ],
                        [
                          0.5555555555555556,
                          "#d8576b"
                        ],
                        [
                          0.6666666666666666,
                          "#ed7953"
                        ],
                        [
                          0.7777777777777778,
                          "#fb9f3a"
                        ],
                        [
                          0.8888888888888888,
                          "#fdca26"
                        ],
                        [
                          1,
                          "#f0f921"
                        ]
                      ],
                      "sequentialminus": [
                        [
                          0,
                          "#0d0887"
                        ],
                        [
                          0.1111111111111111,
                          "#46039f"
                        ],
                        [
                          0.2222222222222222,
                          "#7201a8"
                        ],
                        [
                          0.3333333333333333,
                          "#9c179e"
                        ],
                        [
                          0.4444444444444444,
                          "#bd3786"
                        ],
                        [
                          0.5555555555555556,
                          "#d8576b"
                        ],
                        [
                          0.6666666666666666,
                          "#ed7953"
                        ],
                        [
                          0.7777777777777778,
                          "#fb9f3a"
                        ],
                        [
                          0.8888888888888888,
                          "#fdca26"
                        ],
                        [
                          1,
                          "#f0f921"
                        ]
                      ]
                    },
                    "colorway": [
                      "#636efa",
                      "#EF553B",
                      "#00cc96",
                      "#ab63fa",
                      "#FFA15A",
                      "#19d3f3",
                      "#FF6692",
                      "#B6E880",
                      "#FF97FF",
                      "#FECB52"
                    ],
                    "font": {
                      "color": "#2a3f5f"
                    },
                    "geo": {
                      "bgcolor": "white",
                      "lakecolor": "white",
                      "landcolor": "#E5ECF6",
                      "showlakes": true,
                      "showland": true,
                      "subunitcolor": "white"
                    },
                    "hoverlabel": {
                      "align": "left"
                    },
                    "hovermode": "closest",
                    "mapbox": {
                      "style": "light"
                    },
                    "paper_bgcolor": "white",
                    "plot_bgcolor": "#E5ECF6",
                    "polar": {
                      "angularaxis": {
                        "gridcolor": "white",
                        "linecolor": "white",
                        "ticks": ""
                      },
                      "bgcolor": "#E5ECF6",
                      "radialaxis": {
                        "gridcolor": "white",
                        "linecolor": "white",
                        "ticks": ""
                      }
                    },
                    "scene": {
                      "xaxis": {
                        "backgroundcolor": "#E5ECF6",
                        "gridcolor": "white",
                        "gridwidth": 2,
                        "linecolor": "white",
                        "showbackground": true,
                        "ticks": "",
                        "zerolinecolor": "white"
                      },
                      "yaxis": {
                        "backgroundcolor": "#E5ECF6",
                        "gridcolor": "white",
                        "gridwidth": 2,
                        "linecolor": "white",
                        "showbackground": true,
                        "ticks": "",
                        "zerolinecolor": "white"
                      },
                      "zaxis": {
                        "backgroundcolor": "#E5ECF6",
                        "gridcolor": "white",
                        "gridwidth": 2,
                        "linecolor": "white",
                        "showbackground": true,
                        "ticks": "",
                        "zerolinecolor": "white"
                      }
                    },
                    "shapedefaults": {
                      "line": {
                        "color": "#2a3f5f"
                      }
                    },
                    "ternary": {
                      "aaxis": {
                        "gridcolor": "white",
                        "linecolor": "white",
                        "ticks": ""
                      },
                      "baxis": {
                        "gridcolor": "white",
                        "linecolor": "white",
                        "ticks": ""
                      },
                      "bgcolor": "#E5ECF6",
                      "caxis": {
                        "gridcolor": "white",
                        "linecolor": "white",
                        "ticks": ""
                      }
                    },
                    "title": {
                      "x": 0.05
                    },
                    "xaxis": {
                      "automargin": true,
                      "gridcolor": "white",
                      "linecolor": "white",
                      "ticks": "",
                      "title": {
                        "standoff": 15
                      },
                      "zerolinecolor": "white",
                      "zerolinewidth": 2
                    },
                    "yaxis": {
                      "automargin": true,
                      "gridcolor": "white",
                      "linecolor": "white",
                      "ticks": "",
                      "title": {
                        "standoff": 15
                      },
                      "zerolinecolor": "white",
                      "zerolinewidth": 2
                    }
                  }
                },
                "title": {
                  "text": "Parallel Coordinate (sin pruning)"
                }
              }
            }
          },
          "metadata": {},
          "output_type": "display_data"
        },
        {
          "data": {
            "application/vnd.plotly.v1+json": {
              "config": {
                "plotlyServerURL": "https://plot.ly"
              },
              "data": [
                {
                  "cliponaxis": false,
                  "hovertemplate": [
                    "min_child_weight (IntDistribution): 0.0003075755257645305<extra></extra>",
                    "max_depth (IntDistribution): 0.00145408977117439<extra></extra>",
                    "reg_alpha (FloatDistribution): 0.004324182241507238<extra></extra>",
                    "learning_rate (FloatDistribution): 0.00843231404496292<extra></extra>",
                    "n_estimators (IntDistribution): 0.018040131398880128<extra></extra>",
                    "reg_lambda (FloatDistribution): 0.02107518917116575<extra></extra>",
                    "max_leaves (IntDistribution): 0.02354498376722694<extra></extra>",
                    "min_frequency (FloatDistribution): 0.922821534079318<extra></extra>"
                  ],
                  "name": "Objective Value",
                  "orientation": "h",
                  "text": [
                    "<0.01",
                    "<0.01",
                    "<0.01",
                    "<0.01",
                    "0.02",
                    "0.02",
                    "0.02",
                    "0.92"
                  ],
                  "textposition": "outside",
                  "type": "bar",
                  "x": [
                    0.0003075755257645305,
                    0.00145408977117439,
                    0.004324182241507238,
                    0.00843231404496292,
                    0.018040131398880128,
                    0.02107518917116575,
                    0.02354498376722694,
                    0.922821534079318
                  ],
                  "y": [
                    "min_child_weight",
                    "max_depth",
                    "reg_alpha",
                    "learning_rate",
                    "n_estimators",
                    "reg_lambda",
                    "max_leaves",
                    "min_frequency"
                  ]
                }
              ],
              "layout": {
                "template": {
                  "data": {
                    "bar": [
                      {
                        "error_x": {
                          "color": "#2a3f5f"
                        },
                        "error_y": {
                          "color": "#2a3f5f"
                        },
                        "marker": {
                          "line": {
                            "color": "#E5ECF6",
                            "width": 0.5
                          },
                          "pattern": {
                            "fillmode": "overlay",
                            "size": 10,
                            "solidity": 0.2
                          }
                        },
                        "type": "bar"
                      }
                    ],
                    "barpolar": [
                      {
                        "marker": {
                          "line": {
                            "color": "#E5ECF6",
                            "width": 0.5
                          },
                          "pattern": {
                            "fillmode": "overlay",
                            "size": 10,
                            "solidity": 0.2
                          }
                        },
                        "type": "barpolar"
                      }
                    ],
                    "carpet": [
                      {
                        "aaxis": {
                          "endlinecolor": "#2a3f5f",
                          "gridcolor": "white",
                          "linecolor": "white",
                          "minorgridcolor": "white",
                          "startlinecolor": "#2a3f5f"
                        },
                        "baxis": {
                          "endlinecolor": "#2a3f5f",
                          "gridcolor": "white",
                          "linecolor": "white",
                          "minorgridcolor": "white",
                          "startlinecolor": "#2a3f5f"
                        },
                        "type": "carpet"
                      }
                    ],
                    "choropleth": [
                      {
                        "colorbar": {
                          "outlinewidth": 0,
                          "ticks": ""
                        },
                        "type": "choropleth"
                      }
                    ],
                    "contour": [
                      {
                        "colorbar": {
                          "outlinewidth": 0,
                          "ticks": ""
                        },
                        "colorscale": [
                          [
                            0,
                            "#0d0887"
                          ],
                          [
                            0.1111111111111111,
                            "#46039f"
                          ],
                          [
                            0.2222222222222222,
                            "#7201a8"
                          ],
                          [
                            0.3333333333333333,
                            "#9c179e"
                          ],
                          [
                            0.4444444444444444,
                            "#bd3786"
                          ],
                          [
                            0.5555555555555556,
                            "#d8576b"
                          ],
                          [
                            0.6666666666666666,
                            "#ed7953"
                          ],
                          [
                            0.7777777777777778,
                            "#fb9f3a"
                          ],
                          [
                            0.8888888888888888,
                            "#fdca26"
                          ],
                          [
                            1,
                            "#f0f921"
                          ]
                        ],
                        "type": "contour"
                      }
                    ],
                    "contourcarpet": [
                      {
                        "colorbar": {
                          "outlinewidth": 0,
                          "ticks": ""
                        },
                        "type": "contourcarpet"
                      }
                    ],
                    "heatmap": [
                      {
                        "colorbar": {
                          "outlinewidth": 0,
                          "ticks": ""
                        },
                        "colorscale": [
                          [
                            0,
                            "#0d0887"
                          ],
                          [
                            0.1111111111111111,
                            "#46039f"
                          ],
                          [
                            0.2222222222222222,
                            "#7201a8"
                          ],
                          [
                            0.3333333333333333,
                            "#9c179e"
                          ],
                          [
                            0.4444444444444444,
                            "#bd3786"
                          ],
                          [
                            0.5555555555555556,
                            "#d8576b"
                          ],
                          [
                            0.6666666666666666,
                            "#ed7953"
                          ],
                          [
                            0.7777777777777778,
                            "#fb9f3a"
                          ],
                          [
                            0.8888888888888888,
                            "#fdca26"
                          ],
                          [
                            1,
                            "#f0f921"
                          ]
                        ],
                        "type": "heatmap"
                      }
                    ],
                    "histogram": [
                      {
                        "marker": {
                          "pattern": {
                            "fillmode": "overlay",
                            "size": 10,
                            "solidity": 0.2
                          }
                        },
                        "type": "histogram"
                      }
                    ],
                    "histogram2d": [
                      {
                        "colorbar": {
                          "outlinewidth": 0,
                          "ticks": ""
                        },
                        "colorscale": [
                          [
                            0,
                            "#0d0887"
                          ],
                          [
                            0.1111111111111111,
                            "#46039f"
                          ],
                          [
                            0.2222222222222222,
                            "#7201a8"
                          ],
                          [
                            0.3333333333333333,
                            "#9c179e"
                          ],
                          [
                            0.4444444444444444,
                            "#bd3786"
                          ],
                          [
                            0.5555555555555556,
                            "#d8576b"
                          ],
                          [
                            0.6666666666666666,
                            "#ed7953"
                          ],
                          [
                            0.7777777777777778,
                            "#fb9f3a"
                          ],
                          [
                            0.8888888888888888,
                            "#fdca26"
                          ],
                          [
                            1,
                            "#f0f921"
                          ]
                        ],
                        "type": "histogram2d"
                      }
                    ],
                    "histogram2dcontour": [
                      {
                        "colorbar": {
                          "outlinewidth": 0,
                          "ticks": ""
                        },
                        "colorscale": [
                          [
                            0,
                            "#0d0887"
                          ],
                          [
                            0.1111111111111111,
                            "#46039f"
                          ],
                          [
                            0.2222222222222222,
                            "#7201a8"
                          ],
                          [
                            0.3333333333333333,
                            "#9c179e"
                          ],
                          [
                            0.4444444444444444,
                            "#bd3786"
                          ],
                          [
                            0.5555555555555556,
                            "#d8576b"
                          ],
                          [
                            0.6666666666666666,
                            "#ed7953"
                          ],
                          [
                            0.7777777777777778,
                            "#fb9f3a"
                          ],
                          [
                            0.8888888888888888,
                            "#fdca26"
                          ],
                          [
                            1,
                            "#f0f921"
                          ]
                        ],
                        "type": "histogram2dcontour"
                      }
                    ],
                    "mesh3d": [
                      {
                        "colorbar": {
                          "outlinewidth": 0,
                          "ticks": ""
                        },
                        "type": "mesh3d"
                      }
                    ],
                    "parcoords": [
                      {
                        "line": {
                          "colorbar": {
                            "outlinewidth": 0,
                            "ticks": ""
                          }
                        },
                        "type": "parcoords"
                      }
                    ],
                    "pie": [
                      {
                        "automargin": true,
                        "type": "pie"
                      }
                    ],
                    "scatter": [
                      {
                        "fillpattern": {
                          "fillmode": "overlay",
                          "size": 10,
                          "solidity": 0.2
                        },
                        "type": "scatter"
                      }
                    ],
                    "scatter3d": [
                      {
                        "line": {
                          "colorbar": {
                            "outlinewidth": 0,
                            "ticks": ""
                          }
                        },
                        "marker": {
                          "colorbar": {
                            "outlinewidth": 0,
                            "ticks": ""
                          }
                        },
                        "type": "scatter3d"
                      }
                    ],
                    "scattercarpet": [
                      {
                        "marker": {
                          "colorbar": {
                            "outlinewidth": 0,
                            "ticks": ""
                          }
                        },
                        "type": "scattercarpet"
                      }
                    ],
                    "scattergeo": [
                      {
                        "marker": {
                          "colorbar": {
                            "outlinewidth": 0,
                            "ticks": ""
                          }
                        },
                        "type": "scattergeo"
                      }
                    ],
                    "scattergl": [
                      {
                        "marker": {
                          "colorbar": {
                            "outlinewidth": 0,
                            "ticks": ""
                          }
                        },
                        "type": "scattergl"
                      }
                    ],
                    "scattermap": [
                      {
                        "marker": {
                          "colorbar": {
                            "outlinewidth": 0,
                            "ticks": ""
                          }
                        },
                        "type": "scattermap"
                      }
                    ],
                    "scattermapbox": [
                      {
                        "marker": {
                          "colorbar": {
                            "outlinewidth": 0,
                            "ticks": ""
                          }
                        },
                        "type": "scattermapbox"
                      }
                    ],
                    "scatterpolar": [
                      {
                        "marker": {
                          "colorbar": {
                            "outlinewidth": 0,
                            "ticks": ""
                          }
                        },
                        "type": "scatterpolar"
                      }
                    ],
                    "scatterpolargl": [
                      {
                        "marker": {
                          "colorbar": {
                            "outlinewidth": 0,
                            "ticks": ""
                          }
                        },
                        "type": "scatterpolargl"
                      }
                    ],
                    "scatterternary": [
                      {
                        "marker": {
                          "colorbar": {
                            "outlinewidth": 0,
                            "ticks": ""
                          }
                        },
                        "type": "scatterternary"
                      }
                    ],
                    "surface": [
                      {
                        "colorbar": {
                          "outlinewidth": 0,
                          "ticks": ""
                        },
                        "colorscale": [
                          [
                            0,
                            "#0d0887"
                          ],
                          [
                            0.1111111111111111,
                            "#46039f"
                          ],
                          [
                            0.2222222222222222,
                            "#7201a8"
                          ],
                          [
                            0.3333333333333333,
                            "#9c179e"
                          ],
                          [
                            0.4444444444444444,
                            "#bd3786"
                          ],
                          [
                            0.5555555555555556,
                            "#d8576b"
                          ],
                          [
                            0.6666666666666666,
                            "#ed7953"
                          ],
                          [
                            0.7777777777777778,
                            "#fb9f3a"
                          ],
                          [
                            0.8888888888888888,
                            "#fdca26"
                          ],
                          [
                            1,
                            "#f0f921"
                          ]
                        ],
                        "type": "surface"
                      }
                    ],
                    "table": [
                      {
                        "cells": {
                          "fill": {
                            "color": "#EBF0F8"
                          },
                          "line": {
                            "color": "white"
                          }
                        },
                        "header": {
                          "fill": {
                            "color": "#C8D4E3"
                          },
                          "line": {
                            "color": "white"
                          }
                        },
                        "type": "table"
                      }
                    ]
                  },
                  "layout": {
                    "annotationdefaults": {
                      "arrowcolor": "#2a3f5f",
                      "arrowhead": 0,
                      "arrowwidth": 1
                    },
                    "autotypenumbers": "strict",
                    "coloraxis": {
                      "colorbar": {
                        "outlinewidth": 0,
                        "ticks": ""
                      }
                    },
                    "colorscale": {
                      "diverging": [
                        [
                          0,
                          "#8e0152"
                        ],
                        [
                          0.1,
                          "#c51b7d"
                        ],
                        [
                          0.2,
                          "#de77ae"
                        ],
                        [
                          0.3,
                          "#f1b6da"
                        ],
                        [
                          0.4,
                          "#fde0ef"
                        ],
                        [
                          0.5,
                          "#f7f7f7"
                        ],
                        [
                          0.6,
                          "#e6f5d0"
                        ],
                        [
                          0.7,
                          "#b8e186"
                        ],
                        [
                          0.8,
                          "#7fbc41"
                        ],
                        [
                          0.9,
                          "#4d9221"
                        ],
                        [
                          1,
                          "#276419"
                        ]
                      ],
                      "sequential": [
                        [
                          0,
                          "#0d0887"
                        ],
                        [
                          0.1111111111111111,
                          "#46039f"
                        ],
                        [
                          0.2222222222222222,
                          "#7201a8"
                        ],
                        [
                          0.3333333333333333,
                          "#9c179e"
                        ],
                        [
                          0.4444444444444444,
                          "#bd3786"
                        ],
                        [
                          0.5555555555555556,
                          "#d8576b"
                        ],
                        [
                          0.6666666666666666,
                          "#ed7953"
                        ],
                        [
                          0.7777777777777778,
                          "#fb9f3a"
                        ],
                        [
                          0.8888888888888888,
                          "#fdca26"
                        ],
                        [
                          1,
                          "#f0f921"
                        ]
                      ],
                      "sequentialminus": [
                        [
                          0,
                          "#0d0887"
                        ],
                        [
                          0.1111111111111111,
                          "#46039f"
                        ],
                        [
                          0.2222222222222222,
                          "#7201a8"
                        ],
                        [
                          0.3333333333333333,
                          "#9c179e"
                        ],
                        [
                          0.4444444444444444,
                          "#bd3786"
                        ],
                        [
                          0.5555555555555556,
                          "#d8576b"
                        ],
                        [
                          0.6666666666666666,
                          "#ed7953"
                        ],
                        [
                          0.7777777777777778,
                          "#fb9f3a"
                        ],
                        [
                          0.8888888888888888,
                          "#fdca26"
                        ],
                        [
                          1,
                          "#f0f921"
                        ]
                      ]
                    },
                    "colorway": [
                      "#636efa",
                      "#EF553B",
                      "#00cc96",
                      "#ab63fa",
                      "#FFA15A",
                      "#19d3f3",
                      "#FF6692",
                      "#B6E880",
                      "#FF97FF",
                      "#FECB52"
                    ],
                    "font": {
                      "color": "#2a3f5f"
                    },
                    "geo": {
                      "bgcolor": "white",
                      "lakecolor": "white",
                      "landcolor": "#E5ECF6",
                      "showlakes": true,
                      "showland": true,
                      "subunitcolor": "white"
                    },
                    "hoverlabel": {
                      "align": "left"
                    },
                    "hovermode": "closest",
                    "mapbox": {
                      "style": "light"
                    },
                    "paper_bgcolor": "white",
                    "plot_bgcolor": "#E5ECF6",
                    "polar": {
                      "angularaxis": {
                        "gridcolor": "white",
                        "linecolor": "white",
                        "ticks": ""
                      },
                      "bgcolor": "#E5ECF6",
                      "radialaxis": {
                        "gridcolor": "white",
                        "linecolor": "white",
                        "ticks": ""
                      }
                    },
                    "scene": {
                      "xaxis": {
                        "backgroundcolor": "#E5ECF6",
                        "gridcolor": "white",
                        "gridwidth": 2,
                        "linecolor": "white",
                        "showbackground": true,
                        "ticks": "",
                        "zerolinecolor": "white"
                      },
                      "yaxis": {
                        "backgroundcolor": "#E5ECF6",
                        "gridcolor": "white",
                        "gridwidth": 2,
                        "linecolor": "white",
                        "showbackground": true,
                        "ticks": "",
                        "zerolinecolor": "white"
                      },
                      "zaxis": {
                        "backgroundcolor": "#E5ECF6",
                        "gridcolor": "white",
                        "gridwidth": 2,
                        "linecolor": "white",
                        "showbackground": true,
                        "ticks": "",
                        "zerolinecolor": "white"
                      }
                    },
                    "shapedefaults": {
                      "line": {
                        "color": "#2a3f5f"
                      }
                    },
                    "ternary": {
                      "aaxis": {
                        "gridcolor": "white",
                        "linecolor": "white",
                        "ticks": ""
                      },
                      "baxis": {
                        "gridcolor": "white",
                        "linecolor": "white",
                        "ticks": ""
                      },
                      "bgcolor": "#E5ECF6",
                      "caxis": {
                        "gridcolor": "white",
                        "linecolor": "white",
                        "ticks": ""
                      }
                    },
                    "title": {
                      "x": 0.05
                    },
                    "xaxis": {
                      "automargin": true,
                      "gridcolor": "white",
                      "linecolor": "white",
                      "ticks": "",
                      "title": {
                        "standoff": 15
                      },
                      "zerolinecolor": "white",
                      "zerolinewidth": 2
                    },
                    "yaxis": {
                      "automargin": true,
                      "gridcolor": "white",
                      "linecolor": "white",
                      "ticks": "",
                      "title": {
                        "standoff": 15
                      },
                      "zerolinecolor": "white",
                      "zerolinewidth": 2
                    }
                  }
                },
                "title": {
                  "text": "Param Importances (sin pruning)"
                },
                "xaxis": {
                  "title": {
                    "text": "Hyperparameter Importance"
                  }
                },
                "yaxis": {
                  "title": {
                    "text": "Hyperparameter"
                  }
                }
              }
            }
          },
          "metadata": {},
          "output_type": "display_data"
        },
        {
          "data": {
            "application/vnd.plotly.v1+json": {
              "config": {
                "plotlyServerURL": "https://plot.ly"
              },
              "data": [
                {
                  "mode": "markers",
                  "name": "Objective Value",
                  "type": "scatter",
                  "x": [
                    0,
                    1,
                    2,
                    3,
                    4,
                    10,
                    13,
                    14,
                    20,
                    21,
                    22,
                    31,
                    33,
                    37,
                    41,
                    44,
                    45,
                    46,
                    49,
                    51,
                    52,
                    53,
                    64,
                    65,
                    72,
                    81,
                    87,
                    91,
                    92,
                    101,
                    111,
                    112,
                    115,
                    117,
                    121,
                    123,
                    127,
                    131,
                    137,
                    141,
                    143,
                    153,
                    154,
                    173,
                    181,
                    194,
                    229,
                    237,
                    292,
                    298,
                    330,
                    351,
                    414,
                    427,
                    496,
                    614,
                    793,
                    797,
                    856
                  ],
                  "y": [
                    8920.296875,
                    7384.5107421875,
                    8935.115234375,
                    5768.6435546875,
                    9027.48046875,
                    2051.735107421875,
                    2164.5341796875,
                    2986.900390625,
                    2134.27001953125,
                    2135.025390625,
                    2107.301513671875,
                    2133.869384765625,
                    2142.071533203125,
                    2116.976318359375,
                    2209.470947265625,
                    2071.45556640625,
                    2020.5111083984375,
                    2007.6483154296875,
                    2012.5947265625,
                    1961.1783447265625,
                    1950.5714111328125,
                    1967.259521484375,
                    2002.957275390625,
                    1963.292236328125,
                    1997.4873046875,
                    1987.660888671875,
                    1995.8807373046875,
                    1985.7557373046875,
                    1900.940673828125,
                    1970.8067626953125,
                    1990.69873046875,
                    1950.1690673828125,
                    1977.6395263671875,
                    1975.918212890625,
                    1972.0196533203125,
                    1970.4266357421875,
                    1956.0960693359375,
                    1994.513427734375,
                    1980.0140380859375,
                    1962.064208984375,
                    1947.8865966796875,
                    1950.2252197265625,
                    1950.6002197265625,
                    1964.7645263671875,
                    1962.343505859375,
                    1976.2764892578125,
                    1948.0224609375,
                    1948.2811279296875,
                    1955.5499267578125,
                    1929.23828125,
                    2047.9788818359375,
                    1959.638427734375,
                    1956.229736328125,
                    1948.2020263671875,
                    2860.723876953125,
                    1946.357421875,
                    1903.963134765625,
                    1920.7598876953125,
                    1949.8809814453125
                  ]
                },
                {
                  "mode": "lines",
                  "name": "Best Value",
                  "type": "scatter",
                  "x": [
                    0,
                    1,
                    2,
                    3,
                    4,
                    5,
                    6,
                    7,
                    8,
                    9,
                    10,
                    11,
                    12,
                    13,
                    14,
                    15,
                    16,
                    17,
                    18,
                    19,
                    20,
                    21,
                    22,
                    23,
                    24,
                    25,
                    26,
                    27,
                    28,
                    29,
                    30,
                    31,
                    32,
                    33,
                    34,
                    35,
                    36,
                    37,
                    38,
                    39,
                    40,
                    41,
                    42,
                    43,
                    44,
                    45,
                    46,
                    47,
                    48,
                    49,
                    50,
                    51,
                    52,
                    53,
                    54,
                    55,
                    56,
                    57,
                    58,
                    59,
                    60,
                    61,
                    62,
                    63,
                    64,
                    65,
                    66,
                    67,
                    68,
                    69,
                    70,
                    71,
                    72,
                    73,
                    74,
                    75,
                    76,
                    77,
                    78,
                    79,
                    80,
                    81,
                    82,
                    83,
                    84,
                    85,
                    86,
                    87,
                    88,
                    89,
                    90,
                    91,
                    92,
                    93,
                    94,
                    95,
                    96,
                    97,
                    98,
                    99,
                    100,
                    101,
                    102,
                    103,
                    104,
                    105,
                    106,
                    107,
                    108,
                    109,
                    110,
                    111,
                    112,
                    113,
                    114,
                    115,
                    116,
                    117,
                    118,
                    119,
                    120,
                    121,
                    122,
                    123,
                    124,
                    125,
                    126,
                    127,
                    128,
                    129,
                    130,
                    131,
                    132,
                    133,
                    134,
                    135,
                    136,
                    137,
                    138,
                    139,
                    140,
                    141,
                    142,
                    143,
                    144,
                    145,
                    146,
                    147,
                    148,
                    149,
                    150,
                    151,
                    152,
                    153,
                    154,
                    155,
                    156,
                    157,
                    158,
                    159,
                    160,
                    161,
                    162,
                    163,
                    164,
                    165,
                    166,
                    167,
                    168,
                    169,
                    170,
                    171,
                    172,
                    173,
                    174,
                    175,
                    176,
                    177,
                    178,
                    179,
                    180,
                    181,
                    182,
                    183,
                    184,
                    185,
                    186,
                    187,
                    188,
                    189,
                    190,
                    191,
                    192,
                    193,
                    194,
                    195,
                    196,
                    197,
                    198,
                    199,
                    200,
                    201,
                    202,
                    203,
                    204,
                    205,
                    206,
                    207,
                    208,
                    209,
                    210,
                    211,
                    212,
                    213,
                    214,
                    215,
                    216,
                    217,
                    218,
                    219,
                    220,
                    221,
                    222,
                    223,
                    224,
                    225,
                    226,
                    227,
                    228,
                    229,
                    230,
                    231,
                    232,
                    233,
                    234,
                    235,
                    236,
                    237,
                    238,
                    239,
                    240,
                    241,
                    242,
                    243,
                    244,
                    245,
                    246,
                    247,
                    248,
                    249,
                    250,
                    251,
                    252,
                    253,
                    254,
                    255,
                    256,
                    257,
                    258,
                    259,
                    260,
                    261,
                    262,
                    263,
                    264,
                    265,
                    266,
                    267,
                    268,
                    269,
                    270,
                    271,
                    272,
                    273,
                    274,
                    275,
                    276,
                    277,
                    278,
                    279,
                    280,
                    281,
                    282,
                    283,
                    284,
                    285,
                    286,
                    287,
                    288,
                    289,
                    290,
                    291,
                    292,
                    293,
                    294,
                    295,
                    296,
                    297,
                    298,
                    299,
                    300,
                    301,
                    302,
                    303,
                    304,
                    305,
                    306,
                    307,
                    308,
                    309,
                    310,
                    311,
                    312,
                    313,
                    314,
                    315,
                    316,
                    317,
                    318,
                    319,
                    320,
                    321,
                    322,
                    323,
                    324,
                    325,
                    326,
                    327,
                    328,
                    329,
                    330,
                    331,
                    332,
                    333,
                    334,
                    335,
                    336,
                    337,
                    338,
                    339,
                    340,
                    341,
                    342,
                    343,
                    344,
                    345,
                    346,
                    347,
                    348,
                    349,
                    350,
                    351,
                    352,
                    353,
                    354,
                    355,
                    356,
                    357,
                    358,
                    359,
                    360,
                    361,
                    362,
                    363,
                    364,
                    365,
                    366,
                    367,
                    368,
                    369,
                    370,
                    371,
                    372,
                    373,
                    374,
                    375,
                    376,
                    377,
                    378,
                    379,
                    380,
                    381,
                    382,
                    383,
                    384,
                    385,
                    386,
                    387,
                    388,
                    389,
                    390,
                    391,
                    392,
                    393,
                    394,
                    395,
                    396,
                    397,
                    398,
                    399,
                    400,
                    401,
                    402,
                    403,
                    404,
                    405,
                    406,
                    407,
                    408,
                    409,
                    410,
                    411,
                    412,
                    413,
                    414,
                    415,
                    416,
                    417,
                    418,
                    419,
                    420,
                    421,
                    422,
                    423,
                    424,
                    425,
                    426,
                    427,
                    428,
                    429,
                    430,
                    431,
                    432,
                    433,
                    434,
                    435,
                    436,
                    437,
                    438,
                    439,
                    440,
                    441,
                    442,
                    443,
                    444,
                    445,
                    446,
                    447,
                    448,
                    449,
                    450,
                    451,
                    452,
                    453,
                    454,
                    455,
                    456,
                    457,
                    458,
                    459,
                    460,
                    461,
                    462,
                    463,
                    464,
                    465,
                    466,
                    467,
                    468,
                    469,
                    470,
                    471,
                    472,
                    473,
                    474,
                    475,
                    476,
                    477,
                    478,
                    479,
                    480,
                    481,
                    482,
                    483,
                    484,
                    485,
                    486,
                    487,
                    488,
                    489,
                    490,
                    491,
                    492,
                    493,
                    494,
                    495,
                    496,
                    497,
                    498,
                    499,
                    500,
                    501,
                    502,
                    503,
                    504,
                    505,
                    506,
                    507,
                    508,
                    509,
                    510,
                    511,
                    512,
                    513,
                    514,
                    515,
                    516,
                    517,
                    518,
                    519,
                    520,
                    521,
                    522,
                    523,
                    524,
                    525,
                    526,
                    527,
                    528,
                    529,
                    530,
                    531,
                    532,
                    533,
                    534,
                    535,
                    536,
                    537,
                    538,
                    539,
                    540,
                    541,
                    542,
                    543,
                    544,
                    545,
                    546,
                    547,
                    548,
                    549,
                    550,
                    551,
                    552,
                    553,
                    554,
                    555,
                    556,
                    557,
                    558,
                    559,
                    560,
                    561,
                    562,
                    563,
                    564,
                    565,
                    566,
                    567,
                    568,
                    569,
                    570,
                    571,
                    572,
                    573,
                    574,
                    575,
                    576,
                    577,
                    578,
                    579,
                    580,
                    581,
                    582,
                    583,
                    584,
                    585,
                    586,
                    587,
                    588,
                    589,
                    590,
                    591,
                    592,
                    593,
                    594,
                    595,
                    596,
                    597,
                    598,
                    599,
                    600,
                    601,
                    602,
                    603,
                    604,
                    605,
                    606,
                    607,
                    608,
                    609,
                    610,
                    611,
                    612,
                    613,
                    614,
                    615,
                    616,
                    617,
                    618,
                    619,
                    620,
                    621,
                    622,
                    623,
                    624,
                    625,
                    626,
                    627,
                    628,
                    629,
                    630,
                    631,
                    632,
                    633,
                    634,
                    635,
                    636,
                    637,
                    638,
                    639,
                    640,
                    641,
                    642,
                    643,
                    644,
                    645,
                    646,
                    647,
                    648,
                    649,
                    650,
                    651,
                    652,
                    653,
                    654,
                    655,
                    656,
                    657,
                    658,
                    659,
                    660,
                    661,
                    662,
                    663,
                    664,
                    665,
                    666,
                    667,
                    668,
                    669,
                    670,
                    671,
                    672,
                    673,
                    674,
                    675,
                    676,
                    677,
                    678,
                    679,
                    680,
                    681,
                    682,
                    683,
                    684,
                    685,
                    686,
                    687,
                    688,
                    689,
                    690,
                    691,
                    692,
                    693,
                    694,
                    695,
                    696,
                    697,
                    698,
                    699,
                    700,
                    701,
                    702,
                    703,
                    704,
                    705,
                    706,
                    707,
                    708,
                    709,
                    710,
                    711,
                    712,
                    713,
                    714,
                    715,
                    716,
                    717,
                    718,
                    719,
                    720,
                    721,
                    722,
                    723,
                    724,
                    725,
                    726,
                    727,
                    728,
                    729,
                    730,
                    731,
                    732,
                    733,
                    734,
                    735,
                    736,
                    737,
                    738,
                    739,
                    740,
                    741,
                    742,
                    743,
                    744,
                    745,
                    746,
                    747,
                    748,
                    749,
                    750,
                    751,
                    752,
                    753,
                    754,
                    755,
                    756,
                    757,
                    758,
                    759,
                    760,
                    761,
                    762,
                    763,
                    764,
                    765,
                    766,
                    767,
                    768,
                    769,
                    770,
                    771,
                    772,
                    773,
                    774,
                    775,
                    776,
                    777,
                    778,
                    779,
                    780,
                    781,
                    782,
                    783,
                    784,
                    785,
                    786,
                    787,
                    788,
                    789,
                    790,
                    791,
                    792,
                    793,
                    794,
                    795,
                    796,
                    797,
                    798,
                    799,
                    800,
                    801,
                    802,
                    803,
                    804,
                    805,
                    806,
                    807,
                    808,
                    809,
                    810,
                    811,
                    812,
                    813,
                    814,
                    815,
                    816,
                    817,
                    818,
                    819,
                    820,
                    821,
                    822,
                    823,
                    824,
                    825,
                    826,
                    827,
                    828,
                    829,
                    830,
                    831,
                    832,
                    833,
                    834,
                    835,
                    836,
                    837,
                    838,
                    839,
                    840,
                    841,
                    842,
                    843,
                    844,
                    845,
                    846,
                    847,
                    848,
                    849,
                    850,
                    851,
                    852,
                    853,
                    854,
                    855,
                    856,
                    857,
                    858,
                    859,
                    860,
                    861,
                    862,
                    863,
                    864,
                    865,
                    866,
                    867,
                    868,
                    869,
                    870,
                    871,
                    872,
                    873,
                    874,
                    875,
                    876,
                    877,
                    878,
                    879,
                    880,
                    881,
                    882,
                    883,
                    884,
                    885,
                    886,
                    887,
                    888,
                    889,
                    890,
                    891,
                    892,
                    893,
                    894,
                    895,
                    896,
                    897,
                    898,
                    899,
                    900,
                    901,
                    902,
                    903,
                    904,
                    905,
                    906,
                    907,
                    908,
                    909,
                    910,
                    911,
                    912,
                    913,
                    914,
                    915,
                    916,
                    917,
                    918,
                    919,
                    920,
                    921,
                    922,
                    923,
                    924,
                    925,
                    926,
                    927,
                    928,
                    929,
                    930,
                    931
                  ],
                  "y": [
                    8920.296875,
                    7384.5107421875,
                    7384.5107421875,
                    5768.6435546875,
                    5768.6435546875,
                    5768.6435546875,
                    5768.6435546875,
                    5768.6435546875,
                    5768.6435546875,
                    5768.6435546875,
                    2051.735107421875,
                    2051.735107421875,
                    2051.735107421875,
                    2051.735107421875,
                    2051.735107421875,
                    2051.735107421875,
                    2051.735107421875,
                    2051.735107421875,
                    2051.735107421875,
                    2051.735107421875,
                    2051.735107421875,
                    2051.735107421875,
                    2051.735107421875,
                    2051.735107421875,
                    2051.735107421875,
                    2051.735107421875,
                    2051.735107421875,
                    2051.735107421875,
                    2051.735107421875,
                    2051.735107421875,
                    2051.735107421875,
                    2051.735107421875,
                    2051.735107421875,
                    2051.735107421875,
                    2051.735107421875,
                    2051.735107421875,
                    2051.735107421875,
                    2051.735107421875,
                    2051.735107421875,
                    2051.735107421875,
                    2051.735107421875,
                    2051.735107421875,
                    2051.735107421875,
                    2051.735107421875,
                    2051.735107421875,
                    2020.5111083984375,
                    2007.6483154296875,
                    2007.6483154296875,
                    2007.6483154296875,
                    2007.6483154296875,
                    2007.6483154296875,
                    1961.1783447265625,
                    1950.5714111328125,
                    1950.5714111328125,
                    1950.5714111328125,
                    1950.5714111328125,
                    1950.5714111328125,
                    1950.5714111328125,
                    1950.5714111328125,
                    1950.5714111328125,
                    1950.5714111328125,
                    1950.5714111328125,
                    1950.5714111328125,
                    1950.5714111328125,
                    1950.5714111328125,
                    1950.5714111328125,
                    1950.5714111328125,
                    1950.5714111328125,
                    1950.5714111328125,
                    1950.5714111328125,
                    1950.5714111328125,
                    1950.5714111328125,
                    1950.5714111328125,
                    1950.5714111328125,
                    1950.5714111328125,
                    1950.5714111328125,
                    1950.5714111328125,
                    1950.5714111328125,
                    1950.5714111328125,
                    1950.5714111328125,
                    1950.5714111328125,
                    1950.5714111328125,
                    1950.5714111328125,
                    1950.5714111328125,
                    1950.5714111328125,
                    1950.5714111328125,
                    1950.5714111328125,
                    1950.5714111328125,
                    1950.5714111328125,
                    1950.5714111328125,
                    1950.5714111328125,
                    1950.5714111328125,
                    1900.940673828125,
                    1900.940673828125,
                    1900.940673828125,
                    1900.940673828125,
                    1900.940673828125,
                    1900.940673828125,
                    1900.940673828125,
                    1900.940673828125,
                    1900.940673828125,
                    1900.940673828125,
                    1900.940673828125,
                    1900.940673828125,
                    1900.940673828125,
                    1900.940673828125,
                    1900.940673828125,
                    1900.940673828125,
                    1900.940673828125,
                    1900.940673828125,
                    1900.940673828125,
                    1900.940673828125,
                    1900.940673828125,
                    1900.940673828125,
                    1900.940673828125,
                    1900.940673828125,
                    1900.940673828125,
                    1900.940673828125,
                    1900.940673828125,
                    1900.940673828125,
                    1900.940673828125,
                    1900.940673828125,
                    1900.940673828125,
                    1900.940673828125,
                    1900.940673828125,
                    1900.940673828125,
                    1900.940673828125,
                    1900.940673828125,
                    1900.940673828125,
                    1900.940673828125,
                    1900.940673828125,
                    1900.940673828125,
                    1900.940673828125,
                    1900.940673828125,
                    1900.940673828125,
                    1900.940673828125,
                    1900.940673828125,
                    1900.940673828125,
                    1900.940673828125,
                    1900.940673828125,
                    1900.940673828125,
                    1900.940673828125,
                    1900.940673828125,
                    1900.940673828125,
                    1900.940673828125,
                    1900.940673828125,
                    1900.940673828125,
                    1900.940673828125,
                    1900.940673828125,
                    1900.940673828125,
                    1900.940673828125,
                    1900.940673828125,
                    1900.940673828125,
                    1900.940673828125,
                    1900.940673828125,
                    1900.940673828125,
                    1900.940673828125,
                    1900.940673828125,
                    1900.940673828125,
                    1900.940673828125,
                    1900.940673828125,
                    1900.940673828125,
                    1900.940673828125,
                    1900.940673828125,
                    1900.940673828125,
                    1900.940673828125,
                    1900.940673828125,
                    1900.940673828125,
                    1900.940673828125,
                    1900.940673828125,
                    1900.940673828125,
                    1900.940673828125,
                    1900.940673828125,
                    1900.940673828125,
                    1900.940673828125,
                    1900.940673828125,
                    1900.940673828125,
                    1900.940673828125,
                    1900.940673828125,
                    1900.940673828125,
                    1900.940673828125,
                    1900.940673828125,
                    1900.940673828125,
                    1900.940673828125,
                    1900.940673828125,
                    1900.940673828125,
                    1900.940673828125,
                    1900.940673828125,
                    1900.940673828125,
                    1900.940673828125,
                    1900.940673828125,
                    1900.940673828125,
                    1900.940673828125,
                    1900.940673828125,
                    1900.940673828125,
                    1900.940673828125,
                    1900.940673828125,
                    1900.940673828125,
                    1900.940673828125,
                    1900.940673828125,
                    1900.940673828125,
                    1900.940673828125,
                    1900.940673828125,
                    1900.940673828125,
                    1900.940673828125,
                    1900.940673828125,
                    1900.940673828125,
                    1900.940673828125,
                    1900.940673828125,
                    1900.940673828125,
                    1900.940673828125,
                    1900.940673828125,
                    1900.940673828125,
                    1900.940673828125,
                    1900.940673828125,
                    1900.940673828125,
                    1900.940673828125,
                    1900.940673828125,
                    1900.940673828125,
                    1900.940673828125,
                    1900.940673828125,
                    1900.940673828125,
                    1900.940673828125,
                    1900.940673828125,
                    1900.940673828125,
                    1900.940673828125,
                    1900.940673828125,
                    1900.940673828125,
                    1900.940673828125,
                    1900.940673828125,
                    1900.940673828125,
                    1900.940673828125,
                    1900.940673828125,
                    1900.940673828125,
                    1900.940673828125,
                    1900.940673828125,
                    1900.940673828125,
                    1900.940673828125,
                    1900.940673828125,
                    1900.940673828125,
                    1900.940673828125,
                    1900.940673828125,
                    1900.940673828125,
                    1900.940673828125,
                    1900.940673828125,
                    1900.940673828125,
                    1900.940673828125,
                    1900.940673828125,
                    1900.940673828125,
                    1900.940673828125,
                    1900.940673828125,
                    1900.940673828125,
                    1900.940673828125,
                    1900.940673828125,
                    1900.940673828125,
                    1900.940673828125,
                    1900.940673828125,
                    1900.940673828125,
                    1900.940673828125,
                    1900.940673828125,
                    1900.940673828125,
                    1900.940673828125,
                    1900.940673828125,
                    1900.940673828125,
                    1900.940673828125,
                    1900.940673828125,
                    1900.940673828125,
                    1900.940673828125,
                    1900.940673828125,
                    1900.940673828125,
                    1900.940673828125,
                    1900.940673828125,
                    1900.940673828125,
                    1900.940673828125,
                    1900.940673828125,
                    1900.940673828125,
                    1900.940673828125,
                    1900.940673828125,
                    1900.940673828125,
                    1900.940673828125,
                    1900.940673828125,
                    1900.940673828125,
                    1900.940673828125,
                    1900.940673828125,
                    1900.940673828125,
                    1900.940673828125,
                    1900.940673828125,
                    1900.940673828125,
                    1900.940673828125,
                    1900.940673828125,
                    1900.940673828125,
                    1900.940673828125,
                    1900.940673828125,
                    1900.940673828125,
                    1900.940673828125,
                    1900.940673828125,
                    1900.940673828125,
                    1900.940673828125,
                    1900.940673828125,
                    1900.940673828125,
                    1900.940673828125,
                    1900.940673828125,
                    1900.940673828125,
                    1900.940673828125,
                    1900.940673828125,
                    1900.940673828125,
                    1900.940673828125,
                    1900.940673828125,
                    1900.940673828125,
                    1900.940673828125,
                    1900.940673828125,
                    1900.940673828125,
                    1900.940673828125,
                    1900.940673828125,
                    1900.940673828125,
                    1900.940673828125,
                    1900.940673828125,
                    1900.940673828125,
                    1900.940673828125,
                    1900.940673828125,
                    1900.940673828125,
                    1900.940673828125,
                    1900.940673828125,
                    1900.940673828125,
                    1900.940673828125,
                    1900.940673828125,
                    1900.940673828125,
                    1900.940673828125,
                    1900.940673828125,
                    1900.940673828125,
                    1900.940673828125,
                    1900.940673828125,
                    1900.940673828125,
                    1900.940673828125,
                    1900.940673828125,
                    1900.940673828125,
                    1900.940673828125,
                    1900.940673828125,
                    1900.940673828125,
                    1900.940673828125,
                    1900.940673828125,
                    1900.940673828125,
                    1900.940673828125,
                    1900.940673828125,
                    1900.940673828125,
                    1900.940673828125,
                    1900.940673828125,
                    1900.940673828125,
                    1900.940673828125,
                    1900.940673828125,
                    1900.940673828125,
                    1900.940673828125,
                    1900.940673828125,
                    1900.940673828125,
                    1900.940673828125,
                    1900.940673828125,
                    1900.940673828125,
                    1900.940673828125,
                    1900.940673828125,
                    1900.940673828125,
                    1900.940673828125,
                    1900.940673828125,
                    1900.940673828125,
                    1900.940673828125,
                    1900.940673828125,
                    1900.940673828125,
                    1900.940673828125,
                    1900.940673828125,
                    1900.940673828125,
                    1900.940673828125,
                    1900.940673828125,
                    1900.940673828125,
                    1900.940673828125,
                    1900.940673828125,
                    1900.940673828125,
                    1900.940673828125,
                    1900.940673828125,
                    1900.940673828125,
                    1900.940673828125,
                    1900.940673828125,
                    1900.940673828125,
                    1900.940673828125,
                    1900.940673828125,
                    1900.940673828125,
                    1900.940673828125,
                    1900.940673828125,
                    1900.940673828125,
                    1900.940673828125,
                    1900.940673828125,
                    1900.940673828125,
                    1900.940673828125,
                    1900.940673828125,
                    1900.940673828125,
                    1900.940673828125,
                    1900.940673828125,
                    1900.940673828125,
                    1900.940673828125,
                    1900.940673828125,
                    1900.940673828125,
                    1900.940673828125,
                    1900.940673828125,
                    1900.940673828125,
                    1900.940673828125,
                    1900.940673828125,
                    1900.940673828125,
                    1900.940673828125,
                    1900.940673828125,
                    1900.940673828125,
                    1900.940673828125,
                    1900.940673828125,
                    1900.940673828125,
                    1900.940673828125,
                    1900.940673828125,
                    1900.940673828125,
                    1900.940673828125,
                    1900.940673828125,
                    1900.940673828125,
                    1900.940673828125,
                    1900.940673828125,
                    1900.940673828125,
                    1900.940673828125,
                    1900.940673828125,
                    1900.940673828125,
                    1900.940673828125,
                    1900.940673828125,
                    1900.940673828125,
                    1900.940673828125,
                    1900.940673828125,
                    1900.940673828125,
                    1900.940673828125,
                    1900.940673828125,
                    1900.940673828125,
                    1900.940673828125,
                    1900.940673828125,
                    1900.940673828125,
                    1900.940673828125,
                    1900.940673828125,
                    1900.940673828125,
                    1900.940673828125,
                    1900.940673828125,
                    1900.940673828125,
                    1900.940673828125,
                    1900.940673828125,
                    1900.940673828125,
                    1900.940673828125,
                    1900.940673828125,
                    1900.940673828125,
                    1900.940673828125,
                    1900.940673828125,
                    1900.940673828125,
                    1900.940673828125,
                    1900.940673828125,
                    1900.940673828125,
                    1900.940673828125,
                    1900.940673828125,
                    1900.940673828125,
                    1900.940673828125,
                    1900.940673828125,
                    1900.940673828125,
                    1900.940673828125,
                    1900.940673828125,
                    1900.940673828125,
                    1900.940673828125,
                    1900.940673828125,
                    1900.940673828125,
                    1900.940673828125,
                    1900.940673828125,
                    1900.940673828125,
                    1900.940673828125,
                    1900.940673828125,
                    1900.940673828125,
                    1900.940673828125,
                    1900.940673828125,
                    1900.940673828125,
                    1900.940673828125,
                    1900.940673828125,
                    1900.940673828125,
                    1900.940673828125,
                    1900.940673828125,
                    1900.940673828125,
                    1900.940673828125,
                    1900.940673828125,
                    1900.940673828125,
                    1900.940673828125,
                    1900.940673828125,
                    1900.940673828125,
                    1900.940673828125,
                    1900.940673828125,
                    1900.940673828125,
                    1900.940673828125,
                    1900.940673828125,
                    1900.940673828125,
                    1900.940673828125,
                    1900.940673828125,
                    1900.940673828125,
                    1900.940673828125,
                    1900.940673828125,
                    1900.940673828125,
                    1900.940673828125,
                    1900.940673828125,
                    1900.940673828125,
                    1900.940673828125,
                    1900.940673828125,
                    1900.940673828125,
                    1900.940673828125,
                    1900.940673828125,
                    1900.940673828125,
                    1900.940673828125,
                    1900.940673828125,
                    1900.940673828125,
                    1900.940673828125,
                    1900.940673828125,
                    1900.940673828125,
                    1900.940673828125,
                    1900.940673828125,
                    1900.940673828125,
                    1900.940673828125,
                    1900.940673828125,
                    1900.940673828125,
                    1900.940673828125,
                    1900.940673828125,
                    1900.940673828125,
                    1900.940673828125,
                    1900.940673828125,
                    1900.940673828125,
                    1900.940673828125,
                    1900.940673828125,
                    1900.940673828125,
                    1900.940673828125,
                    1900.940673828125,
                    1900.940673828125,
                    1900.940673828125,
                    1900.940673828125,
                    1900.940673828125,
                    1900.940673828125,
                    1900.940673828125,
                    1900.940673828125,
                    1900.940673828125,
                    1900.940673828125,
                    1900.940673828125,
                    1900.940673828125,
                    1900.940673828125,
                    1900.940673828125,
                    1900.940673828125,
                    1900.940673828125,
                    1900.940673828125,
                    1900.940673828125,
                    1900.940673828125,
                    1900.940673828125,
                    1900.940673828125,
                    1900.940673828125,
                    1900.940673828125,
                    1900.940673828125,
                    1900.940673828125,
                    1900.940673828125,
                    1900.940673828125,
                    1900.940673828125,
                    1900.940673828125,
                    1900.940673828125,
                    1900.940673828125,
                    1900.940673828125,
                    1900.940673828125,
                    1900.940673828125,
                    1900.940673828125,
                    1900.940673828125,
                    1900.940673828125,
                    1900.940673828125,
                    1900.940673828125,
                    1900.940673828125,
                    1900.940673828125,
                    1900.940673828125,
                    1900.940673828125,
                    1900.940673828125,
                    1900.940673828125,
                    1900.940673828125,
                    1900.940673828125,
                    1900.940673828125,
                    1900.940673828125,
                    1900.940673828125,
                    1900.940673828125,
                    1900.940673828125,
                    1900.940673828125,
                    1900.940673828125,
                    1900.940673828125,
                    1900.940673828125,
                    1900.940673828125,
                    1900.940673828125,
                    1900.940673828125,
                    1900.940673828125,
                    1900.940673828125,
                    1900.940673828125,
                    1900.940673828125,
                    1900.940673828125,
                    1900.940673828125,
                    1900.940673828125,
                    1900.940673828125,
                    1900.940673828125,
                    1900.940673828125,
                    1900.940673828125,
                    1900.940673828125,
                    1900.940673828125,
                    1900.940673828125,
                    1900.940673828125,
                    1900.940673828125,
                    1900.940673828125,
                    1900.940673828125,
                    1900.940673828125,
                    1900.940673828125,
                    1900.940673828125,
                    1900.940673828125,
                    1900.940673828125,
                    1900.940673828125,
                    1900.940673828125,
                    1900.940673828125,
                    1900.940673828125,
                    1900.940673828125,
                    1900.940673828125,
                    1900.940673828125,
                    1900.940673828125,
                    1900.940673828125,
                    1900.940673828125,
                    1900.940673828125,
                    1900.940673828125,
                    1900.940673828125,
                    1900.940673828125,
                    1900.940673828125,
                    1900.940673828125,
                    1900.940673828125,
                    1900.940673828125,
                    1900.940673828125,
                    1900.940673828125,
                    1900.940673828125,
                    1900.940673828125,
                    1900.940673828125,
                    1900.940673828125,
                    1900.940673828125,
                    1900.940673828125,
                    1900.940673828125,
                    1900.940673828125,
                    1900.940673828125,
                    1900.940673828125,
                    1900.940673828125,
                    1900.940673828125,
                    1900.940673828125,
                    1900.940673828125,
                    1900.940673828125,
                    1900.940673828125,
                    1900.940673828125,
                    1900.940673828125,
                    1900.940673828125,
                    1900.940673828125,
                    1900.940673828125,
                    1900.940673828125,
                    1900.940673828125,
                    1900.940673828125,
                    1900.940673828125,
                    1900.940673828125,
                    1900.940673828125,
                    1900.940673828125,
                    1900.940673828125,
                    1900.940673828125,
                    1900.940673828125,
                    1900.940673828125,
                    1900.940673828125,
                    1900.940673828125,
                    1900.940673828125,
                    1900.940673828125,
                    1900.940673828125,
                    1900.940673828125,
                    1900.940673828125,
                    1900.940673828125,
                    1900.940673828125,
                    1900.940673828125,
                    1900.940673828125,
                    1900.940673828125,
                    1900.940673828125,
                    1900.940673828125,
                    1900.940673828125,
                    1900.940673828125,
                    1900.940673828125,
                    1900.940673828125,
                    1900.940673828125,
                    1900.940673828125,
                    1900.940673828125,
                    1900.940673828125,
                    1900.940673828125,
                    1900.940673828125,
                    1900.940673828125,
                    1900.940673828125,
                    1900.940673828125,
                    1900.940673828125,
                    1900.940673828125,
                    1900.940673828125,
                    1900.940673828125,
                    1900.940673828125,
                    1900.940673828125,
                    1900.940673828125,
                    1900.940673828125,
                    1900.940673828125,
                    1900.940673828125,
                    1900.940673828125,
                    1900.940673828125,
                    1900.940673828125,
                    1900.940673828125,
                    1900.940673828125,
                    1900.940673828125,
                    1900.940673828125,
                    1900.940673828125,
                    1900.940673828125,
                    1900.940673828125,
                    1900.940673828125,
                    1900.940673828125,
                    1900.940673828125,
                    1900.940673828125,
                    1900.940673828125,
                    1900.940673828125,
                    1900.940673828125,
                    1900.940673828125,
                    1900.940673828125,
                    1900.940673828125,
                    1900.940673828125,
                    1900.940673828125,
                    1900.940673828125,
                    1900.940673828125,
                    1900.940673828125,
                    1900.940673828125,
                    1900.940673828125,
                    1900.940673828125,
                    1900.940673828125,
                    1900.940673828125,
                    1900.940673828125,
                    1900.940673828125,
                    1900.940673828125,
                    1900.940673828125,
                    1900.940673828125,
                    1900.940673828125,
                    1900.940673828125,
                    1900.940673828125,
                    1900.940673828125,
                    1900.940673828125,
                    1900.940673828125,
                    1900.940673828125,
                    1900.940673828125,
                    1900.940673828125,
                    1900.940673828125,
                    1900.940673828125,
                    1900.940673828125,
                    1900.940673828125,
                    1900.940673828125,
                    1900.940673828125,
                    1900.940673828125,
                    1900.940673828125,
                    1900.940673828125,
                    1900.940673828125,
                    1900.940673828125,
                    1900.940673828125,
                    1900.940673828125,
                    1900.940673828125,
                    1900.940673828125,
                    1900.940673828125,
                    1900.940673828125,
                    1900.940673828125,
                    1900.940673828125,
                    1900.940673828125,
                    1900.940673828125,
                    1900.940673828125,
                    1900.940673828125,
                    1900.940673828125,
                    1900.940673828125,
                    1900.940673828125,
                    1900.940673828125,
                    1900.940673828125,
                    1900.940673828125,
                    1900.940673828125,
                    1900.940673828125,
                    1900.940673828125,
                    1900.940673828125,
                    1900.940673828125,
                    1900.940673828125,
                    1900.940673828125,
                    1900.940673828125,
                    1900.940673828125,
                    1900.940673828125,
                    1900.940673828125,
                    1900.940673828125,
                    1900.940673828125,
                    1900.940673828125,
                    1900.940673828125,
                    1900.940673828125,
                    1900.940673828125,
                    1900.940673828125,
                    1900.940673828125,
                    1900.940673828125,
                    1900.940673828125,
                    1900.940673828125,
                    1900.940673828125,
                    1900.940673828125,
                    1900.940673828125,
                    1900.940673828125,
                    1900.940673828125,
                    1900.940673828125,
                    1900.940673828125,
                    1900.940673828125,
                    1900.940673828125,
                    1900.940673828125,
                    1900.940673828125,
                    1900.940673828125,
                    1900.940673828125,
                    1900.940673828125,
                    1900.940673828125,
                    1900.940673828125,
                    1900.940673828125,
                    1900.940673828125,
                    1900.940673828125,
                    1900.940673828125,
                    1900.940673828125,
                    1900.940673828125,
                    1900.940673828125,
                    1900.940673828125,
                    1900.940673828125,
                    1900.940673828125,
                    1900.940673828125,
                    1900.940673828125,
                    1900.940673828125,
                    1900.940673828125,
                    1900.940673828125,
                    1900.940673828125,
                    1900.940673828125,
                    1900.940673828125,
                    1900.940673828125,
                    1900.940673828125,
                    1900.940673828125,
                    1900.940673828125,
                    1900.940673828125,
                    1900.940673828125,
                    1900.940673828125,
                    1900.940673828125,
                    1900.940673828125,
                    1900.940673828125,
                    1900.940673828125,
                    1900.940673828125,
                    1900.940673828125,
                    1900.940673828125,
                    1900.940673828125,
                    1900.940673828125,
                    1900.940673828125,
                    1900.940673828125,
                    1900.940673828125,
                    1900.940673828125,
                    1900.940673828125,
                    1900.940673828125,
                    1900.940673828125,
                    1900.940673828125,
                    1900.940673828125,
                    1900.940673828125,
                    1900.940673828125,
                    1900.940673828125,
                    1900.940673828125,
                    1900.940673828125,
                    1900.940673828125,
                    1900.940673828125,
                    1900.940673828125,
                    1900.940673828125,
                    1900.940673828125,
                    1900.940673828125,
                    1900.940673828125,
                    1900.940673828125,
                    1900.940673828125,
                    1900.940673828125,
                    1900.940673828125,
                    1900.940673828125,
                    1900.940673828125,
                    1900.940673828125,
                    1900.940673828125,
                    1900.940673828125,
                    1900.940673828125,
                    1900.940673828125,
                    1900.940673828125,
                    1900.940673828125,
                    1900.940673828125,
                    1900.940673828125,
                    1900.940673828125,
                    1900.940673828125,
                    1900.940673828125,
                    1900.940673828125,
                    1900.940673828125,
                    1900.940673828125,
                    1900.940673828125,
                    1900.940673828125,
                    1900.940673828125,
                    1900.940673828125,
                    1900.940673828125,
                    1900.940673828125,
                    1900.940673828125,
                    1900.940673828125,
                    1900.940673828125,
                    1900.940673828125,
                    1900.940673828125,
                    1900.940673828125,
                    1900.940673828125,
                    1900.940673828125,
                    1900.940673828125,
                    1900.940673828125,
                    1900.940673828125,
                    1900.940673828125,
                    1900.940673828125,
                    1900.940673828125,
                    1900.940673828125,
                    1900.940673828125,
                    1900.940673828125,
                    1900.940673828125,
                    1900.940673828125,
                    1900.940673828125,
                    1900.940673828125,
                    1900.940673828125,
                    1900.940673828125,
                    1900.940673828125,
                    1900.940673828125,
                    1900.940673828125,
                    1900.940673828125,
                    1900.940673828125,
                    1900.940673828125,
                    1900.940673828125,
                    1900.940673828125,
                    1900.940673828125,
                    1900.940673828125,
                    1900.940673828125,
                    1900.940673828125,
                    1900.940673828125,
                    1900.940673828125,
                    1900.940673828125,
                    1900.940673828125
                  ]
                },
                {
                  "marker": {
                    "color": "#cccccc"
                  },
                  "mode": "markers",
                  "name": "Infeasible Trial",
                  "showlegend": false,
                  "type": "scatter",
                  "x": [],
                  "y": []
                }
              ],
              "layout": {
                "template": {
                  "data": {
                    "bar": [
                      {
                        "error_x": {
                          "color": "#2a3f5f"
                        },
                        "error_y": {
                          "color": "#2a3f5f"
                        },
                        "marker": {
                          "line": {
                            "color": "#E5ECF6",
                            "width": 0.5
                          },
                          "pattern": {
                            "fillmode": "overlay",
                            "size": 10,
                            "solidity": 0.2
                          }
                        },
                        "type": "bar"
                      }
                    ],
                    "barpolar": [
                      {
                        "marker": {
                          "line": {
                            "color": "#E5ECF6",
                            "width": 0.5
                          },
                          "pattern": {
                            "fillmode": "overlay",
                            "size": 10,
                            "solidity": 0.2
                          }
                        },
                        "type": "barpolar"
                      }
                    ],
                    "carpet": [
                      {
                        "aaxis": {
                          "endlinecolor": "#2a3f5f",
                          "gridcolor": "white",
                          "linecolor": "white",
                          "minorgridcolor": "white",
                          "startlinecolor": "#2a3f5f"
                        },
                        "baxis": {
                          "endlinecolor": "#2a3f5f",
                          "gridcolor": "white",
                          "linecolor": "white",
                          "minorgridcolor": "white",
                          "startlinecolor": "#2a3f5f"
                        },
                        "type": "carpet"
                      }
                    ],
                    "choropleth": [
                      {
                        "colorbar": {
                          "outlinewidth": 0,
                          "ticks": ""
                        },
                        "type": "choropleth"
                      }
                    ],
                    "contour": [
                      {
                        "colorbar": {
                          "outlinewidth": 0,
                          "ticks": ""
                        },
                        "colorscale": [
                          [
                            0,
                            "#0d0887"
                          ],
                          [
                            0.1111111111111111,
                            "#46039f"
                          ],
                          [
                            0.2222222222222222,
                            "#7201a8"
                          ],
                          [
                            0.3333333333333333,
                            "#9c179e"
                          ],
                          [
                            0.4444444444444444,
                            "#bd3786"
                          ],
                          [
                            0.5555555555555556,
                            "#d8576b"
                          ],
                          [
                            0.6666666666666666,
                            "#ed7953"
                          ],
                          [
                            0.7777777777777778,
                            "#fb9f3a"
                          ],
                          [
                            0.8888888888888888,
                            "#fdca26"
                          ],
                          [
                            1,
                            "#f0f921"
                          ]
                        ],
                        "type": "contour"
                      }
                    ],
                    "contourcarpet": [
                      {
                        "colorbar": {
                          "outlinewidth": 0,
                          "ticks": ""
                        },
                        "type": "contourcarpet"
                      }
                    ],
                    "heatmap": [
                      {
                        "colorbar": {
                          "outlinewidth": 0,
                          "ticks": ""
                        },
                        "colorscale": [
                          [
                            0,
                            "#0d0887"
                          ],
                          [
                            0.1111111111111111,
                            "#46039f"
                          ],
                          [
                            0.2222222222222222,
                            "#7201a8"
                          ],
                          [
                            0.3333333333333333,
                            "#9c179e"
                          ],
                          [
                            0.4444444444444444,
                            "#bd3786"
                          ],
                          [
                            0.5555555555555556,
                            "#d8576b"
                          ],
                          [
                            0.6666666666666666,
                            "#ed7953"
                          ],
                          [
                            0.7777777777777778,
                            "#fb9f3a"
                          ],
                          [
                            0.8888888888888888,
                            "#fdca26"
                          ],
                          [
                            1,
                            "#f0f921"
                          ]
                        ],
                        "type": "heatmap"
                      }
                    ],
                    "histogram": [
                      {
                        "marker": {
                          "pattern": {
                            "fillmode": "overlay",
                            "size": 10,
                            "solidity": 0.2
                          }
                        },
                        "type": "histogram"
                      }
                    ],
                    "histogram2d": [
                      {
                        "colorbar": {
                          "outlinewidth": 0,
                          "ticks": ""
                        },
                        "colorscale": [
                          [
                            0,
                            "#0d0887"
                          ],
                          [
                            0.1111111111111111,
                            "#46039f"
                          ],
                          [
                            0.2222222222222222,
                            "#7201a8"
                          ],
                          [
                            0.3333333333333333,
                            "#9c179e"
                          ],
                          [
                            0.4444444444444444,
                            "#bd3786"
                          ],
                          [
                            0.5555555555555556,
                            "#d8576b"
                          ],
                          [
                            0.6666666666666666,
                            "#ed7953"
                          ],
                          [
                            0.7777777777777778,
                            "#fb9f3a"
                          ],
                          [
                            0.8888888888888888,
                            "#fdca26"
                          ],
                          [
                            1,
                            "#f0f921"
                          ]
                        ],
                        "type": "histogram2d"
                      }
                    ],
                    "histogram2dcontour": [
                      {
                        "colorbar": {
                          "outlinewidth": 0,
                          "ticks": ""
                        },
                        "colorscale": [
                          [
                            0,
                            "#0d0887"
                          ],
                          [
                            0.1111111111111111,
                            "#46039f"
                          ],
                          [
                            0.2222222222222222,
                            "#7201a8"
                          ],
                          [
                            0.3333333333333333,
                            "#9c179e"
                          ],
                          [
                            0.4444444444444444,
                            "#bd3786"
                          ],
                          [
                            0.5555555555555556,
                            "#d8576b"
                          ],
                          [
                            0.6666666666666666,
                            "#ed7953"
                          ],
                          [
                            0.7777777777777778,
                            "#fb9f3a"
                          ],
                          [
                            0.8888888888888888,
                            "#fdca26"
                          ],
                          [
                            1,
                            "#f0f921"
                          ]
                        ],
                        "type": "histogram2dcontour"
                      }
                    ],
                    "mesh3d": [
                      {
                        "colorbar": {
                          "outlinewidth": 0,
                          "ticks": ""
                        },
                        "type": "mesh3d"
                      }
                    ],
                    "parcoords": [
                      {
                        "line": {
                          "colorbar": {
                            "outlinewidth": 0,
                            "ticks": ""
                          }
                        },
                        "type": "parcoords"
                      }
                    ],
                    "pie": [
                      {
                        "automargin": true,
                        "type": "pie"
                      }
                    ],
                    "scatter": [
                      {
                        "fillpattern": {
                          "fillmode": "overlay",
                          "size": 10,
                          "solidity": 0.2
                        },
                        "type": "scatter"
                      }
                    ],
                    "scatter3d": [
                      {
                        "line": {
                          "colorbar": {
                            "outlinewidth": 0,
                            "ticks": ""
                          }
                        },
                        "marker": {
                          "colorbar": {
                            "outlinewidth": 0,
                            "ticks": ""
                          }
                        },
                        "type": "scatter3d"
                      }
                    ],
                    "scattercarpet": [
                      {
                        "marker": {
                          "colorbar": {
                            "outlinewidth": 0,
                            "ticks": ""
                          }
                        },
                        "type": "scattercarpet"
                      }
                    ],
                    "scattergeo": [
                      {
                        "marker": {
                          "colorbar": {
                            "outlinewidth": 0,
                            "ticks": ""
                          }
                        },
                        "type": "scattergeo"
                      }
                    ],
                    "scattergl": [
                      {
                        "marker": {
                          "colorbar": {
                            "outlinewidth": 0,
                            "ticks": ""
                          }
                        },
                        "type": "scattergl"
                      }
                    ],
                    "scattermap": [
                      {
                        "marker": {
                          "colorbar": {
                            "outlinewidth": 0,
                            "ticks": ""
                          }
                        },
                        "type": "scattermap"
                      }
                    ],
                    "scattermapbox": [
                      {
                        "marker": {
                          "colorbar": {
                            "outlinewidth": 0,
                            "ticks": ""
                          }
                        },
                        "type": "scattermapbox"
                      }
                    ],
                    "scatterpolar": [
                      {
                        "marker": {
                          "colorbar": {
                            "outlinewidth": 0,
                            "ticks": ""
                          }
                        },
                        "type": "scatterpolar"
                      }
                    ],
                    "scatterpolargl": [
                      {
                        "marker": {
                          "colorbar": {
                            "outlinewidth": 0,
                            "ticks": ""
                          }
                        },
                        "type": "scatterpolargl"
                      }
                    ],
                    "scatterternary": [
                      {
                        "marker": {
                          "colorbar": {
                            "outlinewidth": 0,
                            "ticks": ""
                          }
                        },
                        "type": "scatterternary"
                      }
                    ],
                    "surface": [
                      {
                        "colorbar": {
                          "outlinewidth": 0,
                          "ticks": ""
                        },
                        "colorscale": [
                          [
                            0,
                            "#0d0887"
                          ],
                          [
                            0.1111111111111111,
                            "#46039f"
                          ],
                          [
                            0.2222222222222222,
                            "#7201a8"
                          ],
                          [
                            0.3333333333333333,
                            "#9c179e"
                          ],
                          [
                            0.4444444444444444,
                            "#bd3786"
                          ],
                          [
                            0.5555555555555556,
                            "#d8576b"
                          ],
                          [
                            0.6666666666666666,
                            "#ed7953"
                          ],
                          [
                            0.7777777777777778,
                            "#fb9f3a"
                          ],
                          [
                            0.8888888888888888,
                            "#fdca26"
                          ],
                          [
                            1,
                            "#f0f921"
                          ]
                        ],
                        "type": "surface"
                      }
                    ],
                    "table": [
                      {
                        "cells": {
                          "fill": {
                            "color": "#EBF0F8"
                          },
                          "line": {
                            "color": "white"
                          }
                        },
                        "header": {
                          "fill": {
                            "color": "#C8D4E3"
                          },
                          "line": {
                            "color": "white"
                          }
                        },
                        "type": "table"
                      }
                    ]
                  },
                  "layout": {
                    "annotationdefaults": {
                      "arrowcolor": "#2a3f5f",
                      "arrowhead": 0,
                      "arrowwidth": 1
                    },
                    "autotypenumbers": "strict",
                    "coloraxis": {
                      "colorbar": {
                        "outlinewidth": 0,
                        "ticks": ""
                      }
                    },
                    "colorscale": {
                      "diverging": [
                        [
                          0,
                          "#8e0152"
                        ],
                        [
                          0.1,
                          "#c51b7d"
                        ],
                        [
                          0.2,
                          "#de77ae"
                        ],
                        [
                          0.3,
                          "#f1b6da"
                        ],
                        [
                          0.4,
                          "#fde0ef"
                        ],
                        [
                          0.5,
                          "#f7f7f7"
                        ],
                        [
                          0.6,
                          "#e6f5d0"
                        ],
                        [
                          0.7,
                          "#b8e186"
                        ],
                        [
                          0.8,
                          "#7fbc41"
                        ],
                        [
                          0.9,
                          "#4d9221"
                        ],
                        [
                          1,
                          "#276419"
                        ]
                      ],
                      "sequential": [
                        [
                          0,
                          "#0d0887"
                        ],
                        [
                          0.1111111111111111,
                          "#46039f"
                        ],
                        [
                          0.2222222222222222,
                          "#7201a8"
                        ],
                        [
                          0.3333333333333333,
                          "#9c179e"
                        ],
                        [
                          0.4444444444444444,
                          "#bd3786"
                        ],
                        [
                          0.5555555555555556,
                          "#d8576b"
                        ],
                        [
                          0.6666666666666666,
                          "#ed7953"
                        ],
                        [
                          0.7777777777777778,
                          "#fb9f3a"
                        ],
                        [
                          0.8888888888888888,
                          "#fdca26"
                        ],
                        [
                          1,
                          "#f0f921"
                        ]
                      ],
                      "sequentialminus": [
                        [
                          0,
                          "#0d0887"
                        ],
                        [
                          0.1111111111111111,
                          "#46039f"
                        ],
                        [
                          0.2222222222222222,
                          "#7201a8"
                        ],
                        [
                          0.3333333333333333,
                          "#9c179e"
                        ],
                        [
                          0.4444444444444444,
                          "#bd3786"
                        ],
                        [
                          0.5555555555555556,
                          "#d8576b"
                        ],
                        [
                          0.6666666666666666,
                          "#ed7953"
                        ],
                        [
                          0.7777777777777778,
                          "#fb9f3a"
                        ],
                        [
                          0.8888888888888888,
                          "#fdca26"
                        ],
                        [
                          1,
                          "#f0f921"
                        ]
                      ]
                    },
                    "colorway": [
                      "#636efa",
                      "#EF553B",
                      "#00cc96",
                      "#ab63fa",
                      "#FFA15A",
                      "#19d3f3",
                      "#FF6692",
                      "#B6E880",
                      "#FF97FF",
                      "#FECB52"
                    ],
                    "font": {
                      "color": "#2a3f5f"
                    },
                    "geo": {
                      "bgcolor": "white",
                      "lakecolor": "white",
                      "landcolor": "#E5ECF6",
                      "showlakes": true,
                      "showland": true,
                      "subunitcolor": "white"
                    },
                    "hoverlabel": {
                      "align": "left"
                    },
                    "hovermode": "closest",
                    "mapbox": {
                      "style": "light"
                    },
                    "paper_bgcolor": "white",
                    "plot_bgcolor": "#E5ECF6",
                    "polar": {
                      "angularaxis": {
                        "gridcolor": "white",
                        "linecolor": "white",
                        "ticks": ""
                      },
                      "bgcolor": "#E5ECF6",
                      "radialaxis": {
                        "gridcolor": "white",
                        "linecolor": "white",
                        "ticks": ""
                      }
                    },
                    "scene": {
                      "xaxis": {
                        "backgroundcolor": "#E5ECF6",
                        "gridcolor": "white",
                        "gridwidth": 2,
                        "linecolor": "white",
                        "showbackground": true,
                        "ticks": "",
                        "zerolinecolor": "white"
                      },
                      "yaxis": {
                        "backgroundcolor": "#E5ECF6",
                        "gridcolor": "white",
                        "gridwidth": 2,
                        "linecolor": "white",
                        "showbackground": true,
                        "ticks": "",
                        "zerolinecolor": "white"
                      },
                      "zaxis": {
                        "backgroundcolor": "#E5ECF6",
                        "gridcolor": "white",
                        "gridwidth": 2,
                        "linecolor": "white",
                        "showbackground": true,
                        "ticks": "",
                        "zerolinecolor": "white"
                      }
                    },
                    "shapedefaults": {
                      "line": {
                        "color": "#2a3f5f"
                      }
                    },
                    "ternary": {
                      "aaxis": {
                        "gridcolor": "white",
                        "linecolor": "white",
                        "ticks": ""
                      },
                      "baxis": {
                        "gridcolor": "white",
                        "linecolor": "white",
                        "ticks": ""
                      },
                      "bgcolor": "#E5ECF6",
                      "caxis": {
                        "gridcolor": "white",
                        "linecolor": "white",
                        "ticks": ""
                      }
                    },
                    "title": {
                      "x": 0.05
                    },
                    "xaxis": {
                      "automargin": true,
                      "gridcolor": "white",
                      "linecolor": "white",
                      "ticks": "",
                      "title": {
                        "standoff": 15
                      },
                      "zerolinecolor": "white",
                      "zerolinewidth": 2
                    },
                    "yaxis": {
                      "automargin": true,
                      "gridcolor": "white",
                      "linecolor": "white",
                      "ticks": "",
                      "title": {
                        "standoff": 15
                      },
                      "zerolinecolor": "white",
                      "zerolinewidth": 2
                    }
                  }
                },
                "title": {
                  "text": "Optimization History (con pruning)"
                },
                "xaxis": {
                  "title": {
                    "text": "Trial"
                  }
                },
                "yaxis": {
                  "title": {
                    "text": "Objective Value"
                  }
                }
              }
            }
          },
          "metadata": {},
          "output_type": "display_data"
        },
        {
          "data": {
            "application/vnd.plotly.v1+json": {
              "config": {
                "plotlyServerURL": "https://plot.ly"
              },
              "data": [
                {
                  "dimensions": [
                    {
                      "label": "Objective Value",
                      "range": [
                        1900.940673828125,
                        9027.48046875
                      ],
                      "values": [
                        8920.296875,
                        7384.5107421875,
                        8935.115234375,
                        5768.6435546875,
                        9027.48046875,
                        2051.735107421875,
                        2164.5341796875,
                        2986.900390625,
                        2134.27001953125,
                        2135.025390625,
                        2107.301513671875,
                        2133.869384765625,
                        2142.071533203125,
                        2116.976318359375,
                        2209.470947265625,
                        2071.45556640625,
                        2020.5111083984375,
                        2007.6483154296875,
                        2012.5947265625,
                        1961.1783447265625,
                        1950.5714111328125,
                        1967.259521484375,
                        2002.957275390625,
                        1963.292236328125,
                        1997.4873046875,
                        1987.660888671875,
                        1995.8807373046875,
                        1985.7557373046875,
                        1900.940673828125,
                        1970.8067626953125,
                        1990.69873046875,
                        1950.1690673828125,
                        1977.6395263671875,
                        1975.918212890625,
                        1972.0196533203125,
                        1970.4266357421875,
                        1956.0960693359375,
                        1994.513427734375,
                        1980.0140380859375,
                        1962.064208984375,
                        1947.8865966796875,
                        1950.2252197265625,
                        1950.6002197265625,
                        1964.7645263671875,
                        1962.343505859375,
                        1976.2764892578125,
                        1948.0224609375,
                        1948.2811279296875,
                        1955.5499267578125,
                        1929.23828125,
                        2047.9788818359375,
                        1959.638427734375,
                        1956.229736328125,
                        1948.2020263671875,
                        2860.723876953125,
                        1946.357421875,
                        1903.963134765625,
                        1920.7598876953125,
                        1949.8809814453125
                      ]
                    },
                    {
                      "label": "learning_rate",
                      "range": [
                        0.0074401077055426725,
                        0.0999872269085365
                      ],
                      "values": [
                        0.03807947176588889,
                        0.06051038616257767,
                        0.031119982052994235,
                        0.04615092843748656,
                        0.0074401077055426725,
                        0.0922925348311468,
                        0.07502274730730916,
                        0.07665397726067079,
                        0.08663423273516661,
                        0.08638038027777908,
                        0.08674197536127441,
                        0.08532357804011094,
                        0.07940552052101055,
                        0.0872030833824325,
                        0.08947293032042115,
                        0.08937542690205869,
                        0.07997277310997992,
                        0.07944386944171118,
                        0.07857041987623868,
                        0.09147500382196122,
                        0.09155811871200197,
                        0.09976221710299026,
                        0.09979560733602591,
                        0.09995541472950749,
                        0.09987005962552714,
                        0.09647603046818419,
                        0.08938877164217501,
                        0.0999032612195027,
                        0.09805582238908601,
                        0.09778120297307388,
                        0.09585418516803788,
                        0.09613129147810327,
                        0.09758427711902892,
                        0.09726590990683397,
                        0.0980970130082896,
                        0.09589482802689447,
                        0.09113236413442266,
                        0.09663161807759658,
                        0.09833585492584375,
                        0.09596613497051525,
                        0.09529596637252824,
                        0.09980748210807376,
                        0.09426563898821795,
                        0.09982967508980788,
                        0.0999872269085365,
                        0.09997964126833583,
                        0.0959069379660892,
                        0.09805128210759541,
                        0.09725850225500507,
                        0.09662763190155287,
                        0.09691132590830692,
                        0.09794393508734114,
                        0.0983276986170184,
                        0.09595122088553511,
                        0.09686987893727615,
                        0.09997148182487672,
                        0.09997897631347444,
                        0.09828507749209775,
                        0.0950136768430405
                      ]
                    },
                    {
                      "label": "max_depth",
                      "range": [
                        3,
                        10
                      ],
                      "values": [
                        10,
                        8,
                        7,
                        9,
                        10,
                        6,
                        8,
                        3,
                        9,
                        9,
                        9,
                        9,
                        8,
                        9,
                        9,
                        10,
                        10,
                        10,
                        10,
                        10,
                        10,
                        10,
                        10,
                        10,
                        10,
                        10,
                        10,
                        10,
                        10,
                        10,
                        10,
                        10,
                        10,
                        9,
                        10,
                        10,
                        10,
                        10,
                        10,
                        10,
                        10,
                        10,
                        10,
                        10,
                        10,
                        10,
                        10,
                        10,
                        10,
                        10,
                        10,
                        10,
                        10,
                        10,
                        10,
                        10,
                        10,
                        10,
                        10
                      ]
                    },
                    {
                      "label": "max_leaves",
                      "range": [
                        2,
                        100
                      ],
                      "values": [
                        73,
                        2,
                        43,
                        20,
                        97,
                        31,
                        52,
                        58,
                        83,
                        82,
                        83,
                        81,
                        91,
                        66,
                        87,
                        93,
                        96,
                        95,
                        95,
                        94,
                        95,
                        97,
                        85,
                        90,
                        96,
                        95,
                        97,
                        95,
                        100,
                        95,
                        94,
                        93,
                        100,
                        93,
                        98,
                        99,
                        98,
                        95,
                        100,
                        94,
                        94,
                        94,
                        98,
                        95,
                        96,
                        98,
                        92,
                        94,
                        100,
                        100,
                        94,
                        95,
                        98,
                        100,
                        97,
                        94,
                        96,
                        100,
                        100
                      ]
                    },
                    {
                      "label": "min_child_weight",
                      "range": [
                        1,
                        5
                      ],
                      "values": [
                        3,
                        5,
                        2,
                        3,
                        5,
                        1,
                        2,
                        2,
                        1,
                        1,
                        1,
                        1,
                        1,
                        2,
                        1,
                        2,
                        3,
                        3,
                        4,
                        3,
                        3,
                        3,
                        3,
                        3,
                        3,
                        3,
                        3,
                        3,
                        3,
                        3,
                        3,
                        3,
                        3,
                        3,
                        3,
                        3,
                        3,
                        3,
                        3,
                        3,
                        3,
                        3,
                        3,
                        3,
                        3,
                        3,
                        3,
                        3,
                        3,
                        3,
                        3,
                        3,
                        3,
                        3,
                        3,
                        3,
                        3,
                        3,
                        3
                      ]
                    },
                    {
                      "label": "min_frequency",
                      "range": [
                        0.00008213040282862606,
                        0.8661761457749352
                      ],
                      "values": [
                        0.8661761457749352,
                        0.18340450985343382,
                        0.3663618432936917,
                        0.17052412368729153,
                        0.4401524937396013,
                        0.011852595611645367,
                        0.002461317969979733,
                        0.0016513888290679238,
                        0.07517951937188688,
                        0.06935803145937228,
                        0.07859587512298977,
                        0.059092057408244164,
                        0.045392278226785675,
                        0.043275721433627734,
                        0.04240303948865831,
                        0.026891207521871664,
                        0.001769427356101182,
                        0.013297571338189358,
                        0.0006109762264018268,
                        0.007308454501766428,
                        0.005265145608313147,
                        0.0012196482244042066,
                        0.0009329478441141197,
                        0.00034903718891859107,
                        0.0713407773205677,
                        0.00565867525835784,
                        0.0010731552516612562,
                        0.01941779970434661,
                        0.03033638055122641,
                        0.02168750200440775,
                        0.022994366565462443,
                        0.00011760631384569978,
                        0.037100786222978736,
                        0.026928132041348446,
                        0.014854178863990595,
                        0.0456505701362202,
                        0.0630152515022778,
                        0.018570905746986242,
                        0.00008213040282862606,
                        0.004588852151345092,
                        0.05114003305949541,
                        0.021565515922918856,
                        0.04418931393273931,
                        0.039288161715633645,
                        0.033512181976977924,
                        0.0008038749650022339,
                        0.058889817130225765,
                        0.019820772117893168,
                        0.0723602251121511,
                        0.07105041627133657,
                        0.06901230704316431,
                        0.03976045216581976,
                        0.018025360421029996,
                        0.00017812152000416104,
                        0.02008764347223405,
                        0.054674456854950225,
                        0.07257307601813807,
                        0.08120531056556002,
                        0.05985478888305244
                      ]
                    },
                    {
                      "label": "n_estimators",
                      "range": [
                        54,
                        962
                      ],
                      "values": [
                        105,
                        222,
                        327,
                        627,
                        700,
                        962,
                        515,
                        489,
                        426,
                        434,
                        413,
                        434,
                        440,
                        444,
                        257,
                        470,
                        476,
                        604,
                        672,
                        529,
                        740,
                        743,
                        650,
                        649,
                        695,
                        484,
                        659,
                        658,
                        658,
                        634,
                        592,
                        597,
                        598,
                        609,
                        627,
                        627,
                        675,
                        452,
                        534,
                        513,
                        784,
                        693,
                        706,
                        645,
                        652,
                        466,
                        638,
                        686,
                        664,
                        666,
                        312,
                        628,
                        705,
                        640,
                        54,
                        783,
                        697,
                        687,
                        664
                      ]
                    },
                    {
                      "label": "reg_alpha",
                      "range": [
                        0.0392620037741651,
                        0.9962253844052453
                      ],
                      "values": [
                        0.15601864044243652,
                        0.8324426408004217,
                        0.6118528947223795,
                        0.5924145688620425,
                        0.3046137691733707,
                        0.5656130906814032,
                        0.47065566489897503,
                        0.44202690761453295,
                        0.9912771961435998,
                        0.9962253844052453,
                        0.9722320912810221,
                        0.9838193868695798,
                        0.8452443477951762,
                        0.6933487461036221,
                        0.936789789403756,
                        0.776610242833798,
                        0.6448232193826772,
                        0.6291952415130082,
                        0.5624442293569863,
                        0.6116177114282789,
                        0.5975661160194237,
                        0.6011297395179639,
                        0.6657123760047711,
                        0.6682251121028446,
                        0.5798123448689526,
                        0.6301445310684689,
                        0.7148339623588374,
                        0.6520080896723962,
                        0.6575768332950425,
                        0.6441649545042594,
                        0.2340869778766893,
                        0.1495497929549926,
                        0.20199729229520913,
                        0.20159652764351133,
                        0.11632282878939133,
                        0.0392620037741651,
                        0.0416195595630945,
                        0.19008950818990603,
                        0.04222334820450202,
                        0.08837178328221082,
                        0.06157355503707798,
                        0.09696883037287615,
                        0.15649683498433375,
                        0.6193720964034855,
                        0.623113234572393,
                        0.5975804144231639,
                        0.5841008970588144,
                        0.6684815039848366,
                        0.7291454353983167,
                        0.6393211158641324,
                        0.4527240602347334,
                        0.6841301840491,
                        0.6587051612688083,
                        0.5405736762933376,
                        0.547163146477145,
                        0.5873047268742055,
                        0.6275759267651742,
                        0.6019337958617731,
                        0.5362007200501232
                      ]
                    },
                    {
                      "label": "reg_lambda",
                      "range": [
                        0.046450412719997725,
                        0.9999974945335804
                      ],
                      "values": [
                        0.15599452033620265,
                        0.21233911067827616,
                        0.13949386065204183,
                        0.046450412719997725,
                        0.09767211400638387,
                        0.426812895383314,
                        0.6608557252922869,
                        0.6165488034251696,
                        0.7594724198322691,
                        0.7882937674472155,
                        0.8338372529471396,
                        0.7954200524775742,
                        0.8184560322885619,
                        0.693370714749538,
                        0.7904092910317352,
                        0.8899746740351512,
                        0.9433795149855583,
                        0.9533280661249394,
                        0.9592978406699818,
                        0.9976490523682509,
                        0.9939599253262796,
                        0.9949922975520191,
                        0.36856828409038034,
                        0.23497327324950584,
                        0.9798015558316939,
                        0.9397360136200258,
                        0.9371600803063784,
                        0.9987697099241459,
                        0.9864590628250672,
                        0.9474403088039063,
                        0.9607378026630167,
                        0.9812985268285223,
                        0.9512127907529905,
                        0.999613944338618,
                        0.9375352246350958,
                        0.9999974945335804,
                        0.9991601280624052,
                        0.9370507662124552,
                        0.9594658500913885,
                        0.982866310621609,
                        0.9996766157252244,
                        0.9749849973589096,
                        0.9786861667414102,
                        0.9989123389568146,
                        0.981994430213597,
                        0.9449827135926782,
                        0.9487564961748387,
                        0.983826737405624,
                        0.9644754941268464,
                        0.925116790518743,
                        0.9264827295720174,
                        0.9495096556708406,
                        0.9645705120270945,
                        0.9531251522257093,
                        0.9125336109413605,
                        0.9840328379376034,
                        0.9511310250218747,
                        0.9390447596669402,
                        0.7527317904333657
                      ]
                    }
                  ],
                  "labelangle": 30,
                  "labelside": "bottom",
                  "line": {
                    "color": [
                      8920.296875,
                      7384.5107421875,
                      8935.115234375,
                      5768.6435546875,
                      9027.48046875,
                      2051.735107421875,
                      2164.5341796875,
                      2986.900390625,
                      2134.27001953125,
                      2135.025390625,
                      2107.301513671875,
                      2133.869384765625,
                      2142.071533203125,
                      2116.976318359375,
                      2209.470947265625,
                      2071.45556640625,
                      2020.5111083984375,
                      2007.6483154296875,
                      2012.5947265625,
                      1961.1783447265625,
                      1950.5714111328125,
                      1967.259521484375,
                      2002.957275390625,
                      1963.292236328125,
                      1997.4873046875,
                      1987.660888671875,
                      1995.8807373046875,
                      1985.7557373046875,
                      1900.940673828125,
                      1970.8067626953125,
                      1990.69873046875,
                      1950.1690673828125,
                      1977.6395263671875,
                      1975.918212890625,
                      1972.0196533203125,
                      1970.4266357421875,
                      1956.0960693359375,
                      1994.513427734375,
                      1980.0140380859375,
                      1962.064208984375,
                      1947.8865966796875,
                      1950.2252197265625,
                      1950.6002197265625,
                      1964.7645263671875,
                      1962.343505859375,
                      1976.2764892578125,
                      1948.0224609375,
                      1948.2811279296875,
                      1955.5499267578125,
                      1929.23828125,
                      2047.9788818359375,
                      1959.638427734375,
                      1956.229736328125,
                      1948.2020263671875,
                      2860.723876953125,
                      1946.357421875,
                      1903.963134765625,
                      1920.7598876953125,
                      1949.8809814453125
                    ],
                    "colorbar": {
                      "title": {
                        "text": "Objective Value"
                      }
                    },
                    "colorscale": [
                      [
                        0,
                        "rgb(247,251,255)"
                      ],
                      [
                        0.125,
                        "rgb(222,235,247)"
                      ],
                      [
                        0.25,
                        "rgb(198,219,239)"
                      ],
                      [
                        0.375,
                        "rgb(158,202,225)"
                      ],
                      [
                        0.5,
                        "rgb(107,174,214)"
                      ],
                      [
                        0.625,
                        "rgb(66,146,198)"
                      ],
                      [
                        0.75,
                        "rgb(33,113,181)"
                      ],
                      [
                        0.875,
                        "rgb(8,81,156)"
                      ],
                      [
                        1,
                        "rgb(8,48,107)"
                      ]
                    ],
                    "reversescale": true,
                    "showscale": true
                  },
                  "type": "parcoords"
                }
              ],
              "layout": {
                "template": {
                  "data": {
                    "bar": [
                      {
                        "error_x": {
                          "color": "#2a3f5f"
                        },
                        "error_y": {
                          "color": "#2a3f5f"
                        },
                        "marker": {
                          "line": {
                            "color": "#E5ECF6",
                            "width": 0.5
                          },
                          "pattern": {
                            "fillmode": "overlay",
                            "size": 10,
                            "solidity": 0.2
                          }
                        },
                        "type": "bar"
                      }
                    ],
                    "barpolar": [
                      {
                        "marker": {
                          "line": {
                            "color": "#E5ECF6",
                            "width": 0.5
                          },
                          "pattern": {
                            "fillmode": "overlay",
                            "size": 10,
                            "solidity": 0.2
                          }
                        },
                        "type": "barpolar"
                      }
                    ],
                    "carpet": [
                      {
                        "aaxis": {
                          "endlinecolor": "#2a3f5f",
                          "gridcolor": "white",
                          "linecolor": "white",
                          "minorgridcolor": "white",
                          "startlinecolor": "#2a3f5f"
                        },
                        "baxis": {
                          "endlinecolor": "#2a3f5f",
                          "gridcolor": "white",
                          "linecolor": "white",
                          "minorgridcolor": "white",
                          "startlinecolor": "#2a3f5f"
                        },
                        "type": "carpet"
                      }
                    ],
                    "choropleth": [
                      {
                        "colorbar": {
                          "outlinewidth": 0,
                          "ticks": ""
                        },
                        "type": "choropleth"
                      }
                    ],
                    "contour": [
                      {
                        "colorbar": {
                          "outlinewidth": 0,
                          "ticks": ""
                        },
                        "colorscale": [
                          [
                            0,
                            "#0d0887"
                          ],
                          [
                            0.1111111111111111,
                            "#46039f"
                          ],
                          [
                            0.2222222222222222,
                            "#7201a8"
                          ],
                          [
                            0.3333333333333333,
                            "#9c179e"
                          ],
                          [
                            0.4444444444444444,
                            "#bd3786"
                          ],
                          [
                            0.5555555555555556,
                            "#d8576b"
                          ],
                          [
                            0.6666666666666666,
                            "#ed7953"
                          ],
                          [
                            0.7777777777777778,
                            "#fb9f3a"
                          ],
                          [
                            0.8888888888888888,
                            "#fdca26"
                          ],
                          [
                            1,
                            "#f0f921"
                          ]
                        ],
                        "type": "contour"
                      }
                    ],
                    "contourcarpet": [
                      {
                        "colorbar": {
                          "outlinewidth": 0,
                          "ticks": ""
                        },
                        "type": "contourcarpet"
                      }
                    ],
                    "heatmap": [
                      {
                        "colorbar": {
                          "outlinewidth": 0,
                          "ticks": ""
                        },
                        "colorscale": [
                          [
                            0,
                            "#0d0887"
                          ],
                          [
                            0.1111111111111111,
                            "#46039f"
                          ],
                          [
                            0.2222222222222222,
                            "#7201a8"
                          ],
                          [
                            0.3333333333333333,
                            "#9c179e"
                          ],
                          [
                            0.4444444444444444,
                            "#bd3786"
                          ],
                          [
                            0.5555555555555556,
                            "#d8576b"
                          ],
                          [
                            0.6666666666666666,
                            "#ed7953"
                          ],
                          [
                            0.7777777777777778,
                            "#fb9f3a"
                          ],
                          [
                            0.8888888888888888,
                            "#fdca26"
                          ],
                          [
                            1,
                            "#f0f921"
                          ]
                        ],
                        "type": "heatmap"
                      }
                    ],
                    "histogram": [
                      {
                        "marker": {
                          "pattern": {
                            "fillmode": "overlay",
                            "size": 10,
                            "solidity": 0.2
                          }
                        },
                        "type": "histogram"
                      }
                    ],
                    "histogram2d": [
                      {
                        "colorbar": {
                          "outlinewidth": 0,
                          "ticks": ""
                        },
                        "colorscale": [
                          [
                            0,
                            "#0d0887"
                          ],
                          [
                            0.1111111111111111,
                            "#46039f"
                          ],
                          [
                            0.2222222222222222,
                            "#7201a8"
                          ],
                          [
                            0.3333333333333333,
                            "#9c179e"
                          ],
                          [
                            0.4444444444444444,
                            "#bd3786"
                          ],
                          [
                            0.5555555555555556,
                            "#d8576b"
                          ],
                          [
                            0.6666666666666666,
                            "#ed7953"
                          ],
                          [
                            0.7777777777777778,
                            "#fb9f3a"
                          ],
                          [
                            0.8888888888888888,
                            "#fdca26"
                          ],
                          [
                            1,
                            "#f0f921"
                          ]
                        ],
                        "type": "histogram2d"
                      }
                    ],
                    "histogram2dcontour": [
                      {
                        "colorbar": {
                          "outlinewidth": 0,
                          "ticks": ""
                        },
                        "colorscale": [
                          [
                            0,
                            "#0d0887"
                          ],
                          [
                            0.1111111111111111,
                            "#46039f"
                          ],
                          [
                            0.2222222222222222,
                            "#7201a8"
                          ],
                          [
                            0.3333333333333333,
                            "#9c179e"
                          ],
                          [
                            0.4444444444444444,
                            "#bd3786"
                          ],
                          [
                            0.5555555555555556,
                            "#d8576b"
                          ],
                          [
                            0.6666666666666666,
                            "#ed7953"
                          ],
                          [
                            0.7777777777777778,
                            "#fb9f3a"
                          ],
                          [
                            0.8888888888888888,
                            "#fdca26"
                          ],
                          [
                            1,
                            "#f0f921"
                          ]
                        ],
                        "type": "histogram2dcontour"
                      }
                    ],
                    "mesh3d": [
                      {
                        "colorbar": {
                          "outlinewidth": 0,
                          "ticks": ""
                        },
                        "type": "mesh3d"
                      }
                    ],
                    "parcoords": [
                      {
                        "line": {
                          "colorbar": {
                            "outlinewidth": 0,
                            "ticks": ""
                          }
                        },
                        "type": "parcoords"
                      }
                    ],
                    "pie": [
                      {
                        "automargin": true,
                        "type": "pie"
                      }
                    ],
                    "scatter": [
                      {
                        "fillpattern": {
                          "fillmode": "overlay",
                          "size": 10,
                          "solidity": 0.2
                        },
                        "type": "scatter"
                      }
                    ],
                    "scatter3d": [
                      {
                        "line": {
                          "colorbar": {
                            "outlinewidth": 0,
                            "ticks": ""
                          }
                        },
                        "marker": {
                          "colorbar": {
                            "outlinewidth": 0,
                            "ticks": ""
                          }
                        },
                        "type": "scatter3d"
                      }
                    ],
                    "scattercarpet": [
                      {
                        "marker": {
                          "colorbar": {
                            "outlinewidth": 0,
                            "ticks": ""
                          }
                        },
                        "type": "scattercarpet"
                      }
                    ],
                    "scattergeo": [
                      {
                        "marker": {
                          "colorbar": {
                            "outlinewidth": 0,
                            "ticks": ""
                          }
                        },
                        "type": "scattergeo"
                      }
                    ],
                    "scattergl": [
                      {
                        "marker": {
                          "colorbar": {
                            "outlinewidth": 0,
                            "ticks": ""
                          }
                        },
                        "type": "scattergl"
                      }
                    ],
                    "scattermap": [
                      {
                        "marker": {
                          "colorbar": {
                            "outlinewidth": 0,
                            "ticks": ""
                          }
                        },
                        "type": "scattermap"
                      }
                    ],
                    "scattermapbox": [
                      {
                        "marker": {
                          "colorbar": {
                            "outlinewidth": 0,
                            "ticks": ""
                          }
                        },
                        "type": "scattermapbox"
                      }
                    ],
                    "scatterpolar": [
                      {
                        "marker": {
                          "colorbar": {
                            "outlinewidth": 0,
                            "ticks": ""
                          }
                        },
                        "type": "scatterpolar"
                      }
                    ],
                    "scatterpolargl": [
                      {
                        "marker": {
                          "colorbar": {
                            "outlinewidth": 0,
                            "ticks": ""
                          }
                        },
                        "type": "scatterpolargl"
                      }
                    ],
                    "scatterternary": [
                      {
                        "marker": {
                          "colorbar": {
                            "outlinewidth": 0,
                            "ticks": ""
                          }
                        },
                        "type": "scatterternary"
                      }
                    ],
                    "surface": [
                      {
                        "colorbar": {
                          "outlinewidth": 0,
                          "ticks": ""
                        },
                        "colorscale": [
                          [
                            0,
                            "#0d0887"
                          ],
                          [
                            0.1111111111111111,
                            "#46039f"
                          ],
                          [
                            0.2222222222222222,
                            "#7201a8"
                          ],
                          [
                            0.3333333333333333,
                            "#9c179e"
                          ],
                          [
                            0.4444444444444444,
                            "#bd3786"
                          ],
                          [
                            0.5555555555555556,
                            "#d8576b"
                          ],
                          [
                            0.6666666666666666,
                            "#ed7953"
                          ],
                          [
                            0.7777777777777778,
                            "#fb9f3a"
                          ],
                          [
                            0.8888888888888888,
                            "#fdca26"
                          ],
                          [
                            1,
                            "#f0f921"
                          ]
                        ],
                        "type": "surface"
                      }
                    ],
                    "table": [
                      {
                        "cells": {
                          "fill": {
                            "color": "#EBF0F8"
                          },
                          "line": {
                            "color": "white"
                          }
                        },
                        "header": {
                          "fill": {
                            "color": "#C8D4E3"
                          },
                          "line": {
                            "color": "white"
                          }
                        },
                        "type": "table"
                      }
                    ]
                  },
                  "layout": {
                    "annotationdefaults": {
                      "arrowcolor": "#2a3f5f",
                      "arrowhead": 0,
                      "arrowwidth": 1
                    },
                    "autotypenumbers": "strict",
                    "coloraxis": {
                      "colorbar": {
                        "outlinewidth": 0,
                        "ticks": ""
                      }
                    },
                    "colorscale": {
                      "diverging": [
                        [
                          0,
                          "#8e0152"
                        ],
                        [
                          0.1,
                          "#c51b7d"
                        ],
                        [
                          0.2,
                          "#de77ae"
                        ],
                        [
                          0.3,
                          "#f1b6da"
                        ],
                        [
                          0.4,
                          "#fde0ef"
                        ],
                        [
                          0.5,
                          "#f7f7f7"
                        ],
                        [
                          0.6,
                          "#e6f5d0"
                        ],
                        [
                          0.7,
                          "#b8e186"
                        ],
                        [
                          0.8,
                          "#7fbc41"
                        ],
                        [
                          0.9,
                          "#4d9221"
                        ],
                        [
                          1,
                          "#276419"
                        ]
                      ],
                      "sequential": [
                        [
                          0,
                          "#0d0887"
                        ],
                        [
                          0.1111111111111111,
                          "#46039f"
                        ],
                        [
                          0.2222222222222222,
                          "#7201a8"
                        ],
                        [
                          0.3333333333333333,
                          "#9c179e"
                        ],
                        [
                          0.4444444444444444,
                          "#bd3786"
                        ],
                        [
                          0.5555555555555556,
                          "#d8576b"
                        ],
                        [
                          0.6666666666666666,
                          "#ed7953"
                        ],
                        [
                          0.7777777777777778,
                          "#fb9f3a"
                        ],
                        [
                          0.8888888888888888,
                          "#fdca26"
                        ],
                        [
                          1,
                          "#f0f921"
                        ]
                      ],
                      "sequentialminus": [
                        [
                          0,
                          "#0d0887"
                        ],
                        [
                          0.1111111111111111,
                          "#46039f"
                        ],
                        [
                          0.2222222222222222,
                          "#7201a8"
                        ],
                        [
                          0.3333333333333333,
                          "#9c179e"
                        ],
                        [
                          0.4444444444444444,
                          "#bd3786"
                        ],
                        [
                          0.5555555555555556,
                          "#d8576b"
                        ],
                        [
                          0.6666666666666666,
                          "#ed7953"
                        ],
                        [
                          0.7777777777777778,
                          "#fb9f3a"
                        ],
                        [
                          0.8888888888888888,
                          "#fdca26"
                        ],
                        [
                          1,
                          "#f0f921"
                        ]
                      ]
                    },
                    "colorway": [
                      "#636efa",
                      "#EF553B",
                      "#00cc96",
                      "#ab63fa",
                      "#FFA15A",
                      "#19d3f3",
                      "#FF6692",
                      "#B6E880",
                      "#FF97FF",
                      "#FECB52"
                    ],
                    "font": {
                      "color": "#2a3f5f"
                    },
                    "geo": {
                      "bgcolor": "white",
                      "lakecolor": "white",
                      "landcolor": "#E5ECF6",
                      "showlakes": true,
                      "showland": true,
                      "subunitcolor": "white"
                    },
                    "hoverlabel": {
                      "align": "left"
                    },
                    "hovermode": "closest",
                    "mapbox": {
                      "style": "light"
                    },
                    "paper_bgcolor": "white",
                    "plot_bgcolor": "#E5ECF6",
                    "polar": {
                      "angularaxis": {
                        "gridcolor": "white",
                        "linecolor": "white",
                        "ticks": ""
                      },
                      "bgcolor": "#E5ECF6",
                      "radialaxis": {
                        "gridcolor": "white",
                        "linecolor": "white",
                        "ticks": ""
                      }
                    },
                    "scene": {
                      "xaxis": {
                        "backgroundcolor": "#E5ECF6",
                        "gridcolor": "white",
                        "gridwidth": 2,
                        "linecolor": "white",
                        "showbackground": true,
                        "ticks": "",
                        "zerolinecolor": "white"
                      },
                      "yaxis": {
                        "backgroundcolor": "#E5ECF6",
                        "gridcolor": "white",
                        "gridwidth": 2,
                        "linecolor": "white",
                        "showbackground": true,
                        "ticks": "",
                        "zerolinecolor": "white"
                      },
                      "zaxis": {
                        "backgroundcolor": "#E5ECF6",
                        "gridcolor": "white",
                        "gridwidth": 2,
                        "linecolor": "white",
                        "showbackground": true,
                        "ticks": "",
                        "zerolinecolor": "white"
                      }
                    },
                    "shapedefaults": {
                      "line": {
                        "color": "#2a3f5f"
                      }
                    },
                    "ternary": {
                      "aaxis": {
                        "gridcolor": "white",
                        "linecolor": "white",
                        "ticks": ""
                      },
                      "baxis": {
                        "gridcolor": "white",
                        "linecolor": "white",
                        "ticks": ""
                      },
                      "bgcolor": "#E5ECF6",
                      "caxis": {
                        "gridcolor": "white",
                        "linecolor": "white",
                        "ticks": ""
                      }
                    },
                    "title": {
                      "x": 0.05
                    },
                    "xaxis": {
                      "automargin": true,
                      "gridcolor": "white",
                      "linecolor": "white",
                      "ticks": "",
                      "title": {
                        "standoff": 15
                      },
                      "zerolinecolor": "white",
                      "zerolinewidth": 2
                    },
                    "yaxis": {
                      "automargin": true,
                      "gridcolor": "white",
                      "linecolor": "white",
                      "ticks": "",
                      "title": {
                        "standoff": 15
                      },
                      "zerolinecolor": "white",
                      "zerolinewidth": 2
                    }
                  }
                },
                "title": {
                  "text": "Parallel Coordinate (con pruning)"
                }
              }
            }
          },
          "metadata": {},
          "output_type": "display_data"
        },
        {
          "data": {
            "application/vnd.plotly.v1+json": {
              "config": {
                "plotlyServerURL": "https://plot.ly"
              },
              "data": [
                {
                  "cliponaxis": false,
                  "hovertemplate": [
                    "reg_alpha (FloatDistribution): 0.0035384830319167035<extra></extra>",
                    "max_depth (IntDistribution): 0.00440430928227042<extra></extra>",
                    "n_estimators (IntDistribution): 0.009056305341244303<extra></extra>",
                    "min_child_weight (IntDistribution): 0.017410196071923723<extra></extra>",
                    "max_leaves (IntDistribution): 0.03041362514438177<extra></extra>",
                    "min_frequency (FloatDistribution): 0.22134203850911827<extra></extra>",
                    "reg_lambda (FloatDistribution): 0.34399579575096495<extra></extra>",
                    "learning_rate (FloatDistribution): 0.3698392468681799<extra></extra>"
                  ],
                  "name": "Objective Value",
                  "orientation": "h",
                  "text": [
                    "<0.01",
                    "<0.01",
                    "<0.01",
                    "0.02",
                    "0.03",
                    "0.22",
                    "0.34",
                    "0.37"
                  ],
                  "textposition": "outside",
                  "type": "bar",
                  "x": [
                    0.0035384830319167035,
                    0.00440430928227042,
                    0.009056305341244303,
                    0.017410196071923723,
                    0.03041362514438177,
                    0.22134203850911827,
                    0.34399579575096495,
                    0.3698392468681799
                  ],
                  "y": [
                    "reg_alpha",
                    "max_depth",
                    "n_estimators",
                    "min_child_weight",
                    "max_leaves",
                    "min_frequency",
                    "reg_lambda",
                    "learning_rate"
                  ]
                }
              ],
              "layout": {
                "template": {
                  "data": {
                    "bar": [
                      {
                        "error_x": {
                          "color": "#2a3f5f"
                        },
                        "error_y": {
                          "color": "#2a3f5f"
                        },
                        "marker": {
                          "line": {
                            "color": "#E5ECF6",
                            "width": 0.5
                          },
                          "pattern": {
                            "fillmode": "overlay",
                            "size": 10,
                            "solidity": 0.2
                          }
                        },
                        "type": "bar"
                      }
                    ],
                    "barpolar": [
                      {
                        "marker": {
                          "line": {
                            "color": "#E5ECF6",
                            "width": 0.5
                          },
                          "pattern": {
                            "fillmode": "overlay",
                            "size": 10,
                            "solidity": 0.2
                          }
                        },
                        "type": "barpolar"
                      }
                    ],
                    "carpet": [
                      {
                        "aaxis": {
                          "endlinecolor": "#2a3f5f",
                          "gridcolor": "white",
                          "linecolor": "white",
                          "minorgridcolor": "white",
                          "startlinecolor": "#2a3f5f"
                        },
                        "baxis": {
                          "endlinecolor": "#2a3f5f",
                          "gridcolor": "white",
                          "linecolor": "white",
                          "minorgridcolor": "white",
                          "startlinecolor": "#2a3f5f"
                        },
                        "type": "carpet"
                      }
                    ],
                    "choropleth": [
                      {
                        "colorbar": {
                          "outlinewidth": 0,
                          "ticks": ""
                        },
                        "type": "choropleth"
                      }
                    ],
                    "contour": [
                      {
                        "colorbar": {
                          "outlinewidth": 0,
                          "ticks": ""
                        },
                        "colorscale": [
                          [
                            0,
                            "#0d0887"
                          ],
                          [
                            0.1111111111111111,
                            "#46039f"
                          ],
                          [
                            0.2222222222222222,
                            "#7201a8"
                          ],
                          [
                            0.3333333333333333,
                            "#9c179e"
                          ],
                          [
                            0.4444444444444444,
                            "#bd3786"
                          ],
                          [
                            0.5555555555555556,
                            "#d8576b"
                          ],
                          [
                            0.6666666666666666,
                            "#ed7953"
                          ],
                          [
                            0.7777777777777778,
                            "#fb9f3a"
                          ],
                          [
                            0.8888888888888888,
                            "#fdca26"
                          ],
                          [
                            1,
                            "#f0f921"
                          ]
                        ],
                        "type": "contour"
                      }
                    ],
                    "contourcarpet": [
                      {
                        "colorbar": {
                          "outlinewidth": 0,
                          "ticks": ""
                        },
                        "type": "contourcarpet"
                      }
                    ],
                    "heatmap": [
                      {
                        "colorbar": {
                          "outlinewidth": 0,
                          "ticks": ""
                        },
                        "colorscale": [
                          [
                            0,
                            "#0d0887"
                          ],
                          [
                            0.1111111111111111,
                            "#46039f"
                          ],
                          [
                            0.2222222222222222,
                            "#7201a8"
                          ],
                          [
                            0.3333333333333333,
                            "#9c179e"
                          ],
                          [
                            0.4444444444444444,
                            "#bd3786"
                          ],
                          [
                            0.5555555555555556,
                            "#d8576b"
                          ],
                          [
                            0.6666666666666666,
                            "#ed7953"
                          ],
                          [
                            0.7777777777777778,
                            "#fb9f3a"
                          ],
                          [
                            0.8888888888888888,
                            "#fdca26"
                          ],
                          [
                            1,
                            "#f0f921"
                          ]
                        ],
                        "type": "heatmap"
                      }
                    ],
                    "histogram": [
                      {
                        "marker": {
                          "pattern": {
                            "fillmode": "overlay",
                            "size": 10,
                            "solidity": 0.2
                          }
                        },
                        "type": "histogram"
                      }
                    ],
                    "histogram2d": [
                      {
                        "colorbar": {
                          "outlinewidth": 0,
                          "ticks": ""
                        },
                        "colorscale": [
                          [
                            0,
                            "#0d0887"
                          ],
                          [
                            0.1111111111111111,
                            "#46039f"
                          ],
                          [
                            0.2222222222222222,
                            "#7201a8"
                          ],
                          [
                            0.3333333333333333,
                            "#9c179e"
                          ],
                          [
                            0.4444444444444444,
                            "#bd3786"
                          ],
                          [
                            0.5555555555555556,
                            "#d8576b"
                          ],
                          [
                            0.6666666666666666,
                            "#ed7953"
                          ],
                          [
                            0.7777777777777778,
                            "#fb9f3a"
                          ],
                          [
                            0.8888888888888888,
                            "#fdca26"
                          ],
                          [
                            1,
                            "#f0f921"
                          ]
                        ],
                        "type": "histogram2d"
                      }
                    ],
                    "histogram2dcontour": [
                      {
                        "colorbar": {
                          "outlinewidth": 0,
                          "ticks": ""
                        },
                        "colorscale": [
                          [
                            0,
                            "#0d0887"
                          ],
                          [
                            0.1111111111111111,
                            "#46039f"
                          ],
                          [
                            0.2222222222222222,
                            "#7201a8"
                          ],
                          [
                            0.3333333333333333,
                            "#9c179e"
                          ],
                          [
                            0.4444444444444444,
                            "#bd3786"
                          ],
                          [
                            0.5555555555555556,
                            "#d8576b"
                          ],
                          [
                            0.6666666666666666,
                            "#ed7953"
                          ],
                          [
                            0.7777777777777778,
                            "#fb9f3a"
                          ],
                          [
                            0.8888888888888888,
                            "#fdca26"
                          ],
                          [
                            1,
                            "#f0f921"
                          ]
                        ],
                        "type": "histogram2dcontour"
                      }
                    ],
                    "mesh3d": [
                      {
                        "colorbar": {
                          "outlinewidth": 0,
                          "ticks": ""
                        },
                        "type": "mesh3d"
                      }
                    ],
                    "parcoords": [
                      {
                        "line": {
                          "colorbar": {
                            "outlinewidth": 0,
                            "ticks": ""
                          }
                        },
                        "type": "parcoords"
                      }
                    ],
                    "pie": [
                      {
                        "automargin": true,
                        "type": "pie"
                      }
                    ],
                    "scatter": [
                      {
                        "fillpattern": {
                          "fillmode": "overlay",
                          "size": 10,
                          "solidity": 0.2
                        },
                        "type": "scatter"
                      }
                    ],
                    "scatter3d": [
                      {
                        "line": {
                          "colorbar": {
                            "outlinewidth": 0,
                            "ticks": ""
                          }
                        },
                        "marker": {
                          "colorbar": {
                            "outlinewidth": 0,
                            "ticks": ""
                          }
                        },
                        "type": "scatter3d"
                      }
                    ],
                    "scattercarpet": [
                      {
                        "marker": {
                          "colorbar": {
                            "outlinewidth": 0,
                            "ticks": ""
                          }
                        },
                        "type": "scattercarpet"
                      }
                    ],
                    "scattergeo": [
                      {
                        "marker": {
                          "colorbar": {
                            "outlinewidth": 0,
                            "ticks": ""
                          }
                        },
                        "type": "scattergeo"
                      }
                    ],
                    "scattergl": [
                      {
                        "marker": {
                          "colorbar": {
                            "outlinewidth": 0,
                            "ticks": ""
                          }
                        },
                        "type": "scattergl"
                      }
                    ],
                    "scattermap": [
                      {
                        "marker": {
                          "colorbar": {
                            "outlinewidth": 0,
                            "ticks": ""
                          }
                        },
                        "type": "scattermap"
                      }
                    ],
                    "scattermapbox": [
                      {
                        "marker": {
                          "colorbar": {
                            "outlinewidth": 0,
                            "ticks": ""
                          }
                        },
                        "type": "scattermapbox"
                      }
                    ],
                    "scatterpolar": [
                      {
                        "marker": {
                          "colorbar": {
                            "outlinewidth": 0,
                            "ticks": ""
                          }
                        },
                        "type": "scatterpolar"
                      }
                    ],
                    "scatterpolargl": [
                      {
                        "marker": {
                          "colorbar": {
                            "outlinewidth": 0,
                            "ticks": ""
                          }
                        },
                        "type": "scatterpolargl"
                      }
                    ],
                    "scatterternary": [
                      {
                        "marker": {
                          "colorbar": {
                            "outlinewidth": 0,
                            "ticks": ""
                          }
                        },
                        "type": "scatterternary"
                      }
                    ],
                    "surface": [
                      {
                        "colorbar": {
                          "outlinewidth": 0,
                          "ticks": ""
                        },
                        "colorscale": [
                          [
                            0,
                            "#0d0887"
                          ],
                          [
                            0.1111111111111111,
                            "#46039f"
                          ],
                          [
                            0.2222222222222222,
                            "#7201a8"
                          ],
                          [
                            0.3333333333333333,
                            "#9c179e"
                          ],
                          [
                            0.4444444444444444,
                            "#bd3786"
                          ],
                          [
                            0.5555555555555556,
                            "#d8576b"
                          ],
                          [
                            0.6666666666666666,
                            "#ed7953"
                          ],
                          [
                            0.7777777777777778,
                            "#fb9f3a"
                          ],
                          [
                            0.8888888888888888,
                            "#fdca26"
                          ],
                          [
                            1,
                            "#f0f921"
                          ]
                        ],
                        "type": "surface"
                      }
                    ],
                    "table": [
                      {
                        "cells": {
                          "fill": {
                            "color": "#EBF0F8"
                          },
                          "line": {
                            "color": "white"
                          }
                        },
                        "header": {
                          "fill": {
                            "color": "#C8D4E3"
                          },
                          "line": {
                            "color": "white"
                          }
                        },
                        "type": "table"
                      }
                    ]
                  },
                  "layout": {
                    "annotationdefaults": {
                      "arrowcolor": "#2a3f5f",
                      "arrowhead": 0,
                      "arrowwidth": 1
                    },
                    "autotypenumbers": "strict",
                    "coloraxis": {
                      "colorbar": {
                        "outlinewidth": 0,
                        "ticks": ""
                      }
                    },
                    "colorscale": {
                      "diverging": [
                        [
                          0,
                          "#8e0152"
                        ],
                        [
                          0.1,
                          "#c51b7d"
                        ],
                        [
                          0.2,
                          "#de77ae"
                        ],
                        [
                          0.3,
                          "#f1b6da"
                        ],
                        [
                          0.4,
                          "#fde0ef"
                        ],
                        [
                          0.5,
                          "#f7f7f7"
                        ],
                        [
                          0.6,
                          "#e6f5d0"
                        ],
                        [
                          0.7,
                          "#b8e186"
                        ],
                        [
                          0.8,
                          "#7fbc41"
                        ],
                        [
                          0.9,
                          "#4d9221"
                        ],
                        [
                          1,
                          "#276419"
                        ]
                      ],
                      "sequential": [
                        [
                          0,
                          "#0d0887"
                        ],
                        [
                          0.1111111111111111,
                          "#46039f"
                        ],
                        [
                          0.2222222222222222,
                          "#7201a8"
                        ],
                        [
                          0.3333333333333333,
                          "#9c179e"
                        ],
                        [
                          0.4444444444444444,
                          "#bd3786"
                        ],
                        [
                          0.5555555555555556,
                          "#d8576b"
                        ],
                        [
                          0.6666666666666666,
                          "#ed7953"
                        ],
                        [
                          0.7777777777777778,
                          "#fb9f3a"
                        ],
                        [
                          0.8888888888888888,
                          "#fdca26"
                        ],
                        [
                          1,
                          "#f0f921"
                        ]
                      ],
                      "sequentialminus": [
                        [
                          0,
                          "#0d0887"
                        ],
                        [
                          0.1111111111111111,
                          "#46039f"
                        ],
                        [
                          0.2222222222222222,
                          "#7201a8"
                        ],
                        [
                          0.3333333333333333,
                          "#9c179e"
                        ],
                        [
                          0.4444444444444444,
                          "#bd3786"
                        ],
                        [
                          0.5555555555555556,
                          "#d8576b"
                        ],
                        [
                          0.6666666666666666,
                          "#ed7953"
                        ],
                        [
                          0.7777777777777778,
                          "#fb9f3a"
                        ],
                        [
                          0.8888888888888888,
                          "#fdca26"
                        ],
                        [
                          1,
                          "#f0f921"
                        ]
                      ]
                    },
                    "colorway": [
                      "#636efa",
                      "#EF553B",
                      "#00cc96",
                      "#ab63fa",
                      "#FFA15A",
                      "#19d3f3",
                      "#FF6692",
                      "#B6E880",
                      "#FF97FF",
                      "#FECB52"
                    ],
                    "font": {
                      "color": "#2a3f5f"
                    },
                    "geo": {
                      "bgcolor": "white",
                      "lakecolor": "white",
                      "landcolor": "#E5ECF6",
                      "showlakes": true,
                      "showland": true,
                      "subunitcolor": "white"
                    },
                    "hoverlabel": {
                      "align": "left"
                    },
                    "hovermode": "closest",
                    "mapbox": {
                      "style": "light"
                    },
                    "paper_bgcolor": "white",
                    "plot_bgcolor": "#E5ECF6",
                    "polar": {
                      "angularaxis": {
                        "gridcolor": "white",
                        "linecolor": "white",
                        "ticks": ""
                      },
                      "bgcolor": "#E5ECF6",
                      "radialaxis": {
                        "gridcolor": "white",
                        "linecolor": "white",
                        "ticks": ""
                      }
                    },
                    "scene": {
                      "xaxis": {
                        "backgroundcolor": "#E5ECF6",
                        "gridcolor": "white",
                        "gridwidth": 2,
                        "linecolor": "white",
                        "showbackground": true,
                        "ticks": "",
                        "zerolinecolor": "white"
                      },
                      "yaxis": {
                        "backgroundcolor": "#E5ECF6",
                        "gridcolor": "white",
                        "gridwidth": 2,
                        "linecolor": "white",
                        "showbackground": true,
                        "ticks": "",
                        "zerolinecolor": "white"
                      },
                      "zaxis": {
                        "backgroundcolor": "#E5ECF6",
                        "gridcolor": "white",
                        "gridwidth": 2,
                        "linecolor": "white",
                        "showbackground": true,
                        "ticks": "",
                        "zerolinecolor": "white"
                      }
                    },
                    "shapedefaults": {
                      "line": {
                        "color": "#2a3f5f"
                      }
                    },
                    "ternary": {
                      "aaxis": {
                        "gridcolor": "white",
                        "linecolor": "white",
                        "ticks": ""
                      },
                      "baxis": {
                        "gridcolor": "white",
                        "linecolor": "white",
                        "ticks": ""
                      },
                      "bgcolor": "#E5ECF6",
                      "caxis": {
                        "gridcolor": "white",
                        "linecolor": "white",
                        "ticks": ""
                      }
                    },
                    "title": {
                      "x": 0.05
                    },
                    "xaxis": {
                      "automargin": true,
                      "gridcolor": "white",
                      "linecolor": "white",
                      "ticks": "",
                      "title": {
                        "standoff": 15
                      },
                      "zerolinecolor": "white",
                      "zerolinewidth": 2
                    },
                    "yaxis": {
                      "automargin": true,
                      "gridcolor": "white",
                      "linecolor": "white",
                      "ticks": "",
                      "title": {
                        "standoff": 15
                      },
                      "zerolinecolor": "white",
                      "zerolinewidth": 2
                    }
                  }
                },
                "title": {
                  "text": "Param Importances (con pruning)"
                },
                "xaxis": {
                  "title": {
                    "text": "Hyperparameter Importance"
                  }
                },
                "yaxis": {
                  "title": {
                    "text": "Hyperparameter"
                  }
                }
              }
            }
          },
          "metadata": {},
          "output_type": "display_data"
        }
      ],
      "source": [
        "\n",
        "\n",
        "from optuna.visualization import (\n",
        "    plot_optimization_history,\n",
        "    plot_parallel_coordinate,\n",
        "    plot_param_importances,\n",
        ")\n",
        "\n",
        "# ————— Visualizaciones SIN Pruning —————\n",
        "# 1. Historial de optimización sin pruning\n",
        "fig1 = plot_optimization_history(study)\n",
        "fig1.update_layout(title=\"Optimization History (sin pruning)\")\n",
        "fig1.show()\n",
        "\n",
        "# 2. Coordenadas paralelas sin pruning\n",
        "fig2 = plot_parallel_coordinate(study)\n",
        "fig2.update_layout(title=\"Parallel Coordinate (sin pruning)\")\n",
        "fig2.show()\n",
        "\n",
        "# 3. Importancia de hiperparámetros sin pruning\n",
        "fig3 = plot_param_importances(study)\n",
        "fig3.update_layout(title=\"Param Importances (sin pruning)\")\n",
        "fig3.show()\n",
        "\n",
        "\n",
        "# ————— Visualizaciones CON Pruning —————\n",
        "# 1. Historial de optimización con pruning\n",
        "fig4 = plot_optimization_history(study_prune)\n",
        "fig4.update_layout(title=\"Optimization History (con pruning)\")\n",
        "fig4.show()\n",
        "\n",
        "# 2. Coordenadas paralelas con pruning\n",
        "fig5 = plot_parallel_coordinate(study_prune)\n",
        "fig5.update_layout(title=\"Parallel Coordinate (con pruning)\")\n",
        "fig5.show()\n",
        "\n",
        "# 3. Importancia de hiperparámetros con pruning\n",
        "fig6 = plot_param_importances(study_prune)\n",
        "fig6.update_layout(title=\"Param Importances (con pruning)\")\n",
        "fig6.show()\n"
      ]
    },
    {
      "cell_type": "markdown",
      "metadata": {},
      "source": [
        "#### 5.4) ¿Desde qué trial se empiezan a observar mejoras notables?\n",
        "\n",
        "* **Sin pruning** (primer gráfico):\n",
        "\n",
        "  * El MAE arranca alrededor de 9 600 en el **trial 1**.\n",
        "  * Hay un descenso rápido hasta unos 5 700–7 300 entre los **trials 2 y 6**.\n",
        "  * **La gran caída al entorno de 2 000** se alcanza **alrededor del trial 10**. A partir de ahí, el “best value” (línea roja) se mantiene muy estable y las mejoras son marginales.\n",
        "\n",
        "* **Con pruning** (cuarto gráfico):\n",
        "\n",
        "  * Arrancamos cerca de 9 000 en el trial 1.\n",
        "  * Bajamos a \\~5 700 ya en el **trial 3**.\n",
        "  * Y **alcanzamos valores próximos a 2 000** en torno al **trial 7 u 8**, quedándonos muy cerca del mínimo final desde entonces.\n",
        "\n",
        "**Conclusión 5.4:**\n",
        "\n",
        "* Sin pruning las caídas más significativas se ven hasta el trial 10.\n",
        "* Con pruning, el modelo “aprende” lo esencial ya en el trial 7–8 gracias a la poda temprana de configuraciones poco prometedoras.\n",
        "\n",
        "---\n",
        "\n",
        "#### 5.5 ¿Qué tendencias se observan en los gráficos de coordenadas paralelas?\n",
        "\n",
        "En ambos casos las líneas de color más intenso (menor MAE) **convergen en regiones concretas** de cada eje:\n",
        "\n",
        "1. **learning\\_rate**:\n",
        "\n",
        "   * Sin pruning: las mejores configuraciones suelen estar en el rango medio‑alto (\\~0.05–0.10).\n",
        "   * Con pruning: aun más concentrado entre \\~0.07–0.10.\n",
        "\n",
        "2. **max\\_depth**:\n",
        "\n",
        "   * Casi siempre vale **10** — todos los trials con error mínimo usan la profundidad máxima.\n",
        "\n",
        "3. **max\\_leaves**:\n",
        "\n",
        "   * Baja dispersión: las líneas “azul oscuro” (buenos MAE) se agrupan hacia valores altos de hojas (≈60–100).\n",
        "\n",
        "4. **min\\_child\\_weight**:\n",
        "\n",
        "   * Se observa que valores de **3 a 5** producen sistemáticamente mejor MAE.\n",
        "\n",
        "5. **min\\_frequency** (frecuencia mínima para OneHotEncoder):\n",
        "\n",
        "   * Sin pruning: prácticamente toda la mejora viene de hacer min_frequency muy bajo (<0.02)\n",
        "   * Con pruning: sigue baja, pero con más variabilidad (0.001–0.03) y combinada con otros parámetros.\n",
        "\n",
        "6. **n\\_estimators**:\n",
        "\n",
        "   * Sin pruning: alrededor de \\~900.\n",
        "   * Con pruning: un poco más bajo (700), pero también con cierta flexibilidad entre 400 - 700.\n",
        "\n",
        "7. **reg\\_alpha / reg\\_lambda**:\n",
        "\n",
        "   * Sin pruning: el L1 (reg_alpha) tiene algo de efecto, aunque menor.\n",
        "   * Con pruning: las líneas de menor MAE aparecen con **reg\\_lambda altas** (≈0.9)\n",
        "\n",
        "   ---\n",
        "\n",
        "#### 5.6 ¿Qué hiperparámetros tienen mayor importancia?\n",
        "\n",
        "Del gráfico de importancias:\n",
        "\n",
        "* **Sin pruning**:\n",
        "\n",
        "  1. **min\\_frequency** domina con \\~93 % de importancia.\n",
        "  2. Luego muy por detrás `reg_alpha` (\\~3 %), `n_estimators` (\\~2 %) y restos (<1 %).\n",
        "\n",
        "* **Con pruning**:\n",
        "\n",
        "  1. **reg\\_lambda** es el rey (\\~36 %).\n",
        "  2. Le siguen **learning\\_rate** (\\~30 %) y **min\\_frequency** (\\~28 %).\n",
        "  3. Ya en tercera línea aparece `max_leaves` (\\~4 %), con `n_estimators`, `reg_alpha`, `max_depth` y `min_child_weight` prácticamente irrelevantes.\n",
        "\n",
        "\n",
        "\n",
        " Cuando no podábamos, la frecuencia mínima de las categorías era lo que de verdad movía el MAE.\n",
        " Al podar, liberar el espacio de búsqueda permite que la **regularización L2** (`reg_lambda`) y la **tasa de aprendizaje** cobren protagonismo: el modelo ajusta mejor sus pesos y aprende más rápido, mientras que `min_frequency` sigue siendo clave para no inflar el número de variables dummies."
      ]
    },
    {
      "cell_type": "markdown",
      "metadata": {
        "cell_id": "ac8a20f445d045a3becf1a518d410a7d",
        "deepnote_cell_type": "markdown",
        "id": "EoW32TA9I5wA"
      },
      "source": [
        "## 6. Síntesis de resultados (3 puntos)\n",
        "\n",
        "Finalmente:\n",
        "\n",
        "1. Genere una tabla resumen del MAE en el conjunto de validación obtenido en los 5 modelos entrenados desde Baseline hasta XGBoost con Constraints, Optuna y Prunning. [1 punto]\n",
        "2. Compare los resultados de la tabla y responda, ¿qué modelo obtiene el mejor rendimiento? [0.5 puntos]\n",
        "3. Cargue el mejor modelo, prediga sobre el conjunto de **test** y reporte su MAE. [0.5 puntos]\n",
        "4. ¿Existen diferencias con respecto a las métricas obtenidas en el conjunto de validación? ¿Porqué puede ocurrir esto? [1 punto]"
      ]
    },
    {
      "cell_type": "markdown",
      "metadata": {},
      "source": [
        "#### 6.1\n",
        "\n",
        "| Modelo                                   | MAE (Aprox) |\n",
        "| :--------------------------------------- | ---------------: |\n",
        "| 1) Baseline – DummyRegressor             |         13 544.2 |\n",
        "| 2) XGBRegressor (default)                |          2 400.1 |\n",
        "| 3) XGBRegressor con monotonic constraint |          2 480.3 |\n",
        "| 4) XGB+Optuna (sin pruning)              |          1 952.5 |\n",
        "| 5) XGB+Optuna (con pruning)              |          1 900.9 |\n",
        "\n",
        "---\n",
        "\n",
        "#### 6.2\n",
        "\n",
        "Claramente el modelo optimizado con Optuna **y** prunning (modelo 5) obtiene el MAE más bajo (≈ 1 900). Esto muestra el beneficio de combinar búsqueda bayesiana y poda temprana de configuraciones poco prometedoras.\n",
        "\n"
      ]
    },
    {
      "cell_type": "code",
      "execution_count": 32,
      "metadata": {
        "id": "jq5C6cDnJg9h"
      },
      "outputs": [
        {
          "name": "stdout",
          "output_type": "stream",
          "text": [
            "<class 'tuple'>\n",
            "Tupla de longitud: 2\n",
            "0 <class 'sklearn.compose._column_transformer.ColumnTransformer'>\n",
            "1 <class 'xgboost.core.Booster'>\n",
            "MAE en test: 1871.28\n"
          ]
        }
      ],
      "source": [
        "import joblib\n",
        "import xgboost as xgb\n",
        "from sklearn.metrics import mean_absolute_error\n",
        "\n",
        "loaded = joblib.load(\"pruned_model.pkl\")\n",
        "print(type(loaded))\n",
        "\n",
        "if isinstance(loaded, tuple):\n",
        "    print(\"Tupla de longitud:\", len(loaded))\n",
        "    for i, v in enumerate(loaded):\n",
        "        print(i, type(v))\n",
        "\n",
        "\n",
        "\n",
        "# 1) Cargar transformer y booster\n",
        "ct, booster = joblib.load(\"pruned_model.pkl\")\n",
        "\n",
        "# 2) Define la función para extraer las fechas\n",
        "def extract_date_features(X):\n",
        "    X = X.copy()\n",
        "    X[\"year\"] = pd.to_datetime(X[\"date\"], format=\"%d/%m/%y\").dt.year.astype(\"category\")\n",
        "    X[\"month\"] = pd.to_datetime(X[\"date\"], format=\"%d/%m/%y\").dt.month.astype(\"category\")\n",
        "    X[\"day\"] = pd.to_datetime(X[\"date\"], format=\"%d/%m/%y\").dt.day.astype(\"category\")\n",
        "    return X.drop(columns=\"date\")\n",
        "\n",
        "from sklearn.preprocessing import FunctionTransformer\n",
        "date_transformer = FunctionTransformer(extract_date_features)\n",
        "\n",
        "# 3) Aplica primero el extractor de fecha\n",
        "X_test_dt = date_transformer.transform(X_test)\n",
        "\n",
        "# 4) Luego transforma con el ColumnTransformer\n",
        "#    \n",
        "X_test_proc = ct.transform(X_test_dt)\n",
        "\n",
        "# 5) Crea el DMatrix para XGBoost\n",
        "dtest = xgb.DMatrix(X_test_proc)\n",
        "\n",
        "# 6) Predice con el booster\n",
        "y_pred_test = booster.predict(dtest)\n",
        "\n",
        "# 7) Calcula el MAE\n",
        "mae_test = mean_absolute_error(y_test, y_pred_test)\n",
        "print(f\"MAE en test: {mae_test:.2f}\")\n",
        "\n"
      ]
    },
    {
      "cell_type": "markdown",
      "metadata": {},
      "source": [
        "#### 6.3\n",
        "Notemos que obtuvimos un MAE en el test de aprox. 1871"
      ]
    },
    {
      "cell_type": "markdown",
      "metadata": {},
      "source": [
        "#### 6.4\n",
        "\n",
        "El MAE en test (1 871) es ligeramente mejor que el de validación (1 900).\n",
        "\n",
        "Razones posibles:\n",
        "\n",
        "Variabilidad de la muestra: Validación y test son subconjuntos distintos; pueden diferir un poco en su dificultad.\n",
        "\n",
        "Pequeña sobreoptimización en validación: al iterar tanto sobre esa partición, el modelo “se adaptó” un poco más a ella.\n",
        "\n",
        "Azar estadístico: incluso con semillas fijas, la distribución de errores puede variar."
      ]
    },
    {
      "cell_type": "markdown",
      "metadata": {
        "cell_id": "5c4654d12037494fbd385b4dc6bd1059",
        "deepnote_cell_type": "markdown",
        "id": "E_19tgBEI5wA"
      },
      "source": [
        "# Conclusión\n",
        "Eso ha sido todo para el lab de hoy, recuerden que el laboratorio tiene un plazo de entrega de una semana. Cualquier duda del laboratorio, no duden en contactarnos por mail o U-cursos.\n",
        "\n",
        "<p align=\"center\">\n",
        "  <img src=\"https://i.pinimg.com/originals/55/3d/42/553d42bea9b10e0662a05aa8726fc7f4.gif\">\n",
        "</p>"
      ]
    },
    {
      "cell_type": "markdown",
      "metadata": {
        "cell_id": "5025de06759f4903a26916c80323bf25",
        "deepnote_cell_type": "markdown",
        "id": "Kq2cFix1I5wA"
      },
      "source": []
    },
    {
      "cell_type": "markdown",
      "metadata": {
        "created_in_deepnote_cell": true,
        "deepnote_cell_type": "markdown",
        "id": "rAp9UxwiI5wA"
      },
      "source": [
        "<a style='text-decoration:none;line-height:16px;display:flex;color:#5B5B62;padding:10px;justify-content:end;' href='https://deepnote.com?utm_source=created-in-deepnote-cell&projectId=87110296-876e-426f-b91d-aaf681223468' target=\"_blank\">\n",
        "<img alt='Created in deepnote.com' style='display:inline;max-height:16px;margin:0px;margin-right:7.5px;' src='data:image/svg+xml;base64,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' > </img>\n",
        "Created in <span style='font-weight:600;margin-left:4px;'>Deepnote</span></a>"
      ]
    }
  ],
  "metadata": {
    "colab": {
      "provenance": []
    },
    "deepnote": {},
    "deepnote_execution_queue": [],
    "deepnote_notebook_id": "f63d38450a6b464c9bb6385cf11db4d9",
    "deepnote_persisted_session": {
      "createdAt": "2023-11-09T16:18:30.203Z"
    },
    "kernelspec": {
      "display_name": ".venv",
      "language": "python",
      "name": "python3"
    },
    "language_info": {
      "codemirror_mode": {
        "name": "ipython",
        "version": 3
      },
      "file_extension": ".py",
      "mimetype": "text/x-python",
      "name": "python",
      "nbconvert_exporter": "python",
      "pygments_lexer": "ipython3",
      "version": "3.12.6"
    }
  },
  "nbformat": 4,
  "nbformat_minor": 0
}
